{
 "cells": [
  {
   "cell_type": "markdown",
   "metadata": {
    "colab_type": "text",
    "id": "cLKcIT7qEyoY"
   },
   "source": [
    "# Trabalho #6 - Transferência de Estilo\n",
    "\n",
    "Nesse trabalho você vai utilizar uma RNA pré-treinada para alterar estilo de uma imagem. A rede pré-treinada que será utilizada é a VGG19 que está disponível no Keras.\n",
    "\n",
    "Nesse trabalho você vai fazer:\n",
    "\n",
    "- Implementar o método de transferência de estilo;\n",
    "- Gerar imagens com novos estilos de arte;\n",
    "- Os algoritmos estudados até o momento minimizam uma função de custo para obter os parâmetros de uma RNA. Na transferência de estilo uma função de custo é minimizada para obter os valores dos pixels de uma imagem.\n",
    "\n",
    "O método de transferência de estilo usado nesse trabalho foi criado por Gatys et al. (2015) (https://arxiv.org/abs/1508.06576).\n",
    "\n",
    "O algortimo implementado nesse notebook foi desenvolvido por: https://github.com/tensorflow/models/blob/master/research/nst_blogpost/4_Neural_Style_Transfer_with_Eager_Execution.ipynb"
   ]
  },
  {
   "cell_type": "markdown",
   "metadata": {
    "colab_type": "text",
    "id": "u0TEZZ15Eyoa"
   },
   "source": [
    "## Coloque os nomes e RAs dos alunos que fizeram esse trabalho\n",
    "\n",
    "Nome e número dos alunos da equipe:\n",
    "\n",
    "Aluno 1:\n",
    "\n",
    "Aluno 2: "
   ]
  },
  {
   "cell_type": "markdown",
   "metadata": {
    "colab_type": "text",
    "id": "vSCzdiiKEyob"
   },
   "source": [
    "**Execute as duas células abaixo se você estiver usando o Coolab e as imagens estão no seu Google Drive**"
   ]
  },
  {
   "cell_type": "code",
   "execution_count": null,
   "metadata": {
    "colab": {},
    "colab_type": "code",
    "id": "GOiT2DZKEyoc"
   },
   "outputs": [],
   "source": [
    "from google.colab import drive\n",
    "drive.mount('/content/drive')"
   ]
  },
  {
   "cell_type": "code",
   "execution_count": null,
   "metadata": {
    "colab": {},
    "colab_type": "code",
    "id": "U6jXfD85Eyoe"
   },
   "outputs": [],
   "source": [
    "%cd \"Colocar diretório do Google Drive onde estão as imagesn\"\n",
    "!ls"
   ]
  },
  {
   "cell_type": "markdown",
   "metadata": {
    "colab_type": "text",
    "id": "XWAl7-8YEyoh"
   },
   "source": [
    "## 1 - Definição do problema\n",
    "\n",
    "A transferência de estilo realizada por uma rede neural (NST) é uma das técnicas mais interessantes de \"deep-learning\". Como visto em aula a NST mescla duas imagens, a imagem de \"conteúdo\" (**C**) e a imagem de \"estilo\" (**S**), para criar uma nova imagem \"gerada\" (**G**). A imagem gerada **G** combina o \"conteúdo\" da imagem **C** com o \"estilo\" da imagem **S**.\n",
    "\n",
    "Neste trabalho você irá gerar uma imagem do museu do Louvre em Paris (imagem de conteúdo **C**) com o estilo de uma pintura de Claude Monet, líder do movimento impressionista (imagem de estilo **S**).\n",
    "\n",
    "A transferência de estilo neural (NST) usa uma rede convolucional previamente treinada. Como já visto em aula, a idéia de usar uma rede pré-treinada em uma tarefa diferente e aplicá-la a uma nova tarefa é chamada de transferência de aprendizado.\n",
    "\n",
    "Seguindo o trabalho original do NST (https://arxiv.org/abs/1508.06576) usaremos a rede VGG19, que é uma versão de 19 camadas da rede VGG. A VGG19 foi treinada no banco de dados ImageNet que possui milhões de imagens e, portanto, é capaz de reconhecer uma grande variedade de características de baixo nível (presentes nas camadas iniciais da RNA) e de alto nível (presentes nas camadas mais profundas)."
   ]
  },
  {
   "cell_type": "markdown",
   "metadata": {
    "colab_type": "text",
    "id": "b3Ka_UkPEyoh"
   },
   "source": [
    "## 2 - Preparação e inicialização do ambiente  e das imagens\n",
    "\n",
    "### Importação das bibliotecas\n",
    "\n",
    "Execute a célula abaixo para importar as bibliotecas necessárias para esse trabalho."
   ]
  },
  {
   "cell_type": "code",
   "execution_count": null,
   "metadata": {
    "colab": {},
    "colab_type": "code",
    "id": "uTXll5GbEyoi"
   },
   "outputs": [],
   "source": [
    "import matplotlib.pyplot as plt\n",
    "import matplotlib as mpl\n",
    "mpl.rcParams['figure.figsize'] = (10,10)\n",
    "mpl.rcParams['axes.grid'] = False\n",
    "\n",
    "import numpy as np\n",
    "from PIL import Image\n",
    "import time\n",
    "import functools\n",
    "import os\n",
    "import sys\n",
    "\n",
    "import tensorflow as tf\n",
    "from tensorflow.python.keras.preprocessing import image as kp_image\n",
    "from tensorflow.python.keras import models \n",
    "from tensorflow.python.keras import losses\n",
    "from tensorflow.python.keras import layers\n",
    "from tensorflow.python.keras import backend as K"
   ]
  },
  {
   "cell_type": "markdown",
   "metadata": {
    "colab_type": "text",
    "id": "0SFGODR_Eyoo"
   },
   "source": [
    "### Visualização das imagens de entrada\n",
    "\n",
    "Execute as células abaixo para definir e visualizar as imagens que serão mescladas. Essas são as imagens de conteúdo e de estilo. O que queremos é criar uma nova imagem com o conteúdo da imagem de \"conteúdo\" e com o estilo da imagem de \"estilo\"."
   ]
  },
  {
   "cell_type": "code",
   "execution_count": null,
   "metadata": {
    "colab": {},
    "colab_type": "code",
    "id": "zVm86PXjEyop"
   },
   "outputs": [],
   "source": [
    "# Definição de variáveis globais e visualização da simagens\n",
    "\n",
    "content_path = 'louvre.jpg' \n",
    "style_path = 'monet_800600.jpg'"
   ]
  },
  {
   "cell_type": "code",
   "execution_count": null,
   "metadata": {
    "colab": {},
    "colab_type": "code",
    "id": "gyTHyYRyEyor"
   },
   "outputs": [],
   "source": [
    "# Função para ler imagem e transformar em um array do TensorFlow\n",
    "\n",
    "def load_img(path_to_img):\n",
    "    max_dim = 512\n",
    "    img = Image.open(path_to_img)\n",
    "    long = max(img.size)\n",
    "    scale = max_dim/long\n",
    "    img = img.resize((round(img.size[0]*scale), round(img.size[1]*scale)), Image.ANTIALIAS)\n",
    "    img = kp_image.img_to_array(img)\n",
    "  \n",
    "    # We need to broadcast the image array such that it has a batch dimension \n",
    "    img = np.expand_dims(img, axis=0)\n",
    "    return img"
   ]
  },
  {
   "cell_type": "code",
   "execution_count": null,
   "metadata": {
    "colab": {},
    "colab_type": "code",
    "id": "_0R9g4VbEyou"
   },
   "outputs": [],
   "source": [
    "# Função para mostrar imagem\n",
    "\n",
    "def imshow(img, title=None):\n",
    "    # Remove the batch dimension\n",
    "    out = np.squeeze(img, axis=0)\n",
    "    # Normalize for display \n",
    "    out = out.astype('uint8')\n",
    "    plt.imshow(out)\n",
    "    if title is not None:\n",
    "        plt.title(title)\n",
    "        plt.imshow(out)"
   ]
  },
  {
   "cell_type": "code",
   "execution_count": null,
   "metadata": {
    "colab": {
     "base_uri": "https://localhost:8080/",
     "height": 341
    },
    "colab_type": "code",
    "id": "jCGMA4AdEyow",
    "outputId": "db5773eb-4356-4796-a804-06fbcd664e03"
   },
   "outputs": [],
   "source": [
    "# Mostra as imagens de conteúdo e de estilo\n",
    "\n",
    "plt.figure(figsize=(15,15))\n",
    "\n",
    "content = load_img(content_path).astype('uint8')\n",
    "style = load_img(style_path).astype('uint8')\n",
    "\n",
    "plt.subplot(1, 2, 1)\n",
    "imshow(content, 'Content Image')\n",
    "\n",
    "plt.subplot(1, 2, 2)\n",
    "imshow(style, 'Style Image')\n",
    "plt.show()"
   ]
  },
  {
   "cell_type": "markdown",
   "metadata": {
    "colab_type": "text",
    "id": "sCl09luaEyoy"
   },
   "source": [
    "## 2 - RNA convolucional base\n",
    "\n",
    "Nesse trabalho você irá usar uma RNA convolucional já treinada para processar as imagens e extrair as ativações das camadas para formar as funções de custo de conteúdo e de estilo. A RNA que será usada como base é a VGG19 (Simonyan & Zisserman, Very deep convolutional networks for large-scale image recognition, 2015). \n",
    "\n",
    "Como já visto as RNAs VGG16 e VGG19 foram desenvolvidas para classificação de múltiplas classes com 1.000 classes. Ela é utilizadas para reconhecimento de objetos em imagens. A arquitetura das VGGs é muito simples, sendo composta pela repetição de camadas convolucionais formando blocos. Cada bloco é composto por duas ou três camadas convolucionais, com filtros 3x3, stride = 1 e “same convolution”, seguida por uma camada de max-pooling, com janela 2x2 e stride = 2. A VGG19 mantém praticamente o mesmo padrão em todos os blocos dobrando o número de filtros a cada bloco. Apesar da VGG19 possuir muitos parâmetros, cerca de 143 milhões, ela é muito simples.\n",
    "\n",
    "### Exercício #1: Importação da RNA VGG19\n",
    "\n",
    "O TensorFlow/keras possui na sua base de dados a RNA VGG19 treinada com o banco de imagens imagenet. Na célula abaixo carregue a VGG19 usando o comando do TensorFlow `tf.keras.applications.vgg19.VGG19`. Não se esqueça de excluir as camadas densas da VGG19 ao importá-la e de incluir os \"weigths\" desejados. Nesse caso não é preciso informar a dimensão da imagem de entrada nessa etapa."
   ]
  },
  {
   "cell_type": "code",
   "execution_count": null,
   "metadata": {
    "colab": {
     "base_uri": "https://localhost:8080/",
     "height": 996
    },
    "colab_type": "code",
    "id": "OY0mZo_YEyoz",
    "outputId": "a2f10ac5-b79e-4c99-9961-1c1dcc3e0068"
   },
   "outputs": [],
   "source": [
    "# PARA VOCÊ FAZER: Carregar e salvar a VGG19 na rna-base\n",
    "\n",
    "### COMECE AQUI ### (≈ 1 linha) \n",
    "#rna = \n",
    "### TERMINE AQUI ###\n",
    "\n",
    "rna.summary()"
   ]
  },
  {
   "cell_type": "markdown",
   "metadata": {
    "colab_type": "text",
    "id": "6jrIpTKyEyo1"
   },
   "source": [
    "**Saída esperada:** Para conferência incluimos somente o número de parâmetros.\n",
    "\n",
    "     Total params: 20,024,384\n",
    "     Trainable params: 20,024,384\n",
    "     Non-trainable params: 0"
   ]
  },
  {
   "cell_type": "markdown",
   "metadata": {
    "colab_type": "text",
    "id": "Ikh1eFrtEyo2"
   },
   "source": [
    "### Preparação dos dados\n",
    "\n",
    "Precisamos criar funções que permitem carregar e pré-processar imagens para serem utilizadas pela rede VGG19. Devemos realizar o mesmo pré-processamento utilizado nas imagens processadas pela rede VGG19. A rede VGG19 é treinada com imagens onde cada canal RGB é normalizado usando as seguintes médias = [103,939, 116,779, 123,68].\n",
    "\n",
    "Execute a célula abaixo para definir a função que realiza a normalização das imagens de acordo com o esperado pela VGG19. A função `tf.keras.applications.vgg19.preprocess_input()` já está pronta para fazer essa normalização."
   ]
  },
  {
   "cell_type": "code",
   "execution_count": null,
   "metadata": {
    "colab": {},
    "colab_type": "code",
    "id": "TlHoB4tDEyo2"
   },
   "outputs": [],
   "source": [
    "from tensorflow.keras.applications import vgg19\n",
    "\n",
    "def load_and_process_img(path_to_img):\n",
    "    img = load_img(path_to_img)\n",
    "    img = tf.keras.applications.vgg19.preprocess_input(img)\n",
    "    return img"
   ]
  },
  {
   "cell_type": "markdown",
   "metadata": {
    "colab_type": "text",
    "id": "9qBP3K86Eyo5"
   },
   "source": [
    "Para visualizar os resultados da nossa transferência de estilo, temos que executar a etapa inversa de pré-processamento. Além disso, como a imagem gerada pode ter valores entre −∞  e  ∞, precisamos incluir um limite para manter os valores dentro do intervalo de 0 a 255. Execute a célula abaixo para definir a função deprocess_img que realiza esse cálculo."
   ]
  },
  {
   "cell_type": "code",
   "execution_count": null,
   "metadata": {
    "colab": {},
    "colab_type": "code",
    "id": "Kilm4x9REyo5"
   },
   "outputs": [],
   "source": [
    "def deprocess_img(processed_img):\n",
    "    x = processed_img.copy()\n",
    "    if len(x.shape) == 4:\n",
    "        x = np.squeeze(x, 0)\n",
    "    \n",
    "    assert len(x.shape) == 3, (\"Entrada para deprocessar imagem deve ser uma imagem de\"\n",
    "                               \"dimensão [1, height, width, channel] ou [height, width, channel]\")\n",
    "    if len(x.shape) != 3:\n",
    "        raise ValueError(\"Entrada invalida para deprocessar como imagem\")\n",
    "  \n",
    "    # Calcula o inverso do pré-processamento\n",
    "    x[:, :, 0] += 103.939\n",
    "    x[:, :, 1] += 116.779\n",
    "    x[:, :, 2] += 123.68\n",
    "    x = x[:, :, ::-1]\n",
    "\n",
    "    x = np.clip(x, 0, 255).astype('uint8')\n",
    "    return x"
   ]
  },
  {
   "cell_type": "markdown",
   "metadata": {
    "colab_type": "text",
    "id": "o1jwF4bvEyo8"
   },
   "source": [
    "## 3 - Definição das representações de conteúdo e estilo\n",
    "\n",
    "Como visto em aula, para obter as representações de conteúdo e estilo de uma imagem, devemos escolher algumas camadas intermediárias da rede convolucional. Na medida em que aprofundamos na rede convolucional, as camadas intermediárias representam características cada vez mais elaboradas. As saídas dessas camadas intermediárias são necessárias para definir a representação do conteúdo e do estilo das imagens.\n",
    "\n",
    "As saídas das camadas intermediárias de uma rede convulocional, que foi pré-treinada para uma tarefa de classificação, permite definir representações de estilo e conteúdo. De forma geral, isso pode ser explicado pelo fato de que para uma rede executar a classificação de uma imagem, ela deve ser capaz de \"entender\" a imagem. Isso envolve processar os pixels da imagem e construir uma representação interna que permite uma compreensão complexa das caracteríticas presentes na imagem. As redes neurais convolucionais são capazes de capturar as invariâncias e as características que definem classes (por exemplo, gatos versus cães) e que não dependem de ruídos de fundo e outras sutilezas. Assim, qualquer camada convolucional de uma RNA convolucional serve como um extrator de caracteríticas, portanto, ao acessar as saídas de camadas intermediárias, podemos descrever o conteúdo e o estilo da imagem processada.\n",
    "\n",
    "### Exercício #2: Definição das camadas de conteúdo e de estilo\n",
    "\n",
    "Modifique a célula abaixo para incluir as camadas da VGG19 que serão usadas para definir conteúdo e estilo:\n",
    "\n",
    "- Camada de conteúdo: `block5_conv2`\n",
    "- Camadas de estilo: `block1_conv1`, `block2_conv1`, `block3_conv1`, `block4_conv1` e `block5_conv1`. "
   ]
  },
  {
   "cell_type": "code",
   "execution_count": null,
   "metadata": {
    "colab": {
     "base_uri": "https://localhost:8080/",
     "height": 52
    },
    "colab_type": "code",
    "id": "DSx9BreCEyo8",
    "outputId": "804a3399-19c8-499d-e52c-aab219add6f7"
   },
   "outputs": [],
   "source": [
    "# PARA VOCÊ FAZER: Camadas de conteúdo e de estilo\n",
    "\n",
    "# Camada de conteúdo\n",
    "### COMECE AQUI ### (≈ 1 linha)\n",
    "#content_layers = \n",
    "### TERMINE AQUI ###\n",
    "\n",
    "# Camdas de estilo. Inclua uma lista com os nomes das camadas\n",
    "### COMECE AQUI ### (≈ 1 linha)\n",
    "#style_layers = \n",
    "### TERMINE AQUI ###\n",
    "\n",
    "num_content_layers = len(content_layers)\n",
    "num_style_layers = len(style_layers)\n",
    "\n",
    "print('Camadas de conteúdo:', content_layers)\n",
    "print('Camadas de estilo:', style_layers)"
   ]
  },
  {
   "cell_type": "markdown",
   "metadata": {
    "colab_type": "text",
    "id": "zBnBUux7Eyo-"
   },
   "source": [
    "**Saída esperada:**\n",
    "    \n",
    "    Camadas de conteúdo: ['block5_conv2']\n",
    "    Camadas de estilo: ['block1_conv1', 'block2_conv1', 'block3_conv1', 'block4_conv1', 'block5_conv1']\n",
    "    "
   ]
  },
  {
   "cell_type": "markdown",
   "metadata": {
    "colab_type": "text",
    "id": "dz1NOXHREyo_"
   },
   "source": [
    "## 4 - Construção do modelo\n",
    "\n",
    "Para construir o modelo usado para a transferência de estilo devemos carregar a VGG19, fornecer o tensor de entrada e definir os tensores de saída. Isso permite extrair os mapas de caracteríticas de conteúdo e de estilo e obter a imagem gerada. Usamos a VGG19, conforme sugerido no trabalho original de transferência de estilo. Uma das vantagens da VGG19 é que é uma RNA  relativamente simples (comparada as redes ResNet, Inception etc.), assim, os mapas de características funcionam melhor para a transferência de estilos.\n",
    "\n",
    "Para acessar as camadas intermediárias correspondentes aos mapas de caracterísitcas de estilo e conteúdo, obtemos as saídas correspondentes dessas camadas e definimos nosso modelo com as ativações das saídas desejadas. Com a classe API Funcional do Keras, a definição de um modelo envolve simplesmente a definição das entradas e saídas, ou seja: \n",
    "`model = Modelo (entradas, saídas)`. \n",
    "\n",
    "Execute a célula abaixo para criar o modelo."
   ]
  },
  {
   "cell_type": "code",
   "execution_count": null,
   "metadata": {
    "colab": {},
    "colab_type": "code",
    "id": "3zWza5upEypA"
   },
   "outputs": [],
   "source": [
    "def get_model():\n",
    "    \"\"\" Cria o modelo com acesso às camadas intermediárias. \n",
    "  \n",
    "    Essa função carrega a VGG19 e fornece acesso às camadas intermediárias. \n",
    "    Essas camadas são usadas para criar um novo modelo que recebe como entrada uma imagem\n",
    "    e retorna as saídas das camadas intermediárias da VGG escolhidas. \n",
    "  \n",
    "    Retorna:\n",
    "        Um modelo Keras que recebe uma imagem de entrada e gera como saída o estilo e conteúdo \n",
    "        camadas intermediárias. \n",
    "    \"\"\"\n",
    "    \n",
    "    # Carrega o modelo que consiste na rede VGG pre-treinada com o banco de dados imagenet\n",
    "    vgg = tf.keras.applications.vgg19.VGG19(include_top=False, weights='imagenet')\n",
    "    vgg.trainable = False\n",
    "  \n",
    "    # Obtém as saídas das camadas que correspondem ao conteúdo e estilo.\n",
    "    style_outputs = [vgg.get_layer(name).output for name in style_layers]\n",
    "    content_outputs = [vgg.get_layer(name).output for name in content_layers]\n",
    "    model_outputs = style_outputs + content_outputs\n",
    "  \n",
    "    # Cria o modelo \n",
    "    return models.Model(vgg.input, model_outputs)"
   ]
  },
  {
   "cell_type": "markdown",
   "metadata": {
    "colab_type": "text",
    "id": "kn-WSXf5EypC"
   },
   "source": [
    "### Estatísticas das saídas das camadas\n",
    "\n",
    "É possível calcular algumas estatísticas das ativações das camadas escolhidas para definir conteúdo e estilo. Como exemplo, o programa da  célula abaixo calcula as estatísticas das ativações das camadas escolhidas para definir estilo da imagem de estilo. \n",
    "\n",
    "Execute a célula abaixo para calcular dimensão, valores mínimo, máximo e média das ativações das várias camadas de estilo"
   ]
  },
  {
   "cell_type": "code",
   "execution_count": null,
   "metadata": {
    "colab": {
     "base_uri": "https://localhost:8080/",
     "height": 550
    },
    "colab_type": "code",
    "id": "WfrUlzmtEypD",
    "outputId": "e0362320-01c1-48bb-c005-f88cde462370"
   },
   "outputs": [],
   "source": [
    "# Cria a RNA para usando a função get_model definida acima\n",
    "model = get_model() \n",
    "\n",
    "# Carrega imagem de estilo\n",
    "style_image = load_and_process_img(style_path)\n",
    "\n",
    "# Executa o modelo (RNA) com a imagem de estilo para calcular as ativações das camadas escolhidas\n",
    "style_outputs = model(style_image)\n",
    "\n",
    "# Calcula alguns valores estatíticos das camadas da lista \"style_layers\"\n",
    "for name, output in zip(style_layers, style_outputs):\n",
    "  print(name)\n",
    "  print(\"  shape: \", output.numpy().shape)\n",
    "  print(\"  min: \", output.numpy().min())\n",
    "  print(\"  max: \", output.numpy().max())\n",
    "  print(\"  mean: \", output.numpy().mean())\n",
    "  print()"
   ]
  },
  {
   "cell_type": "markdown",
   "metadata": {
    "colab_type": "text",
    "id": "VLEIc95CEypF"
   },
   "source": [
    "## 5 - Funções de custo de conteúdo e estilo\n",
    "\n",
    "\n",
    "### 5.1 Função de custo de conteúdo\n",
    "\n",
    "Como visto em aula, a função de custo de conteúdo é realmente bastante simples. Passamos como entradas para a RNA convolucional a imagem de conteúdo desejada e a imagem gerada (uma de cada vez). Isso retorna as saídas da camada intermediária definida como camada de conteúdo para ambas as imagens. Então, simplesmente tomamos a distância euclidiana entre as duas representações intermediárias dessas imagens.\n",
    "\n",
    "Mais formalmente, a função de custo de conteúdo descreve a distância do conteúdo da imagem gerada **G**, com o conteúdo da imagem de conteúdo **C**. Seja $C_{nn}$ a RNA convolucional VGG19 pré-treinada e seja **X** uma imagem qualquer, então $C_{nn}(X)$ é a rede alimentada pela imagem **X**. Seja $a^{[l]C} \\in C_{nn}(C)$ e $a^{[l]G} \\in C_{nn}(G)$ as saídas da camada intermediária $l$ da RNA com entradas **C** e **G** respectivamente. A distância entre $a^{[l]C}$ e $a^{[l]G}$, ou seja, o custo de conteúdo, é formalmente definida como sendo: \n",
    "\n",
    "$$J_C(C, G) = \\frac {1} {2} \\sum_{i, j} (a^{[l]C} - a^{[l]G})^2$$\n",
    "\n",
    "\n",
    "### Exercício #3: Função de custo de conteúdo\n",
    "\n",
    "Implemente na célula abaixo uma função para calcular o custo de conteúdo, que é definido como sendo o erro entre as saídas da `content_layer` das imagens de conteúdo e gerada, conforme definido na equação acima. Use as funções `reduce_mean` e `square` do TensorFlow [Dica 1](https://www.tensorflow.org/api_docs/python/tf/reduce_mean) e [Dica 2](https://www.tensorflow.org/api_docs/python/tf/square).\n",
    "\n"
   ]
  },
  {
   "cell_type": "code",
   "execution_count": null,
   "metadata": {
    "colab": {},
    "colab_type": "code",
    "id": "kQLAnNTxEypG"
   },
   "outputs": [],
   "source": [
    "# PARA VOCÊ FAZER: Função de custo de conteúdo\n",
    "\n",
    "def get_content_loss(base_content, target):\n",
    "    ### COMECE AQUI ### (≈ 1 linha)\n",
    "    #JC = \n",
    "    ### TERMINE AQUI ###\n",
    "    return JC"
   ]
  },
  {
   "cell_type": "markdown",
   "metadata": {
    "colab_type": "text",
    "id": "izlFdxBWEypJ"
   },
   "source": [
    "Execute a célula abaixo para verificar se a sua função de custo conteúdo foi implmentada corretamente."
   ]
  },
  {
   "cell_type": "code",
   "execution_count": null,
   "metadata": {
    "colab": {
     "base_uri": "https://localhost:8080/",
     "height": 34
    },
    "colab_type": "code",
    "id": "MUtrMtPZEypJ",
    "outputId": "f8e38141-8f45-451a-9629-5cf7f70a28a4"
   },
   "outputs": [],
   "source": [
    "np.random.seed(3)\n",
    "aC = np.random.random((3,3))\n",
    "aG = np.random.random((3,3))\n",
    "JC = get_content_loss(aC, aG)\n",
    "print('Custo de conteúdo=', JC)"
   ]
  },
  {
   "cell_type": "markdown",
   "metadata": {
    "colab_type": "text",
    "id": "oe-519C9EypM"
   },
   "source": [
    "**Saída esperada:**\n",
    "\n",
    "    Custo de conteúdo= tf.Tensor(0.08068334147758457, shape=(), dtype=float64)"
   ]
  },
  {
   "cell_type": "markdown",
   "metadata": {
    "colab_type": "text",
    "id": "RoN_0ZAAEypM"
   },
   "source": [
    "### 5.2 Matriz de Gram\n",
    "\n",
    "Execute a célula abaixo para definir o cálculo da matriz de Gram. A fórmula para calcular a matriz de Gram da matriz **A** é dada por:\n",
    "\n",
    "$$M = AA^T$$\n"
   ]
  },
  {
   "cell_type": "code",
   "execution_count": null,
   "metadata": {
    "colab": {},
    "colab_type": "code",
    "id": "h5hLbSetEypO"
   },
   "outputs": [],
   "source": [
    "def gram_matrix(input_tensor):\n",
    "    # Precisa tornar o eixo dos canais como sendo o primeiro \n",
    "    channels = int(input_tensor.shape[-1])\n",
    "    A = tf.reshape(input_tensor, [-1, channels])\n",
    "    gram = tf.matmul(A, A, transpose_a=True)\n",
    "    return gram"
   ]
  },
  {
   "cell_type": "markdown",
   "metadata": {
    "colab_type": "text",
    "id": "JhvIPuXJEypQ"
   },
   "source": [
    "### 5.3 Função de custo de estilo\n",
    "\n",
    "O cálculo da função de custo de estilo é um pouco mais complexo, mas segue o mesmo princípio, desta vez alimentando nossa rede com as imagenes de conteúdo **C** e de estilo **S**. No entanto, em vez de comparar as saídas das camadas intermediárias comparamos as matrizes Gram das duas saídas.\n",
    "\n",
    "Matematicamente, descrevemos a perda de estilo entre a imagem de conteúdo, **C**, e a imagem do estilo, **S**, como sendo a distância entre a representação do estilo (matrizes de Gram) dessas duas imagens. \n",
    "\n",
    "Descrevemos a representação do estilo de uma imagem como sendo a correlação entre as saídas de diferentes filtros fornecida pela matriz de Gram da camada $l$, **M**$^{[l]}$, onde cada elemento dessa matriz, $m^{[l]}_{i,j}$, é o produto escalar entre as saídas dos filtros $i$ e $j$ da camada $l$.\n",
    "\n",
    "A contribuição de cada camada no custo de estilo é descrita por:\n",
    "\n",
    "$$J^{[l]}_S(S,G) = \\frac {1} {4(n^{[l]}_H n^{[l]}_W n^{[l]}_C)^2}) \\sum_ {i, j} (m^{[l]S}_{ij} - m^{[l]G}_{ij})^2 \\tag{1}$$\n",
    "\n",
    "onde $m^{[l]S}_{ij}$ e $m^{[l]G}_{ij}$ são respectivamente as representações de estilo da camada $l$ de **S** e **G**, $n^{[l]}_C$ é o número de filtros (canais) da camada $l$, cada um com dimensão  $n^{[l]}_H$ por $n^{[l]}_W$. \n",
    "\n",
    "Assim, a perda total de estilo é obtida somando as perdas em cada uma das camadas usadas para descrever o estilo, ou seja:\n",
    "\n",
    "$$J_S(S,G) = \\sum_{l \\in L} \\lambda^{[l]} J^{[l]}_S(S,G) \\tag{2}$$\n",
    "\n",
    "Observe que ponderamos a contribuição da perda de cada camada pelo fator $\\lambda^{[l]}$. No nosso caso, iremos ponderar cada camada igualmente por $\\lambda^{[l]} = \\frac{1}{|L|}$.\n",
    "\n",
    "### Exercício #4: Função de custo de estilo da camada $l$\n",
    "\n",
    "Implemente na célula abaixo uma função para calcular a função de custo de estilo das imagens de estilo e gerada da camada $l$, conforme definido na equação (1) acima. Use as funções `reduce_mean` e `square` do TensorFlow e a função `gram_matrix` definida anteriormente.\n",
    "\n",
    "Observe que como a imagem de estilo não muda durante o cálculo, então, a matriz de Gram dessa imagem não precisa ser calculada a todo momento, bastando calculá-la no início do processo. Dessa forma, a função custo de estilo recebe as saídas das camadas definidas para calcular o estilo da imagem gerada (`base_style`) e a matriz de Gram da imagem de estilo. "
   ]
  },
  {
   "cell_type": "code",
   "execution_count": null,
   "metadata": {
    "colab": {},
    "colab_type": "code",
    "id": "ATVUqpsfEypQ"
   },
   "outputs": [],
   "source": [
    "# PARA VOCÊ FAZER: Função de custo de estilo de uma camada\n",
    "\n",
    "def get_style_loss(base_style, gram_target):\n",
    "    \"\"\"Esperadas duas imagens de dimensão h, w, c (altura, largura e numero de filtros)\n",
    "    base_style = saídas das camadas de \"estilo\" referentes à imagem gerada\n",
    "    gram_target = matriz de Gram calculada para cada camada de \"estilo\" referente á imagem de estilo \"\"\"\n",
    "  \n",
    "    height, width, channels = base_style.get_shape().as_list()\n",
    "    \n",
    "    ### COMECE AQUI ### (≈ 2 linhas)\n",
    "    #gram_style = \n",
    "    #JS = \n",
    "    ### TERMINE AQUI ####\n",
    "    \n",
    "    return JS"
   ]
  },
  {
   "cell_type": "markdown",
   "metadata": {
    "colab_type": "text",
    "id": "cjFIyf1yEypS"
   },
   "source": [
    "Execute a célula abaixo ara verificar se a sua função de custo de estilo foi implementada corretamente."
   ]
  },
  {
   "cell_type": "code",
   "execution_count": null,
   "metadata": {
    "colab": {
     "base_uri": "https://localhost:8080/",
     "height": 34
    },
    "colab_type": "code",
    "id": "JthO4XhUEypT",
    "outputId": "f591d624-944f-445c-a158-6b39c8de3bb2"
   },
   "outputs": [],
   "source": [
    "np.random.seed(3)\n",
    "MC = tf.Variable(np.random.random((3,3,3)), dtype=tf.float32)\n",
    "MG = np.random.random((3,3,3))\n",
    "JS = get_style_loss(MC, MG)\n",
    "print(JS)"
   ]
  },
  {
   "cell_type": "markdown",
   "metadata": {
    "colab_type": "text",
    "id": "2E5j1OoFEypV"
   },
   "source": [
    "**Saída esperada:**\n",
    "\n",
    "    tf.Tensor(0.00083592156, shape=(), dtype=float32)"
   ]
  },
  {
   "cell_type": "markdown",
   "metadata": {
    "colab_type": "text",
    "id": "XXXIo0XFEypV"
   },
   "source": [
    "### Exercício #5: Cálculo das características das imagens de conteúdo e de estilo\n",
    "\n",
    "Precisamos calcular as características das imagens de conteúdo e de estilo para serem usadas como representações de conteúdo e estilo do nosso modelo. Para isso, vamos definir a função `get_feature_representations` que calcula essas características. Na célula abaixo complete o programa que calcule as características das imagens de conteúdo e de estilo usando a VGG19 recebida no objeto `model` e a \"path\" para as imagens de conteúdo e de estilo."
   ]
  },
  {
   "cell_type": "code",
   "execution_count": null,
   "metadata": {
    "colab": {},
    "colab_type": "code",
    "id": "kTRJDQn1EypV"
   },
   "outputs": [],
   "source": [
    "# PARA VOCÊ FAZER: Cálculo das representações de conteúdo e de estilo\n",
    "\n",
    "def get_feature_representations(model, content_path, style_path):\n",
    "    \"\"\"Essa função calcula a representação de conteúdo e estilo.\n",
    "\n",
    "    Essa função simplesmente carrega e preprocessa as imagens de conteúdo e de estilo\n",
    "    dos seus arquivos. Após isso essas imagens são usadas pela VGG para obter\n",
    "    as saídas das camadas intermediárias. \n",
    "  \n",
    "    Argumentos:\n",
    "        model: modelo de RNA que está sendo usada.\n",
    "        content_path: nome do arquivo com a imagem de conteúdo.\n",
    "        style_path: nome de arquivo com a imagem de estilo.\n",
    "        \n",
    "    Retorna:\n",
    "        As caracteríticas de estilo e conteúdo. \n",
    "    \"\"\"\n",
    "  \n",
    "    # Usando a função load_and_process_img carregue as imagens de conteùdo e de estilo\n",
    "    ### COMECE AQUI ### (≈ 2 linhas)\n",
    "    #content_image = \n",
    "    #style_image = \n",
    "    ### TERMINE AQUI ###\n",
    "  \n",
    "    # Usando a RNA VGG19 recebida no objeto \"model\", calcule as caracteríticas das imagens de conteúdo e de estilo\n",
    "    ### COMECE AQUI ### (≈ 2 linhas)\n",
    "    #style_outputs =\n",
    "    #content_outputs = \n",
    "    ### TERMINE AQUI ###\n",
    "  \n",
    "    # Calcula as características de estilo e conteúdo usando a VGG\n",
    "    style_features = [style_layer[0] for style_layer in style_outputs[:num_style_layers]]\n",
    "    content_features = [content_layer[0] for content_layer in content_outputs[num_style_layers:]]\n",
    "      \n",
    "    return style_features, content_features"
   ]
  },
  {
   "cell_type": "markdown",
   "metadata": {
    "colab_type": "text",
    "id": "XzgXdMHKEypX"
   },
   "source": [
    "### 5.4 Função de custo total\n",
    "\n",
    "A função `compute_loss` implementada na célula abaixo calcula a função de custo total para realizar a transferência de estilo. Portanto, execute a célula abaixo para definir essa função."
   ]
  },
  {
   "cell_type": "code",
   "execution_count": null,
   "metadata": {
    "colab": {},
    "colab_type": "code",
    "id": "yJvGdGerEypY"
   },
   "outputs": [],
   "source": [
    "def compute_loss(model, loss_weights, init_image, gram_style_features, content_features):\n",
    "    \"\"\"Essa função calcula o custo total\n",
    "  \n",
    "    Argumentos:\n",
    "        model: modelo que fornece acesso às camadas intermediárias\n",
    "        loss_weights: pesos de cada contribuição da das funções de custo (pesos para estilo e de conteúdo)\n",
    "        init_image: imagem inicial que será atualizada no processo de otimização pela aplicação do ]\n",
    "                    gradiente da função de custo. \n",
    "        gram_style_features: matrizes de gram correspondentes às camadas de estilo escolhidas.\n",
    "        content_features: saídas das camadas escolhidas para definir conteúdo.\n",
    "        \n",
    "    Retorna:\n",
    "        Função de custo total, custo de estilo e custo de conteúdo\n",
    "    \"\"\"\n",
    "  \n",
    "    style_weight, content_weight = loss_weights\n",
    "  \n",
    "    # Carrega imagem inicial no modelo. Isso gera as representações de conteúdo e estilo \n",
    "    # das camadas escolhidas. \n",
    "    model_outputs = model(init_image)\n",
    "  \n",
    "    style_output_features = model_outputs[:num_style_layers]\n",
    "    content_output_features = model_outputs[num_style_layers:] processo de otimização.\n",
    "  \n",
    "    style_score = 0\n",
    "    content_score = 0\n",
    "\n",
    "    # Acumula custo de estilo de todas as camadas\n",
    "    # Aqui as contribuições de cada camada são ponderadas igualmente\n",
    "    weight_per_style_layer = 1.0 / float(num_style_layers)\n",
    "    for target_style, comb_style in zip(gram_style_features, style_output_features):\n",
    "        style_score += weight_per_style_layer * get_style_loss(comb_style[0], target_style)\n",
    "    \n",
    "    # Acumula custo de conteúdo de todas as camadas \n",
    "    weight_per_content_layer = 1.0 / float(num_content_layers)\n",
    "    for target_content, comb_content in zip(content_features, content_output_features):\n",
    "        content_score += weight_per_content_layer* get_content_loss(comb_content[0], target_content)\n",
    "  \n",
    "    style_score *= style_weight\n",
    "    content_score *= content_weight\n",
    "\n",
    "    # Calcula custo total\n",
    "    loss = style_score + content_score \n",
    "  \n",
    "    return loss, style_score, content_score"
   ]
  },
  {
   "cell_type": "markdown",
   "metadata": {
    "colab_type": "text",
    "id": "9WEN3mTfEypa"
   },
   "source": [
    "## 6 - Transferência de estilo entre as imagens\n",
    "\n",
    "Nesse trabalho usaremos o otimizador Adam para minimizar a função de custo total. Atualizamos iterativamente a imagem de saída (imagem gerada) para minimizar a função de custo total. Na transferência de estilo não atualizamos os pesos associados à nossa rede como de costume, mas treinamos a imagem de entrada para minimizar a perda, conforme a equação abaixo.\n",
    "\n",
    "$$G = G - \\frac{\\partial J(G)}{\\partial G}$$\n",
    "\n",
    "\n",
    "Para fazer esse cálculo precisamos calcular além da função de custo total o seu gradiente em relação aos pixels da imagem gerada.\n",
    "\n",
    "\n",
    "### 6.1 Cálculo do gradiente\n",
    "\n",
    "Execute a célula abaixo para definir a função `compute_grads` que calcula o gradiente da função de custo total em relação aos pixels da imagem gerada. Essa função utliza a função do TensorFlow `tf.GradientTape()`(https://www.tensorflow.org/api_docs/python/tf/GradientTape) para calcular o gradiente $\\frac{\\partial J(G)}{\\partial G}$ e a função `compute_loss` (definda acima) para calcular o custo total $J(G)$. \n",
    "\n",
    "A função `tf.GradientTape()` calcula automaticamente as derivadas usando as operações definidas para calcular a função de custo total, facilitando a implementação do processo."
   ]
  },
  {
   "cell_type": "code",
   "execution_count": null,
   "metadata": {
    "colab": {},
    "colab_type": "code",
    "id": "O5mHrVngEypb"
   },
   "outputs": [],
   "source": [
    "def compute_grads(cfg):\n",
    "    with tf.GradientTape() as G: \n",
    "        all_loss = compute_loss(**cfg)\n",
    "  \n",
    "    # Calcula os gradients em relação à imagem de entrada\n",
    "    total_loss = all_loss[0]\n",
    "  \n",
    "    return G.gradient(total_loss, cfg['init_image']), all_loss"
   ]
  },
  {
   "cell_type": "markdown",
   "metadata": {
    "colab_type": "text",
    "id": "jpxzrcj4Eypc"
   },
   "source": [
    "### 6.2 Juntando todas as funções\n",
    "\n",
    "Execute a célula abaixo para definir a função que implementa o método iterativo da transferência de estilo chamando as funções definidas anteriormente. \n",
    "\n",
    "Observe que o fatores de ponderação das funções de custo de conteúdo e de estilo padrão são ambos iguais a 100."
   ]
  },
  {
   "cell_type": "code",
   "execution_count": null,
   "metadata": {
    "colab": {},
    "colab_type": "code",
    "id": "heauOHM7Eypd"
   },
   "outputs": [],
   "source": [
    "import IPython.display\n",
    "\n",
    "def run_style_transfer(content_path, style_path, num_iterations=1, content_weight=100, style_weight=100): \n",
    "    # Não é necessário treinar nenhuma camada do modelo, portanto, deve-se definir trainable igual a false. \n",
    "    model = get_model() \n",
    "    for layer in model.layers:\n",
    "        layer.trainable = False\n",
    "        \n",
    "    # Obtém as representações de conteúdo e estilo (usando as camadas intermediárias escolhidas) \n",
    "    style_features, content_features = get_feature_representations(model, content_path, style_path)\n",
    "    gram_style_features = [gram_matrix(style_feature) for style_feature in style_features]\n",
    "  \n",
    "    # Define imagem inicial como sendo a imagem de conteúdo\n",
    "    init_image = load_and_process_img(content_path)\n",
    "    init_image = tf.Variable(init_image, dtype=tf.float32)\n",
    "  \n",
    "    # Cria o otimizador\n",
    "    opt = tf.optimizers.Adam(lr = 5)\n",
    "\n",
    "    # Se quiser mostrar imagens criadas durante o precsso \n",
    "    iter_count = 1\n",
    "  \n",
    "    # Armazena o melhor resultado\n",
    "    best_loss, best_img = float('inf'), None\n",
    "  \n",
    "    # Cria a os tensores usados na otimização \n",
    "    loss_weights = (style_weight, content_weight)\n",
    "    cfg = {'model': model,'loss_weights': loss_weights,'init_image': init_image,'gram_style_features': gram_style_features,'content_features': content_features}    \n",
    "\n",
    "    # Parãmetros para apresentar o processo de transferênica de estilo\n",
    "    num_rows = 2\n",
    "    num_cols = 5\n",
    "    display_interval = num_iterations/(num_rows*num_cols)\n",
    "    start_time = time.time()\n",
    "    global_start = time.time()\n",
    "  \n",
    "    norm_means = np.array([103.939, 116.779, 123.68])\n",
    "    min_vals = -norm_means\n",
    "    max_vals = 255 - norm_means   \n",
    "  \n",
    "    imgs = []\n",
    "    history = np.zeros(num_iterations)\n",
    "    \n",
    "    for i in range(num_iterations):\n",
    "        grads, all_loss = compute_grads(cfg)\n",
    "        loss, style_score, content_score = all_loss\n",
    "        opt.apply_gradients([(grads, init_image)])\n",
    "        clipped = tf.clip_by_value(init_image, min_vals, max_vals)\n",
    "        init_image.assign(clipped)\n",
    "        end_time = time.time() \n",
    "    \n",
    "        if loss < best_loss:\n",
    "            # Atualiza o melhor custo e a imagem correspondente \n",
    "            best_loss = loss\n",
    "            best_img = deprocess_img(init_image.numpy())\n",
    "\n",
    "        if i % display_interval== 0:\n",
    "            start_time = time.time()\n",
    "      \n",
    "            # Usa o método .numpy() para obter um tensor numpy\n",
    "            plot_img = init_image.numpy()\n",
    "            plot_img = deprocess_img(plot_img)\n",
    "            imgs.append(plot_img)\n",
    "            IPython.display.clear_output(wait=True)\n",
    "            IPython.display.display_png(Image.fromarray(plot_img))\n",
    "            print('Iteration: {}'.format(i))        \n",
    "            print('Total loss: {:.4e},style loss: {:.4e},content loss: {:.4e},time: {:.4f}s'.format(loss, style_score, content_score, time.time() - start_time))\n",
    "            \n",
    "        history[i] = loss\n",
    "        \n",
    "    print('Total time: {:.4f}s'.format(time.time() - global_start))\n",
    "    IPython.display.clear_output(wait=True)\n",
    "    plt.figure(figsize=(14,4))\n",
    "    for i,img in enumerate(imgs):\n",
    "        plt.subplot(num_rows,num_cols,i+1)\n",
    "        plt.imshow(img)\n",
    "        plt.xticks([])\n",
    "        plt.yticks([])\n",
    "      \n",
    "    return best_img, best_loss, history"
   ]
  },
  {
   "cell_type": "markdown",
   "metadata": {
    "colab_type": "text",
    "id": "ek1dv-k2Eypf"
   },
   "source": [
    "### 6.3 Teste do algoritmo\n",
    "\n",
    "Execute a célula abaixo para testar e visualizar o resultado do método de transferência de estilo usando 200 iterações. Isso deve demorar alguns minutos."
   ]
  },
  {
   "cell_type": "code",
   "execution_count": null,
   "metadata": {
    "colab": {
     "base_uri": "https://localhost:8080/",
     "height": 270
    },
    "colab_type": "code",
    "id": "WF8qNXeNEypf",
    "outputId": "0f9b891a-2f9d-403f-978a-0646354df942"
   },
   "outputs": [],
   "source": [
    "best_1, best_loss_1, history = run_style_transfer(content_path,style_path, num_iterations=200)\n",
    "print('Custo =', best_loss_1)"
   ]
  },
  {
   "cell_type": "markdown",
   "metadata": {
    "colab_type": "text",
    "id": "dR9mIg3FEyph"
   },
   "source": [
    "**Saída esperada:**\n",
    "\n",
    "    Custo = tf.Tensor(22014.047, shape=(), dtype=float32)"
   ]
  },
  {
   "cell_type": "markdown",
   "metadata": {
    "colab_type": "text",
    "id": "acc13MayEyph"
   },
   "source": [
    "Execute a célula abaixo para visualizar o valor da função de custo total em função das épocas."
   ]
  },
  {
   "cell_type": "code",
   "execution_count": null,
   "metadata": {
    "colab": {
     "base_uri": "https://localhost:8080/",
     "height": 350
    },
    "colab_type": "code",
    "id": "RlCXh9BREyph",
    "outputId": "b44e3ee4-d2e3-448b-d538-ebf3c6b29b86"
   },
   "outputs": [],
   "source": [
    "# Cria vetor de épocas e faz o gráfico do custo em função das épocas\n",
    "\n",
    "tempo = range(1, len(history) + 1)\n",
    "plt.figure(figsize=(10, 5))\n",
    "plt.plot(tempo, history, 'bo')\n",
    "plt.title('Valor da função de custo')\n",
    "plt.xlabel('Iteração')\n",
    "plt.ylabel('Custo')\n",
    "plt.show()"
   ]
  },
  {
   "cell_type": "markdown",
   "metadata": {
    "colab_type": "text",
    "id": "DwM3ExFLEypk"
   },
   "source": [
    "### Visualização da imagem resultante\n",
    "\n",
    "Para visualizar corretamente a imagem resultante devemos remover o processamento inicial realizado na imagem de conteúdo usando a função `imshow` definida no arquivo nst_utils2.py. Para fazer isso, execute a célula abaixo."
   ]
  },
  {
   "cell_type": "code",
   "execution_count": null,
   "metadata": {
    "colab": {
     "base_uri": "https://localhost:8080/",
     "height": 718
    },
    "colab_type": "code",
    "id": "BVXen2Z4Eypk",
    "outputId": "277a208b-1f89-4069-990b-a93320a5b5aa"
   },
   "outputs": [],
   "source": [
    "def show_results(best_img, content_path, style_path, show_large_final=True):\n",
    "    plt.figure(figsize=(10, 5))\n",
    "    content = load_img(content_path) \n",
    "    style = load_img(style_path)\n",
    "\n",
    "    plt.subplot(1, 2, 1)\n",
    "    imshow(content, 'Content Image')\n",
    "\n",
    "    plt.subplot(1, 2, 2)\n",
    "    imshow(style, 'Style Image')\n",
    "\n",
    "    if show_large_final: \n",
    "        plt.figure(figsize=(10, 10))\n",
    "\n",
    "        plt.imshow(best_img)\n",
    "        plt.title('Output Image')\n",
    "        plt.show()    \n",
    "        \n",
    "show_results(best_1, content_path, style_path)          "
   ]
  },
  {
   "cell_type": "markdown",
   "metadata": {
    "colab_type": "text",
    "id": "mTMxsmieEypm"
   },
   "source": [
    "## 7 - Testes com alterações dos parâmetros\n",
    "\n",
    "Como visto em aula, a função de custo total consiste de uma média ponderada entre as parcelas referentes ao conteúdo e ao estilo, conforme a seguinte equação:\n",
    "\n",
    "$$J(G) = \\alpha J_C(S,G) + \\beta J_S(S,G)$$\n",
    "\n",
    "Veremos o que acontece se alterarmos os valores dos pesos das parcelas da função de custo relativas ao conteúdo ($\\alpha$) e ao estilo ($\\beta$).\n",
    "\n",
    "\n",
    "### Exercício #6: Primeira alteração dos pesos das parcelas de conteúdo e estilo\n",
    "\n",
    "Diminua o peso do custo de estilo para 20 e mantenha o peso do custo de conteúdo em 100 e execute novamente a função `run_style_transfer`. Observe que no programa $\\alpha$ = `content_weight` e $\\beta$ = `style_weight`.\n"
   ]
  },
  {
   "cell_type": "code",
   "execution_count": null,
   "metadata": {
    "colab": {
     "base_uri": "https://localhost:8080/",
     "height": 270
    },
    "colab_type": "code",
    "id": "p0B1J54VEypm",
    "outputId": "b4acb577-444b-4570-af3e-c9db4019a42d"
   },
   "outputs": [],
   "source": [
    "# PARA VOCÊ FAZER: Teste de transferência de estilo com novos parâmetros\n",
    "\n",
    "# Altere as variáveis de ponderação das parcelas de conteúdo e de estilo da função de custo e\n",
    "# execute execute novamente a função run_style_transfer\n",
    "# alfa = content_weight\n",
    "# beta = style_weight\n",
    "\n",
    "### COMECE AQUI ### (≈ 1 linha)\n",
    "#best_2, best_loss_2, history2 = \n",
    "### TERMINE AQUI ###\n",
    "\n",
    "print('Custo =', best_loss_2)"
   ]
  },
  {
   "cell_type": "markdown",
   "metadata": {
    "colab_type": "text",
    "id": "cqL9hqBYEypo"
   },
   "source": [
    "**Saída esperada:**\n",
    "\n",
    "    Custo = tf.Tensor(8438.926, shape=(), dtype=float32)\n",
    "\n",
    "Execute a célula abaixo para visualizar a variação da função de custo durante o treinamento e a imagem resultante."
   ]
  },
  {
   "cell_type": "code",
   "execution_count": null,
   "metadata": {
    "colab": {
     "base_uri": "https://localhost:8080/",
     "height": 1000
    },
    "colab_type": "code",
    "id": "rcc5fV4xEypp",
    "outputId": "f6934674-5375-4842-fcb0-72b1b8c19053"
   },
   "outputs": [],
   "source": [
    "# Cria vetor de épocas e faz o gráfico da função de custo total em função das épocas\n",
    "\n",
    "tempo = range(1, len(history2) + 1)\n",
    "plt.figure(figsize=(10, 5))\n",
    "plt.plot(tempo, history2, 'bo')\n",
    "plt.title('Valor da função de custo')\n",
    "plt.xlabel('Iteração')\n",
    "plt.ylabel('Custo')\n",
    "plt.show()\n",
    "\n",
    "show_results(best_2, content_path, style_path)    "
   ]
  },
  {
   "cell_type": "markdown",
   "metadata": {
    "colab_type": "text",
    "id": "kli3wNH9Eypq"
   },
   "source": [
    "### Exercício #7: Segunda alteração dos pesos das parcelas de conteúdo e estilo\n",
    "\n",
    "Aumente o peso do custo de estilo para 500 mantendo o peso do custo de conteúdo em 100 e execute novamente a função `run_style_transfer`."
   ]
  },
  {
   "cell_type": "code",
   "execution_count": null,
   "metadata": {
    "colab": {
     "base_uri": "https://localhost:8080/",
     "height": 270
    },
    "colab_type": "code",
    "id": "6dx_BeTwEypr",
    "outputId": "1a98b422-b60f-418a-ddb3-df81cd838a0e"
   },
   "outputs": [],
   "source": [
    "# PARA VOCÊ FAZER: Teste de transferência de estilo com novos parâmetros\n",
    "\n",
    "# Altere as variáveis de ponderação das parcelas de conteúdo e de estilo da função de custo e\n",
    "# execute execute novamente a função run_style_transfer\n",
    "### COMECE AQUI ### (≈ 1 linha)\n",
    "#best_3, best_loss_3, history3 = \n",
    "### TERMINE AQUI ###\n",
    "\n",
    "print('Custo =', best_loss_3)"
   ]
  },
  {
   "cell_type": "markdown",
   "metadata": {
    "colab_type": "text",
    "id": "8U_p2lFKEypt"
   },
   "source": [
    "**Saída esperada:**\n",
    "\n",
    "    Custo = tf.Tensor(66146.45, shape=(), dtype=float32)\n",
    "\n",
    "Execute a célula abaixo para visualizar a variação da função de custo durante o treinamento e a imagem resultante."
   ]
  },
  {
   "cell_type": "code",
   "execution_count": null,
   "metadata": {
    "colab": {
     "base_uri": "https://localhost:8080/",
     "height": 1000
    },
    "colab_type": "code",
    "id": "z7OeeMrlEypt",
    "outputId": "2d66b1cb-a6c9-487c-c9ca-a9478422736a"
   },
   "outputs": [],
   "source": [
    "# Cria vetor de épocas e faz o gráfico da função de custo total em função das épocas\n",
    "\n",
    "tempo = range(1, len(history3) + 1)\n",
    "plt.figure(figsize=(10, 5))\n",
    "plt.plot(tempo, history3, 'bo')\n",
    "plt.title('Valor da função de custo')\n",
    "plt.xlabel('Iteração')\n",
    "plt.ylabel('Custo')\n",
    "plt.show()\n",
    "\n",
    "show_results(best_3, content_path, style_path)    "
   ]
  },
  {
   "cell_type": "markdown",
   "metadata": {
    "colab_type": "text",
    "id": "CmBtLEgEEypw"
   },
   "source": [
    "### Exercício #8: Alteração das camadas usadas para descrever conteúdo e estilo\n",
    "\n",
    "Mantenha ambos os pesos do custo de estilo e de conteúdo iguais a 100 e altere as camadas utilizadas para definir o conteúdo e o estilo das imagens. \n",
    "\n",
    "Para representar o conteúdo use as camadas `block5_conv3`.\n",
    "\n",
    "Para representar o estilo use as camdas `block1_conv2`, `block2_conv2`, `block3_conv2`, `block4_conv2` e `block5_conv2`.\n"
   ]
  },
  {
   "cell_type": "code",
   "execution_count": null,
   "metadata": {
    "colab": {
     "base_uri": "https://localhost:8080/",
     "height": 270
    },
    "colab_type": "code",
    "id": "Hz8J96e7Eypw",
    "outputId": "143b6bb2-69d2-45d5-b055-aee01ec05d62"
   },
   "outputs": [],
   "source": [
    "# PARA VOCÊ FAZER: Definir camadas de conteúdo e de estilo\n",
    "\n",
    "# Camada de conteúdo\n",
    "### COMECE AQUI ### (≈ 1 linha)\n",
    "#content_layers = \n",
    "### TERMINE AQUI ###\n",
    "\n",
    "# Camadas de estilo. Inclua uma lista com os nomes das camadas\n",
    "### COMECE AQUI ### (≈ 1 linha)\n",
    "#style_layers = \n",
    "### TERMINE AQUI ###\n",
    "\n",
    "num_content_layers = len(content_layers)\n",
    "num_style_layers = len(style_layers)\n",
    "\n",
    "print('Camadas de conteúdo:', content_layers)\n",
    "print('Camadas de estilo:', style_layers)\n",
    "\n",
    "# Execute a função de transferência de estilo \n",
    "### COMECE AQUI ### (≈ 1 linha)\n",
    "#best_4, best_loss_4, history4 = \n",
    "### TERMINE AQUI ###\n",
    "\n",
    "print('Custo =', best_loss_4)"
   ]
  },
  {
   "cell_type": "markdown",
   "metadata": {
    "colab_type": "text",
    "id": "9GaWOUupEypy"
   },
   "source": [
    "**Saída esperada:**\n",
    "\n",
    "    Custo = tf.Tensor(7504.194, shape=(), dtype=float32)\n",
    "\n",
    "Execute a célula abaixo para visualizar a variação da função de custo durante o treinamento e a imagem resultante."
   ]
  },
  {
   "cell_type": "code",
   "execution_count": null,
   "metadata": {
    "colab": {
     "base_uri": "https://localhost:8080/",
     "height": 1000
    },
    "colab_type": "code",
    "id": "VosQx_4IEypy",
    "outputId": "dc58fc10-c020-4838-e8de-501f47ee00cb"
   },
   "outputs": [],
   "source": [
    "# Cria vetor de épocas e faz o gráfico da função de custo total em função das épocas\n",
    "\n",
    "tempo = range(1, len(history4) + 1)\n",
    "plt.figure(figsize=(10, 5))\n",
    "plt.plot(tempo, history4, 'bo')\n",
    "plt.title('Valor da função de custo')\n",
    "plt.xlabel('Iteração')\n",
    "plt.ylabel('Custo')\n",
    "plt.show()\n",
    "\n",
    "show_results(best_4, content_path, style_path)    "
   ]
  },
  {
   "cell_type": "markdown",
   "metadata": {
    "colab_type": "text",
    "id": "ms8wncCMEyp0"
   },
   "source": [
    "<font color='blue'>\n",
    "\n",
    "## Conclusões:\n",
    "\n",
    "1. Note que diminuir o peso da parcela do estilo na função de custo a imagem resultante vai parecer mais com a imagem de conteúdo, ou seja, menos estilo é transferida para a imagem gerada.\n",
    "\n",
    "2. Ao contrário, se aumentar o peso da parcela do estilo na função de custo a imagem resultante vai parecer mais com a imagem de estilo, ou seja, mais estilo é transferida para a imagem gerada.\n",
    "\n",
    "3. Conclui-se portanto que podemos controlar quanto de estilo transferimos para a nova imagem gerada simplesmente alterando os pesos das parcelas de conteúdo e de estilo da função de custo total.\n",
    "\n",
    "4. Outra forma de controlar a transferência de estilo é escolher as camadas que definem o conteúdo e o estilo das imagens. O uso de ativações de camadas iniciais força a imagem gerada ser muito similar à imagem de conteúdo (C) e o uso de ativações das camadas mais profundas força a imagem gerada ser mais similar à imagem de estilo.\n",
    "\n",
    "5. Outra forma de controlar o quanto de estilo é transferido para a imagem de conteúdo é usar um número de iterações menor ou maior. Essa técnica não foi testada nesse trabalho, mas você pode tentar fazer isso executando a função `run_style_transfer` com 1000 iterações. Após a entrega do trabalho faça isso e veja o resultado obtido."
   ]
  },
  {
   "cell_type": "markdown",
   "metadata": {
    "colab_type": "text",
    "id": "ZR7ndFTLEyp1"
   },
   "source": [
    "## 8 - Teste com outras imagens\n",
    "\n",
    "Tente transferir estilos para outras imagens. Os links a seguir possuem diversas imagens interssantes que podem ser usadas para transferência de estilo.\n",
    "\n",
    "https://towardsdatascience.com/style-transfer-styling-images-with-convolutional-neural-networks-7d215b58f461\n",
    "https://commons.wikimedia.org/wiki/File:Green_Sea_Turtle_grazing_seagrass.jpg\n",
    "https://commons.wikimedia.org/wiki/File:The_Great_Wave_off_Kanagawa.jpg\n",
    "https://commons.wikimedia.org/wiki/Commons:Featured_picture_candidates/Log/January_2005\n",
    "\n",
    "\n",
    "### Exercício #9: Teste de transferência de estilo para outra imagem\n",
    "\n",
    "Vamos testar o algoritmo de transferência de estilo com as imagens da cidade de São Francisco e Tytus. Essas imagens estão no diretório images com nomes sao_francisco.png e Tytus_Brzozowski.png."
   ]
  },
  {
   "cell_type": "code",
   "execution_count": null,
   "metadata": {
    "colab": {
     "base_uri": "https://localhost:8080/",
     "height": 270
    },
    "colab_type": "code",
    "id": "pMlpsPLzEyp1",
    "outputId": "fc382934-6b43-43ae-eaec-b98c4ce2fcc1",
    "scrolled": true
   },
   "outputs": [],
   "source": [
    "# PARA VOCÊ FAZER: Realizar a transferência de estilo da imagem Tytus para a imagem da cidade de São Francisco.\n",
    "\n",
    "# Redefine as camadas de conteúdo e estilo originais\n",
    "content_layers = ['block5_conv2'] \n",
    "style_layers = ['block1_conv1','block2_conv1','block3_conv1','block4_conv1','block5_conv1']\n",
    "\n",
    "### COMECE AQUI ### (≈ 1 linha)\n",
    "#best_sao_franscisco, best_loss, history = \n",
    "### TERMINE AQUI ###\n",
    "\n",
    "print('Custo =', best_loss)"
   ]
  },
  {
   "cell_type": "markdown",
   "metadata": {
    "colab_type": "text",
    "id": "NDyfrZW1Eyp4"
   },
   "source": [
    "**Saída esperada:**\n",
    "\n",
    "    Custo = tf.Tensor(32453.777, shape=(), dtype=float32)\n",
    "\n",
    "Execute a célula abaixo para visualizar a imagem resultante."
   ]
  },
  {
   "cell_type": "code",
   "execution_count": null,
   "metadata": {
    "colab": {
     "base_uri": "https://localhost:8080/",
     "height": 907
    },
    "colab_type": "code",
    "id": "UpMkhBh4Eyp4",
    "outputId": "ea0a91b8-f720-458f-bb92-923786e8064a"
   },
   "outputs": [],
   "source": [
    "show_results(best_sao_franscisco, 'sao_francisco.png','Tytus_Brzozowski.png')"
   ]
  },
  {
   "cell_type": "markdown",
   "metadata": {
    "colab_type": "text",
    "id": "A9pV2ivQEyp6"
   },
   "source": [
    "### Teste para outra imagem interessante"
   ]
  },
  {
   "cell_type": "code",
   "execution_count": null,
   "metadata": {
    "colab": {
     "base_uri": "https://localhost:8080/",
     "height": 972
    },
    "colab_type": "code",
    "id": "i20FXlZxEyp6",
    "outputId": "f79c89d1-3d15-4ff9-ed3e-7ae33f12beb8"
   },
   "outputs": [],
   "source": [
    "nst_turtle, best_loss, history = run_style_transfer('Green_Sea_Turtle.jpg','Great_Wave_off_Kanagawa.jpg',num_iterations=200)\n",
    "show_results(nst_turtle, 'Green_Sea_Turtle.jpg','Great_Wave_off_Kanagawa.jpg')\n",
    "print('Custo =', best_loss)"
   ]
  }
 ],
 "metadata": {
  "accelerator": "GPU",
  "colab": {
   "name": "T6 - Transferencia_estilo_sol_v2.ipynb",
   "provenance": [],
   "toc_visible": true
  },
  "kernelspec": {
   "display_name": "Python 3",
   "language": "python",
   "name": "python3"
  },
  "language_info": {
   "codemirror_mode": {
    "name": "ipython",
    "version": 3
   },
   "file_extension": ".py",
   "mimetype": "text/x-python",
   "name": "python",
   "nbconvert_exporter": "python",
   "pygments_lexer": "ipython3",
   "version": "3.7.4"
  }
 },
 "nbformat": 4,
 "nbformat_minor": 1
}
