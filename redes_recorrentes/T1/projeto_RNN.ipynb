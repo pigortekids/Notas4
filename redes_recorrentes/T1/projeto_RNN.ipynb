{
  "nbformat": 4,
  "nbformat_minor": 0,
  "metadata": {
    "colab": {
      "name": "projeto_RNN (1).ipynb",
      "provenance": []
    },
    "kernelspec": {
      "name": "python3",
      "display_name": "Python 3"
    }
  },
  "cells": [
    {
      "cell_type": "markdown",
      "metadata": {
        "id": "nTxEu_HsyZbm",
        "colab_type": "text"
      },
      "source": [
        "#Predição do Bitcoin com RNN"
      ]
    },
    {
      "cell_type": "markdown",
      "metadata": {
        "id": "f4NHl-wVx_FM",
        "colab_type": "text"
      },
      "source": [
        "###Esse projeto tem como objetivo construir um modelo que prevê os valores futuros de Bitcoin do dataset abaixo:\n",
        "https://www.kaggle.com/mczielinski/bitcoin-historical-data\n",
        "\n",
        "###Esse dataset contêm os valores de transações de Bitcoin de minuto a minuto desde 01/01/2012 até 22/04/2020, com as seguintes colunas:\n",
        "- Timestamp (começo da janela de tempo de um minuto em horário Unix)\n",
        "- Open (preço inicial)\n",
        "- High (maior preço)\n",
        "- Low (menor preço)\n",
        "- Close (preço final)\n",
        "- Volume_(BTC) (quantidade de Bitcoin transacionado)\n",
        "- Volume_(Currency) (quantidade de moeda transacionado)\n",
        "- Weighted_Price (preço médio)\n",
        "\n",
        "Usaremos a variavel Timestamp para sequênciar os valores e tentaremos predizer a variável Weighted_Price."
      ]
    },
    {
      "cell_type": "code",
      "metadata": {
        "id": "fh_yB74BwzOm",
        "colab_type": "code",
        "outputId": "a12608fc-c383-479e-8aa2-f14f16f164f0",
        "colab": {
          "base_uri": "https://localhost:8080/",
          "height": 122
        }
      },
      "source": [
        "from google.colab import drive\n",
        "drive.mount('/content/drive')\n",
        "caminho_drive = '/content/drive/My Drive/colab/RNN/'"
      ],
      "execution_count": 1,
      "outputs": [
        {
          "output_type": "stream",
          "text": [
            "Go to this URL in a browser: https://accounts.google.com/o/oauth2/auth?client_id=947318989803-6bn6qk8qdgf4n4g3pfee6491hc0brc4i.apps.googleusercontent.com&redirect_uri=urn%3aietf%3awg%3aoauth%3a2.0%3aoob&response_type=code&scope=email%20https%3a%2f%2fwww.googleapis.com%2fauth%2fdocs.test%20https%3a%2f%2fwww.googleapis.com%2fauth%2fdrive%20https%3a%2f%2fwww.googleapis.com%2fauth%2fdrive.photos.readonly%20https%3a%2f%2fwww.googleapis.com%2fauth%2fpeopleapi.readonly\n",
            "\n",
            "Enter your authorization code:\n",
            "··········\n",
            "Mounted at /content/drive\n"
          ],
          "name": "stdout"
        }
      ]
    },
    {
      "cell_type": "markdown",
      "metadata": {
        "id": "xYp7JpnA5AxR",
        "colab_type": "text"
      },
      "source": [
        "Primeiro vamos importar as bibliotecas que usaremos durante todo o notebook."
      ]
    },
    {
      "cell_type": "code",
      "metadata": {
        "id": "zc91TSX-5EzU",
        "colab_type": "code",
        "colab": {}
      },
      "source": [
        "import pandas as pd\n",
        "import matplotlib.pyplot as plt\n",
        "from datetime import datetime, timezone\n",
        "from sklearn.preprocessing import MinMaxScaler\n",
        "import numpy as np\n",
        "from tensorflow.keras.models import Sequential\n",
        "from tensorflow.keras.layers import LSTM, Dropout, Dense"
      ],
      "execution_count": 0,
      "outputs": []
    },
    {
      "cell_type": "markdown",
      "metadata": {
        "id": "xpbRhVmWyi4C",
        "colab_type": "text"
      },
      "source": [
        "Agora importamos o arquivo para começar a análise."
      ]
    },
    {
      "cell_type": "code",
      "metadata": {
        "id": "T83UMe_lxASi",
        "colab_type": "code",
        "colab": {}
      },
      "source": [
        "nm_arquivo = 'bitstampUSD_1-min_data_2012-01-01_to_2020-04-22.csv'\n",
        "arquivo = pd.read_csv( caminho_drive + nm_arquivo )"
      ],
      "execution_count": 0,
      "outputs": []
    },
    {
      "cell_type": "code",
      "metadata": {
        "id": "_uwJTMqXxaVq",
        "colab_type": "code",
        "colab": {
          "base_uri": "https://localhost:8080/",
          "height": 317
        },
        "outputId": "423271c1-3f88-4ad5-bac8-35da4f9c7776"
      },
      "source": [
        "arquivo.describe()"
      ],
      "execution_count": 4,
      "outputs": [
        {
          "output_type": "execute_result",
          "data": {
            "text/html": [
              "<div>\n",
              "<style scoped>\n",
              "    .dataframe tbody tr th:only-of-type {\n",
              "        vertical-align: middle;\n",
              "    }\n",
              "\n",
              "    .dataframe tbody tr th {\n",
              "        vertical-align: top;\n",
              "    }\n",
              "\n",
              "    .dataframe thead th {\n",
              "        text-align: right;\n",
              "    }\n",
              "</style>\n",
              "<table border=\"1\" class=\"dataframe\">\n",
              "  <thead>\n",
              "    <tr style=\"text-align: right;\">\n",
              "      <th></th>\n",
              "      <th>Timestamp</th>\n",
              "      <th>Open</th>\n",
              "      <th>High</th>\n",
              "      <th>Low</th>\n",
              "      <th>Close</th>\n",
              "      <th>Volume_(BTC)</th>\n",
              "      <th>Volume_(Currency)</th>\n",
              "      <th>Weighted_Price</th>\n",
              "    </tr>\n",
              "  </thead>\n",
              "  <tbody>\n",
              "    <tr>\n",
              "      <th>count</th>\n",
              "      <td>4.363457e+06</td>\n",
              "      <td>3.126480e+06</td>\n",
              "      <td>3.126480e+06</td>\n",
              "      <td>3.126480e+06</td>\n",
              "      <td>3.126480e+06</td>\n",
              "      <td>3.126480e+06</td>\n",
              "      <td>3.126480e+06</td>\n",
              "      <td>3.126480e+06</td>\n",
              "    </tr>\n",
              "    <tr>\n",
              "      <th>mean</th>\n",
              "      <td>1.456469e+09</td>\n",
              "      <td>3.674656e+03</td>\n",
              "      <td>3.677366e+03</td>\n",
              "      <td>3.671730e+03</td>\n",
              "      <td>3.674595e+03</td>\n",
              "      <td>9.855040e+00</td>\n",
              "      <td>2.884459e+04</td>\n",
              "      <td>3.674570e+03</td>\n",
              "    </tr>\n",
              "    <tr>\n",
              "      <th>std</th>\n",
              "      <td>7.573296e+07</td>\n",
              "      <td>3.935578e+03</td>\n",
              "      <td>3.939077e+03</td>\n",
              "      <td>3.931713e+03</td>\n",
              "      <td>3.935490e+03</td>\n",
              "      <td>3.229272e+01</td>\n",
              "      <td>1.010277e+05</td>\n",
              "      <td>3.935458e+03</td>\n",
              "    </tr>\n",
              "    <tr>\n",
              "      <th>min</th>\n",
              "      <td>1.325318e+09</td>\n",
              "      <td>3.800000e+00</td>\n",
              "      <td>3.800000e+00</td>\n",
              "      <td>1.500000e+00</td>\n",
              "      <td>1.500000e+00</td>\n",
              "      <td>0.000000e+00</td>\n",
              "      <td>0.000000e+00</td>\n",
              "      <td>3.800000e+00</td>\n",
              "    </tr>\n",
              "    <tr>\n",
              "      <th>25%</th>\n",
              "      <td>1.390770e+09</td>\n",
              "      <td>4.100000e+02</td>\n",
              "      <td>4.102400e+02</td>\n",
              "      <td>4.098300e+02</td>\n",
              "      <td>4.100000e+02</td>\n",
              "      <td>3.988120e-01</td>\n",
              "      <td>3.503759e+02</td>\n",
              "      <td>4.099998e+02</td>\n",
              "    </tr>\n",
              "    <tr>\n",
              "      <th>50%</th>\n",
              "      <td>1.456610e+09</td>\n",
              "      <td>1.175140e+03</td>\n",
              "      <td>1.175770e+03</td>\n",
              "      <td>1.174825e+03</td>\n",
              "      <td>1.175140e+03</td>\n",
              "      <td>1.990000e+00</td>\n",
              "      <td>2.620491e+03</td>\n",
              "      <td>1.175200e+03</td>\n",
              "    </tr>\n",
              "    <tr>\n",
              "      <th>75%</th>\n",
              "      <td>1.522062e+09</td>\n",
              "      <td>6.931175e+03</td>\n",
              "      <td>6.935780e+03</td>\n",
              "      <td>6.926790e+03</td>\n",
              "      <td>6.931225e+03</td>\n",
              "      <td>7.639098e+00</td>\n",
              "      <td>1.760057e+04</td>\n",
              "      <td>6.931180e+03</td>\n",
              "    </tr>\n",
              "    <tr>\n",
              "      <th>max</th>\n",
              "      <td>1.587514e+09</td>\n",
              "      <td>1.966576e+04</td>\n",
              "      <td>1.966600e+04</td>\n",
              "      <td>1.964996e+04</td>\n",
              "      <td>1.966575e+04</td>\n",
              "      <td>5.853852e+03</td>\n",
              "      <td>7.569437e+06</td>\n",
              "      <td>1.966330e+04</td>\n",
              "    </tr>\n",
              "  </tbody>\n",
              "</table>\n",
              "</div>"
            ],
            "text/plain": [
              "          Timestamp          Open  ...  Volume_(Currency)  Weighted_Price\n",
              "count  4.363457e+06  3.126480e+06  ...       3.126480e+06    3.126480e+06\n",
              "mean   1.456469e+09  3.674656e+03  ...       2.884459e+04    3.674570e+03\n",
              "std    7.573296e+07  3.935578e+03  ...       1.010277e+05    3.935458e+03\n",
              "min    1.325318e+09  3.800000e+00  ...       0.000000e+00    3.800000e+00\n",
              "25%    1.390770e+09  4.100000e+02  ...       3.503759e+02    4.099998e+02\n",
              "50%    1.456610e+09  1.175140e+03  ...       2.620491e+03    1.175200e+03\n",
              "75%    1.522062e+09  6.931175e+03  ...       1.760057e+04    6.931180e+03\n",
              "max    1.587514e+09  1.966576e+04  ...       7.569437e+06    1.966330e+04\n",
              "\n",
              "[8 rows x 8 columns]"
            ]
          },
          "metadata": {
            "tags": []
          },
          "execution_count": 4
        }
      ]
    },
    {
      "cell_type": "code",
      "metadata": {
        "id": "BqHca5tky_IE",
        "colab_type": "code",
        "colab": {
          "base_uri": "https://localhost:8080/",
          "height": 204
        },
        "outputId": "f67e9dc7-9d5b-4847-964e-0f4ba04df178"
      },
      "source": [
        "arquivo.head()"
      ],
      "execution_count": 5,
      "outputs": [
        {
          "output_type": "execute_result",
          "data": {
            "text/html": [
              "<div>\n",
              "<style scoped>\n",
              "    .dataframe tbody tr th:only-of-type {\n",
              "        vertical-align: middle;\n",
              "    }\n",
              "\n",
              "    .dataframe tbody tr th {\n",
              "        vertical-align: top;\n",
              "    }\n",
              "\n",
              "    .dataframe thead th {\n",
              "        text-align: right;\n",
              "    }\n",
              "</style>\n",
              "<table border=\"1\" class=\"dataframe\">\n",
              "  <thead>\n",
              "    <tr style=\"text-align: right;\">\n",
              "      <th></th>\n",
              "      <th>Timestamp</th>\n",
              "      <th>Open</th>\n",
              "      <th>High</th>\n",
              "      <th>Low</th>\n",
              "      <th>Close</th>\n",
              "      <th>Volume_(BTC)</th>\n",
              "      <th>Volume_(Currency)</th>\n",
              "      <th>Weighted_Price</th>\n",
              "    </tr>\n",
              "  </thead>\n",
              "  <tbody>\n",
              "    <tr>\n",
              "      <th>0</th>\n",
              "      <td>1325317920</td>\n",
              "      <td>4.39</td>\n",
              "      <td>4.39</td>\n",
              "      <td>4.39</td>\n",
              "      <td>4.39</td>\n",
              "      <td>0.455581</td>\n",
              "      <td>2.0</td>\n",
              "      <td>4.39</td>\n",
              "    </tr>\n",
              "    <tr>\n",
              "      <th>1</th>\n",
              "      <td>1325317980</td>\n",
              "      <td>NaN</td>\n",
              "      <td>NaN</td>\n",
              "      <td>NaN</td>\n",
              "      <td>NaN</td>\n",
              "      <td>NaN</td>\n",
              "      <td>NaN</td>\n",
              "      <td>NaN</td>\n",
              "    </tr>\n",
              "    <tr>\n",
              "      <th>2</th>\n",
              "      <td>1325318040</td>\n",
              "      <td>NaN</td>\n",
              "      <td>NaN</td>\n",
              "      <td>NaN</td>\n",
              "      <td>NaN</td>\n",
              "      <td>NaN</td>\n",
              "      <td>NaN</td>\n",
              "      <td>NaN</td>\n",
              "    </tr>\n",
              "    <tr>\n",
              "      <th>3</th>\n",
              "      <td>1325318100</td>\n",
              "      <td>NaN</td>\n",
              "      <td>NaN</td>\n",
              "      <td>NaN</td>\n",
              "      <td>NaN</td>\n",
              "      <td>NaN</td>\n",
              "      <td>NaN</td>\n",
              "      <td>NaN</td>\n",
              "    </tr>\n",
              "    <tr>\n",
              "      <th>4</th>\n",
              "      <td>1325318160</td>\n",
              "      <td>NaN</td>\n",
              "      <td>NaN</td>\n",
              "      <td>NaN</td>\n",
              "      <td>NaN</td>\n",
              "      <td>NaN</td>\n",
              "      <td>NaN</td>\n",
              "      <td>NaN</td>\n",
              "    </tr>\n",
              "  </tbody>\n",
              "</table>\n",
              "</div>"
            ],
            "text/plain": [
              "    Timestamp  Open  High  ...  Volume_(BTC)  Volume_(Currency)  Weighted_Price\n",
              "0  1325317920  4.39  4.39  ...      0.455581                2.0            4.39\n",
              "1  1325317980   NaN   NaN  ...           NaN                NaN             NaN\n",
              "2  1325318040   NaN   NaN  ...           NaN                NaN             NaN\n",
              "3  1325318100   NaN   NaN  ...           NaN                NaN             NaN\n",
              "4  1325318160   NaN   NaN  ...           NaN                NaN             NaN\n",
              "\n",
              "[5 rows x 8 columns]"
            ]
          },
          "metadata": {
            "tags": []
          },
          "execution_count": 5
        }
      ]
    },
    {
      "cell_type": "code",
      "metadata": {
        "id": "bBG6tFUHvVNZ",
        "colab_type": "code",
        "colab": {
          "base_uri": "https://localhost:8080/",
          "height": 367
        },
        "outputId": "e06bc068-39bf-4655-f714-532b62a9ed97"
      },
      "source": [
        "x_plot = pd.to_datetime(arquivo['Timestamp'], unit='s')\n",
        "\n",
        "plt.figure( figsize=(20, 8) )\n",
        "plt.plot( x_plot, arquivo['Weighted_Price'] )"
      ],
      "execution_count": 6,
      "outputs": [
        {
          "output_type": "execute_result",
          "data": {
            "text/plain": [
              "[<matplotlib.lines.Line2D at 0x7fe0e74a0fd0>]"
            ]
          },
          "metadata": {
            "tags": []
          },
          "execution_count": 6
        },
        {
          "output_type": "display_data",
          "data": {
            "image/png": "[encoded data removed]",
            "text/plain": [
              "<Figure size 1440x576 with 1 Axes>"
            ]
          },
          "metadata": {
            "tags": [],
            "needs_background": "light"
          }
        }
      ]
    },
    {
      "cell_type": "markdown",
      "metadata": {
        "id": "d3HcBcYjvq7D",
        "colab_type": "text"
      },
      "source": [
        "Primeira coisa que podemos perceber é que antes de 2017 temos muitos valores NaN, que significa que não tinhamos muitas transações da moeda. Vamos então filtrar esses dados com intuito de trabalharmos com os dados mais voláteis."
      ]
    },
    {
      "cell_type": "code",
      "metadata": {
        "id": "SeTjWTMhwI_W",
        "colab_type": "code",
        "colab": {}
      },
      "source": [
        "dt = datetime(2019, 1, 1)\n",
        "timestamp = dt.replace(tzinfo=timezone.utc).timestamp()\n",
        "\n",
        "arquivo_maior_2017 = arquivo[ arquivo['Timestamp'] >= timestamp ]"
      ],
      "execution_count": 0,
      "outputs": []
    },
    {
      "cell_type": "code",
      "metadata": {
        "id": "EaTXUSoTwyvO",
        "colab_type": "code",
        "colab": {
          "base_uri": "https://localhost:8080/",
          "height": 368
        },
        "outputId": "31a609f0-d4f1-4e69-de12-473ebf43323f"
      },
      "source": [
        "x_plot = pd.to_datetime(arquivo_maior_2017['Timestamp'], unit='s')\n",
        "\n",
        "plt.figure( figsize=(20, 8) )\n",
        "plt.plot( x_plot, arquivo_maior_2017['Weighted_Price'] )"
      ],
      "execution_count": 8,
      "outputs": [
        {
          "output_type": "execute_result",
          "data": {
            "text/plain": [
              "[<matplotlib.lines.Line2D at 0x7fe0e73b8908>]"
            ]
          },
          "metadata": {
            "tags": []
          },
          "execution_count": 8
        },
        {
          "output_type": "display_data",
          "data": {
            "image/png": "[encoded data removed]",
            "text/plain": [
              "<Figure size 1440x576 with 1 Axes>"
            ]
          },
          "metadata": {
            "tags": [],
            "needs_background": "light"
          }
        }
      ]
    },
    {
      "cell_type": "code",
      "metadata": {
        "id": "QJc9U5-4xHBf",
        "colab_type": "code",
        "colab": {
          "base_uri": "https://localhost:8080/",
          "height": 170
        },
        "outputId": "52709efe-5dbe-4738-bd27-b9a3367e5dc6"
      },
      "source": [
        "arquivo_maior_2017.isna().sum()"
      ],
      "execution_count": 9,
      "outputs": [
        {
          "output_type": "execute_result",
          "data": {
            "text/plain": [
              "Timestamp                0\n",
              "Open                 18910\n",
              "High                 18910\n",
              "Low                  18910\n",
              "Close                18910\n",
              "Volume_(BTC)         18910\n",
              "Volume_(Currency)    18910\n",
              "Weighted_Price       18910\n",
              "dtype: int64"
            ]
          },
          "metadata": {
            "tags": []
          },
          "execution_count": 9
        }
      ]
    },
    {
      "cell_type": "markdown",
      "metadata": {
        "id": "FLE0AjH2y2N0",
        "colab_type": "text"
      },
      "source": [
        "Mesmo tirando o ano de 2017, ainda temos muitos casos NaN. Uma linha de Nan significa que não teve nenhuma transação na janela de tempo indicada, ou seja, o valor continuou igual, logo, uma ideia para preencher os valores vazios é de preencher todos os valores com o Close da última linha.\n"
      ]
    },
    {
      "cell_type": "code",
      "metadata": {
        "id": "T_GIa8i14SI9",
        "colab_type": "code",
        "colab": {
          "base_uri": "https://localhost:8080/",
          "height": 136
        },
        "outputId": "9b1d1f41-d65f-4952-cc4c-6c730a98074b"
      },
      "source": [
        "arquivo_maior_2017.sort_values( by=['Timestamp'] ) #garantido a seqência dos valores\n",
        "arquivo_na = arquivo_maior_2017.copy()\n",
        "\n",
        "for i in range( arquivo_maior_2017.shape[0] ):\n",
        "    if (i % 100000 == 0):\n",
        "        print( '{}/{} dados processados'.format( i, arquivo_maior_2017.shape[0] ) )\n",
        "    if pd.isna( arquivo_maior_2017.iloc[i][1] ):\n",
        "        valor_close = arquivo_na.iloc[i - 1][4]\n",
        "        arquivo_na.iloc[i] = [ arquivo_na.iloc[i][0] , valor_close , valor_close , valor_close , valor_close , 0 , 0 , valor_close ]"
      ],
      "execution_count": 10,
      "outputs": [
        {
          "output_type": "stream",
          "text": [
            "0/686881 dados processados\n",
            "100000/686881 dados processados\n",
            "200000/686881 dados processados\n",
            "300000/686881 dados processados\n",
            "400000/686881 dados processados\n",
            "500000/686881 dados processados\n",
            "600000/686881 dados processados\n"
          ],
          "name": "stdout"
        }
      ]
    },
    {
      "cell_type": "code",
      "metadata": {
        "id": "9_8ThuHF-qLd",
        "colab_type": "code",
        "colab": {
          "base_uri": "https://localhost:8080/",
          "height": 170
        },
        "outputId": "d517ff15-c986-4cec-8fa6-7dd5b594cd1a"
      },
      "source": [
        "arquivo_na.isna().sum()"
      ],
      "execution_count": 11,
      "outputs": [
        {
          "output_type": "execute_result",
          "data": {
            "text/plain": [
              "Timestamp            0\n",
              "Open                 0\n",
              "High                 0\n",
              "Low                  0\n",
              "Close                0\n",
              "Volume_(BTC)         0\n",
              "Volume_(Currency)    0\n",
              "Weighted_Price       0\n",
              "dtype: int64"
            ]
          },
          "metadata": {
            "tags": []
          },
          "execution_count": 11
        }
      ]
    },
    {
      "cell_type": "markdown",
      "metadata": {
        "id": "PjcbONkE_VK8",
        "colab_type": "text"
      },
      "source": [
        "Olhando a página do dataset o autor diz que podem ter timestamps que não existem, que no momento da janela de tempo, a API que captura os arquivos não estava funcionando. Vamos ver se é muito grande essa quantidade."
      ]
    },
    {
      "cell_type": "code",
      "metadata": {
        "id": "NN6hTLq1_pP4",
        "colab_type": "code",
        "colab": {
          "base_uri": "https://localhost:8080/",
          "height": 34
        },
        "outputId": "909b8ab8-7682-4024-f183-448f30af6459"
      },
      "source": [
        "valor_minimo = arquivo_na['Timestamp'].min()\n",
        "valor_maximo = arquivo_na['Timestamp'].max()\n",
        "\n",
        "quantidade_desejada = int( ( valor_maximo - valor_minimo ) / 60 ) + 1\n",
        "quantidade_real = arquivo_na.shape[0]\n",
        "\n",
        "diferenca = quantidade_desejada - quantidade_real\n",
        "diference_percentual = (diferenca / quantidade_desejada) * 100\n",
        "\n",
        "print('São {0} linhas não existentes em {1} linhas'.format(diferenca, quantidade_desejada))"
      ],
      "execution_count": 12,
      "outputs": [
        {
          "output_type": "stream",
          "text": [
            "São 0 linhas não existentes em 686881 linhas\n"
          ],
          "name": "stdout"
        }
      ]
    },
    {
      "cell_type": "markdown",
      "metadata": {
        "id": "kXbHn1crpblD",
        "colab_type": "text"
      },
      "source": [
        "Como podemos ver, depois de 2017 não temos casos que a API não estava funcionando, então não precisamos nos preocupar.\n",
        "\n",
        "Vamos agora decidir nossas variaveis da RNN.\n",
        "\n",
        "Como ainda temos muito dados, podemos usar um numero de time steps grande (tomando cuidado para não deixar grande demais a ponto de estourar a RAM do Colab) e vamos utilizar todos os dados do arquivo, com objetivo de tentar uma boa predição.\n",
        "\n",
        "As transações de Bitcoin são feitas com uma demora de em média 10 minutos, com isso, devemos tentar predizer valores com pelo menos 10 minutos a frente, ou seja, o nosso future_steps deve ser >= 10."
      ]
    },
    {
      "cell_type": "code",
      "metadata": {
        "id": "EY1ehXWqpY8d",
        "colab_type": "code",
        "colab": {}
      },
      "source": [
        "time_steps = 60\n",
        "nr_features = arquivo_na.shape[1] - 1 #tiramos a variável de tempo\n",
        "future_steps = 10"
      ],
      "execution_count": 0,
      "outputs": []
    },
    {
      "cell_type": "markdown",
      "metadata": {
        "id": "FvPzH-_0tlwG",
        "colab_type": "text"
      },
      "source": [
        "Agora podemos preparar os dados que vão entrar no modelo.\n",
        "\n",
        "Primeiro vamos normalizar os dados, deixando todos eles com valores entre 0 e 1."
      ]
    },
    {
      "cell_type": "code",
      "metadata": {
        "id": "Qla1jD8X2-jW",
        "colab_type": "code",
        "colab": {
          "base_uri": "https://localhost:8080/",
          "height": 238
        },
        "outputId": "25fd07f5-f42e-4c44-8ad9-687f73bf5af3"
      },
      "source": [
        "scaler = MinMaxScaler()\n",
        "\n",
        "arquivo_np = arquivo_na[  arquivo_na.columns[1:] ].to_numpy() #pega todas as colunas, menos a de data, e transforma em uma array\n",
        "\n",
        "dados_norm = scaler.fit_transform( arquivo_np )\n",
        "\n",
        "dados_norm"
      ],
      "execution_count": 14,
      "outputs": [
        {
          "output_type": "execute_result",
          "data": {
            "text/plain": [
              "array([[3.42087126e-02, 3.34795916e-02, 3.53696801e-02, ...,\n",
              "        5.69685282e-03, 2.68199026e-03, 3.44280635e-02],\n",
              "       [3.42914181e-02, 3.30932192e-02, 3.50651464e-02, ...,\n",
              "        9.85578533e-03, 4.63446166e-03, 3.40117334e-02],\n",
              "       [3.38170497e-02, 3.26195096e-02, 3.46816243e-02, ...,\n",
              "        1.00212655e-03, 4.70625649e-04, 3.35628422e-02],\n",
              "       ...,\n",
              "       [3.33911638e-01, 3.33336814e-01, 3.35351503e-01, ...,\n",
              "        7.35454815e-03, 6.41171710e-03, 3.34165227e-01],\n",
              "       [3.34641728e-01, 3.33102333e-01, 3.36128064e-01, ...,\n",
              "        1.26885513e-05, 1.10750117e-05, 3.34936588e-01],\n",
              "       [3.34301400e-01, 3.32686531e-01, 3.35787367e-01, ...,\n",
              "        1.49766548e-05, 1.30652920e-05, 3.34594403e-01]])"
            ]
          },
          "metadata": {
            "tags": []
          },
          "execution_count": 14
        }
      ]
    },
    {
      "cell_type": "markdown",
      "metadata": {
        "id": "ZD96AiaU3dzs",
        "colab_type": "text"
      },
      "source": [
        "Agora vamos coloca-los no formato certo para entrar no modelo, onde cada exemplo de X terá (time_steps) linhas e (nr_features) colunas."
      ]
    },
    {
      "cell_type": "code",
      "metadata": {
        "id": "_0_l58cH3ltm",
        "colab_type": "code",
        "colab": {
          "base_uri": "https://localhost:8080/",
          "height": 51
        },
        "outputId": "3d959d7a-0c27-4eb1-c78b-9cddad8da264"
      },
      "source": [
        "qnt_total = len(dados_norm)\n",
        "\n",
        "X = []\n",
        "Y = []\n",
        "\n",
        "for i in range (time_steps, qnt_total - future_steps):\n",
        "    X.append(dados_norm[i - time_steps : i])\n",
        "    Y.append(dados_norm[i : i + future_steps , -1])\n",
        "\n",
        "X_array = np.array( X )\n",
        "Y_array = np.array( Y )\n",
        "\n",
        "print('Dimensão de X = {}'.format( X_array.shape ))\n",
        "print('Dimensão de Y = {}'.format( Y_array.shape ))"
      ],
      "execution_count": 15,
      "outputs": [
        {
          "output_type": "stream",
          "text": [
            "Dimensão de X = (686811, 60, 7)\n",
            "Dimensão de Y = (686811, 10)\n"
          ],
          "name": "stdout"
        }
      ]
    },
    {
      "cell_type": "code",
      "metadata": {
        "id": "eFJQIKPl4Bqb",
        "colab_type": "code",
        "colab": {
          "base_uri": "https://localhost:8080/",
          "height": 1000
        },
        "outputId": "17aa9267-c8ea-49d9-d410-c2624468a70a"
      },
      "source": [
        "X[0]"
      ],
      "execution_count": 16,
      "outputs": [
        {
          "output_type": "execute_result",
          "data": {
            "text/plain": [
              "array([[3.42087126e-02, 3.34795916e-02, 3.53696801e-02, 3.46120456e-02,\n",
              "        5.69685282e-03, 2.68199026e-03, 3.44280635e-02],\n",
              "       [3.42914181e-02, 3.30932192e-02, 3.50651464e-02, 3.39131485e-02,\n",
              "        9.85578533e-03, 4.63446166e-03, 3.40117334e-02],\n",
              "       [3.38170497e-02, 3.26195096e-02, 3.46816243e-02, 3.35299437e-02,\n",
              "        1.00212655e-03, 4.70625649e-04, 3.35628422e-02],\n",
              "       [3.41136488e-02, 3.29156968e-02, 3.48434078e-02, 3.40747982e-02,\n",
              "        3.07767422e-04, 1.44689850e-04, 3.39367705e-02],\n",
              "       [3.40661169e-02, 3.28682309e-02, 3.50356447e-02, 3.38836712e-02,\n",
              "        1.15800524e-04, 5.44380552e-05, 3.39178831e-02],\n",
              "       [3.38807424e-02, 3.27258332e-02, 3.50413547e-02, 3.39321661e-02,\n",
              "        2.33181674e-03, 1.09590804e-03, 3.38269730e-02],\n",
              "       [3.37105782e-02, 3.25131860e-02, 3.47254011e-02, 3.35736842e-02,\n",
              "        1.61457502e-03, 7.58155333e-04, 3.35199581e-02],\n",
              "       [3.33284217e-02, 3.22198468e-02, 3.44884358e-02, 3.33540308e-02,\n",
              "        8.53818455e-04, 4.00711518e-04, 3.33311638e-02],\n",
              "       [3.33645460e-02, 3.25302737e-02, 3.43799457e-02, 3.32285146e-02,\n",
              "        4.66131957e-03, 2.18722730e-03, 3.32655441e-02],\n",
              "       [3.33673979e-02, 3.21818741e-02, 3.44874841e-02, 3.33873116e-02,\n",
              "        1.11751142e-03, 5.24360077e-04, 3.32595746e-02],\n",
              "       [3.34111272e-02, 3.31160028e-02, 3.45188892e-02, 3.43229779e-02,\n",
              "        3.71759828e-03, 1.74613863e-03, 3.36139570e-02],\n",
              "       [3.43142334e-02, 3.31160028e-02, 3.54753152e-02, 3.43229779e-02,\n",
              "        0.00000000e+00, 0.00000000e+00, 3.42362792e-02],\n",
              "       [3.43142334e-02, 3.31160028e-02, 3.54753152e-02, 3.43229779e-02,\n",
              "        0.00000000e+00, 0.00000000e+00, 3.42362792e-02],\n",
              "       [3.43142334e-02, 3.31160028e-02, 3.54753152e-02, 3.43229779e-02,\n",
              "        0.00000000e+00, 0.00000000e+00, 3.42362792e-02],\n",
              "       [3.43142334e-02, 3.31160028e-02, 3.54753152e-02, 3.43229779e-02,\n",
              "        0.00000000e+00, 0.00000000e+00, 3.42362792e-02],\n",
              "       [3.39216199e-02, 3.27258332e-02, 3.50822764e-02, 3.39321661e-02,\n",
              "        4.60427105e-04, 2.16402783e-04, 3.38449805e-02],\n",
              "       [3.39007058e-02, 3.27030496e-02, 3.48091478e-02, 3.36573617e-02,\n",
              "        1.55615189e-04, 7.31205076e-05, 3.37521740e-02],\n",
              "       [3.36487867e-02, 3.24514804e-02, 3.48091478e-02, 3.36573617e-02,\n",
              "        0.00000000e+00, 0.00000000e+00, 3.35700096e-02],\n",
              "       [3.38569765e-02, 3.26593810e-02, 3.50175630e-02, 3.38656045e-02,\n",
              "        5.18717298e-06, 2.43753265e-06, 3.37784568e-02],\n",
              "       [3.38569765e-02, 3.26593810e-02, 3.50175630e-02, 3.38656045e-02,\n",
              "        0.00000000e+00, 0.00000000e+00, 3.37784568e-02],\n",
              "       [3.37238872e-02, 3.25359697e-02, 3.48843296e-02, 3.37419900e-02,\n",
              "        9.56613648e-04, 4.49357635e-04, 3.36457190e-02],\n",
              "       [3.37333935e-02, 3.25359697e-02, 3.48938462e-02, 3.37419900e-02,\n",
              "        0.00000000e+00, 0.00000000e+00, 3.36547210e-02],\n",
              "       [3.36858616e-02, 3.24885038e-02, 3.48462628e-02, 3.36944460e-02,\n",
              "        1.10279689e-03, 5.17968499e-04, 3.36071303e-02],\n",
              "       [3.36858616e-02, 3.24885038e-02, 3.48462628e-02, 3.36944460e-02,\n",
              "        1.06616666e-04, 5.00763786e-05, 3.36071303e-02],\n",
              "       [3.36858616e-02, 3.24885038e-02, 3.48462628e-02, 3.36944460e-02,\n",
              "        0.00000000e+00, 0.00000000e+00, 3.36071303e-02],\n",
              "       [3.33493357e-02, 3.21524453e-02, 3.45093725e-02, 3.33578344e-02,\n",
              "        1.20368214e-04, 5.64810299e-05, 3.32701883e-02],\n",
              "       [3.33493357e-02, 3.24885038e-02, 3.45093725e-02, 3.36944460e-02,\n",
              "        1.68859785e-04, 7.93067099e-05, 3.35876369e-02],\n",
              "       [3.36858616e-02, 3.24885038e-02, 3.48462628e-02, 3.36944460e-02,\n",
              "        0.00000000e+00, 0.00000000e+00, 3.36071303e-02],\n",
              "       [3.37333935e-02, 3.25359697e-02, 3.48938462e-02, 3.37419900e-02,\n",
              "        1.88465348e-05, 8.85315767e-06, 3.36547210e-02],\n",
              "       [3.34881289e-02, 3.25359697e-02, 3.46483160e-02, 3.37419900e-02,\n",
              "        5.22452062e-04, 2.45251377e-04, 3.34109085e-02],\n",
              "       [3.37333935e-02, 3.25359697e-02, 3.48938462e-02, 3.37419900e-02,\n",
              "        2.42713899e-03, 1.14014827e-03, 3.36547210e-02],\n",
              "       [3.37333935e-02, 3.25359697e-02, 3.48938462e-02, 3.37419900e-02,\n",
              "        1.33963079e-02, 6.29291417e-03, 3.36547210e-02],\n",
              "       [3.37571595e-02, 3.30229697e-02, 3.49176379e-02, 3.42297917e-02,\n",
              "        4.72491104e-03, 2.22207550e-03, 3.40579590e-02],\n",
              "       [3.41973049e-02, 3.34520613e-02, 3.53582600e-02, 3.45226628e-02,\n",
              "        5.60629655e-03, 2.63935638e-03, 3.44278776e-02],\n",
              "       [3.45138674e-02, 3.34511120e-02, 3.54382001e-02, 3.46586387e-02,\n",
              "        5.87659329e-04, 2.76591261e-04, 3.43394513e-02],\n",
              "       [3.45880172e-02, 3.33903557e-02, 3.55343186e-02, 3.43819325e-02,\n",
              "        2.62918051e-03, 1.23791561e-03, 3.44673110e-02],\n",
              "       [3.43731730e-02, 3.32973225e-02, 3.53021117e-02, 3.45045961e-02,\n",
              "        4.34183433e-03, 2.04272897e-03, 3.41974659e-02],\n",
              "       [3.44958053e-02, 3.32973225e-02, 3.56570837e-02, 3.45045961e-02,\n",
              "        0.00000000e+00, 0.00000000e+00, 3.44180756e-02],\n",
              "       [3.43427526e-02, 3.31444824e-02, 3.55038652e-02, 3.43515043e-02,\n",
              "        2.05357170e-04, 9.66341347e-05, 3.42648336e-02],\n",
              "       [3.44958053e-02, 3.32973225e-02, 3.56570837e-02, 3.45045961e-02,\n",
              "        4.76348469e-05, 2.24251132e-05, 3.44180756e-02],\n",
              "       [3.44958053e-02, 3.32973225e-02, 3.56570837e-02, 3.45045961e-02,\n",
              "        0.00000000e+00, 0.00000000e+00, 3.44180756e-02],\n",
              "       [3.44958053e-02, 3.32973225e-02, 3.56570837e-02, 3.45045961e-02,\n",
              "        0.00000000e+00, 0.00000000e+00, 3.44180756e-02],\n",
              "       [3.41735390e-02, 3.34226325e-02, 3.53344684e-02, 3.46301123e-02,\n",
              "        5.60103738e-04, 2.63587244e-04, 3.42933632e-02],\n",
              "       [3.44939040e-02, 3.32954239e-02, 3.56551804e-02, 3.45026943e-02,\n",
              "        3.17475735e-05, 1.49457619e-05, 3.44161719e-02],\n",
              "       [3.44939040e-02, 3.32954239e-02, 3.56551804e-02, 3.45026943e-02,\n",
              "        0.00000000e+00, 0.00000000e+00, 3.44161719e-02],\n",
              "       [3.44939040e-02, 3.32954239e-02, 3.56075970e-02, 3.44551503e-02,\n",
              "        1.26586218e-03, 5.95923159e-04, 3.44131878e-02],\n",
              "       [3.44463721e-02, 3.32479580e-02, 3.56075970e-02, 3.44551503e-02,\n",
              "        2.68363270e-05, 1.26319923e-05, 3.43685813e-02],\n",
              "       [3.44463721e-02, 3.32479580e-02, 3.56075970e-02, 3.44551503e-02,\n",
              "        0.00000000e+00, 0.00000000e+00, 3.43685813e-02],\n",
              "       [3.46773772e-02, 3.35944590e-02, 3.58131572e-02, 3.48022216e-02,\n",
              "        1.82261916e-03, 8.58528109e-04, 3.46196488e-02],\n",
              "       [3.48665542e-02, 3.37824240e-02, 3.57617671e-02, 3.46091929e-02,\n",
              "        1.34741382e-03, 6.35181961e-04, 3.48942290e-02],\n",
              "       [3.49692231e-02, 3.39029873e-02, 3.58150605e-02, 3.51112578e-02,\n",
              "        4.30770741e-04, 2.03065619e-04, 3.48885847e-02],\n",
              "       [3.51023124e-02, 3.39029873e-02, 3.62642477e-02, 3.51112578e-02,\n",
              "        0.00000000e+00, 0.00000000e+00, 3.50253327e-02],\n",
              "       [3.49207405e-02, 3.38479269e-02, 3.58321905e-02, 3.50561067e-02,\n",
              "        1.46615940e-03, 6.91044792e-04, 3.48356975e-02],\n",
              "       [3.50471754e-02, 3.38479269e-02, 3.62090509e-02, 3.50561067e-02,\n",
              "        0.00000000e+00, 0.00000000e+00, 3.49701275e-02],\n",
              "       [3.50471754e-02, 3.38479269e-02, 3.62090509e-02, 3.50561067e-02,\n",
              "        0.00000000e+00, 0.00000000e+00, 3.49701275e-02],\n",
              "       [3.47277610e-02, 3.35289561e-02, 3.57684288e-02, 3.46158491e-02,\n",
              "        4.65533734e-03, 2.19296009e-03, 3.46366602e-02],\n",
              "       [3.46070300e-02, 3.35042738e-02, 3.57684288e-02, 3.47118880e-02,\n",
              "        1.57081406e-04, 7.39925252e-05, 3.46232815e-02],\n",
              "       [3.45804121e-02, 3.34359229e-02, 3.55857086e-02, 3.44332801e-02,\n",
              "        1.30546673e-03, 6.14794611e-04, 3.45431750e-02],\n",
              "       [3.43379994e-02, 3.31397358e-02, 3.52278816e-02, 3.41014228e-02,\n",
              "        1.39220149e-02, 6.54662429e-03, 3.40176136e-02],\n",
              "       [3.40613637e-02, 3.30087299e-02, 3.52221716e-02, 3.42155284e-02,\n",
              "        2.15269698e-03, 1.01239222e-03, 3.40585430e-02]])"
            ]
          },
          "metadata": {
            "tags": []
          },
          "execution_count": 16
        }
      ]
    },
    {
      "cell_type": "code",
      "metadata": {
        "id": "ABkgn4XV4Gx5",
        "colab_type": "code",
        "colab": {
          "base_uri": "https://localhost:8080/",
          "height": 51
        },
        "outputId": "402a61a6-082b-4b9c-8f8d-794ab0a7b57a"
      },
      "source": [
        "Y[0]"
      ],
      "execution_count": 17,
      "outputs": [
        {
          "output_type": "execute_result",
          "data": {
            "text/plain": [
              "array([0.0341249 , 0.03419887, 0.03395274, 0.03390981, 0.03390981,\n",
              "       0.03392899, 0.03402929, 0.03393551, 0.03365475, 0.03376605])"
            ]
          },
          "metadata": {
            "tags": []
          },
          "execution_count": 17
        }
      ]
    },
    {
      "cell_type": "markdown",
      "metadata": {
        "id": "-kOgUu0-1GNk",
        "colab_type": "text"
      },
      "source": [
        "Agora vamos dividir os dados em treino, validação e teste."
      ]
    },
    {
      "cell_type": "code",
      "metadata": {
        "id": "WJUQKanizTdP",
        "colab_type": "code",
        "colab": {
          "base_uri": "https://localhost:8080/",
          "height": 85
        },
        "outputId": "bddcdbf1-e78c-476f-8f29-2f2fedaee21f"
      },
      "source": [
        "porc_treino = 0.7\n",
        "porc_validacao = 0.15\n",
        "porc_teste = 0.15\n",
        "\n",
        "qnt_treino = int( qnt_total * porc_treino )\n",
        "qnt_validacao = int( qnt_total * porc_validacao )\n",
        "qnt_teste = int( qnt_total * porc_teste )\n",
        "\n",
        "X_treino = X_array[ : qnt_treino ]\n",
        "X_validacao = X_array[ qnt_treino : qnt_treino + qnt_validacao ]\n",
        "X_teste = X_array[ qnt_treino + qnt_validacao : ]\n",
        "\n",
        "Y_treino = Y_array[ : qnt_treino ]\n",
        "Y_validacao = Y_array[ qnt_treino : qnt_treino + qnt_validacao ]\n",
        "Y_teste = Y_array[ qnt_treino + qnt_validacao : ]\n",
        "\n",
        "print('{} dados no total'.format( qnt_total ))\n",
        "print('{} dados para o treino'.format( X_treino.shape[0] ))\n",
        "print('{} dados para a validação'.format( X_validacao.shape[0] ))\n",
        "print('{} dados para o teste'.format( X_teste.shape[0] ))"
      ],
      "execution_count": 18,
      "outputs": [
        {
          "output_type": "stream",
          "text": [
            "686881 dados no total\n",
            "480816 dados para o treino\n",
            "103032 dados para a validação\n",
            "102963 dados para o teste\n"
          ],
          "name": "stdout"
        }
      ]
    },
    {
      "cell_type": "markdown",
      "metadata": {
        "id": "IJPaG0vy50fZ",
        "colab_type": "text"
      },
      "source": [
        "Podemos agora ir para o nosso modelo."
      ]
    },
    {
      "cell_type": "code",
      "metadata": {
        "id": "ex7uMbp3Bpme",
        "colab_type": "code",
        "colab": {}
      },
      "source": [
        "model = Sequential()\n",
        "\n",
        "model.add( LSTM(units=30, input_shape=(time_steps, nr_features)) )\n",
        "#model.add( LSTM(units=30, input_shape=(time_steps, nr_features), return_sequences=True) )\n",
        "\n",
        "#model.add( LSTM(units=20, return_sequences=True) )\n",
        "\n",
        "#model.add( LSTM(units=10) )\n",
        "\n",
        "model.add( Dense(units=future_steps) )\n",
        "\n",
        "model.compile(optimizer='adam', loss='mean_squared_error', metrics=['accuracy'])"
      ],
      "execution_count": 0,
      "outputs": []
    },
    {
      "cell_type": "markdown",
      "metadata": {
        "id": "xGiolV_66l37",
        "colab_type": "text"
      },
      "source": [
        "Com os dados preparados e o modelo criado, podemos agora começar o treino. Vamos utilizar 100 epocas para ver sua performance e tirar ideias disso."
      ]
    },
    {
      "cell_type": "code",
      "metadata": {
        "id": "4bZatZhR6kYz",
        "colab_type": "code",
        "colab": {
          "base_uri": "https://localhost:8080/",
          "height": 1000
        },
        "outputId": "4adecf0c-9eb1-4a74-e01e-db2a6f2d885b"
      },
      "source": [
        "historico = model.fit(X_treino, Y_treino, epochs=100, batch_size=time_steps, validation_data=(X_validacao, Y_validacao), shuffle=False)"
      ],
      "execution_count": 20,
      "outputs": [
        {
          "output_type": "stream",
          "text": [
            "Epoch 1/100\n",
            "8014/8014 [==============================] - 186s 23ms/step - loss: 1.0544e-04 - accuracy: 0.0880 - mse: 1.0544e-04 - val_loss: 0.0065 - val_accuracy: 0.0861 - val_mse: 0.0065\n",
            "Epoch 2/100\n",
            "8014/8014 [==============================] - 194s 24ms/step - loss: 1.5047e-04 - accuracy: 0.0981 - mse: 1.5047e-04 - val_loss: 0.0062 - val_accuracy: 0.0857 - val_mse: 0.0062\n",
            "Epoch 3/100\n",
            "8014/8014 [==============================] - 193s 24ms/step - loss: 1.4790e-04 - accuracy: 0.0915 - mse: 1.4790e-04 - val_loss: 0.0060 - val_accuracy: 0.0852 - val_mse: 0.0060\n",
            "Epoch 4/100\n",
            "8014/8014 [==============================] - 190s 24ms/step - loss: 1.4351e-04 - accuracy: 0.0912 - mse: 1.4351e-04 - val_loss: 0.0059 - val_accuracy: 0.0851 - val_mse: 0.0059\n",
            "Epoch 5/100\n",
            "8014/8014 [==============================] - 187s 23ms/step - loss: 1.3403e-04 - accuracy: 0.0956 - mse: 1.3403e-04 - val_loss: 0.0056 - val_accuracy: 0.0851 - val_mse: 0.0056\n",
            "Epoch 6/100\n",
            "8014/8014 [==============================] - 186s 23ms/step - loss: 1.2077e-04 - accuracy: 0.0942 - mse: 1.2077e-04 - val_loss: 0.0049 - val_accuracy: 0.0857 - val_mse: 0.0049\n",
            "Epoch 7/100\n",
            "8014/8014 [==============================] - 183s 23ms/step - loss: 1.0474e-04 - accuracy: 0.0959 - mse: 1.0474e-04 - val_loss: 0.0040 - val_accuracy: 0.0876 - val_mse: 0.0040\n",
            "Epoch 8/100\n",
            "8014/8014 [==============================] - 188s 23ms/step - loss: 8.7842e-05 - accuracy: 0.1001 - mse: 8.7842e-05 - val_loss: 0.0030 - val_accuracy: 0.1333 - val_mse: 0.0030\n",
            "Epoch 9/100\n",
            "8014/8014 [==============================] - 186s 23ms/step - loss: 7.1230e-05 - accuracy: 0.1040 - mse: 7.1230e-05 - val_loss: 0.0022 - val_accuracy: 0.1351 - val_mse: 0.0022\n",
            "Epoch 10/100\n",
            "8014/8014 [==============================] - 187s 23ms/step - loss: 5.6849e-05 - accuracy: 0.1087 - mse: 5.6849e-05 - val_loss: 0.0018 - val_accuracy: 0.1269 - val_mse: 0.0018\n",
            "Epoch 11/100\n",
            "8014/8014 [==============================] - 186s 23ms/step - loss: 4.8483e-05 - accuracy: 0.1138 - mse: 4.8483e-05 - val_loss: 0.0015 - val_accuracy: 0.1175 - val_mse: 0.0015\n",
            "Epoch 12/100\n",
            "8014/8014 [==============================] - 188s 23ms/step - loss: 4.2721e-05 - accuracy: 0.1155 - mse: 4.2721e-05 - val_loss: 0.0013 - val_accuracy: 0.1152 - val_mse: 0.0013\n",
            "Epoch 13/100\n",
            "8014/8014 [==============================] - 188s 23ms/step - loss: 3.8196e-05 - accuracy: 0.1183 - mse: 3.8196e-05 - val_loss: 0.0011 - val_accuracy: 0.1102 - val_mse: 0.0011\n",
            "Epoch 14/100\n",
            "8014/8014 [==============================] - 185s 23ms/step - loss: 3.3777e-05 - accuracy: 0.1219 - mse: 3.3777e-05 - val_loss: 9.5557e-04 - val_accuracy: 0.1017 - val_mse: 9.5557e-04\n",
            "Epoch 15/100\n",
            "8014/8014 [==============================] - 190s 24ms/step - loss: 2.9515e-05 - accuracy: 0.1262 - mse: 2.9515e-05 - val_loss: 8.2936e-04 - val_accuracy: 0.1007 - val_mse: 8.2936e-04\n",
            "Epoch 16/100\n",
            "8014/8014 [==============================] - 189s 24ms/step - loss: 2.5791e-05 - accuracy: 0.1295 - mse: 2.5791e-05 - val_loss: 7.2414e-04 - val_accuracy: 0.0996 - val_mse: 7.2414e-04\n",
            "Epoch 17/100\n",
            "8014/8014 [==============================] - 188s 23ms/step - loss: 2.2777e-05 - accuracy: 0.1316 - mse: 2.2777e-05 - val_loss: 6.4493e-04 - val_accuracy: 0.1050 - val_mse: 6.4493e-04\n",
            "Epoch 18/100\n",
            "8014/8014 [==============================] - 189s 24ms/step - loss: 2.0537e-05 - accuracy: 0.1325 - mse: 2.0537e-05 - val_loss: 5.9189e-04 - val_accuracy: 0.1251 - val_mse: 5.9189e-04\n",
            "Epoch 19/100\n",
            "8014/8014 [==============================] - 187s 23ms/step - loss: 1.8941e-05 - accuracy: 0.1328 - mse: 1.8941e-05 - val_loss: 5.5826e-04 - val_accuracy: 0.1349 - val_mse: 5.5826e-04\n",
            "Epoch 20/100\n",
            "8014/8014 [==============================] - 187s 23ms/step - loss: 1.7759e-05 - accuracy: 0.1336 - mse: 1.7759e-05 - val_loss: 5.3660e-04 - val_accuracy: 0.1359 - val_mse: 5.3660e-04\n",
            "Epoch 21/100\n",
            "8014/8014 [==============================] - 190s 24ms/step - loss: 1.6834e-05 - accuracy: 0.1336 - mse: 1.6834e-05 - val_loss: 5.2248e-04 - val_accuracy: 0.1360 - val_mse: 5.2248e-04\n",
            "Epoch 22/100\n",
            "8014/8014 [==============================] - 190s 24ms/step - loss: 1.6078e-05 - accuracy: 0.1342 - mse: 1.6078e-05 - val_loss: 5.1301e-04 - val_accuracy: 0.1357 - val_mse: 5.1301e-04\n",
            "Epoch 23/100\n",
            "8014/8014 [==============================] - 186s 23ms/step - loss: 1.5444e-05 - accuracy: 0.1347 - mse: 1.5444e-05 - val_loss: 5.0643e-04 - val_accuracy: 0.1352 - val_mse: 5.0643e-04\n",
            "Epoch 24/100\n",
            "8014/8014 [==============================] - 183s 23ms/step - loss: 1.4898e-05 - accuracy: 0.1346 - mse: 1.4898e-05 - val_loss: 5.0141e-04 - val_accuracy: 0.1344 - val_mse: 5.0141e-04\n",
            "Epoch 25/100\n",
            "8014/8014 [==============================] - 184s 23ms/step - loss: 1.4421e-05 - accuracy: 0.1340 - mse: 1.4421e-05 - val_loss: 4.9706e-04 - val_accuracy: 0.1335 - val_mse: 4.9706e-04\n",
            "Epoch 26/100\n",
            "8014/8014 [==============================] - 184s 23ms/step - loss: 1.3998e-05 - accuracy: 0.1339 - mse: 1.3998e-05 - val_loss: 4.9276e-04 - val_accuracy: 0.1326 - val_mse: 4.9276e-04\n",
            "Epoch 27/100\n",
            "8014/8014 [==============================] - 184s 23ms/step - loss: 1.3618e-05 - accuracy: 0.1335 - mse: 1.3618e-05 - val_loss: 4.8805e-04 - val_accuracy: 0.1316 - val_mse: 4.8805e-04\n",
            "Epoch 28/100\n",
            "8014/8014 [==============================] - 185s 23ms/step - loss: 1.3271e-05 - accuracy: 0.1329 - mse: 1.3271e-05 - val_loss: 4.8254e-04 - val_accuracy: 0.1301 - val_mse: 4.8254e-04\n",
            "Epoch 29/100\n",
            "8014/8014 [==============================] - 184s 23ms/step - loss: 1.2951e-05 - accuracy: 0.1325 - mse: 1.2951e-05 - val_loss: 4.7602e-04 - val_accuracy: 0.1301 - val_mse: 4.7602e-04\n",
            "Epoch 30/100\n",
            "8014/8014 [==============================] - 185s 23ms/step - loss: 1.2654e-05 - accuracy: 0.1322 - mse: 1.2654e-05 - val_loss: 4.6840e-04 - val_accuracy: 0.1370 - val_mse: 4.6840e-04\n",
            "Epoch 31/100\n",
            "8014/8014 [==============================] - 187s 23ms/step - loss: 1.2376e-05 - accuracy: 0.1311 - mse: 1.2376e-05 - val_loss: 4.5952e-04 - val_accuracy: 0.1523 - val_mse: 4.5952e-04\n",
            "Epoch 32/100\n",
            "8014/8014 [==============================] - 187s 23ms/step - loss: 1.2113e-05 - accuracy: 0.1304 - mse: 1.2113e-05 - val_loss: 4.4936e-04 - val_accuracy: 0.1570 - val_mse: 4.4936e-04\n",
            "Epoch 33/100\n",
            "8014/8014 [==============================] - 184s 23ms/step - loss: 1.1862e-05 - accuracy: 0.1290 - mse: 1.1862e-05 - val_loss: 4.3793e-04 - val_accuracy: 0.1597 - val_mse: 4.3793e-04\n",
            "Epoch 34/100\n",
            "8014/8014 [==============================] - 187s 23ms/step - loss: 1.1619e-05 - accuracy: 0.1278 - mse: 1.1619e-05 - val_loss: 4.2533e-04 - val_accuracy: 0.1616 - val_mse: 4.2533e-04\n",
            "Epoch 35/100\n",
            "8014/8014 [==============================] - 189s 24ms/step - loss: 1.1387e-05 - accuracy: 0.1270 - mse: 1.1387e-05 - val_loss: 4.1195e-04 - val_accuracy: 0.1626 - val_mse: 4.1195e-04\n",
            "Epoch 36/100\n",
            "8014/8014 [==============================] - 189s 24ms/step - loss: 1.1167e-05 - accuracy: 0.1266 - mse: 1.1167e-05 - val_loss: 3.9811e-04 - val_accuracy: 0.1631 - val_mse: 3.9811e-04\n",
            "Epoch 37/100\n",
            "8014/8014 [==============================] - 188s 23ms/step - loss: 1.0963e-05 - accuracy: 0.1262 - mse: 1.0963e-05 - val_loss: 3.8428e-04 - val_accuracy: 0.1637 - val_mse: 3.8428e-04\n",
            "Epoch 38/100\n",
            "8014/8014 [==============================] - 188s 23ms/step - loss: 1.0776e-05 - accuracy: 0.1262 - mse: 1.0776e-05 - val_loss: 3.7101e-04 - val_accuracy: 0.1644 - val_mse: 3.7101e-04\n",
            "Epoch 39/100\n",
            "8014/8014 [==============================] - 189s 24ms/step - loss: 1.0611e-05 - accuracy: 0.1267 - mse: 1.0611e-05 - val_loss: 3.5896e-04 - val_accuracy: 0.1649 - val_mse: 3.5896e-04\n",
            "Epoch 40/100\n",
            "8014/8014 [==============================] - 197s 25ms/step - loss: 1.0474e-05 - accuracy: 0.1284 - mse: 1.0474e-05 - val_loss: 3.4905e-04 - val_accuracy: 0.1653 - val_mse: 3.4905e-04\n",
            "Epoch 41/100\n",
            "8014/8014 [==============================] - 196s 25ms/step - loss: 1.0382e-05 - accuracy: 0.1307 - mse: 1.0382e-05 - val_loss: 3.4229e-04 - val_accuracy: 0.1657 - val_mse: 3.4229e-04\n",
            "Epoch 42/100\n",
            "8014/8014 [==============================] - 195s 24ms/step - loss: 1.0371e-05 - accuracy: 0.1320 - mse: 1.0371e-05 - val_loss: 3.3836e-04 - val_accuracy: 0.1662 - val_mse: 3.3836e-04\n",
            "Epoch 43/100\n",
            "8014/8014 [==============================] - 194s 24ms/step - loss: 1.0401e-05 - accuracy: 0.1322 - mse: 1.0401e-05 - val_loss: 3.3342e-04 - val_accuracy: 0.1663 - val_mse: 3.3342e-04\n",
            "Epoch 44/100\n",
            "8014/8014 [==============================] - 196s 25ms/step - loss: 1.0292e-05 - accuracy: 0.1339 - mse: 1.0292e-05 - val_loss: 3.2912e-04 - val_accuracy: 0.1663 - val_mse: 3.2912e-04\n",
            "Epoch 45/100\n",
            "8014/8014 [==============================] - 191s 24ms/step - loss: 1.0151e-05 - accuracy: 0.1356 - mse: 1.0151e-05 - val_loss: 3.2645e-04 - val_accuracy: 0.1663 - val_mse: 3.2645e-04\n",
            "Epoch 46/100\n",
            "8014/8014 [==============================] - 185s 23ms/step - loss: 1.0020e-05 - accuracy: 0.1360 - mse: 1.0020e-05 - val_loss: 3.2503e-04 - val_accuracy: 0.1663 - val_mse: 3.2503e-04\n",
            "Epoch 47/100\n",
            "8014/8014 [==============================] - 185s 23ms/step - loss: 9.9043e-06 - accuracy: 0.1360 - mse: 9.9043e-06 - val_loss: 3.2485e-04 - val_accuracy: 0.1662 - val_mse: 3.2485e-04\n",
            "Epoch 48/100\n",
            "8014/8014 [==============================] - 187s 23ms/step - loss: 9.8062e-06 - accuracy: 0.1360 - mse: 9.8062e-06 - val_loss: 3.2580e-04 - val_accuracy: 0.1662 - val_mse: 3.2580e-04\n",
            "Epoch 49/100\n",
            "8014/8014 [==============================] - 186s 23ms/step - loss: 9.7240e-06 - accuracy: 0.1359 - mse: 9.7240e-06 - val_loss: 3.2767e-04 - val_accuracy: 0.1663 - val_mse: 3.2767e-04\n",
            "Epoch 50/100\n",
            "8014/8014 [==============================] - 186s 23ms/step - loss: 9.6551e-06 - accuracy: 0.1360 - mse: 9.6551e-06 - val_loss: 3.3029e-04 - val_accuracy: 0.1666 - val_mse: 3.3029e-04\n",
            "Epoch 51/100\n",
            "8014/8014 [==============================] - 188s 24ms/step - loss: 9.5968e-06 - accuracy: 0.1359 - mse: 9.5968e-06 - val_loss: 3.3346e-04 - val_accuracy: 0.1667 - val_mse: 3.3346e-04\n",
            "Epoch 52/100\n",
            "8014/8014 [==============================] - 187s 23ms/step - loss: 9.5465e-06 - accuracy: 0.1361 - mse: 9.5465e-06 - val_loss: 3.3700e-04 - val_accuracy: 0.1671 - val_mse: 3.3700e-04\n",
            "Epoch 53/100\n",
            "8014/8014 [==============================] - 189s 24ms/step - loss: 9.5012e-06 - accuracy: 0.1367 - mse: 9.5012e-06 - val_loss: 3.4069e-04 - val_accuracy: 0.1672 - val_mse: 3.4069e-04\n",
            "Epoch 54/100\n",
            "8014/8014 [==============================] - 188s 23ms/step - loss: 9.4598e-06 - accuracy: 0.1373 - mse: 9.4598e-06 - val_loss: 3.4431e-04 - val_accuracy: 0.1675 - val_mse: 3.4431e-04\n",
            "Epoch 55/100\n",
            "8014/8014 [==============================] - 189s 24ms/step - loss: 9.4221e-06 - accuracy: 0.1378 - mse: 9.4221e-06 - val_loss: 3.4760e-04 - val_accuracy: 0.1677 - val_mse: 3.4760e-04\n",
            "Epoch 56/100\n",
            "8014/8014 [==============================] - 189s 24ms/step - loss: 9.3850e-06 - accuracy: 0.1382 - mse: 9.3850e-06 - val_loss: 3.5032e-04 - val_accuracy: 0.1678 - val_mse: 3.5032e-04\n",
            "Epoch 57/100\n",
            "8014/8014 [==============================] - 187s 23ms/step - loss: 9.3469e-06 - accuracy: 0.1389 - mse: 9.3469e-06 - val_loss: 3.5236e-04 - val_accuracy: 0.1679 - val_mse: 3.5236e-04\n",
            "Epoch 58/100\n",
            "8014/8014 [==============================] - 188s 24ms/step - loss: 9.3085e-06 - accuracy: 0.1397 - mse: 9.3085e-06 - val_loss: 3.5354e-04 - val_accuracy: 0.1680 - val_mse: 3.5354e-04\n",
            "Epoch 59/100\n",
            "8014/8014 [==============================] - 189s 24ms/step - loss: 9.2714e-06 - accuracy: 0.1402 - mse: 9.2714e-06 - val_loss: 3.5416e-04 - val_accuracy: 0.1679 - val_mse: 3.5416e-04\n",
            "Epoch 60/100\n",
            "8014/8014 [==============================] - 188s 23ms/step - loss: 9.2380e-06 - accuracy: 0.1406 - mse: 9.2380e-06 - val_loss: 3.5455e-04 - val_accuracy: 0.1678 - val_mse: 3.5455e-04\n",
            "Epoch 61/100\n",
            "8014/8014 [==============================] - 187s 23ms/step - loss: 9.2101e-06 - accuracy: 0.1409 - mse: 9.2101e-06 - val_loss: 3.5466e-04 - val_accuracy: 0.1678 - val_mse: 3.5466e-04\n",
            "Epoch 62/100\n",
            "8014/8014 [==============================] - 185s 23ms/step - loss: 9.1873e-06 - accuracy: 0.1415 - mse: 9.1873e-06 - val_loss: 3.5466e-04 - val_accuracy: 0.1677 - val_mse: 3.5466e-04\n",
            "Epoch 63/100\n",
            "8014/8014 [==============================] - 184s 23ms/step - loss: 9.1680e-06 - accuracy: 0.1417 - mse: 9.1680e-06 - val_loss: 3.5508e-04 - val_accuracy: 0.1676 - val_mse: 3.5508e-04\n",
            "Epoch 64/100\n",
            "8014/8014 [==============================] - 185s 23ms/step - loss: 9.1515e-06 - accuracy: 0.1423 - mse: 9.1515e-06 - val_loss: 3.5607e-04 - val_accuracy: 0.1676 - val_mse: 3.5607e-04\n",
            "Epoch 65/100\n",
            "8014/8014 [==============================] - 185s 23ms/step - loss: 9.1359e-06 - accuracy: 0.1427 - mse: 9.1359e-06 - val_loss: 3.5751e-04 - val_accuracy: 0.1676 - val_mse: 3.5751e-04\n",
            "Epoch 66/100\n",
            "8014/8014 [==============================] - 184s 23ms/step - loss: 9.1193e-06 - accuracy: 0.1433 - mse: 9.1193e-06 - val_loss: 3.5933e-04 - val_accuracy: 0.1676 - val_mse: 3.5933e-04\n",
            "Epoch 67/100\n",
            "8014/8014 [==============================] - 189s 24ms/step - loss: 9.1017e-06 - accuracy: 0.1436 - mse: 9.1017e-06 - val_loss: 3.6146e-04 - val_accuracy: 0.1677 - val_mse: 3.6146e-04\n",
            "Epoch 68/100\n",
            "8014/8014 [==============================] - 186s 23ms/step - loss: 9.0826e-06 - accuracy: 0.1438 - mse: 9.0826e-06 - val_loss: 3.6383e-04 - val_accuracy: 0.1677 - val_mse: 3.6383e-04\n",
            "Epoch 69/100\n",
            "8014/8014 [==============================] - 188s 23ms/step - loss: 9.0616e-06 - accuracy: 0.1442 - mse: 9.0616e-06 - val_loss: 3.6639e-04 - val_accuracy: 0.1678 - val_mse: 3.6639e-04\n",
            "Epoch 70/100\n",
            "8014/8014 [==============================] - 190s 24ms/step - loss: 9.0397e-06 - accuracy: 0.1447 - mse: 9.0397e-06 - val_loss: 3.6904e-04 - val_accuracy: 0.1679 - val_mse: 3.6904e-04\n",
            "Epoch 71/100\n",
            "8014/8014 [==============================] - 191s 24ms/step - loss: 9.0180e-06 - accuracy: 0.1452 - mse: 9.0180e-06 - val_loss: 3.7166e-04 - val_accuracy: 0.1681 - val_mse: 3.7166e-04\n",
            "Epoch 72/100\n",
            "8014/8014 [==============================] - 188s 24ms/step - loss: 8.9975e-06 - accuracy: 0.1453 - mse: 8.9975e-06 - val_loss: 3.7418e-04 - val_accuracy: 0.1682 - val_mse: 3.7418e-04\n",
            "Epoch 73/100\n",
            "8014/8014 [==============================] - 190s 24ms/step - loss: 8.9784e-06 - accuracy: 0.1454 - mse: 8.9784e-06 - val_loss: 3.7656e-04 - val_accuracy: 0.1685 - val_mse: 3.7656e-04\n",
            "Epoch 74/100\n",
            "8014/8014 [==============================] - 190s 24ms/step - loss: 8.9613e-06 - accuracy: 0.1456 - mse: 8.9613e-06 - val_loss: 3.7878e-04 - val_accuracy: 0.1686 - val_mse: 3.7878e-04\n",
            "Epoch 75/100\n",
            "8014/8014 [==============================] - 192s 24ms/step - loss: 8.9460e-06 - accuracy: 0.1457 - mse: 8.9460e-06 - val_loss: 3.8084e-04 - val_accuracy: 0.1688 - val_mse: 3.8084e-04\n",
            "Epoch 76/100\n",
            "8014/8014 [==============================] - 188s 24ms/step - loss: 8.9321e-06 - accuracy: 0.1460 - mse: 8.9321e-06 - val_loss: 3.8273e-04 - val_accuracy: 0.1689 - val_mse: 3.8273e-04\n",
            "Epoch 77/100\n",
            "8014/8014 [==============================] - 191s 24ms/step - loss: 8.9190e-06 - accuracy: 0.1456 - mse: 8.9190e-06 - val_loss: 3.8447e-04 - val_accuracy: 0.1690 - val_mse: 3.8447e-04\n",
            "Epoch 78/100\n",
            "8014/8014 [==============================] - 191s 24ms/step - loss: 8.9060e-06 - accuracy: 0.1448 - mse: 8.9060e-06 - val_loss: 3.8608e-04 - val_accuracy: 0.1690 - val_mse: 3.8608e-04\n",
            "Epoch 79/100\n",
            "8014/8014 [==============================] - 193s 24ms/step - loss: 8.8926e-06 - accuracy: 0.1447 - mse: 8.8926e-06 - val_loss: 3.8759e-04 - val_accuracy: 0.1690 - val_mse: 3.8759e-04\n",
            "Epoch 80/100\n",
            "8014/8014 [==============================] - 193s 24ms/step - loss: 8.8785e-06 - accuracy: 0.1450 - mse: 8.8785e-06 - val_loss: 3.8903e-04 - val_accuracy: 0.1690 - val_mse: 3.8903e-04\n",
            "Epoch 81/100\n",
            "8014/8014 [==============================] - 191s 24ms/step - loss: 8.8636e-06 - accuracy: 0.1449 - mse: 8.8636e-06 - val_loss: 3.9044e-04 - val_accuracy: 0.1691 - val_mse: 3.9044e-04\n",
            "Epoch 82/100\n",
            "8014/8014 [==============================] - 191s 24ms/step - loss: 8.8481e-06 - accuracy: 0.1449 - mse: 8.8481e-06 - val_loss: 3.9183e-04 - val_accuracy: 0.1691 - val_mse: 3.9183e-04\n",
            "Epoch 83/100\n",
            "8014/8014 [==============================] - 190s 24ms/step - loss: 8.8322e-06 - accuracy: 0.1448 - mse: 8.8322e-06 - val_loss: 3.9322e-04 - val_accuracy: 0.1690 - val_mse: 3.9322e-04\n",
            "Epoch 84/100\n",
            "8014/8014 [==============================] - 190s 24ms/step - loss: 8.8161e-06 - accuracy: 0.1451 - mse: 8.8161e-06 - val_loss: 3.9461e-04 - val_accuracy: 0.1690 - val_mse: 3.9461e-04\n",
            "Epoch 85/100\n",
            "8014/8014 [==============================] - 191s 24ms/step - loss: 8.8000e-06 - accuracy: 0.1450 - mse: 8.8000e-06 - val_loss: 3.9598e-04 - val_accuracy: 0.1690 - val_mse: 3.9598e-04\n",
            "Epoch 86/100\n",
            "8014/8014 [==============================] - 192s 24ms/step - loss: 8.7839e-06 - accuracy: 0.1450 - mse: 8.7839e-06 - val_loss: 3.9733e-04 - val_accuracy: 0.1690 - val_mse: 3.9733e-04\n",
            "Epoch 87/100\n",
            "8014/8014 [==============================] - 192s 24ms/step - loss: 8.7680e-06 - accuracy: 0.1449 - mse: 8.7680e-06 - val_loss: 3.9865e-04 - val_accuracy: 0.1690 - val_mse: 3.9865e-04\n",
            "Epoch 88/100\n",
            "8014/8014 [==============================] - 190s 24ms/step - loss: 8.7523e-06 - accuracy: 0.1447 - mse: 8.7523e-06 - val_loss: 3.9995e-04 - val_accuracy: 0.1689 - val_mse: 3.9995e-04\n",
            "Epoch 89/100\n",
            "8014/8014 [==============================] - 194s 24ms/step - loss: 8.7368e-06 - accuracy: 0.1444 - mse: 8.7368e-06 - val_loss: 4.0123e-04 - val_accuracy: 0.1689 - val_mse: 4.0123e-04\n",
            "Epoch 90/100\n",
            "8014/8014 [==============================] - 194s 24ms/step - loss: 8.7215e-06 - accuracy: 0.1443 - mse: 8.7215e-06 - val_loss: 4.0247e-04 - val_accuracy: 0.1690 - val_mse: 4.0247e-04\n",
            "Epoch 91/100\n",
            "8014/8014 [==============================] - 195s 24ms/step - loss: 8.7062e-06 - accuracy: 0.1444 - mse: 8.7062e-06 - val_loss: 4.0368e-04 - val_accuracy: 0.1689 - val_mse: 4.0368e-04\n",
            "Epoch 92/100\n",
            "8014/8014 [==============================] - 193s 24ms/step - loss: 8.6910e-06 - accuracy: 0.1444 - mse: 8.6910e-06 - val_loss: 4.0483e-04 - val_accuracy: 0.1689 - val_mse: 4.0483e-04\n",
            "Epoch 93/100\n",
            "8014/8014 [==============================] - 194s 24ms/step - loss: 8.6756e-06 - accuracy: 0.1446 - mse: 8.6756e-06 - val_loss: 4.0592e-04 - val_accuracy: 0.1689 - val_mse: 4.0592e-04\n",
            "Epoch 94/100\n",
            "8014/8014 [==============================] - 194s 24ms/step - loss: 8.6599e-06 - accuracy: 0.1446 - mse: 8.6599e-06 - val_loss: 4.0692e-04 - val_accuracy: 0.1689 - val_mse: 4.0692e-04\n",
            "Epoch 95/100\n",
            "8014/8014 [==============================] - 193s 24ms/step - loss: 8.6437e-06 - accuracy: 0.1448 - mse: 8.6437e-06 - val_loss: 4.0782e-04 - val_accuracy: 0.1690 - val_mse: 4.0782e-04\n",
            "Epoch 96/100\n",
            "8014/8014 [==============================] - 193s 24ms/step - loss: 8.6268e-06 - accuracy: 0.1450 - mse: 8.6268e-06 - val_loss: 4.0859e-04 - val_accuracy: 0.1690 - val_mse: 4.0859e-04\n",
            "Epoch 97/100\n",
            "8014/8014 [==============================] - 194s 24ms/step - loss: 8.6091e-06 - accuracy: 0.1449 - mse: 8.6091e-06 - val_loss: 4.0921e-04 - val_accuracy: 0.1690 - val_mse: 4.0921e-04\n",
            "Epoch 98/100\n",
            "8014/8014 [==============================] - 194s 24ms/step - loss: 8.5904e-06 - accuracy: 0.1449 - mse: 8.5904e-06 - val_loss: 4.0966e-04 - val_accuracy: 0.1689 - val_mse: 4.0966e-04\n",
            "Epoch 99/100\n",
            "8014/8014 [==============================] - 195s 24ms/step - loss: 8.5705e-06 - accuracy: 0.1448 - mse: 8.5705e-06 - val_loss: 4.0991e-04 - val_accuracy: 0.1689 - val_mse: 4.0991e-04\n",
            "Epoch 100/100\n",
            "8014/8014 [==============================] - 192s 24ms/step - loss: 8.5494e-06 - accuracy: 0.1448 - mse: 8.5494e-06 - val_loss: 4.0996e-04 - val_accuracy: 0.1690 - val_mse: 4.0996e-04\n"
          ],
          "name": "stdout"
        }
      ]
    },
    {
      "cell_type": "code",
      "metadata": {
        "id": "FbT24diTB56H",
        "colab_type": "code",
        "colab": {
          "base_uri": "https://localhost:8080/",
          "height": 577
        },
        "outputId": "2d67745c-cc46-4986-cefd-41b41e541b81"
      },
      "source": [
        "plt.plot(historico.history['loss'], 'b', label='Treinamento')\n",
        "plt.plot(historico.history['val_loss'], 'bo', label='Validação')\n",
        "plt.title('Função de custo por época')\n",
        "plt.xlabel('Épocas')\n",
        "plt.ylabel('Custo')\n",
        "plt.legend()\n",
        "plt.show()\n",
        "\n",
        "plt.plot(historico.history['accuracy'], 'b', label='Treinamento')\n",
        "plt.plot(historico.history['val_accuracy'], 'bo', label='Validação')\n",
        "plt.title('Exatidão por época')\n",
        "plt.xlabel('Épocas')\n",
        "plt.ylabel('Exatidão')\n",
        "plt.legend()\n",
        "plt.show()"
      ],
      "execution_count": 22,
      "outputs": [
        {
          "output_type": "display_data",
          "data": {
            "image/png": "[encoded data removed]",
            "text/plain": [
              "<Figure size 432x288 with 1 Axes>"
            ]
          },
          "metadata": {
            "tags": [],
            "needs_background": "light"
          }
        },
        {
          "output_type": "display_data",
          "data": {
            "image/png": "[encoded data removed]",
            "text/plain": [
              "<Figure size 432x288 with 1 Axes>"
            ]
          },
          "metadata": {
            "tags": [],
            "needs_background": "light"
          }
        }
      ]
    }
  ]
}