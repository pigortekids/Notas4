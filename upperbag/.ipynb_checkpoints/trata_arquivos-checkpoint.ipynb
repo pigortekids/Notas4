{
 "cells": [
  {
   "cell_type": "code",
   "execution_count": 1,
   "metadata": {},
   "outputs": [],
   "source": [
    "import pandas as pd\n",
    "import numpy as np"
   ]
  },
  {
   "cell_type": "code",
   "execution_count": 2,
   "metadata": {},
   "outputs": [],
   "source": [
    "caminho_script = 'E:/Coisas/Notas4/upperbag/'\n",
    "caminho_arquivos = caminho_script + 'csvs/'\n",
    "caminho_arquivos_raw = caminho_arquivos + 'raw/'\n",
    "caminho_arquivos_tratados = caminho_arquivos + 'tratado/'\n",
    "caminho_arquivos_vazios = caminho_arquivos + 'vazio/'"
   ]
  },
  {
   "cell_type": "code",
   "execution_count": 3,
   "metadata": {},
   "outputs": [],
   "source": [
    "df_estoque = pd.read_csv( caminho_arquivos_raw + 'estoque.csv', encoding='latin-1' )\n",
    "df_estoque_new = df_estoque.copy()\n",
    "#df_estoque.head()"
   ]
  },
  {
   "cell_type": "code",
   "execution_count": 4,
   "metadata": {},
   "outputs": [],
   "source": [
    "df_estoque_new['Foto'] = df_estoque_new['Foto'].astype( 'bool', errors='ignore' )\n",
    "df_estoque_new['Preco Venda'] = df_estoque_new.apply( lambda row: str(row['Preco Venda']).replace(',', '.'), axis=1 ).astype( 'float' )\n",
    "df_estoque_new['Preço Uni.'] = df_estoque_new.apply( lambda row: str(row['Preço Uni.']).replace(',', '.'), axis=1 ).astype( 'float' )"
   ]
  },
  {
   "cell_type": "code",
   "execution_count": 5,
   "metadata": {},
   "outputs": [
    {
     "name": "stderr",
     "output_type": "stream",
     "text": [
      "C:\\Users\\Odete\\AppData\\Roaming\\Python\\Python37\\site-packages\\IPython\\core\\interactiveshell.py:3072: DtypeWarning: Columns (27,29,30,33,35,37) have mixed types.Specify dtype option on import or set low_memory=False.\n",
      "  interactivity=interactivity, compiler=compiler, result=result)\n"
     ]
    }
   ],
   "source": [
    "df_fem_sec = pd.read_csv( caminho_arquivos_raw + 'feminino_secure.csv', encoding='latin-1' )\n",
    "#df_fem_sec.head()"
   ]
  },
  {
   "cell_type": "code",
   "execution_count": 6,
   "metadata": {},
   "outputs": [],
   "source": [
    "def limpa_caracteres( df ):\n",
    "    for col in df.columns:\n",
    "        if df[col].dtype == 'object' and col not in ['id_cliente']:\n",
    "            df[col] = df[col].str.replace('Ã£', 'ã')\n",
    "            df[col] = df[col].str.replace('%C3%A1', 'á', regex=True)\n",
    "            df[col] = df[col].str.replace('%C3%A2', 'â', regex=True)\n",
    "            df[col] = df[col].str.lower().str.strip()\n",
    "            df[col] = df[col].str.normalize('NFKD').str.encode('ascii', errors='ignore').str.decode('utf-8')\n",
    "    return df"
   ]
  },
  {
   "cell_type": "code",
   "execution_count": 7,
   "metadata": {},
   "outputs": [],
   "source": [
    "def manipula_secure( df ):\n",
    "    df['Idade'] = df['Idade'].astype( 'float' ).astype( 'Int64' )\n",
    "    df['Bags enviadas'] = df['Bags enviadas'].replace('#N/D', np.nan).astype( 'float' ).astype( 'Int64' )\n",
    "    df['# por bag'] = df['# por bag'].astype( 'float' ).astype( 'Int64' )\n",
    "    df['Itens Comprados'] = df['Itens Comprados'].astype( 'float' ).astype( 'Int64' )\n",
    "    df['Valor Inicial Compra'] = df.apply( lambda row: str(row['Valor Inicial Compra']).replace(',', '.').replace('R$', '').replace(' ', ''), axis=1 )\n",
    "    df['Valor promoção'] = df.apply( lambda row: str(row['Valor promoção']).replace(',', '.').replace('R$', '').replace(' ', ''), axis=1 ).astype( 'float' )\n",
    "    df['Valor final'] = df.apply( lambda row: str(row['Valor final']).replace(',', '.').replace('R$', '').replace(' ', ''), axis=1 ).astype( 'float' )\n",
    "    df['Aposta'] = df['Aposta'].replace('x', True).fillna(False).astype( 'bool' )\n",
    "    df['Nota seleção produtos'] = df.apply( lambda row: str(row['Nota seleção produtos']).replace('Nota ', ''), axis=1 ).astype( 'float' ).astype( 'Int64' )\n",
    "    df['Total da Bag'] = df.apply( lambda row: str(row['Total da Bag']).replace('.', '').replace(',', '.').replace('R$', '').replace(' ', ''), axis=1 ).astype( 'float' )\n",
    "    df['Valor da compra'] = df.apply( lambda row: str(row['Valor da compra']).replace('.', '').replace(',', '.').replace('R$', '').replace(' ', ''), axis=1 ).astype( 'float' )\n",
    "    df['Unnamed: 31'] = df['Unnamed: 31'].astype( 'Int64' )\n",
    "    df['Tamanho'] = df['Tamanho'].replace('x', True).fillna(False).astype( 'bool' )\n",
    "    df['Unnamed: 33'] = df['Unnamed: 33'].replace('x', True).fillna(False).astype( 'bool' )\n",
    "    df['Preço '] = df['Preço '].replace('x', True).fillna(False).astype( 'bool' )\n",
    "    df['Unnamed: 35'] = df['Unnamed: 35'].replace('x', True).fillna(False).astype( 'bool' )\n",
    "    df['Estilo'] = df['Estilo'].replace('x', True).fillna(False).astype( 'bool' )\n",
    "    df['Unnamed: 37'] = df['Unnamed: 37'].replace('x', True).fillna(False).astype( 'bool' )\n",
    "    df['Nota experiência'] = df['Nota experiência'].replace(['Sem Nota', '#DIV/0!', '#N/D'], np.nan).astype( 'float' ).astype( 'Int64' )\n",
    "    df['Score'] = df['Score'].astype( 'Int64' )\n",
    "    df['Valor inicial'] = df.apply( lambda row: str(row['Valor inicial']).replace(',', '.').replace('R$', '').replace(' ', ''), axis=1 ).astype( 'float' )\n",
    "    df['MkUp'] = df.apply( lambda row: str(row['MkUp']).replace(',', '.').replace('#DIV/0!', '0'), axis=1 ).astype( 'float' )\n",
    "    df = df.rename(columns={'Nome cliente':'id_cliente',\n",
    "                            '0':'comprou',\n",
    "                            'Nota seleção produtos':'nota_stylist',\n",
    "                            'Tamanho':'problema_tamanho_pequeno',\n",
    "                            'Unnamed: 33':'problema_tamanho_grande',\n",
    "                            'Preço ':'problema_preco',\n",
    "                            'Unnamed: 35':'problema_cor',\n",
    "                            'Estilo':'problema_estilo',\n",
    "                            'Unnamed: 37':'problema_ja_tenho'})\n",
    "    df = limpa_caracteres( df )\n",
    "    return df"
   ]
  },
  {
   "cell_type": "code",
   "execution_count": 8,
   "metadata": {},
   "outputs": [],
   "source": [
    "df_fem_sec_new = manipula_secure( df_fem_sec.copy() )"
   ]
  },
  {
   "cell_type": "code",
   "execution_count": 9,
   "metadata": {},
   "outputs": [
    {
     "name": "stderr",
     "output_type": "stream",
     "text": [
      "C:\\Users\\Odete\\AppData\\Roaming\\Python\\Python37\\site-packages\\IPython\\core\\interactiveshell.py:3072: DtypeWarning: Columns (8,27,30,33,35,37) have mixed types.Specify dtype option on import or set low_memory=False.\n",
      "  interactivity=interactivity, compiler=compiler, result=result)\n"
     ]
    }
   ],
   "source": [
    "df_mas_sec = pd.read_csv( caminho_arquivos_raw + 'masculino_secure.csv', encoding='latin-1' )\n",
    "#df_mas_sec.head()"
   ]
  },
  {
   "cell_type": "code",
   "execution_count": 10,
   "metadata": {},
   "outputs": [],
   "source": [
    "df_mas_sec_new = manipula_secure( df_mas_sec.copy() )"
   ]
  },
  {
   "cell_type": "code",
   "execution_count": 11,
   "metadata": {},
   "outputs": [],
   "source": [
    "def safe_cast(val, to_type, default=None):\n",
    "    try:\n",
    "        return to_type(val)\n",
    "    except (ValueError, TypeError):\n",
    "        return default"
   ]
  },
  {
   "cell_type": "code",
   "execution_count": 12,
   "metadata": {},
   "outputs": [],
   "source": [
    "df_que_fem_sec = pd.read_csv( caminho_arquivos_raw + 'quest_fem_secure.csv', encoding='latin-1' )\n",
    "#df_que_fem_sec.head()"
   ]
  },
  {
   "cell_type": "code",
   "execution_count": 13,
   "metadata": {},
   "outputs": [],
   "source": [
    "def trata_colunas_com_traco( celula, char='-' ):\n",
    "    sep = celula.split(',')\n",
    "    celula_nova = ''\n",
    "    for value in sep:\n",
    "        acha_traco = value.find(char)\n",
    "        celula_nova += ',' + value[:acha_traco].strip()\n",
    "    return celula_nova[1:]\n",
    "\n",
    "def trata_colunas_ocasioes( celula ):\n",
    "    celula = celula.replace('x s', 'x/s')\n",
    "    celula = celula.replace('x m', 'x/m')\n",
    "    celula = celula.replace('m?s', 'mês')\n",
    "    return celula\n",
    "\n",
    "def manipula_questionario( df, sexo ):\n",
    "    df = df.rename(columns={'Nome':'id_cliente'})\n",
    "    df = limpa_caracteres( df )\n",
    "    df['Facebook'] = df['Facebook'].replace(1, True).fillna(False).astype( 'bool' )\n",
    "    df['Instagram'] = df['Instagram'].replace(1, True).fillna(False).astype( 'bool' )\n",
    "    df['Por que precisa de uma Bag'] = df.apply( lambda row: trata_colunas_com_traco(str(row['Por que precisa de uma Bag'])), axis=1)\n",
    "    df['Sua Altura'] = df.apply( lambda row: safe_cast(str(row['Sua Altura']).lower().replace('cm', '').replace('m', '').replace('.', '').replace(',', ''), int, np.nan), axis=1).astype( 'Int64' )\n",
    "    df['Seu peso'] = df.apply( lambda row: safe_cast(str(row['Seu peso']).lower().replace('kg', '').replace('.', '').replace(',', ''), int, np.nan), axis=1).astype( 'Int64' )\n",
    "    df['Qual o tamanho de suas calças/bermudas'] = df['Qual o tamanho de suas calças/bermudas'].astype( 'Int64', errors='ignore' )\n",
    "    df['Qual o tamanho de seus sapatos'] = df['Qual o tamanho de seus sapatos'].astype( 'Int64', errors='ignore' )\n",
    "    df['Qual o fator mais importante quando você compra roupas'] = df.apply( lambda row: trata_colunas_com_traco(str(row['Qual o fator mais importante quando você compra roupas'])), axis=1)\n",
    "    df['Quais categorias você gostaria de receber itens'] = df.apply( lambda row: str(row['Quais categorias você gostaria de receber itens']).replace('quest-', ''), axis=1)\n",
    "    df['Qual das combinações mais gosta'] = df.apply( lambda row: str(row['Qual das combinações mais gosta']).replace('o estilo', ''), axis=1)\n",
    "    df['Está disposto a experimentar diferentes itens selecionados pela sua Stylist'] = df.apply( lambda row: trata_colunas_com_traco(str(row['Está disposto a experimentar diferentes itens selecionados pela sua Stylist']), '.'), axis=1)\n",
    "    coluna = 'Quais categorias você gostaria de receber itens'\n",
    "    if sexo == 'feminino':\n",
    "        df['Em que frequência está em cada uma das ocasiões (casual)'] = df.apply( lambda row: trata_colunas_ocasioes(str(row['Em que frequência está em cada uma das ocasiões (casual)'])), axis=1)\n",
    "        df['Em que frequência está em cada uma das ocasiões (lazer)'] = df.apply( lambda row: trata_colunas_ocasioes(str(row['Em que frequência está em cada uma das ocasiões (lazer)'])), axis=1)\n",
    "        df['Em que frequência está em cada uma das ocasiões (sair)'] = df.apply( lambda row: trata_colunas_ocasioes(str(row['Em que frequência está em cada uma das ocasiões (sair)'])), axis=1)\n",
    "        df['Em que frequência está em cada uma das ocasiões (social)'] = df.apply( lambda row: trata_colunas_ocasioes(str(row['Em que frequência está em cada uma das ocasiões (social)'])), axis=1)\n",
    "        df['Qual é o seu tipo de corpo'] = df.apply( lambda row: str(row['Qual é o seu tipo de corpo']).replace('formato ', '').replace('formato-', ''), axis=1)\n",
    "        df['Quais partes do corpo gosta ou não se incomoda de mostrar/valorizar (decote_colo)'] = df.apply( lambda row: str(row['Quais partes do corpo gosta ou não se incomoda de mostrar/valorizar (decote_colo)']).replace('n?o', 'nao'), axis=1)\n",
    "        df['Quais partes do corpo gosta ou não se incomoda de mostrar/valorizar (pernas)'] = df.apply( lambda row: str(row['Quais partes do corpo gosta ou não se incomoda de mostrar/valorizar (pernas)']).replace('n?o', 'nao'), axis=1)\n",
    "        df['Quais partes do corpo gosta ou não se incomoda de mostrar/valorizar (braco)'] = df.apply( lambda row: str(row['Quais partes do corpo gosta ou não se incomoda de mostrar/valorizar (braco)']).replace('n?o', 'nao'), axis=1)\n",
    "        df['Quais partes do corpo gosta ou não se incomoda de mostrar/valorizar (costas)'] = df.apply( lambda row: str(row['Quais partes do corpo gosta ou não se incomoda de mostrar/valorizar (costas)']).replace('n?o', 'nao'), axis=1)\n",
    "    return df"
   ]
  },
  {
   "cell_type": "code",
   "execution_count": 14,
   "metadata": {},
   "outputs": [],
   "source": [
    "df_que_fem_sec_new = manipula_questionario( df_que_fem_sec.copy(), 'feminino' )"
   ]
  },
  {
   "cell_type": "code",
   "execution_count": 15,
   "metadata": {},
   "outputs": [
    {
     "name": "stderr",
     "output_type": "stream",
     "text": [
      "C:\\Users\\Odete\\AppData\\Roaming\\Python\\Python37\\site-packages\\IPython\\core\\interactiveshell.py:3072: DtypeWarning: Columns (8,9) have mixed types.Specify dtype option on import or set low_memory=False.\n",
      "  interactivity=interactivity, compiler=compiler, result=result)\n"
     ]
    }
   ],
   "source": [
    "df_que_mas_sec = pd.read_csv( caminho_arquivos_raw + 'quest_masc_secure.csv', encoding='latin-1' )\n",
    "#df_que_mas_sec.head()"
   ]
  },
  {
   "cell_type": "code",
   "execution_count": 16,
   "metadata": {},
   "outputs": [],
   "source": [
    "df_que_mas_sec_new = manipula_questionario( df_que_mas_sec.copy(), 'masculino' )"
   ]
  },
  {
   "cell_type": "code",
   "execution_count": 17,
   "metadata": {},
   "outputs": [],
   "source": [
    "df_situacao_estoque = pd.read_csv( caminho_arquivos_raw + 'situacao_estoque.csv', encoding='latin-1' )\n",
    "df_situacao_estoque_new = df_situacao_estoque.copy()\n",
    "#df_situacao_estoque.head()"
   ]
  },
  {
   "cell_type": "code",
   "execution_count": 18,
   "metadata": {},
   "outputs": [],
   "source": [
    "df_situacao_estoque_new['$ Preço Venda'] = df_situacao_estoque_new.apply( lambda row: str(row['$ Preço Venda']).replace('R$ ', '').replace(',', ''), axis=1).astype( 'float' )\n",
    "df_situacao_estoque_new = df_situacao_estoque_new.rename(columns={'Nome Cliente':'id_cliente'})"
   ]
  },
  {
   "cell_type": "code",
   "execution_count": 19,
   "metadata": {},
   "outputs": [],
   "source": [
    "df_estoque_new.to_csv( caminho_arquivos_tratados + 'estoque.csv', sep=',', index=False, encoding='utf-8' )\n",
    "df_fem_sec_new.to_csv( caminho_arquivos_tratados + 'feminino_secure.csv', sep=',', index=False, encoding='utf-8' )\n",
    "df_mas_sec_new.to_csv( caminho_arquivos_tratados + 'masculino_secure.csv', sep=',', index=False, encoding='utf-8' )\n",
    "df_que_fem_sec_new.to_csv( caminho_arquivos_tratados + 'quest_fem_secure.csv', sep=',', index=False, encoding='utf-8' )\n",
    "df_que_mas_sec_new.to_csv( caminho_arquivos_tratados + 'quest_masc_secure.csv', sep=',', index=False, encoding='utf-8' )\n",
    "df_situacao_estoque_new.to_csv( caminho_arquivos_tratados + 'situacao_estoque.csv', sep=',', index=False, encoding='utf-8' )"
   ]
  },
  {
   "cell_type": "code",
   "execution_count": 20,
   "metadata": {},
   "outputs": [],
   "source": [
    "df_estoque_new.truncate(after=-1).to_csv( caminho_arquivos_vazios + 'estoque.csv', sep=',', index=False, encoding='utf-8' )\n",
    "df_fem_sec_new.truncate(after=-1).to_csv( caminho_arquivos_vazios + 'feminino_secure.csv', sep=',', index=False, encoding='utf-8' )\n",
    "df_mas_sec_new.truncate(after=-1).to_csv( caminho_arquivos_vazios + 'masculino_secure.csv', sep=',', index=False, encoding='utf-8' )\n",
    "df_que_fem_sec_new.truncate(after=-1).to_csv( caminho_arquivos_vazios + 'quest_fem_secure.csv', sep=',', index=False, encoding='utf-8' )\n",
    "df_que_mas_sec_new.truncate(after=-1).to_csv( caminho_arquivos_vazios + 'quest_masc_secure.csv', sep=',', index=False, encoding='utf-8' )\n",
    "df_situacao_estoque_new.truncate(after=-1).to_csv( caminho_arquivos_vazios + 'situacao_estoque.csv', sep=',', index=False, encoding='utf-8' )"
   ]
  }
 ],
 "metadata": {
  "kernelspec": {
   "display_name": "Python 3",
   "language": "python",
   "name": "python3"
  },
  "language_info": {
   "codemirror_mode": {
    "name": "ipython",
    "version": 3
   },
   "file_extension": ".py",
   "mimetype": "text/x-python",
   "name": "python",
   "nbconvert_exporter": "python",
   "pygments_lexer": "ipython3",
   "version": "3.7.8"
  }
 },
 "nbformat": 4,
 "nbformat_minor": 4
}
