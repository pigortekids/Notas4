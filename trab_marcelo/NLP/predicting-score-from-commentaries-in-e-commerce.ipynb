{
 "cells": [
  {
   "cell_type": "markdown",
   "metadata": {
    "_cell_guid": "b1076dfc-b9ad-4769-8c92-a6c4dae69d19",
    "_uuid": "8f2839f25d086af736a60e9eeb907d3b93b6e0e5",
    "papermill": {
     "duration": 0.035335,
     "end_time": "2020-10-22T20:07:39.431996",
     "exception": false,
     "start_time": "2020-10-22T20:07:39.396661",
     "status": "completed"
    },
    "tags": []
   },
   "source": [
    "# Predicting Score from Commentaries in E-Commerce\n",
    "\n",
    "This notebook purpose is to use some machine learning techniques in a brazilian ecommerce dataset, and used the https://www.kaggle.com/marcelolafeta/olist-data-preparation as a start\n",
    "\n",
    "### Importing libraries\n",
    "\n",
    "First me will import all the libraries that will be used in this notebook."
   ]
  },
  {
   "cell_type": "code",
   "execution_count": 1,
   "metadata": {
    "_cell_guid": "79c7e3d0-c299-4dcb-8224-4455121ee9b0",
    "_uuid": "d629ff2d2480ee46fbb7e2d37f6b5fab8052498a",
    "collapsed": true,
    "execution": {
     "iopub.execute_input": "2020-10-22T20:07:39.508962Z",
     "iopub.status.busy": "2020-10-22T20:07:39.508185Z",
     "iopub.status.idle": "2020-10-22T20:08:29.008961Z",
     "shell.execute_reply": "2020-10-22T20:08:29.008265Z"
    },
    "papermill": {
     "duration": 49.544693,
     "end_time": "2020-10-22T20:08:29.009140",
     "exception": false,
     "start_time": "2020-10-22T20:07:39.464447",
     "status": "completed"
    },
    "tags": []
   },
   "outputs": [
    {
     "name": "stderr",
     "output_type": "stream",
     "text": [
      "[nltk_data] Downloading collection 'popular'\n",
      "[nltk_data]    | \n",
      "[nltk_data]    | Downloading package cmudict to\n",
      "[nltk_data]    |     C:\\Users\\Odete\\AppData\\Roaming\\nltk_data...\n",
      "[nltk_data]    |   Package cmudict is already up-to-date!\n",
      "[nltk_data]    | Downloading package gazetteers to\n",
      "[nltk_data]    |     C:\\Users\\Odete\\AppData\\Roaming\\nltk_data...\n",
      "[nltk_data]    |   Package gazetteers is already up-to-date!\n",
      "[nltk_data]    | Downloading package genesis to\n",
      "[nltk_data]    |     C:\\Users\\Odete\\AppData\\Roaming\\nltk_data...\n",
      "[nltk_data]    |   Package genesis is already up-to-date!\n",
      "[nltk_data]    | Downloading package gutenberg to\n",
      "[nltk_data]    |     C:\\Users\\Odete\\AppData\\Roaming\\nltk_data...\n",
      "[nltk_data]    |   Package gutenberg is already up-to-date!\n",
      "[nltk_data]    | Downloading package inaugural to\n",
      "[nltk_data]    |     C:\\Users\\Odete\\AppData\\Roaming\\nltk_data...\n",
      "[nltk_data]    |   Package inaugural is already up-to-date!\n",
      "[nltk_data]    | Downloading package movie_reviews to\n",
      "[nltk_data]    |     C:\\Users\\Odete\\AppData\\Roaming\\nltk_data...\n",
      "[nltk_data]    |   Package movie_reviews is already up-to-date!\n",
      "[nltk_data]    | Downloading package names to\n",
      "[nltk_data]    |     C:\\Users\\Odete\\AppData\\Roaming\\nltk_data...\n",
      "[nltk_data]    |   Package names is already up-to-date!\n",
      "[nltk_data]    | Downloading package shakespeare to\n",
      "[nltk_data]    |     C:\\Users\\Odete\\AppData\\Roaming\\nltk_data...\n",
      "[nltk_data]    |   Package shakespeare is already up-to-date!\n",
      "[nltk_data]    | Downloading package stopwords to\n",
      "[nltk_data]    |     C:\\Users\\Odete\\AppData\\Roaming\\nltk_data...\n",
      "[nltk_data]    |   Package stopwords is already up-to-date!\n",
      "[nltk_data]    | Downloading package treebank to\n",
      "[nltk_data]    |     C:\\Users\\Odete\\AppData\\Roaming\\nltk_data...\n",
      "[nltk_data]    |   Package treebank is already up-to-date!\n",
      "[nltk_data]    | Downloading package twitter_samples to\n",
      "[nltk_data]    |     C:\\Users\\Odete\\AppData\\Roaming\\nltk_data...\n",
      "[nltk_data]    |   Package twitter_samples is already up-to-date!\n",
      "[nltk_data]    | Downloading package omw to\n",
      "[nltk_data]    |     C:\\Users\\Odete\\AppData\\Roaming\\nltk_data...\n",
      "[nltk_data]    |   Package omw is already up-to-date!\n",
      "[nltk_data]    | Downloading package wordnet to\n",
      "[nltk_data]    |     C:\\Users\\Odete\\AppData\\Roaming\\nltk_data...\n",
      "[nltk_data]    |   Package wordnet is already up-to-date!\n",
      "[nltk_data]    | Downloading package wordnet_ic to\n",
      "[nltk_data]    |     C:\\Users\\Odete\\AppData\\Roaming\\nltk_data...\n",
      "[nltk_data]    |   Package wordnet_ic is already up-to-date!\n",
      "[nltk_data]    | Downloading package words to\n",
      "[nltk_data]    |     C:\\Users\\Odete\\AppData\\Roaming\\nltk_data...\n",
      "[nltk_data]    |   Package words is already up-to-date!\n",
      "[nltk_data]    | Downloading package maxent_ne_chunker to\n",
      "[nltk_data]    |     C:\\Users\\Odete\\AppData\\Roaming\\nltk_data...\n",
      "[nltk_data]    |   Package maxent_ne_chunker is already up-to-date!\n",
      "[nltk_data]    | Downloading package punkt to\n",
      "[nltk_data]    |     C:\\Users\\Odete\\AppData\\Roaming\\nltk_data...\n",
      "[nltk_data]    |   Package punkt is already up-to-date!\n",
      "[nltk_data]    | Downloading package snowball_data to\n",
      "[nltk_data]    |     C:\\Users\\Odete\\AppData\\Roaming\\nltk_data...\n",
      "[nltk_data]    |   Package snowball_data is already up-to-date!\n",
      "[nltk_data]    | Downloading package averaged_perceptron_tagger to\n",
      "[nltk_data]    |     C:\\Users\\Odete\\AppData\\Roaming\\nltk_data...\n",
      "[nltk_data]    |   Package averaged_perceptron_tagger is already up-\n",
      "[nltk_data]    |       to-date!\n",
      "[nltk_data]    | \n",
      "[nltk_data]  Done downloading collection popular\n",
      "[nltk_data] Downloading package rslp to\n",
      "[nltk_data]     C:\\Users\\Odete\\AppData\\Roaming\\nltk_data...\n",
      "[nltk_data]   Package rslp is already up-to-date!\n"
     ]
    }
   ],
   "source": [
    "# some basic libraries\n",
    "import pandas as pd\n",
    "import numpy as np\n",
    "import matplotlib.pyplot as plt\n",
    "from string import punctuation\n",
    "from scipy.sparse import hstack\n",
    "import warnings\n",
    "\n",
    "# natural language toolkit\n",
    "import nltk\n",
    "nltk.download( 'popular' )\n",
    "nltk.download( 'rslp' )\n",
    "from nltk.tokenize import word_tokenize\n",
    "from nltk.corpus import stopwords\n",
    "from nltk.stem import RSLPStemmer\n",
    "\n",
    "# machine learning libraries\n",
    "from sklearn.feature_extraction.text import CountVectorizer\n",
    "from sklearn.model_selection import train_test_split\n",
    "from keras.utils import np_utils\n",
    "from tensorflow.keras.models import Sequential\n",
    "from tensorflow.keras.layers import Dense\n",
    "from tensorflow.keras.optimizers import Adam\n",
    "from sklearn.metrics import f1_score\n",
    "from sklearn.naive_bayes import MultinomialNB\n",
    "from sklearn import svm\n",
    "from xgboost import XGBClassifier"
   ]
  },
  {
   "cell_type": "markdown",
   "metadata": {
    "papermill": {
     "duration": 0.032557,
     "end_time": "2020-10-22T20:08:29.074802",
     "exception": false,
     "start_time": "2020-10-22T20:08:29.042245",
     "status": "completed"
    },
    "tags": []
   },
   "source": [
    "### Importing reviews file\n",
    "\n",
    "We use the pandas library ti import and manipulate the reviews file."
   ]
  },
  {
   "cell_type": "code",
   "execution_count": 2,
   "metadata": {
    "execution": {
     "iopub.execute_input": "2020-10-22T20:08:29.190170Z",
     "iopub.status.busy": "2020-10-22T20:08:29.189353Z",
     "iopub.status.idle": "2020-10-22T20:08:29.739121Z",
     "shell.execute_reply": "2020-10-22T20:08:29.739688Z"
    },
    "papermill": {
     "duration": 0.631469,
     "end_time": "2020-10-22T20:08:29.739847",
     "exception": false,
     "start_time": "2020-10-22T20:08:29.108378",
     "status": "completed"
    },
    "scrolled": true,
    "tags": []
   },
   "outputs": [
    {
     "data": {
      "text/html": [
       "<div>\n",
       "<style scoped>\n",
       "    .dataframe tbody tr th:only-of-type {\n",
       "        vertical-align: middle;\n",
       "    }\n",
       "\n",
       "    .dataframe tbody tr th {\n",
       "        vertical-align: top;\n",
       "    }\n",
       "\n",
       "    .dataframe thead th {\n",
       "        text-align: right;\n",
       "    }\n",
       "</style>\n",
       "<table border=\"1\" class=\"dataframe\">\n",
       "  <thead>\n",
       "    <tr style=\"text-align: right;\">\n",
       "      <th></th>\n",
       "      <th>review_id</th>\n",
       "      <th>order_id</th>\n",
       "      <th>review_score</th>\n",
       "      <th>review_comment_title</th>\n",
       "      <th>review_comment_message</th>\n",
       "      <th>review_creation_date</th>\n",
       "      <th>review_answer_timestamp</th>\n",
       "    </tr>\n",
       "  </thead>\n",
       "  <tbody>\n",
       "    <tr>\n",
       "      <th>0</th>\n",
       "      <td>7bc2406110b926393aa56f80a40eba40</td>\n",
       "      <td>73fc7af87114b39712e6da79b0a377eb</td>\n",
       "      <td>4</td>\n",
       "      <td>NaN</td>\n",
       "      <td>NaN</td>\n",
       "      <td>2018-01-18 00:00:00</td>\n",
       "      <td>2018-01-18 21:46:59</td>\n",
       "    </tr>\n",
       "    <tr>\n",
       "      <th>1</th>\n",
       "      <td>80e641a11e56f04c1ad469d5645fdfde</td>\n",
       "      <td>a548910a1c6147796b98fdf73dbeba33</td>\n",
       "      <td>5</td>\n",
       "      <td>NaN</td>\n",
       "      <td>NaN</td>\n",
       "      <td>2018-03-10 00:00:00</td>\n",
       "      <td>2018-03-11 03:05:13</td>\n",
       "    </tr>\n",
       "    <tr>\n",
       "      <th>2</th>\n",
       "      <td>228ce5500dc1d8e020d8d1322874b6f0</td>\n",
       "      <td>f9e4b658b201a9f2ecdecbb34bed034b</td>\n",
       "      <td>5</td>\n",
       "      <td>NaN</td>\n",
       "      <td>NaN</td>\n",
       "      <td>2018-02-17 00:00:00</td>\n",
       "      <td>2018-02-18 14:36:24</td>\n",
       "    </tr>\n",
       "    <tr>\n",
       "      <th>3</th>\n",
       "      <td>e64fb393e7b32834bb789ff8bb30750e</td>\n",
       "      <td>658677c97b385a9be170737859d3511b</td>\n",
       "      <td>5</td>\n",
       "      <td>NaN</td>\n",
       "      <td>Recebi bem antes do prazo estipulado.</td>\n",
       "      <td>2017-04-21 00:00:00</td>\n",
       "      <td>2017-04-21 22:02:06</td>\n",
       "    </tr>\n",
       "    <tr>\n",
       "      <th>4</th>\n",
       "      <td>f7c4243c7fe1938f181bec41a392bdeb</td>\n",
       "      <td>8e6bfb81e283fa7e4f11123a3fb894f1</td>\n",
       "      <td>5</td>\n",
       "      <td>NaN</td>\n",
       "      <td>Parabéns lojas lannister adorei comprar pela I...</td>\n",
       "      <td>2018-03-01 00:00:00</td>\n",
       "      <td>2018-03-02 10:26:53</td>\n",
       "    </tr>\n",
       "  </tbody>\n",
       "</table>\n",
       "</div>"
      ],
      "text/plain": [
       "                          review_id                          order_id  \\\n",
       "0  7bc2406110b926393aa56f80a40eba40  73fc7af87114b39712e6da79b0a377eb   \n",
       "1  80e641a11e56f04c1ad469d5645fdfde  a548910a1c6147796b98fdf73dbeba33   \n",
       "2  228ce5500dc1d8e020d8d1322874b6f0  f9e4b658b201a9f2ecdecbb34bed034b   \n",
       "3  e64fb393e7b32834bb789ff8bb30750e  658677c97b385a9be170737859d3511b   \n",
       "4  f7c4243c7fe1938f181bec41a392bdeb  8e6bfb81e283fa7e4f11123a3fb894f1   \n",
       "\n",
       "   review_score review_comment_title  \\\n",
       "0             4                  NaN   \n",
       "1             5                  NaN   \n",
       "2             5                  NaN   \n",
       "3             5                  NaN   \n",
       "4             5                  NaN   \n",
       "\n",
       "                              review_comment_message review_creation_date  \\\n",
       "0                                                NaN  2018-01-18 00:00:00   \n",
       "1                                                NaN  2018-03-10 00:00:00   \n",
       "2                                                NaN  2018-02-17 00:00:00   \n",
       "3              Recebi bem antes do prazo estipulado.  2017-04-21 00:00:00   \n",
       "4  Parabéns lojas lannister adorei comprar pela I...  2018-03-01 00:00:00   \n",
       "\n",
       "  review_answer_timestamp  \n",
       "0     2018-01-18 21:46:59  \n",
       "1     2018-03-11 03:05:13  \n",
       "2     2018-02-18 14:36:24  \n",
       "3     2017-04-21 22:02:06  \n",
       "4     2018-03-02 10:26:53  "
      ]
     },
     "execution_count": 2,
     "metadata": {},
     "output_type": "execute_result"
    }
   ],
   "source": [
    "df_order_reviews = pd.read_csv(\"../input/brazilian-ecommerce/olist_order_reviews_dataset.csv\")\n",
    "df_order_reviews.head()"
   ]
  },
  {
   "cell_type": "markdown",
   "metadata": {
    "papermill": {
     "duration": 0.033965,
     "end_time": "2020-10-22T20:08:29.807986",
     "exception": false,
     "start_time": "2020-10-22T20:08:29.774021",
     "status": "completed"
    },
    "tags": []
   },
   "source": [
    "### Getting only the columns that will be used\n",
    "\n",
    "Some column in the file are not important in this context, so we will drop them and use only the commentaries and score columns."
   ]
  },
  {
   "cell_type": "code",
   "execution_count": 3,
   "metadata": {
    "execution": {
     "iopub.execute_input": "2020-10-22T20:08:29.893876Z",
     "iopub.status.busy": "2020-10-22T20:08:29.884048Z",
     "iopub.status.idle": "2020-10-22T20:08:29.899083Z",
     "shell.execute_reply": "2020-10-22T20:08:29.899697Z"
    },
    "papermill": {
     "duration": 0.057759,
     "end_time": "2020-10-22T20:08:29.899846",
     "exception": false,
     "start_time": "2020-10-22T20:08:29.842087",
     "status": "completed"
    },
    "scrolled": true,
    "tags": []
   },
   "outputs": [
    {
     "data": {
      "text/html": [
       "<div>\n",
       "<style scoped>\n",
       "    .dataframe tbody tr th:only-of-type {\n",
       "        vertical-align: middle;\n",
       "    }\n",
       "\n",
       "    .dataframe tbody tr th {\n",
       "        vertical-align: top;\n",
       "    }\n",
       "\n",
       "    .dataframe thead th {\n",
       "        text-align: right;\n",
       "    }\n",
       "</style>\n",
       "<table border=\"1\" class=\"dataframe\">\n",
       "  <thead>\n",
       "    <tr style=\"text-align: right;\">\n",
       "      <th></th>\n",
       "      <th>review_comment_message</th>\n",
       "      <th>review_comment_title</th>\n",
       "      <th>review_score</th>\n",
       "    </tr>\n",
       "  </thead>\n",
       "  <tbody>\n",
       "    <tr>\n",
       "      <th>0</th>\n",
       "      <td>NaN</td>\n",
       "      <td>NaN</td>\n",
       "      <td>4</td>\n",
       "    </tr>\n",
       "    <tr>\n",
       "      <th>1</th>\n",
       "      <td>NaN</td>\n",
       "      <td>NaN</td>\n",
       "      <td>5</td>\n",
       "    </tr>\n",
       "    <tr>\n",
       "      <th>2</th>\n",
       "      <td>NaN</td>\n",
       "      <td>NaN</td>\n",
       "      <td>5</td>\n",
       "    </tr>\n",
       "    <tr>\n",
       "      <th>3</th>\n",
       "      <td>Recebi bem antes do prazo estipulado.</td>\n",
       "      <td>NaN</td>\n",
       "      <td>5</td>\n",
       "    </tr>\n",
       "    <tr>\n",
       "      <th>4</th>\n",
       "      <td>Parabéns lojas lannister adorei comprar pela I...</td>\n",
       "      <td>NaN</td>\n",
       "      <td>5</td>\n",
       "    </tr>\n",
       "  </tbody>\n",
       "</table>\n",
       "</div>"
      ],
      "text/plain": [
       "                              review_comment_message review_comment_title  \\\n",
       "0                                                NaN                  NaN   \n",
       "1                                                NaN                  NaN   \n",
       "2                                                NaN                  NaN   \n",
       "3              Recebi bem antes do prazo estipulado.                  NaN   \n",
       "4  Parabéns lojas lannister adorei comprar pela I...                  NaN   \n",
       "\n",
       "   review_score  \n",
       "0             4  \n",
       "1             5  \n",
       "2             5  \n",
       "3             5  \n",
       "4             5  "
      ]
     },
     "execution_count": 3,
     "metadata": {},
     "output_type": "execute_result"
    }
   ],
   "source": [
    "important_columns = ['review_comment_message', 'review_comment_title', 'review_score']\n",
    "df_order_reviews_imptt_cols = df_order_reviews[important_columns]\n",
    "df_order_reviews_imptt_cols.head()"
   ]
  },
  {
   "cell_type": "markdown",
   "metadata": {
    "papermill": {
     "duration": 0.034579,
     "end_time": "2020-10-22T20:08:29.969447",
     "exception": false,
     "start_time": "2020-10-22T20:08:29.934868",
     "status": "completed"
    },
    "tags": []
   },
   "source": [
    "### Dropping nan lines\n",
    "\n",
    "Our machine learning will be based on the commentaries columns, so if there are no values on those, we will remove those lines."
   ]
  },
  {
   "cell_type": "code",
   "execution_count": 4,
   "metadata": {
    "execution": {
     "iopub.execute_input": "2020-10-22T20:08:30.062927Z",
     "iopub.status.busy": "2020-10-22T20:08:30.056393Z",
     "iopub.status.idle": "2020-10-22T20:08:30.069500Z",
     "shell.execute_reply": "2020-10-22T20:08:30.068655Z"
    },
    "papermill": {
     "duration": 0.0653,
     "end_time": "2020-10-22T20:08:30.069642",
     "exception": false,
     "start_time": "2020-10-22T20:08:30.004342",
     "status": "completed"
    },
    "scrolled": true,
    "tags": []
   },
   "outputs": [
    {
     "name": "stdout",
     "output_type": "stream",
     "text": [
      "Total of lines                         = 100,000\n",
      "Total of lines without comment message = 58,247\n",
      "Total of lines without comment title   = 88,285\n"
     ]
    }
   ],
   "source": [
    "print( 'Total of lines                         = {0:,.0f}'.format( df_order_reviews_imptt_cols.shape[0] ))\n",
    "print( 'Total of lines without comment message = {0:,.0f}'.format( df_order_reviews_imptt_cols['review_comment_message'].isna().sum() ))\n",
    "print( 'Total of lines without comment title   = {0:,.0f}'.format( df_order_reviews_imptt_cols['review_comment_title'].isna().sum() ))"
   ]
  },
  {
   "cell_type": "code",
   "execution_count": 5,
   "metadata": {
    "execution": {
     "iopub.execute_input": "2020-10-22T20:08:30.147544Z",
     "iopub.status.busy": "2020-10-22T20:08:30.146781Z",
     "iopub.status.idle": "2020-10-22T20:08:30.172894Z",
     "shell.execute_reply": "2020-10-22T20:08:30.172219Z"
    },
    "papermill": {
     "duration": 0.067771,
     "end_time": "2020-10-22T20:08:30.173016",
     "exception": false,
     "start_time": "2020-10-22T20:08:30.105245",
     "status": "completed"
    },
    "scrolled": true,
    "tags": []
   },
   "outputs": [
    {
     "name": "stdout",
     "output_type": "stream",
     "text": [
      "Total of lines left = 9,986\n"
     ]
    }
   ],
   "source": [
    "df_order_reviews_imptt_cols_na = df_order_reviews_imptt_cols.dropna(subset=['review_comment_message', 'review_comment_title']) # drop messages and titles nans\n",
    "print( 'Total of lines left = {0:,.0f}'.format( df_order_reviews_imptt_cols_na.shape[0] ))"
   ]
  },
  {
   "cell_type": "code",
   "execution_count": 6,
   "metadata": {
    "scrolled": true
   },
   "outputs": [],
   "source": [
    "df = df_order_reviews_imptt_cols_na.copy()"
   ]
  },
  {
   "cell_type": "markdown",
   "metadata": {
    "papermill": {
     "duration": 0.036848,
     "end_time": "2020-10-22T20:08:30.449309",
     "exception": false,
     "start_time": "2020-10-22T20:08:30.412461",
     "status": "completed"
    },
    "tags": []
   },
   "source": [
    "### Creating a dictionary for the words\n",
    "\n",
    "Computers don't understand words, only numbers, because of that, we will transform each word into a number, creating a dictionary of words so the machine learning (ML) model can understand it. Before doing that, we will pass through a lot of steps trying to remove as many words as we can, so our ML model can understand our language easier and processes the sentences faster.\n",
    "\n",
    "As we have two columns of text, we will create a dictionary for each of them, so when we use as input to the model, a word in one column will have a different impact to the same word in the other column.\n",
    "\n",
    "First we separate each word in each row from our dataset, a processes called tokenization."
   ]
  },
  {
   "cell_type": "code",
   "execution_count": 7,
   "metadata": {
    "execution": {
     "iopub.execute_input": "2020-10-22T20:08:30.532483Z",
     "iopub.status.busy": "2020-10-22T20:08:30.531702Z",
     "iopub.status.idle": "2020-10-22T20:08:35.179194Z",
     "shell.execute_reply": "2020-10-22T20:08:35.179813Z"
    },
    "papermill": {
     "duration": 4.693025,
     "end_time": "2020-10-22T20:08:35.179964",
     "exception": false,
     "start_time": "2020-10-22T20:08:30.486939",
     "status": "completed"
    },
    "scrolled": true,
    "tags": []
   },
   "outputs": [
    {
     "name": "stdout",
     "output_type": "stream",
     "text": [
      "Words examples: ['aparelho', 'eficiente', '.', 'no', 'site', 'a', 'marca', 'do', 'aparelho', 'esta', 'impresso', 'como', '3desinfector', 'e', 'ao', 'chegar', 'esta', 'com', 'outro', 'nome', '...', 'atualizar', 'com', 'a', 'marca', 'correta', 'uma', 'vez', 'que', 'é', 'o', 'mesmo', 'aparelho']\n"
     ]
    }
   ],
   "source": [
    "warnings.filterwarnings('ignore')\n",
    "\n",
    "# tokinize\n",
    "df['tok_message'] = df.apply(lambda row: word_tokenize(row['review_comment_message'], language='portuguese'), axis=1)\n",
    "df['tok_title'] = df.apply(lambda row: word_tokenize(row['review_comment_title'], language='portuguese'), axis=1)\n",
    "print( 'Words examples: {0}'.format( df.iloc[0, -2] ))"
   ]
  },
  {
   "cell_type": "markdown",
   "metadata": {},
   "source": [
    "Second we remove stopwords, this are words that don´t have much meaning in the sentence"
   ]
  },
  {
   "cell_type": "code",
   "execution_count": 8,
   "metadata": {
    "execution": {
     "iopub.execute_input": "2020-10-22T20:08:35.264399Z",
     "iopub.status.busy": "2020-10-22T20:08:35.263153Z",
     "iopub.status.idle": "2020-10-22T20:08:35.641752Z",
     "shell.execute_reply": "2020-10-22T20:08:35.640712Z"
    },
    "papermill": {
     "duration": 0.424574,
     "end_time": "2020-10-22T20:08:35.641935",
     "exception": false,
     "start_time": "2020-10-22T20:08:35.217361",
     "status": "completed"
    },
    "scrolled": true,
    "tags": []
   },
   "outputs": [
    {
     "name": "stdout",
     "output_type": "stream",
     "text": [
      "Stopword examples: ['de', 'a', 'o', 'que', 'e', 'é', 'do', 'da']\n",
      "Punctuation examples: ['!', '\"', '#', '$', '%', '&', \"'\", '(']\n",
      "Words with out stopwords examples: ['aparelho', 'eficiente', 'site', 'marca', 'aparelho', 'impresso', '3desinfector', 'chegar', 'outro', 'nome', '...', 'atualizar', 'marca', 'correta', 'vez', 'aparelho']\n"
     ]
    }
   ],
   "source": [
    "# remove stopwords\n",
    "stw = stopwords.words('portuguese')\n",
    "print( 'Stopword examples: {0}'.format( stw[:8] ))\n",
    "\n",
    "ponc = list( punctuation )\n",
    "print( 'Punctuation examples: {0}'.format( ponc[:8] ))\n",
    "\n",
    "remove_words = set( stw + ponc )\n",
    "df['tok_message_stw'] = df.apply(lambda row: [word for word in row['tok_message'] if word not in remove_words], axis=1)\n",
    "df['tok_title_stw'] = df.apply(lambda row: [word for word in row['tok_title'] if word not in remove_words], axis=1)\n",
    "print( 'Words with out stopwords examples: {0}'.format( df.iloc[0, -2] ))"
   ]
  },
  {
   "cell_type": "markdown",
   "metadata": {},
   "source": [
    "Third and last step, we will reduce each word to its word stem removing inflection and derivation, a processes called stemming."
   ]
  },
  {
   "cell_type": "code",
   "execution_count": 9,
   "metadata": {
    "execution": {
     "iopub.execute_input": "2020-10-22T20:08:35.739486Z",
     "iopub.status.busy": "2020-10-22T20:08:35.738574Z",
     "iopub.status.idle": "2020-10-22T20:08:45.299036Z",
     "shell.execute_reply": "2020-10-22T20:08:45.298291Z"
    },
    "papermill": {
     "duration": 9.609746,
     "end_time": "2020-10-22T20:08:45.299194",
     "exception": false,
     "start_time": "2020-10-22T20:08:35.689448",
     "status": "completed"
    },
    "scrolled": true,
    "tags": []
   },
   "outputs": [
    {
     "name": "stdout",
     "output_type": "stream",
     "text": [
      "Stemmer examples: ['aparelh', 'efici', 'sit', 'marc', 'aparelh', 'impress', '3desinfec', 'cheg', 'outr', 'nom', '...', 'atual', 'marc', 'corret', 'vez', 'aparelh']\n"
     ]
    }
   ],
   "source": [
    "# stemmer words\n",
    "stemmer = RSLPStemmer()\n",
    "df['stem_tok_message'] = df.apply(lambda row: [ stemmer.stem( word ) for word in row['tok_message_stw'] ], axis=1)\n",
    "df['stem_tok_title'] = df.apply(lambda row: [ stemmer.stem( word ) for word in row['tok_title_stw'] ], axis=1)\n",
    "print( 'Stemmer examples: {0}'.format( df.iloc[0, -2] ))"
   ]
  },
  {
   "cell_type": "code",
   "execution_count": 10,
   "metadata": {
    "execution": {
     "iopub.execute_input": "2020-10-22T20:08:45.409364Z",
     "iopub.status.busy": "2020-10-22T20:08:45.408370Z",
     "iopub.status.idle": "2020-10-22T20:08:45.413824Z",
     "shell.execute_reply": "2020-10-22T20:08:45.413066Z"
    },
    "papermill": {
     "duration": 0.075212,
     "end_time": "2020-10-22T20:08:45.413945",
     "exception": false,
     "start_time": "2020-10-22T20:08:45.338733",
     "status": "completed"
    },
    "tags": []
   },
   "outputs": [
    {
     "data": {
      "text/html": [
       "<div>\n",
       "<style scoped>\n",
       "    .dataframe tbody tr th:only-of-type {\n",
       "        vertical-align: middle;\n",
       "    }\n",
       "\n",
       "    .dataframe tbody tr th {\n",
       "        vertical-align: top;\n",
       "    }\n",
       "\n",
       "    .dataframe thead th {\n",
       "        text-align: right;\n",
       "    }\n",
       "</style>\n",
       "<table border=\"1\" class=\"dataframe\">\n",
       "  <thead>\n",
       "    <tr style=\"text-align: right;\">\n",
       "      <th></th>\n",
       "      <th>review_comment_message</th>\n",
       "      <th>review_comment_title</th>\n",
       "      <th>review_score</th>\n",
       "      <th>tok_message</th>\n",
       "      <th>tok_title</th>\n",
       "      <th>tok_message_stw</th>\n",
       "      <th>tok_title_stw</th>\n",
       "      <th>stem_tok_message</th>\n",
       "      <th>stem_tok_title</th>\n",
       "    </tr>\n",
       "  </thead>\n",
       "  <tbody>\n",
       "    <tr>\n",
       "      <th>9</th>\n",
       "      <td>aparelho eficiente. no site a marca do aparelh...</td>\n",
       "      <td>recomendo</td>\n",
       "      <td>4</td>\n",
       "      <td>[aparelho, eficiente, ., no, site, a, marca, d...</td>\n",
       "      <td>[recomendo]</td>\n",
       "      <td>[aparelho, eficiente, site, marca, aparelho, i...</td>\n",
       "      <td>[recomendo]</td>\n",
       "      <td>[aparelh, efici, sit, marc, aparelh, impress, ...</td>\n",
       "      <td>[recom]</td>\n",
       "    </tr>\n",
       "    <tr>\n",
       "      <th>15</th>\n",
       "      <td>Vendedor confiável, produto ok e entrega antes...</td>\n",
       "      <td>Super recomendo</td>\n",
       "      <td>5</td>\n",
       "      <td>[Vendedor, confiável, ,, produto, ok, e, entre...</td>\n",
       "      <td>[Super, recomendo]</td>\n",
       "      <td>[Vendedor, confiável, produto, ok, entrega, an...</td>\n",
       "      <td>[Super, recomendo]</td>\n",
       "      <td>[vend, confi, produt, ok, entreg, ant, praz]</td>\n",
       "      <td>[sup, recom]</td>\n",
       "    </tr>\n",
       "    <tr>\n",
       "      <th>19</th>\n",
       "      <td>Péssimo</td>\n",
       "      <td>Não chegou meu produto</td>\n",
       "      <td>1</td>\n",
       "      <td>[Péssimo]</td>\n",
       "      <td>[Não, chegou, meu, produto]</td>\n",
       "      <td>[Péssimo]</td>\n",
       "      <td>[Não, chegou, produto]</td>\n",
       "      <td>[péss]</td>\n",
       "      <td>[não, cheg, produt]</td>\n",
       "    </tr>\n",
       "    <tr>\n",
       "      <th>22</th>\n",
       "      <td>Loja nota 10</td>\n",
       "      <td>Ótimo</td>\n",
       "      <td>5</td>\n",
       "      <td>[Loja, nota, 10]</td>\n",
       "      <td>[Ótimo]</td>\n",
       "      <td>[Loja, nota, 10]</td>\n",
       "      <td>[Ótimo]</td>\n",
       "      <td>[loj, not, 10]</td>\n",
       "      <td>[ótim]</td>\n",
       "    </tr>\n",
       "    <tr>\n",
       "      <th>34</th>\n",
       "      <td>Recebi exatamente o que esperava. As demais en...</td>\n",
       "      <td>Muito bom.</td>\n",
       "      <td>4</td>\n",
       "      <td>[Recebi, exatamente, o, que, esperava, ., As, ...</td>\n",
       "      <td>[Muito, bom, .]</td>\n",
       "      <td>[Recebi, exatamente, esperava, As, demais, enc...</td>\n",
       "      <td>[Muito, bom]</td>\n",
       "      <td>[receb, exat, esper, as, demal, encomend, outr...</td>\n",
       "      <td>[muit, bom]</td>\n",
       "    </tr>\n",
       "  </tbody>\n",
       "</table>\n",
       "</div>"
      ],
      "text/plain": [
       "                               review_comment_message  \\\n",
       "9   aparelho eficiente. no site a marca do aparelh...   \n",
       "15  Vendedor confiável, produto ok e entrega antes...   \n",
       "19                                            Péssimo   \n",
       "22                                       Loja nota 10   \n",
       "34  Recebi exatamente o que esperava. As demais en...   \n",
       "\n",
       "       review_comment_title  review_score  \\\n",
       "9                 recomendo             4   \n",
       "15          Super recomendo             5   \n",
       "19  Não chegou meu produto              1   \n",
       "22                    Ótimo             5   \n",
       "34               Muito bom.             4   \n",
       "\n",
       "                                          tok_message  \\\n",
       "9   [aparelho, eficiente, ., no, site, a, marca, d...   \n",
       "15  [Vendedor, confiável, ,, produto, ok, e, entre...   \n",
       "19                                          [Péssimo]   \n",
       "22                                   [Loja, nota, 10]   \n",
       "34  [Recebi, exatamente, o, que, esperava, ., As, ...   \n",
       "\n",
       "                      tok_title  \\\n",
       "9                   [recomendo]   \n",
       "15           [Super, recomendo]   \n",
       "19  [Não, chegou, meu, produto]   \n",
       "22                      [Ótimo]   \n",
       "34              [Muito, bom, .]   \n",
       "\n",
       "                                      tok_message_stw           tok_title_stw  \\\n",
       "9   [aparelho, eficiente, site, marca, aparelho, i...             [recomendo]   \n",
       "15  [Vendedor, confiável, produto, ok, entrega, an...      [Super, recomendo]   \n",
       "19                                          [Péssimo]  [Não, chegou, produto]   \n",
       "22                                   [Loja, nota, 10]                 [Ótimo]   \n",
       "34  [Recebi, exatamente, esperava, As, demais, enc...            [Muito, bom]   \n",
       "\n",
       "                                     stem_tok_message       stem_tok_title  \n",
       "9   [aparelh, efici, sit, marc, aparelh, impress, ...              [recom]  \n",
       "15       [vend, confi, produt, ok, entreg, ant, praz]         [sup, recom]  \n",
       "19                                             [péss]  [não, cheg, produt]  \n",
       "22                                     [loj, not, 10]               [ótim]  \n",
       "34  [receb, exat, esper, as, demal, encomend, outr...          [muit, bom]  "
      ]
     },
     "execution_count": 10,
     "metadata": {},
     "output_type": "execute_result"
    }
   ],
   "source": [
    "df.head()"
   ]
  },
  {
   "cell_type": "markdown",
   "metadata": {},
   "source": [
    "With all the words sparated and stemmed, we will create our dictionary, where each word will be translated to an integer number."
   ]
  },
  {
   "cell_type": "code",
   "execution_count": 11,
   "metadata": {
    "execution": {
     "iopub.execute_input": "2020-10-22T20:08:45.521554Z",
     "iopub.status.busy": "2020-10-22T20:08:45.516432Z",
     "iopub.status.idle": "2020-10-22T20:08:50.476524Z",
     "shell.execute_reply": "2020-10-22T20:08:50.475831Z"
    },
    "papermill": {
     "duration": 5.019372,
     "end_time": "2020-10-22T20:08:50.476656",
     "exception": false,
     "start_time": "2020-10-22T20:08:45.457284",
     "status": "completed"
    },
    "scrolled": true,
    "tags": []
   },
   "outputs": [
    {
     "name": "stdout",
     "output_type": "stream",
     "text": [
      "Amount of words in dictionary for messages = 4623\n",
      "Amount of words in dictionary for titles = 1505\n",
      "Dictionary for messages examples:\n",
      "[('aparelh', 521), ('efici', 1626), ('sit', 4067), ('marc', 2757), ('impress', 2347), ('3desinfec', 147), ('cheg', 994), ('outr', 3171)]\n",
      "Dictionary for titles examples:\n",
      "[('recom', 1175), ('sup', 1343), ('não', 955), ('cheg', 263), ('produt', 1101), ('ótim', 1501), ('muit', 904), ('bom', 202)]\n"
     ]
    }
   ],
   "source": [
    "# vectorize words (create dictionary)\n",
    "message_words = []\n",
    "title_words = []\n",
    "for i in range( df.shape[0] ):\n",
    "    for j in range( len(df.iloc[i, -2]) ):\n",
    "        message_words.append( df.iloc[i, -2][j] )\n",
    "    for j in range( len(df.iloc[i, -1]) ):\n",
    "        title_words.append( df.iloc[i, -1][j] )\n",
    "\n",
    "vectorizer_message = CountVectorizer( analyzer='word' )\n",
    "vectorizer_title = CountVectorizer( analyzer='word' )\n",
    "\n",
    "vectorizer_message.fit( message_words )\n",
    "vectorizer_title.fit( title_words )\n",
    "\n",
    "print( 'Amount of words in dictionary for messages = {0}'.format( len( vectorizer_message.vocabulary_ ) ))\n",
    "print( 'Amount of words in dictionary for titles = {0}'.format( len( vectorizer_title.vocabulary_ ) ))\n",
    "print( 'Dictionary for messages examples:\\n{0}'.format( list( vectorizer_message.vocabulary_.items() )[:8] ))\n",
    "print( 'Dictionary for titles examples:\\n{0}'.format( list( vectorizer_title.vocabulary_.items() )[:8] ))\n",
    "\n",
    "\n",
    "warnings.filterwarnings('default')"
   ]
  },
  {
   "cell_type": "markdown",
   "metadata": {
    "papermill": {
     "duration": 0.040805,
     "end_time": "2020-10-22T20:08:50.568646",
     "exception": false,
     "start_time": "2020-10-22T20:08:50.527841",
     "status": "completed"
    },
    "tags": []
   },
   "source": [
    "### Preparing the data\n",
    "\n",
    "Now that we have ur dictionary of words, we will prepare our data to use in the ML model.\n",
    "\n",
    "First we separate input(commentaries), what the model sees, from output(score), what the model will predict."
   ]
  },
  {
   "cell_type": "code",
   "execution_count": 12,
   "metadata": {
    "execution": {
     "iopub.execute_input": "2020-10-22T20:08:50.658819Z",
     "iopub.status.busy": "2020-10-22T20:08:50.657728Z",
     "iopub.status.idle": "2020-10-22T20:08:50.661357Z",
     "shell.execute_reply": "2020-10-22T20:08:50.661940Z"
    },
    "papermill": {
     "duration": 0.052214,
     "end_time": "2020-10-22T20:08:50.662127",
     "exception": false,
     "start_time": "2020-10-22T20:08:50.609913",
     "status": "completed"
    },
    "scrolled": true,
    "tags": []
   },
   "outputs": [
    {
     "name": "stdout",
     "output_type": "stream",
     "text": [
      "Total number of lines = 9,986\n"
     ]
    }
   ],
   "source": [
    "messages = df['review_comment_message'].values # input 1\n",
    "titles = df['review_comment_title'].values # input 2\n",
    "scores = df['review_score'].values # output\n",
    "scores -= 1 # transform values 1 to 5, to 0 to 4\n",
    "\n",
    "print( 'Total number of lines = {0:,.0f}'.format( messages.shape[0] ))"
   ]
  },
  {
   "cell_type": "markdown",
   "metadata": {},
   "source": [
    "Because our model is a multiclass classification, and we have to differentiate from 5 scores, is needed to create a dummy variable as output, that is to transform a number 2 in a list [0, 0, 1, 0, 0], so the model can understand and process it. "
   ]
  },
  {
   "cell_type": "code",
   "execution_count": 13,
   "metadata": {
    "execution": {
     "iopub.execute_input": "2020-10-22T20:08:50.754542Z",
     "iopub.status.busy": "2020-10-22T20:08:50.753565Z",
     "iopub.status.idle": "2020-10-22T20:08:50.760573Z",
     "shell.execute_reply": "2020-10-22T20:08:50.761129Z"
    },
    "papermill": {
     "duration": 0.056823,
     "end_time": "2020-10-22T20:08:50.761292",
     "exception": false,
     "start_time": "2020-10-22T20:08:50.704469",
     "status": "completed"
    },
    "scrolled": true,
    "tags": []
   },
   "outputs": [
    {
     "name": "stdout",
     "output_type": "stream",
     "text": [
      "Scores examples = [3 4 0 4 3]\n",
      "Dummy scores examples = [[0. 0. 0. 1. 0.]\n",
      " [0. 0. 0. 0. 1.]\n",
      " [1. 0. 0. 0. 0.]\n",
      " [0. 0. 0. 0. 1.]\n",
      " [0. 0. 0. 1. 0.]]\n"
     ]
    }
   ],
   "source": [
    "scores_dummy = np_utils.to_categorical(scores)\n",
    "size_scores = len(scores_dummy[0])\n",
    "print( 'Scores examples = {0}'.format( scores[:5] ))\n",
    "print( 'Dummy scores examples = {0}'.format( scores_dummy[:5] ))"
   ]
  },
  {
   "cell_type": "markdown",
   "metadata": {},
   "source": [
    "With the input and output separated, we need to split the data to use to train, validate and test our model, and we will do that by using 70% do training, 15% to validation and 15% for testing."
   ]
  },
  {
   "cell_type": "code",
   "execution_count": 14,
   "metadata": {
    "execution": {
     "iopub.execute_input": "2020-10-22T20:08:50.856438Z",
     "iopub.status.busy": "2020-10-22T20:08:50.855319Z",
     "iopub.status.idle": "2020-10-22T20:08:50.865918Z",
     "shell.execute_reply": "2020-10-22T20:08:50.865271Z"
    },
    "papermill": {
     "duration": 0.063215,
     "end_time": "2020-10-22T20:08:50.866042",
     "exception": false,
     "start_time": "2020-10-22T20:08:50.802827",
     "status": "completed"
    },
    "scrolled": true,
    "tags": []
   },
   "outputs": [
    {
     "name": "stdout",
     "output_type": "stream",
     "text": [
      "Total number of lines for training   = 6,990\n",
      "Total number of lines for validation = 1,498\n",
      "Total number of lines for testing    = 1,498\n"
     ]
    }
   ],
   "source": [
    "x_train_m, x_test, y_train, y_test = train_test_split( messages, scores_dummy, test_size=0.3, random_state=42 )\n",
    "x_val_m, x_test_m, y_val, y_test = train_test_split( x_test, y_test, test_size=0.5, random_state=42 )\n",
    "x_train_t, x_test, y_train, y_test = train_test_split( titles, scores_dummy, test_size=0.3, random_state=42 )\n",
    "x_val_t, x_test_t, y_val, y_test = train_test_split( x_test, y_test, test_size=0.5, random_state=42 )\n",
    "\n",
    "print('Total number of lines for training   = {0:,.0f}'.format( x_train_m.shape[0] ))\n",
    "print('Total number of lines for validation = {0:,.0f}'.format( x_val_m.shape[0] ))\n",
    "print('Total number of lines for testing    = {0:,.0f}'.format( x_test_m.shape[0] ))"
   ]
  },
  {
   "cell_type": "markdown",
   "metadata": {},
   "source": [
    "Our input still is a bunch of text, so we will use our dictionary to translate the words into numbers, and not only that, but we will use the same principle of dummy variable that we used in the output, where the word that corresponds to the number 2 will have a value of 1 in a list with the dictionary size, so if the sentence have the words 1, 4 and 5, the input for that sentence will be [0, 1, 0, 0, 1, 1, 0, ... , 0]"
   ]
  },
  {
   "cell_type": "code",
   "execution_count": 15,
   "metadata": {
    "execution": {
     "iopub.execute_input": "2020-10-22T20:08:50.969513Z",
     "iopub.status.busy": "2020-10-22T20:08:50.964436Z",
     "iopub.status.idle": "2020-10-22T20:08:51.250521Z",
     "shell.execute_reply": "2020-10-22T20:08:51.251198Z"
    },
    "papermill": {
     "duration": 0.343045,
     "end_time": "2020-10-22T20:08:51.251353",
     "exception": false,
     "start_time": "2020-10-22T20:08:50.908308",
     "status": "completed"
    },
    "scrolled": true,
    "tags": []
   },
   "outputs": [
    {
     "name": "stdout",
     "output_type": "stream",
     "text": [
      "Bag of words format for training   = (6990, 6128)\n",
      "Bag of words format for validation = (1498, 6128)\n",
      "Bag of words format for testing    = (1498, 6128)\n"
     ]
    }
   ],
   "source": [
    "bow_x_train_m = vectorizer_message.transform( x_train_m )\n",
    "bow_x_train_t = vectorizer_title.transform( x_train_t )\n",
    "bow_x_train = hstack([bow_x_train_m, bow_x_train_t], format='csr') # join the two bows\n",
    "#bow_x_train = bow_x_train_m # use only the commentaries\n",
    "\n",
    "bow_x_val_m = vectorizer_message.transform( x_val_m )\n",
    "bow_x_val_t = vectorizer_title.transform( x_val_t )\n",
    "bow_x_val = hstack([bow_x_val_m, bow_x_val_t], format='csr') # join the two bows\n",
    "#bow_x_val = bow_x_val_m # use only the commentaries\n",
    "\n",
    "bow_x_test_m = vectorizer_message.transform( x_test_m )\n",
    "bow_x_test_t = vectorizer_title.transform( x_test_t )\n",
    "bow_x_test = hstack([bow_x_test_m, bow_x_test_t], format='csr') # join the two bows\n",
    "#bow_x_test = bow_x_test_m # use only the commentaries\n",
    "\n",
    "print('Bag of words format for training   = {0}'.format( bow_x_train.shape ))\n",
    "print('Bag of words format for validation = {0}'.format( bow_x_val.shape ))\n",
    "print('Bag of words format for testing    = {0}'.format( bow_x_test.shape ))"
   ]
  },
  {
   "cell_type": "markdown",
   "metadata": {
    "papermill": {
     "duration": 0.043545,
     "end_time": "2020-10-22T20:08:51.338286",
     "exception": false,
     "start_time": "2020-10-22T20:08:51.294741",
     "status": "completed"
    },
    "tags": []
   },
   "source": [
    "### Creating a Neural Network model\n",
    "\n",
    "Now that all the data is good to be used, we will create our model, defining our input and output layers, the optmizer(Adam), the loss function(categorical_crossentropy) and our metrics(accuracy)."
   ]
  },
  {
   "cell_type": "code",
   "execution_count": 16,
   "metadata": {
    "execution": {
     "iopub.execute_input": "2020-10-22T20:08:51.430932Z",
     "iopub.status.busy": "2020-10-22T20:08:51.430084Z",
     "iopub.status.idle": "2020-10-22T20:08:51.655649Z",
     "shell.execute_reply": "2020-10-22T20:08:51.654478Z"
    },
    "papermill": {
     "duration": 0.27521,
     "end_time": "2020-10-22T20:08:51.655811",
     "exception": false,
     "start_time": "2020-10-22T20:08:51.380601",
     "status": "completed"
    },
    "scrolled": true,
    "tags": []
   },
   "outputs": [
    {
     "name": "stdout",
     "output_type": "stream",
     "text": [
      "Model: \"sequential\"\n",
      "_________________________________________________________________\n",
      "Layer (type)                 Output Shape              Param #   \n",
      "=================================================================\n",
      "dense (Dense)                (None, 2048)              12552192  \n",
      "_________________________________________________________________\n",
      "dense_1 (Dense)              (None, 5)                 10245     \n",
      "=================================================================\n",
      "Total params: 12,562,437\n",
      "Trainable params: 12,562,437\n",
      "Non-trainable params: 0\n",
      "_________________________________________________________________\n"
     ]
    }
   ],
   "source": [
    "model = Sequential()\n",
    "\n",
    "model.add( Dense( 2048, activation='relu', input_shape=( bow_x_train.shape[1], ))) # input layer\n",
    "model.add( Dense( size_scores, activation='softmax' )) # output layer\n",
    "\n",
    "model.compile( Adam(), loss='categorical_crossentropy', metrics=['accuracy'] )\n",
    "\n",
    "model.save_weights( 'initial_weights.h5' )\n",
    "\n",
    "model.summary()"
   ]
  },
  {
   "cell_type": "markdown",
   "metadata": {
    "papermill": {
     "duration": 0.042647,
     "end_time": "2020-10-22T20:08:51.741844",
     "exception": false,
     "start_time": "2020-10-22T20:08:51.699197",
     "status": "completed"
    },
    "tags": []
   },
   "source": [
    "### Training the model\n",
    "\n",
    "Time to train"
   ]
  },
  {
   "cell_type": "code",
   "execution_count": 17,
   "metadata": {
    "execution": {
     "iopub.execute_input": "2020-10-22T20:08:51.835037Z",
     "iopub.status.busy": "2020-10-22T20:08:51.834292Z",
     "iopub.status.idle": "2020-10-22T20:09:08.384378Z",
     "shell.execute_reply": "2020-10-22T20:09:08.383510Z"
    },
    "papermill": {
     "duration": 16.599436,
     "end_time": "2020-10-22T20:09:08.384517",
     "exception": false,
     "start_time": "2020-10-22T20:08:51.785081",
     "status": "completed"
    },
    "scrolled": true,
    "tags": []
   },
   "outputs": [
    {
     "name": "stdout",
     "output_type": "stream",
     "text": [
      "Epoch 1/50\n",
      "WARNING:tensorflow:Callbacks method `on_train_batch_end` is slow compared to the batch time (batch time: 0.0010s vs `on_train_batch_end` time: 0.0041s). Check your callbacks.\n",
      "219/219 - 1s - loss: 0.8921 - accuracy: 0.6891 - val_loss: 0.8721 - val_accuracy: 0.6789\n",
      "Epoch 2/50\n",
      "219/219 - 1s - loss: 0.7030 - accuracy: 0.7462 - val_loss: 0.8857 - val_accuracy: 0.6676\n",
      "Epoch 3/50\n",
      "219/219 - 1s - loss: 0.5813 - accuracy: 0.7898 - val_loss: 0.9228 - val_accuracy: 0.6669\n",
      "Epoch 4/50\n",
      "219/219 - 1s - loss: 0.4685 - accuracy: 0.8338 - val_loss: 0.9880 - val_accuracy: 0.6649\n",
      "Epoch 5/50\n",
      "219/219 - 1s - loss: 0.3767 - accuracy: 0.8715 - val_loss: 1.0523 - val_accuracy: 0.6562\n",
      "Epoch 6/50\n",
      "219/219 - 1s - loss: 0.3074 - accuracy: 0.8977 - val_loss: 1.1494 - val_accuracy: 0.6475\n",
      "Epoch 7/50\n",
      "219/219 - 1s - loss: 0.2587 - accuracy: 0.9117 - val_loss: 1.2097 - val_accuracy: 0.6515\n",
      "Epoch 8/50\n",
      "219/219 - 1s - loss: 0.2217 - accuracy: 0.9243 - val_loss: 1.2824 - val_accuracy: 0.6489\n",
      "Epoch 9/50\n",
      "219/219 - 1s - loss: 0.1956 - accuracy: 0.9323 - val_loss: 1.3493 - val_accuracy: 0.6429\n",
      "Epoch 10/50\n",
      "219/219 - 1s - loss: 0.1762 - accuracy: 0.9389 - val_loss: 1.4535 - val_accuracy: 0.6462\n",
      "Epoch 11/50\n",
      "219/219 - 1s - loss: 0.1631 - accuracy: 0.9431 - val_loss: 1.4920 - val_accuracy: 0.6489\n",
      "Epoch 12/50\n",
      "219/219 - 1s - loss: 0.1487 - accuracy: 0.9479 - val_loss: 1.5133 - val_accuracy: 0.6415\n",
      "Epoch 13/50\n",
      "219/219 - 1s - loss: 0.1439 - accuracy: 0.9506 - val_loss: 1.5928 - val_accuracy: 0.6455\n",
      "Epoch 14/50\n",
      "219/219 - 1s - loss: 0.1338 - accuracy: 0.9524 - val_loss: 1.6926 - val_accuracy: 0.6529\n",
      "Epoch 15/50\n",
      "219/219 - 1s - loss: 0.1265 - accuracy: 0.9534 - val_loss: 1.7118 - val_accuracy: 0.6415\n",
      "Epoch 16/50\n",
      "219/219 - 1s - loss: 0.1241 - accuracy: 0.9544 - val_loss: 1.7239 - val_accuracy: 0.6402\n",
      "Epoch 17/50\n",
      "219/219 - 1s - loss: 0.1187 - accuracy: 0.9568 - val_loss: 1.7842 - val_accuracy: 0.6302\n",
      "Epoch 18/50\n",
      "219/219 - 1s - loss: 0.1149 - accuracy: 0.9574 - val_loss: 1.8115 - val_accuracy: 0.6415\n",
      "Epoch 19/50\n",
      "219/219 - 1s - loss: 0.1133 - accuracy: 0.9575 - val_loss: 1.9116 - val_accuracy: 0.6522\n",
      "Epoch 20/50\n",
      "219/219 - 1s - loss: 0.1119 - accuracy: 0.9587 - val_loss: 1.9310 - val_accuracy: 0.6389\n",
      "Epoch 21/50\n",
      "219/219 - 1s - loss: 0.1092 - accuracy: 0.9579 - val_loss: 1.9145 - val_accuracy: 0.6282\n",
      "Epoch 22/50\n",
      "219/219 - 1s - loss: 0.1072 - accuracy: 0.9569 - val_loss: 1.9874 - val_accuracy: 0.6402\n",
      "Epoch 23/50\n",
      "219/219 - 1s - loss: 0.1059 - accuracy: 0.9592 - val_loss: 2.0014 - val_accuracy: 0.6489\n",
      "Epoch 24/50\n",
      "219/219 - 1s - loss: 0.1076 - accuracy: 0.9557 - val_loss: 2.0414 - val_accuracy: 0.6429\n",
      "Epoch 25/50\n",
      "219/219 - 1s - loss: 0.1044 - accuracy: 0.9591 - val_loss: 2.0586 - val_accuracy: 0.6422\n",
      "Epoch 26/50\n",
      "219/219 - 1s - loss: 0.1042 - accuracy: 0.9594 - val_loss: 2.0815 - val_accuracy: 0.6435\n",
      "Epoch 27/50\n",
      "219/219 - 1s - loss: 0.1044 - accuracy: 0.9582 - val_loss: 2.1782 - val_accuracy: 0.6469\n",
      "Epoch 28/50\n",
      "219/219 - 1s - loss: 0.1034 - accuracy: 0.9585 - val_loss: 2.1814 - val_accuracy: 0.6535\n",
      "Epoch 29/50\n",
      "219/219 - 1s - loss: 0.1023 - accuracy: 0.9585 - val_loss: 2.1600 - val_accuracy: 0.6469\n",
      "Epoch 30/50\n",
      "219/219 - 1s - loss: 0.0995 - accuracy: 0.9609 - val_loss: 2.2142 - val_accuracy: 0.6442\n",
      "Epoch 31/50\n",
      "219/219 - 1s - loss: 0.0994 - accuracy: 0.9588 - val_loss: 2.2067 - val_accuracy: 0.6302\n",
      "Epoch 32/50\n",
      "219/219 - 1s - loss: 0.0991 - accuracy: 0.9598 - val_loss: 2.2178 - val_accuracy: 0.6375\n",
      "Epoch 33/50\n",
      "219/219 - 1s - loss: 0.1006 - accuracy: 0.9582 - val_loss: 2.2630 - val_accuracy: 0.6362\n",
      "Epoch 34/50\n",
      "219/219 - 1s - loss: 0.0983 - accuracy: 0.9587 - val_loss: 2.3518 - val_accuracy: 0.6475\n",
      "Epoch 35/50\n",
      "219/219 - 1s - loss: 0.0988 - accuracy: 0.9595 - val_loss: 2.3220 - val_accuracy: 0.6482\n",
      "Epoch 36/50\n",
      "219/219 - 1s - loss: 0.1109 - accuracy: 0.9574 - val_loss: 2.2191 - val_accuracy: 0.6121\n",
      "Epoch 37/50\n",
      "219/219 - 1s - loss: 0.1044 - accuracy: 0.9564 - val_loss: 2.2557 - val_accuracy: 0.6262\n",
      "Epoch 38/50\n",
      "219/219 - 1s - loss: 0.1002 - accuracy: 0.9587 - val_loss: 2.3420 - val_accuracy: 0.6315\n",
      "Epoch 39/50\n",
      "219/219 - 1s - loss: 0.0943 - accuracy: 0.9604 - val_loss: 2.3391 - val_accuracy: 0.6429\n",
      "Epoch 40/50\n",
      "219/219 - 1s - loss: 0.0953 - accuracy: 0.9598 - val_loss: 2.3609 - val_accuracy: 0.6429\n",
      "Epoch 41/50\n",
      "219/219 - 1s - loss: 0.0953 - accuracy: 0.9591 - val_loss: 2.3756 - val_accuracy: 0.6328\n",
      "Epoch 42/50\n",
      "219/219 - 1s - loss: 0.0950 - accuracy: 0.9604 - val_loss: 2.3478 - val_accuracy: 0.6262\n",
      "Epoch 43/50\n",
      "219/219 - 1s - loss: 0.0927 - accuracy: 0.9608 - val_loss: 2.3923 - val_accuracy: 0.6362\n",
      "Epoch 44/50\n",
      "219/219 - 1s - loss: 0.0956 - accuracy: 0.9594 - val_loss: 2.4190 - val_accuracy: 0.6462\n",
      "Epoch 45/50\n",
      "219/219 - 1s - loss: 0.0949 - accuracy: 0.9595 - val_loss: 2.3482 - val_accuracy: 0.6228\n",
      "Epoch 46/50\n",
      "219/219 - 1s - loss: 0.0945 - accuracy: 0.9608 - val_loss: 2.3976 - val_accuracy: 0.6295\n",
      "Epoch 47/50\n",
      "219/219 - 1s - loss: 0.0940 - accuracy: 0.9598 - val_loss: 2.4325 - val_accuracy: 0.6348\n",
      "Epoch 48/50\n",
      "219/219 - 1s - loss: 0.0947 - accuracy: 0.9594 - val_loss: 2.4834 - val_accuracy: 0.6435\n",
      "Epoch 49/50\n",
      "219/219 - 1s - loss: 0.0925 - accuracy: 0.9607 - val_loss: 2.4086 - val_accuracy: 0.6242\n",
      "Epoch 50/50\n",
      "219/219 - 1s - loss: 0.0930 - accuracy: 0.9604 - val_loss: 2.5449 - val_accuracy: 0.6409\n"
     ]
    }
   ],
   "source": [
    "history = model.fit( bow_x_train, y_train, epochs=50, validation_data=( bow_x_val, y_val ), verbose=2)"
   ]
  },
  {
   "cell_type": "markdown",
   "metadata": {
    "papermill": {
     "duration": 0.161305,
     "end_time": "2020-10-22T20:09:08.708538",
     "exception": false,
     "start_time": "2020-10-22T20:09:08.547233",
     "status": "completed"
    },
    "tags": []
   },
   "source": [
    "### Evaluating the model\n",
    "\n",
    "Let´s check if our model got a good training."
   ]
  },
  {
   "cell_type": "code",
   "execution_count": 18,
   "metadata": {
    "execution": {
     "iopub.execute_input": "2020-10-22T20:09:09.034989Z",
     "iopub.status.busy": "2020-10-22T20:09:09.034206Z",
     "iopub.status.idle": "2020-10-22T20:09:09.532663Z",
     "shell.execute_reply": "2020-10-22T20:09:09.533220Z"
    },
    "papermill": {
     "duration": 0.666909,
     "end_time": "2020-10-22T20:09:09.533389",
     "exception": false,
     "start_time": "2020-10-22T20:09:08.866480",
     "status": "completed"
    },
    "tags": []
   },
   "outputs": [
    {
     "data": {
      "image/png": "[encoded data removed]",
      "text/plain": [
       "<Figure size 432x288 with 1 Axes>"
      ]
     },
     "metadata": {
      "needs_background": "light"
     },
     "output_type": "display_data"
    },
    {
     "data": {
      "image/png": "[encoded data removed]",
      "text/plain": [
       "<Figure size 432x288 with 1 Axes>"
      ]
     },
     "metadata": {
      "needs_background": "light"
     },
     "output_type": "display_data"
    },
    {
     "name": "stdout",
     "output_type": "stream",
     "text": [
      "47/47 [==============================] - 0s 2ms/step - loss: 2.5093 - accuracy: 0.6335\n",
      "Loss function in test = 2.5093\n",
      "Accuracy in test = 0.6335\n"
     ]
    }
   ],
   "source": [
    "def plot_training( history ):\n",
    "    plt.plot( history.history['loss'], 'bo', label='Training', color='green' )\n",
    "    plt.plot( history.history['val_loss'], 'bo', label='Validation' )\n",
    "    plt.title( 'Model loss function' )\n",
    "    plt.xlabel( 'Epoch' )\n",
    "    plt.ylabel( 'Loss' )\n",
    "    plt.legend()\n",
    "    plt.show()\n",
    "\n",
    "    plt.plot( history.history['accuracy'], 'bo', label='Training', color='green' )\n",
    "    plt.plot( history.history['val_accuracy'], 'bo', label='Validation' )\n",
    "    plt.title( 'Model accuracy' )\n",
    "    plt.xlabel( 'Epoch' )\n",
    "    plt.ylabel( 'Accuracy' )\n",
    "    plt.legend()\n",
    "    plt.show()\n",
    "    \n",
    "    test_metrics = model.evaluate( bow_x_test, y_test )\n",
    "    print('Loss function in test = {0:.4f}\\nAccuracy in test = {1:.4f}'.format( test_metrics[0], test_metrics[1] ))\n",
    "\n",
    "plot_training( history )"
   ]
  },
  {
   "cell_type": "markdown",
   "metadata": {},
   "source": [
    "As we can see, the model overfitted, that means that it is doing good in the training data, but it did not generalized good enough to have the same result in the validation data. That is common in a NLP problem when we don´t have much data, and a solution for that is to cut the training in the first epochs, where the loss function in the training is almost equal to the validation.\n",
    "\n",
    "To do that we will load the initial weights and train the model for just 1 epoch."
   ]
  },
  {
   "cell_type": "code",
   "execution_count": 19,
   "metadata": {
    "scrolled": true
   },
   "outputs": [],
   "source": [
    "model.load_weights( 'initial_weights.h5' )"
   ]
  },
  {
   "cell_type": "code",
   "execution_count": 20,
   "metadata": {
    "scrolled": true
   },
   "outputs": [
    {
     "name": "stdout",
     "output_type": "stream",
     "text": [
      "WARNING:tensorflow:Callbacks method `on_train_batch_end` is slow compared to the batch time (batch time: 0.0010s vs `on_train_batch_end` time: 0.0030s). Check your callbacks.\n",
      "219/219 - 1s - loss: 0.8818 - accuracy: 0.6858 - val_loss: 0.8746 - val_accuracy: 0.6729\n"
     ]
    }
   ],
   "source": [
    "history = model.fit( bow_x_train, y_train, epochs=1, validation_data=( bow_x_val, y_val ), verbose=2)"
   ]
  },
  {
   "cell_type": "code",
   "execution_count": 21,
   "metadata": {},
   "outputs": [
    {
     "data": {
      "image/png": "[encoded data removed]",
      "text/plain": [
       "<Figure size 432x288 with 1 Axes>"
      ]
     },
     "metadata": {
      "needs_background": "light"
     },
     "output_type": "display_data"
    },
    {
     "data": {
      "image/png": "[encoded data removed]",
      "text/plain": [
       "<Figure size 432x288 with 1 Axes>"
      ]
     },
     "metadata": {
      "needs_background": "light"
     },
     "output_type": "display_data"
    },
    {
     "name": "stdout",
     "output_type": "stream",
     "text": [
      "47/47 [==============================] - 0s 2ms/step - loss: 0.8668 - accuracy: 0.6923\n",
      "Loss function in test = 0.8668\n",
      "Accuracy in test = 0.6923\n"
     ]
    }
   ],
   "source": [
    "plot_training( history )"
   ]
  },
  {
   "attachments": {
    "image.png": {
     "image/png": "[encoded data removed]"
    }
   },
   "cell_type": "markdown",
   "metadata": {},
   "source": [
    "Now we can see that we have a much better result than before, and it can predict almost 70% of the scores just by looking the commentaries.\n",
    "\n",
    "Let´s check the F1 Score metric. This metric is calculated from two other metrics:\n",
    "- **precision**: is the number of True Positives divided by the number of True Positives and False Positives. Put another way, it is the number of positive predictions divided by the total number of positive class values predicted\n",
    "- **recall**: is the number of True Positives divided by the number of True Positives and the number of False Negatives. Put another way it is the number of positive predictions divided by the number of positive class values in the test data\n",
    "\n",
    "Confusion matrix:\n",
    "![image.png](attachment:image.png)\n",
    "\n",
    "The F1 Score is equal to **2 * ( ( precision * recall ) / ( precision + recall ) )**, and this metric is good to see not only where the model got the right answer, but where it got wrong too."
   ]
  },
  {
   "cell_type": "code",
   "execution_count": 22,
   "metadata": {
    "execution": {
     "iopub.execute_input": "2020-10-22T20:09:10.748380Z",
     "iopub.status.busy": "2020-10-22T20:09:10.747150Z",
     "iopub.status.idle": "2020-10-22T20:09:11.200200Z",
     "shell.execute_reply": "2020-10-22T20:09:11.201089Z"
    },
    "papermill": {
     "duration": 0.629547,
     "end_time": "2020-10-22T20:09:11.201343",
     "exception": false,
     "start_time": "2020-10-22T20:09:10.571796",
     "status": "completed"
    },
    "scrolled": true,
    "tags": []
   },
   "outputs": [
    {
     "name": "stdout",
     "output_type": "stream",
     "text": [
      "F1 Score for NN in training   = 0.6751\n",
      "F1 Score for NN in validation = 0.5852\n",
      "F1 Score for NN in testing    = 0.6112\n"
     ]
    }
   ],
   "source": [
    "predict_train = np.argmax( model.predict( bow_x_train ), axis=1 )\n",
    "predict_val = np.argmax( model.predict( bow_x_val ), axis=1 )\n",
    "predict_test = np.argmax( model.predict( bow_x_test ), axis=1 )\n",
    "\n",
    "print( 'F1 Score for NN in training   = {0:.4f}'.format( f1_score( np.argmax( y_train, axis=1 ), predict_train, average='weighted' )))\n",
    "print( 'F1 Score for NN in validation = {0:.4f}'.format( f1_score( np.argmax( y_val, axis=1 ), predict_val, average='weighted' )))\n",
    "print( 'F1 Score for NN in testing    = {0:.4f}'.format( f1_score( np.argmax( y_test, axis=1 ), predict_test, average='weighted' )))"
   ]
  },
  {
   "cell_type": "markdown",
   "metadata": {},
   "source": [
    "Let´s now do some testing by writing something."
   ]
  },
  {
   "cell_type": "code",
   "execution_count": 23,
   "metadata": {
    "execution": {
     "iopub.execute_input": "2020-10-22T20:09:11.968554Z",
     "iopub.status.busy": "2020-10-22T20:09:11.967675Z",
     "iopub.status.idle": "2020-10-22T20:09:11.983514Z",
     "shell.execute_reply": "2020-10-22T20:09:11.982772Z"
    },
    "papermill": {
     "duration": 0.20048,
     "end_time": "2020-10-22T20:09:11.983666",
     "exception": false,
     "start_time": "2020-10-22T20:09:11.783186",
     "status": "completed"
    },
    "scrolled": true,
    "tags": []
   },
   "outputs": [
    {
     "name": "stdout",
     "output_type": "stream",
     "text": [
      "Test 0 model predicted 1\n",
      "Test 1 model predicted 1\n",
      "Test 2 model predicted 1\n",
      "Test 3 model predicted 5\n",
      "Test 4 model predicted 5\n"
     ]
    }
   ],
   "source": [
    "test1_m = 'Não gostei e nunca vou recomendar'\n",
    "test1_t = 'Horrível'\n",
    "\n",
    "test2_m = 'Não assistiria de novo'\n",
    "test2_t = 'Bem fraco'\n",
    "\n",
    "test3_m = 'Não impressiona nem decepciona'\n",
    "test3_t = 'Mais ou menos'\n",
    "\n",
    "test4_m = 'Achei bem bacana'\n",
    "test4_t = 'Bom'\n",
    "\n",
    "test5_m = 'Pretendo assistir mais vezes de tão bom'\n",
    "test5_t = 'Maravilhoso'\n",
    "\n",
    "test_list_m = [ test1_m, test2_m, test3_m, test4_m, test5_m ]\n",
    "test_list_t = [ test1_t, test2_t, test3_t, test4_t, test5_t ]\n",
    "\n",
    "test_vec_m = vectorizer_message.transform( test_list_m )\n",
    "test_vec_t = vectorizer_title.transform( test_list_t )\n",
    "test_vec = hstack( [test_vec_m, test_vec_t], format='csr' ) # join the two bows\n",
    "\n",
    "test_pred = model.predict( test_vec )\n",
    "\n",
    "test_pred_max = np.argmax( test_pred, axis=1 ) + 1\n",
    "\n",
    "for i in range( len(test_list_m) ):\n",
    "    print('Test {0} model predicted {1}'.format( i, test_pred_max[i] ))"
   ]
  },
  {
   "cell_type": "markdown",
   "metadata": {
    "papermill": {
     "duration": 0.172275,
     "end_time": "2020-10-22T20:09:12.328027",
     "exception": false,
     "start_time": "2020-10-22T20:09:12.155752",
     "status": "completed"
    },
    "tags": []
   },
   "source": [
    "### Trying different models\n",
    "\n",
    "We can try to get a better result by testing other models, so let´s do that.\n",
    "\n",
    "First, with this others models, we do not need to use a dummy output, so we will prepare the data again."
   ]
  },
  {
   "cell_type": "code",
   "execution_count": 24,
   "metadata": {
    "execution": {
     "iopub.execute_input": "2020-10-22T20:09:12.681398Z",
     "iopub.status.busy": "2020-10-22T20:09:12.680346Z",
     "iopub.status.idle": "2020-10-22T20:09:12.683448Z",
     "shell.execute_reply": "2020-10-22T20:09:12.684044Z"
    },
    "papermill": {
     "duration": 0.185315,
     "end_time": "2020-10-22T20:09:12.684217",
     "exception": false,
     "start_time": "2020-10-22T20:09:12.498902",
     "status": "completed"
    },
    "scrolled": true,
    "tags": []
   },
   "outputs": [],
   "source": [
    "x_train, x_test, y_train, y_test = train_test_split( messages, scores, test_size=0.3, random_state=42 )\n",
    "x_val, x_test, y_val, y_test = train_test_split( x_test, y_test, test_size=0.5, random_state=42 )\n",
    "\n",
    "y_train = y_train.astype('int')\n",
    "y_val = y_val.astype('int')\n",
    "y_test = y_test.astype('int')"
   ]
  },
  {
   "cell_type": "markdown",
   "metadata": {},
   "source": [
    "After that we can now test the models.\n",
    "\n",
    "The first one that we will test is the Multinomial Naive Bayes."
   ]
  },
  {
   "cell_type": "code",
   "execution_count": 25,
   "metadata": {
    "execution": {
     "iopub.execute_input": "2020-10-22T20:09:13.032588Z",
     "iopub.status.busy": "2020-10-22T20:09:13.031646Z",
     "iopub.status.idle": "2020-10-22T20:09:13.044921Z",
     "shell.execute_reply": "2020-10-22T20:09:13.044182Z"
    },
    "papermill": {
     "duration": 0.190309,
     "end_time": "2020-10-22T20:09:13.045045",
     "exception": false,
     "start_time": "2020-10-22T20:09:12.854736",
     "status": "completed"
    },
    "scrolled": true,
    "tags": []
   },
   "outputs": [
    {
     "data": {
      "text/plain": [
       "MultinomialNB()"
      ]
     },
     "execution_count": 25,
     "metadata": {},
     "output_type": "execute_result"
    }
   ],
   "source": [
    "# Multinomial Naive Bayes\n",
    "nb_clf = MultinomialNB()\n",
    "nb_clf.fit( bow_x_train, y_train )"
   ]
  },
  {
   "cell_type": "code",
   "execution_count": 26,
   "metadata": {
    "execution": {
     "iopub.execute_input": "2020-10-22T20:09:13.393720Z",
     "iopub.status.busy": "2020-10-22T20:09:13.392934Z",
     "iopub.status.idle": "2020-10-22T20:09:13.407961Z",
     "shell.execute_reply": "2020-10-22T20:09:13.408777Z"
    },
    "papermill": {
     "duration": 0.192306,
     "end_time": "2020-10-22T20:09:13.408999",
     "exception": false,
     "start_time": "2020-10-22T20:09:13.216693",
     "status": "completed"
    },
    "scrolled": true,
    "tags": []
   },
   "outputs": [
    {
     "name": "stdout",
     "output_type": "stream",
     "text": [
      "F1 Score for MNB in training   = 0.6263\n",
      "F1 Score for MNB in validation = 0.5717\n",
      "F1 Score for MNB in testing    = 0.5867\n"
     ]
    }
   ],
   "source": [
    "predict_train = nb_clf.predict( bow_x_train )\n",
    "predict_val = nb_clf.predict( bow_x_val )\n",
    "predict_test = nb_clf.predict( bow_x_test )\n",
    "\n",
    "print( 'F1 Score for MNB in training   = {0:.4f}'.format( f1_score( y_train, predict_train, average='weighted' )))\n",
    "print( 'F1 Score for MNB in validation = {0:.4f}'.format( f1_score( y_val, predict_val, average='weighted' )))\n",
    "print( 'F1 Score for MNB in testing    = {0:.4f}'.format( f1_score( y_test, predict_test, average='weighted' )))"
   ]
  },
  {
   "cell_type": "markdown",
   "metadata": {},
   "source": [
    "The second one is the Support Vector Machine(SVM) for Multi-class Classification"
   ]
  },
  {
   "cell_type": "code",
   "execution_count": 27,
   "metadata": {
    "execution": {
     "iopub.execute_input": "2020-10-22T20:09:13.755465Z",
     "iopub.status.busy": "2020-10-22T20:09:13.754667Z",
     "iopub.status.idle": "2020-10-22T20:09:19.865503Z",
     "shell.execute_reply": "2020-10-22T20:09:19.864730Z"
    },
    "papermill": {
     "duration": 6.286322,
     "end_time": "2020-10-22T20:09:19.865629",
     "exception": false,
     "start_time": "2020-10-22T20:09:13.579307",
     "status": "completed"
    },
    "scrolled": true,
    "tags": []
   },
   "outputs": [
    {
     "data": {
      "text/plain": [
       "SVC()"
      ]
     },
     "execution_count": 27,
     "metadata": {},
     "output_type": "execute_result"
    }
   ],
   "source": [
    "# Support Vector Machines Multi-class Classification\n",
    "svm_clf = svm.SVC()\n",
    "svm_clf.fit( bow_x_train, y_train )"
   ]
  },
  {
   "cell_type": "code",
   "execution_count": 28,
   "metadata": {
    "execution": {
     "iopub.execute_input": "2020-10-22T20:09:20.216020Z",
     "iopub.status.busy": "2020-10-22T20:09:20.214993Z",
     "iopub.status.idle": "2020-10-22T20:09:26.318613Z",
     "shell.execute_reply": "2020-10-22T20:09:26.319274Z"
    },
    "papermill": {
     "duration": 6.283853,
     "end_time": "2020-10-22T20:09:26.319437",
     "exception": false,
     "start_time": "2020-10-22T20:09:20.035584",
     "status": "completed"
    },
    "scrolled": true,
    "tags": []
   },
   "outputs": [
    {
     "name": "stdout",
     "output_type": "stream",
     "text": [
      "F1 Score for SVM in training   = 0.7647\n",
      "F1 Score for SVM in validation = 0.5846\n",
      "F1 Score for SVM in testing    = 0.5901\n"
     ]
    }
   ],
   "source": [
    "predict_train = svm_clf.predict( bow_x_train )\n",
    "predict_val = svm_clf.predict( bow_x_val )\n",
    "predict_test = svm_clf.predict( bow_x_test )\n",
    "\n",
    "print( 'F1 Score for SVM in training   = {0:.4f}'.format( f1_score( y_train, predict_train, average='weighted' )))\n",
    "print( 'F1 Score for SVM in validation = {0:.4f}'.format( f1_score( y_val, predict_val, average='weighted' )))\n",
    "print( 'F1 Score for SVM in testing    = {0:.4f}'.format( f1_score( y_test, predict_test, average='weighted' )))"
   ]
  },
  {
   "cell_type": "markdown",
   "metadata": {},
   "source": [
    "The third and last one will be the XGBoost Classifier"
   ]
  },
  {
   "cell_type": "code",
   "execution_count": 29,
   "metadata": {
    "execution": {
     "iopub.execute_input": "2020-10-22T20:09:26.666217Z",
     "iopub.status.busy": "2020-10-22T20:09:26.665431Z",
     "iopub.status.idle": "2020-10-22T20:10:26.077746Z",
     "shell.execute_reply": "2020-10-22T20:10:26.078375Z"
    },
    "papermill": {
     "duration": 59.58932,
     "end_time": "2020-10-22T20:10:26.078545",
     "exception": false,
     "start_time": "2020-10-22T20:09:26.489225",
     "status": "completed"
    },
    "scrolled": true,
    "tags": []
   },
   "outputs": [
    {
     "data": {
      "text/plain": [
       "XGBClassifier(base_score=0.5, booster='gbtree', colsample_bylevel=1,\n",
       "              colsample_bynode=1, colsample_bytree=1, gamma=5, gpu_id=-1,\n",
       "              importance_type='gain', interaction_constraints='',\n",
       "              learning_rate=0.01, max_delta_step=0, max_depth=10,\n",
       "              min_child_weight=1, missing=nan, monotone_constraints='()',\n",
       "              n_estimators=1000, n_jobs=0, num_parallel_tree=1,\n",
       "              objective='multi:softprob', random_state=42, reg_alpha=2,\n",
       "              reg_lambda=8, scale_pos_weight=None, seed=42, subsample=0.8,\n",
       "              tree_method='exact', validate_parameters=1, verbosity=0)"
      ]
     },
     "execution_count": 29,
     "metadata": {},
     "output_type": "execute_result"
    }
   ],
   "source": [
    "# XGBoost Classifier\n",
    "xgb_clf = XGBClassifier(learning_rate = 0.01,\n",
    "                         max_depth = 10, \n",
    "                         n_estimators = 1000,\n",
    "                         objective = 'binary:logistic',\n",
    "                         verbosity =0,\n",
    "                         seed = 42,\n",
    "                         reg_lambda = 8,\n",
    "                         reg_alpha = 2,\n",
    "                         gamma = 5,\n",
    "                         subsample= 0.8,\n",
    "                         #tree_method = 'gpu_hist'\n",
    "                         )\n",
    "xgb_clf.fit( bow_x_train, y_train )"
   ]
  },
  {
   "cell_type": "code",
   "execution_count": 30,
   "metadata": {
    "execution": {
     "iopub.execute_input": "2020-10-22T20:10:26.463602Z",
     "iopub.status.busy": "2020-10-22T20:10:26.462507Z",
     "iopub.status.idle": "2020-10-22T20:10:27.609448Z",
     "shell.execute_reply": "2020-10-22T20:10:27.610504Z"
    },
    "papermill": {
     "duration": 1.361163,
     "end_time": "2020-10-22T20:10:27.610728",
     "exception": false,
     "start_time": "2020-10-22T20:10:26.249565",
     "status": "completed"
    },
    "scrolled": true,
    "tags": []
   },
   "outputs": [
    {
     "name": "stdout",
     "output_type": "stream",
     "text": [
      "F1 Score for XGB in training   = 0.6115\n",
      "F1 Score for XGB in validation = 0.5733\n",
      "F1 Score for XGB in testing    = 0.6017\n"
     ]
    }
   ],
   "source": [
    "predict_train = xgb_clf.predict( bow_x_train )\n",
    "predict_val = xgb_clf.predict( bow_x_val )\n",
    "predict_test = xgb_clf.predict( bow_x_test )\n",
    "\n",
    "print( 'F1 Score for XGB in training   = {0:.4f}'.format( f1_score( y_train, predict_train, average='weighted' )))\n",
    "print( 'F1 Score for XGB in validation = {0:.4f}'.format( f1_score( y_val, predict_val, average='weighted' )))\n",
    "print( 'F1 Score for XGB in testing    = {0:.4f}'.format( f1_score( y_test, predict_test, average='weighted' )))"
   ]
  },
  {
   "attachments": {
    "image.png": {
     "image/png": "[encoded data removed]"
    }
   },
   "cell_type": "markdown",
   "metadata": {},
   "source": [
    "### All the tests\n",
    "\n",
    "Before having the results that you saw above, I have tested a lot of different variations to this algorithm, and you can see all the results shown below (the values in the Neural Networks where taken after 50 epochs, and the values on their names are the number of neurons for the input and hidden layers), where the columns means:\n",
    "- Message: True if used the column \"review_comment_message\"\n",
    "- Title: True if used the column \"review_comment_title\"\n",
    "- Drop Na Title: True if not only dropped the lines where messages where na but the lines where title where na too\n",
    "- Amount of Output: True if the amount of cases in the output where close to each other\n",
    "- Model: model used\n",
    "- F1 Score Test: the F1 Score after training in the test\n",
    "\n",
    "![image.png](attachment:image.png)"
   ]
  },
  {
   "cell_type": "markdown",
   "metadata": {},
   "source": [
    "### References\n",
    "\n",
    "**Commonly used libraries**\n",
    "- https://pandas.pydata.org/docs/\n",
    "- https://numpy.org/\n",
    "- https://matplotlib.org/\n",
    "\n",
    "**Natural Language Toolkit**\n",
    "- https://www.nltk.org/\n",
    "- https://www.guru99.com/tokenize-words-sentences-nltk.html\n",
    "- https://www.geeksforgeeks.org/removing-stop-words-nltk-python/\n",
    "- https://www.datacamp.com/community/tutorials/stemming-lemmatization-python\n",
    "\n",
    "**Scikit-learn**\n",
    "- https://scikit-learn.org/stable/modules/generated/sklearn.feature_extraction.text.CountVectorizer.html\n",
    "- https://scikit-learn.org/stable/modules/generated/sklearn.model_selection.train_test_split.html\n",
    "\n",
    "**Neural Network with Tensorflow Keras**\n",
    "- https://www.tensorflow.org/guide/keras/sequential_model\n",
    "\n",
    "**F1 Score**\n",
    "- https://machinelearningmastery.com/classification-accuracy-is-not-enough-more-performance-measures-you-can-use/#:~:text=F1%20Score,the%20precision%20and%20the%20recall\n",
    "\n",
    "**Models with Scikit-learn**\n",
    "- https://scikit-learn.org/stable/modules/generated/sklearn.naive_bayes.MultinomialNB.html\n",
    "- https://scikit-learn.org/stable/modules/svm.html#multi-class-classification\n",
    "\n",
    "**XGBoost**\n",
    "- https://xgboost.readthedocs.io/en/latest/python/python_api.html#xgboost.XGBClassifier"
   ]
  }
 ],
 "metadata": {
  "kernelspec": {
   "display_name": "Python 3",
   "language": "python",
   "name": "python3"
  },
  "language_info": {
   "codemirror_mode": {
    "name": "ipython",
    "version": 3
   },
   "file_extension": ".py",
   "mimetype": "text/x-python",
   "name": "python",
   "nbconvert_exporter": "python",
   "pygments_lexer": "ipython3",
   "version": "3.7.8"
  },
  "papermill": {
   "duration": 176.034828,
   "end_time": "2020-10-22T20:10:30.036710",
   "environment_variables": {},
   "exception": null,
   "input_path": "__notebook__.ipynb",
   "output_path": "__notebook__.ipynb",
   "parameters": {},
   "start_time": "2020-10-22T20:07:34.001882",
   "version": "2.1.0"
  }
 },
 "nbformat": 4,
 "nbformat_minor": 4
}
