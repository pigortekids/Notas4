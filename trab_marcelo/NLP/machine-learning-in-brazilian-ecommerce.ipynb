{
 "cells": [
  {
   "cell_type": "markdown",
   "metadata": {
    "_cell_guid": "b1076dfc-b9ad-4769-8c92-a6c4dae69d19",
    "_uuid": "8f2839f25d086af736a60e9eeb907d3b93b6e0e5",
    "papermill": {
     "duration": 0.035335,
     "end_time": "2020-10-22T20:07:39.431996",
     "exception": false,
     "start_time": "2020-10-22T20:07:39.396661",
     "status": "completed"
    },
    "tags": []
   },
   "source": [
    "# Machine Learning in Brazilian ECommerce\n",
    "\n",
    "### This notebook purpose is to use some machine learning techniques in a brazilian ecommerce dataset, and used the https://www.kaggle.com/marcelolafeta/olist-data-preparation as a start\n",
    "\n",
    "## Natural language processing for ratings from commentaries\n",
    "\n",
    "### Importing libraries for natural language processing (NLP)"
   ]
  },
  {
   "cell_type": "code",
   "execution_count": 1,
   "metadata": {
    "_cell_guid": "79c7e3d0-c299-4dcb-8224-4455121ee9b0",
    "_uuid": "d629ff2d2480ee46fbb7e2d37f6b5fab8052498a",
    "execution": {
     "iopub.execute_input": "2020-10-22T20:07:39.508962Z",
     "iopub.status.busy": "2020-10-22T20:07:39.508185Z",
     "iopub.status.idle": "2020-10-22T20:08:29.008961Z",
     "shell.execute_reply": "2020-10-22T20:08:29.008265Z"
    },
    "papermill": {
     "duration": 49.544693,
     "end_time": "2020-10-22T20:08:29.009140",
     "exception": false,
     "start_time": "2020-10-22T20:07:39.464447",
     "status": "completed"
    },
    "tags": []
   },
   "outputs": [
    {
     "name": "stdout",
     "output_type": "stream",
     "text": [
      "[nltk_data] Error loading popular: <urlopen error [Errno -3] Temporary\n",
      "[nltk_data]     failure in name resolution>\n",
      "[nltk_data] Error loading rslp: <urlopen error [Errno -3] Temporary\n",
      "[nltk_data]     failure in name resolution>\n"
     ]
    }
   ],
   "source": [
    "import pandas as pd\n",
    "\n",
    "import nltk\n",
    "nltk.download( 'popular' )\n",
    "nltk.download( 'rslp' )\n",
    "from nltk.stem import RSLPStemmer\n",
    "from nltk.tokenize import word_tokenize\n",
    "from nltk.corpus import stopwords\n",
    "from string import punctuation\n",
    "from sklearn.feature_extraction.text import CountVectorizer\n",
    "\n",
    "from keras.utils import np_utils\n",
    "from sklearn.model_selection import train_test_split\n",
    "from tensorflow.keras.models import Sequential\n",
    "from tensorflow.keras.layers import Dense\n",
    "from tensorflow.keras.optimizers import Adam\n",
    "from sklearn.metrics import multilabel_confusion_matrix\n",
    "\n",
    "import numpy as np\n",
    "import matplotlib.pyplot as plt\n",
    "\n",
    "from sklearn.naive_bayes import MultinomialNB\n",
    "from sklearn import svm\n",
    "from sklearn.metrics import f1_score\n",
    "\n",
    "from xgboost import XGBClassifier\n",
    "\n",
    "from scipy.sparse import hstack\n",
    "\n",
    "import warnings"
   ]
  },
  {
   "cell_type": "markdown",
   "metadata": {
    "papermill": {
     "duration": 0.032557,
     "end_time": "2020-10-22T20:08:29.074802",
     "exception": false,
     "start_time": "2020-10-22T20:08:29.042245",
     "status": "completed"
    },
    "tags": []
   },
   "source": [
    "### Importing scores file"
   ]
  },
  {
   "cell_type": "code",
   "execution_count": 2,
   "metadata": {
    "execution": {
     "iopub.execute_input": "2020-10-22T20:08:29.190170Z",
     "iopub.status.busy": "2020-10-22T20:08:29.189353Z",
     "iopub.status.idle": "2020-10-22T20:08:29.739121Z",
     "shell.execute_reply": "2020-10-22T20:08:29.739688Z"
    },
    "papermill": {
     "duration": 0.631469,
     "end_time": "2020-10-22T20:08:29.739847",
     "exception": false,
     "start_time": "2020-10-22T20:08:29.108378",
     "status": "completed"
    },
    "tags": []
   },
   "outputs": [
    {
     "data": {
      "text/html": [
       "<div>\n",
       "<style scoped>\n",
       "    .dataframe tbody tr th:only-of-type {\n",
       "        vertical-align: middle;\n",
       "    }\n",
       "\n",
       "    .dataframe tbody tr th {\n",
       "        vertical-align: top;\n",
       "    }\n",
       "\n",
       "    .dataframe thead th {\n",
       "        text-align: right;\n",
       "    }\n",
       "</style>\n",
       "<table border=\"1\" class=\"dataframe\">\n",
       "  <thead>\n",
       "    <tr style=\"text-align: right;\">\n",
       "      <th></th>\n",
       "      <th>review_id</th>\n",
       "      <th>order_id</th>\n",
       "      <th>review_score</th>\n",
       "      <th>review_comment_title</th>\n",
       "      <th>review_comment_message</th>\n",
       "      <th>review_creation_date</th>\n",
       "      <th>review_answer_timestamp</th>\n",
       "    </tr>\n",
       "  </thead>\n",
       "  <tbody>\n",
       "    <tr>\n",
       "      <th>0</th>\n",
       "      <td>7bc2406110b926393aa56f80a40eba40</td>\n",
       "      <td>73fc7af87114b39712e6da79b0a377eb</td>\n",
       "      <td>4</td>\n",
       "      <td>NaN</td>\n",
       "      <td>NaN</td>\n",
       "      <td>2018-01-18 00:00:00</td>\n",
       "      <td>2018-01-18 21:46:59</td>\n",
       "    </tr>\n",
       "    <tr>\n",
       "      <th>1</th>\n",
       "      <td>80e641a11e56f04c1ad469d5645fdfde</td>\n",
       "      <td>a548910a1c6147796b98fdf73dbeba33</td>\n",
       "      <td>5</td>\n",
       "      <td>NaN</td>\n",
       "      <td>NaN</td>\n",
       "      <td>2018-03-10 00:00:00</td>\n",
       "      <td>2018-03-11 03:05:13</td>\n",
       "    </tr>\n",
       "    <tr>\n",
       "      <th>2</th>\n",
       "      <td>228ce5500dc1d8e020d8d1322874b6f0</td>\n",
       "      <td>f9e4b658b201a9f2ecdecbb34bed034b</td>\n",
       "      <td>5</td>\n",
       "      <td>NaN</td>\n",
       "      <td>NaN</td>\n",
       "      <td>2018-02-17 00:00:00</td>\n",
       "      <td>2018-02-18 14:36:24</td>\n",
       "    </tr>\n",
       "    <tr>\n",
       "      <th>3</th>\n",
       "      <td>e64fb393e7b32834bb789ff8bb30750e</td>\n",
       "      <td>658677c97b385a9be170737859d3511b</td>\n",
       "      <td>5</td>\n",
       "      <td>NaN</td>\n",
       "      <td>Recebi bem antes do prazo estipulado.</td>\n",
       "      <td>2017-04-21 00:00:00</td>\n",
       "      <td>2017-04-21 22:02:06</td>\n",
       "    </tr>\n",
       "    <tr>\n",
       "      <th>4</th>\n",
       "      <td>f7c4243c7fe1938f181bec41a392bdeb</td>\n",
       "      <td>8e6bfb81e283fa7e4f11123a3fb894f1</td>\n",
       "      <td>5</td>\n",
       "      <td>NaN</td>\n",
       "      <td>Parabéns lojas lannister adorei comprar pela I...</td>\n",
       "      <td>2018-03-01 00:00:00</td>\n",
       "      <td>2018-03-02 10:26:53</td>\n",
       "    </tr>\n",
       "  </tbody>\n",
       "</table>\n",
       "</div>"
      ],
      "text/plain": [
       "                          review_id                          order_id  \\\n",
       "0  7bc2406110b926393aa56f80a40eba40  73fc7af87114b39712e6da79b0a377eb   \n",
       "1  80e641a11e56f04c1ad469d5645fdfde  a548910a1c6147796b98fdf73dbeba33   \n",
       "2  228ce5500dc1d8e020d8d1322874b6f0  f9e4b658b201a9f2ecdecbb34bed034b   \n",
       "3  e64fb393e7b32834bb789ff8bb30750e  658677c97b385a9be170737859d3511b   \n",
       "4  f7c4243c7fe1938f181bec41a392bdeb  8e6bfb81e283fa7e4f11123a3fb894f1   \n",
       "\n",
       "   review_score review_comment_title  \\\n",
       "0             4                  NaN   \n",
       "1             5                  NaN   \n",
       "2             5                  NaN   \n",
       "3             5                  NaN   \n",
       "4             5                  NaN   \n",
       "\n",
       "                              review_comment_message review_creation_date  \\\n",
       "0                                                NaN  2018-01-18 00:00:00   \n",
       "1                                                NaN  2018-03-10 00:00:00   \n",
       "2                                                NaN  2018-02-17 00:00:00   \n",
       "3              Recebi bem antes do prazo estipulado.  2017-04-21 00:00:00   \n",
       "4  Parabéns lojas lannister adorei comprar pela I...  2018-03-01 00:00:00   \n",
       "\n",
       "  review_answer_timestamp  \n",
       "0     2018-01-18 21:46:59  \n",
       "1     2018-03-11 03:05:13  \n",
       "2     2018-02-18 14:36:24  \n",
       "3     2017-04-21 22:02:06  \n",
       "4     2018-03-02 10:26:53  "
      ]
     },
     "execution_count": 2,
     "metadata": {},
     "output_type": "execute_result"
    }
   ],
   "source": [
    "df_order_reviews = pd.read_csv(\"../input/brazilian-ecommerce/olist_order_reviews_dataset.csv\")\n",
    "df_order_reviews.head()"
   ]
  },
  {
   "cell_type": "markdown",
   "metadata": {
    "papermill": {
     "duration": 0.033965,
     "end_time": "2020-10-22T20:08:29.807986",
     "exception": false,
     "start_time": "2020-10-22T20:08:29.774021",
     "status": "completed"
    },
    "tags": []
   },
   "source": [
    "### Getting only the columns that will be used"
   ]
  },
  {
   "cell_type": "code",
   "execution_count": 3,
   "metadata": {
    "execution": {
     "iopub.execute_input": "2020-10-22T20:08:29.893876Z",
     "iopub.status.busy": "2020-10-22T20:08:29.884048Z",
     "iopub.status.idle": "2020-10-22T20:08:29.899083Z",
     "shell.execute_reply": "2020-10-22T20:08:29.899697Z"
    },
    "papermill": {
     "duration": 0.057759,
     "end_time": "2020-10-22T20:08:29.899846",
     "exception": false,
     "start_time": "2020-10-22T20:08:29.842087",
     "status": "completed"
    },
    "tags": []
   },
   "outputs": [
    {
     "data": {
      "text/html": [
       "<div>\n",
       "<style scoped>\n",
       "    .dataframe tbody tr th:only-of-type {\n",
       "        vertical-align: middle;\n",
       "    }\n",
       "\n",
       "    .dataframe tbody tr th {\n",
       "        vertical-align: top;\n",
       "    }\n",
       "\n",
       "    .dataframe thead th {\n",
       "        text-align: right;\n",
       "    }\n",
       "</style>\n",
       "<table border=\"1\" class=\"dataframe\">\n",
       "  <thead>\n",
       "    <tr style=\"text-align: right;\">\n",
       "      <th></th>\n",
       "      <th>review_comment_message</th>\n",
       "      <th>review_comment_title</th>\n",
       "      <th>review_score</th>\n",
       "    </tr>\n",
       "  </thead>\n",
       "  <tbody>\n",
       "    <tr>\n",
       "      <th>0</th>\n",
       "      <td>NaN</td>\n",
       "      <td>NaN</td>\n",
       "      <td>4</td>\n",
       "    </tr>\n",
       "    <tr>\n",
       "      <th>1</th>\n",
       "      <td>NaN</td>\n",
       "      <td>NaN</td>\n",
       "      <td>5</td>\n",
       "    </tr>\n",
       "    <tr>\n",
       "      <th>2</th>\n",
       "      <td>NaN</td>\n",
       "      <td>NaN</td>\n",
       "      <td>5</td>\n",
       "    </tr>\n",
       "    <tr>\n",
       "      <th>3</th>\n",
       "      <td>Recebi bem antes do prazo estipulado.</td>\n",
       "      <td>NaN</td>\n",
       "      <td>5</td>\n",
       "    </tr>\n",
       "    <tr>\n",
       "      <th>4</th>\n",
       "      <td>Parabéns lojas lannister adorei comprar pela I...</td>\n",
       "      <td>NaN</td>\n",
       "      <td>5</td>\n",
       "    </tr>\n",
       "  </tbody>\n",
       "</table>\n",
       "</div>"
      ],
      "text/plain": [
       "                              review_comment_message review_comment_title  \\\n",
       "0                                                NaN                  NaN   \n",
       "1                                                NaN                  NaN   \n",
       "2                                                NaN                  NaN   \n",
       "3              Recebi bem antes do prazo estipulado.                  NaN   \n",
       "4  Parabéns lojas lannister adorei comprar pela I...                  NaN   \n",
       "\n",
       "   review_score  \n",
       "0             4  \n",
       "1             5  \n",
       "2             5  \n",
       "3             5  \n",
       "4             5  "
      ]
     },
     "execution_count": 3,
     "metadata": {},
     "output_type": "execute_result"
    }
   ],
   "source": [
    "important_columns = ['review_comment_message', 'review_comment_title', 'review_score']\n",
    "df_order_reviews_imptt_cols = df_order_reviews[important_columns]\n",
    "df_order_reviews_imptt_cols.head()"
   ]
  },
  {
   "cell_type": "markdown",
   "metadata": {
    "papermill": {
     "duration": 0.034579,
     "end_time": "2020-10-22T20:08:29.969447",
     "exception": false,
     "start_time": "2020-10-22T20:08:29.934868",
     "status": "completed"
    },
    "tags": []
   },
   "source": [
    "### Dropping nan lines"
   ]
  },
  {
   "cell_type": "code",
   "execution_count": 4,
   "metadata": {
    "execution": {
     "iopub.execute_input": "2020-10-22T20:08:30.062927Z",
     "iopub.status.busy": "2020-10-22T20:08:30.056393Z",
     "iopub.status.idle": "2020-10-22T20:08:30.069500Z",
     "shell.execute_reply": "2020-10-22T20:08:30.068655Z"
    },
    "papermill": {
     "duration": 0.0653,
     "end_time": "2020-10-22T20:08:30.069642",
     "exception": false,
     "start_time": "2020-10-22T20:08:30.004342",
     "status": "completed"
    },
    "tags": []
   },
   "outputs": [
    {
     "name": "stdout",
     "output_type": "stream",
     "text": [
      "Total of lines                         = 100,000\n",
      "Total of lines without comment message = 58,247\n",
      "Total of lines without comment title   = 88,285\n"
     ]
    }
   ],
   "source": [
    "print( 'Total of lines                         = {0:,.0f}'.format( df_order_reviews_imptt_cols.shape[0] ))\n",
    "print( 'Total of lines without comment message = {0:,.0f}'.format( df_order_reviews_imptt_cols['review_comment_message'].isna().sum() ))\n",
    "print( 'Total of lines without comment title   = {0:,.0f}'.format( df_order_reviews_imptt_cols['review_comment_title'].isna().sum() ))"
   ]
  },
  {
   "cell_type": "code",
   "execution_count": 5,
   "metadata": {
    "execution": {
     "iopub.execute_input": "2020-10-22T20:08:30.147544Z",
     "iopub.status.busy": "2020-10-22T20:08:30.146781Z",
     "iopub.status.idle": "2020-10-22T20:08:30.172894Z",
     "shell.execute_reply": "2020-10-22T20:08:30.172219Z"
    },
    "papermill": {
     "duration": 0.067771,
     "end_time": "2020-10-22T20:08:30.173016",
     "exception": false,
     "start_time": "2020-10-22T20:08:30.105245",
     "status": "completed"
    },
    "tags": []
   },
   "outputs": [],
   "source": [
    "#df_order_reviews_imptt_cols_na = df_order_reviews_imptt_cols.dropna(subset=['review_comment_message']).fillna({'review_comment_title':''}) # only drop messages nans and clean title\n",
    "df_order_reviews_imptt_cols_na = df_order_reviews_imptt_cols.dropna(subset=['review_comment_message', 'review_comment_title']) # drop messages and titles nans"
   ]
  },
  {
   "cell_type": "code",
   "execution_count": 6,
   "metadata": {
    "execution": {
     "iopub.execute_input": "2020-10-22T20:08:30.254713Z",
     "iopub.status.busy": "2020-10-22T20:08:30.253621Z",
     "iopub.status.idle": "2020-10-22T20:08:30.259818Z",
     "shell.execute_reply": "2020-10-22T20:08:30.259005Z"
    },
    "papermill": {
     "duration": 0.051469,
     "end_time": "2020-10-22T20:08:30.259952",
     "exception": false,
     "start_time": "2020-10-22T20:08:30.208483",
     "status": "completed"
    },
    "tags": []
   },
   "outputs": [
    {
     "data": {
      "text/plain": [
       "5    5442\n",
       "1    1873\n",
       "4    1441\n",
       "3     756\n",
       "2     474\n",
       "Name: review_score, dtype: int64"
      ]
     },
     "execution_count": 6,
     "metadata": {},
     "output_type": "execute_result"
    }
   ],
   "source": [
    "df_order_reviews_imptt_cols_na['review_score'].value_counts()"
   ]
  },
  {
   "cell_type": "code",
   "execution_count": 7,
   "metadata": {
    "execution": {
     "iopub.execute_input": "2020-10-22T20:08:30.347241Z",
     "iopub.status.busy": "2020-10-22T20:08:30.345975Z",
     "iopub.status.idle": "2020-10-22T20:08:30.375071Z",
     "shell.execute_reply": "2020-10-22T20:08:30.374416Z"
    },
    "papermill": {
     "duration": 0.078381,
     "end_time": "2020-10-22T20:08:30.375221",
     "exception": false,
     "start_time": "2020-10-22T20:08:30.296840",
     "status": "completed"
    },
    "tags": []
   },
   "outputs": [
    {
     "data": {
      "text/plain": [
       "5    5442\n",
       "1    1873\n",
       "4    1441\n",
       "3     756\n",
       "2     474\n",
       "Name: review_score, dtype: int64"
      ]
     },
     "execution_count": 7,
     "metadata": {},
     "output_type": "execute_result"
    }
   ],
   "source": [
    "# set the amount of records for every label\n",
    "#amount = 10000\n",
    "#amount = 2000\n",
    "amount = df_order_reviews_imptt_cols_na.shape[0]\n",
    "\n",
    "df = pd.DataFrame( columns=df_order_reviews_imptt_cols_na.columns )\n",
    "for i in df_order_reviews_imptt_cols_na['review_score'].unique():\n",
    "    df_i = df_order_reviews_imptt_cols_na[df_order_reviews_imptt_cols_na['review_score'] == i].sample(frac=1)\n",
    "    df = df.append( df_i.iloc[0:amount, :] )\n",
    "\n",
    "df['review_score'].value_counts()"
   ]
  },
  {
   "cell_type": "markdown",
   "metadata": {
    "papermill": {
     "duration": 0.036848,
     "end_time": "2020-10-22T20:08:30.449309",
     "exception": false,
     "start_time": "2020-10-22T20:08:30.412461",
     "status": "completed"
    },
    "tags": []
   },
   "source": [
    "### Creating a dictionary for the words"
   ]
  },
  {
   "cell_type": "code",
   "execution_count": 8,
   "metadata": {
    "execution": {
     "iopub.execute_input": "2020-10-22T20:08:30.532483Z",
     "iopub.status.busy": "2020-10-22T20:08:30.531702Z",
     "iopub.status.idle": "2020-10-22T20:08:35.179194Z",
     "shell.execute_reply": "2020-10-22T20:08:35.179813Z"
    },
    "papermill": {
     "duration": 4.693025,
     "end_time": "2020-10-22T20:08:35.179964",
     "exception": false,
     "start_time": "2020-10-22T20:08:30.486939",
     "status": "completed"
    },
    "tags": []
   },
   "outputs": [
    {
     "name": "stdout",
     "output_type": "stream",
     "text": [
      "Words examples ['👍']\n"
     ]
    }
   ],
   "source": [
    "warnings.filterwarnings('ignore')\n",
    "\n",
    "# tokinize\n",
    "df['tok_message'] = df.apply(lambda row: word_tokenize(row['review_comment_message'], language='portuguese'), axis=1)\n",
    "df['tok_title'] = df.apply(lambda row: word_tokenize(row['review_comment_title'], language='portuguese'), axis=1)\n",
    "print( 'Words examples {0}'.format( df.iloc[0, -2] ))"
   ]
  },
  {
   "cell_type": "code",
   "execution_count": 9,
   "metadata": {
    "execution": {
     "iopub.execute_input": "2020-10-22T20:08:35.264399Z",
     "iopub.status.busy": "2020-10-22T20:08:35.263153Z",
     "iopub.status.idle": "2020-10-22T20:08:35.641752Z",
     "shell.execute_reply": "2020-10-22T20:08:35.640712Z"
    },
    "papermill": {
     "duration": 0.424574,
     "end_time": "2020-10-22T20:08:35.641935",
     "exception": false,
     "start_time": "2020-10-22T20:08:35.217361",
     "status": "completed"
    },
    "tags": []
   },
   "outputs": [
    {
     "name": "stdout",
     "output_type": "stream",
     "text": [
      "Stopword examples ['de', 'a', 'o', 'que', 'e', 'é', 'do', 'da']\n",
      "Punctuation examples ['!', '\"', '#', '$', '%', '&', \"'\", '(']\n",
      "Words with out stopwords examples ['👍']\n"
     ]
    }
   ],
   "source": [
    "# remove stopwords\n",
    "stw = stopwords.words('portuguese')\n",
    "print( 'Stopword examples {0}'.format( stw[:8] ))\n",
    "\n",
    "ponc = list( punctuation )\n",
    "print( 'Punctuation examples {0}'.format( ponc[:8] ))\n",
    "\n",
    "remove_words = set( stw + ponc )\n",
    "df['tok_message_stw'] = df.apply(lambda row: [word for word in row['tok_message'] if word not in remove_words], axis=1)\n",
    "df['tok_title_stw'] = df.apply(lambda row: [word for word in row['tok_title'] if word not in remove_words], axis=1)\n",
    "print( 'Words with out stopwords examples {0}'.format( df.iloc[0, -2] ))"
   ]
  },
  {
   "cell_type": "code",
   "execution_count": 10,
   "metadata": {
    "execution": {
     "iopub.execute_input": "2020-10-22T20:08:35.739486Z",
     "iopub.status.busy": "2020-10-22T20:08:35.738574Z",
     "iopub.status.idle": "2020-10-22T20:08:45.299036Z",
     "shell.execute_reply": "2020-10-22T20:08:45.298291Z"
    },
    "papermill": {
     "duration": 9.609746,
     "end_time": "2020-10-22T20:08:45.299194",
     "exception": false,
     "start_time": "2020-10-22T20:08:35.689448",
     "status": "completed"
    },
    "tags": []
   },
   "outputs": [
    {
     "name": "stdout",
     "output_type": "stream",
     "text": [
      "Stemmer examples ['👍']\n"
     ]
    }
   ],
   "source": [
    "# stemmer words\n",
    "stemmer = RSLPStemmer()\n",
    "df['stem_tok_message'] = df.apply(lambda row: [ stemmer.stem( word ) for word in row['tok_message_stw'] ], axis=1)\n",
    "df['stem_tok_title'] = df.apply(lambda row: [ stemmer.stem( word ) for word in row['tok_title_stw'] ], axis=1)\n",
    "print( 'Stemmer examples {0}'.format( df.iloc[0, -2] ))"
   ]
  },
  {
   "cell_type": "code",
   "execution_count": 11,
   "metadata": {
    "execution": {
     "iopub.execute_input": "2020-10-22T20:08:45.409364Z",
     "iopub.status.busy": "2020-10-22T20:08:45.408370Z",
     "iopub.status.idle": "2020-10-22T20:08:45.413824Z",
     "shell.execute_reply": "2020-10-22T20:08:45.413066Z"
    },
    "papermill": {
     "duration": 0.075212,
     "end_time": "2020-10-22T20:08:45.413945",
     "exception": false,
     "start_time": "2020-10-22T20:08:45.338733",
     "status": "completed"
    },
    "tags": []
   },
   "outputs": [
    {
     "data": {
      "text/html": [
       "<div>\n",
       "<style scoped>\n",
       "    .dataframe tbody tr th:only-of-type {\n",
       "        vertical-align: middle;\n",
       "    }\n",
       "\n",
       "    .dataframe tbody tr th {\n",
       "        vertical-align: top;\n",
       "    }\n",
       "\n",
       "    .dataframe thead th {\n",
       "        text-align: right;\n",
       "    }\n",
       "</style>\n",
       "<table border=\"1\" class=\"dataframe\">\n",
       "  <thead>\n",
       "    <tr style=\"text-align: right;\">\n",
       "      <th></th>\n",
       "      <th>review_comment_message</th>\n",
       "      <th>review_comment_title</th>\n",
       "      <th>review_score</th>\n",
       "      <th>tok_message</th>\n",
       "      <th>tok_title</th>\n",
       "      <th>tok_message_stw</th>\n",
       "      <th>tok_title_stw</th>\n",
       "      <th>stem_tok_message</th>\n",
       "      <th>stem_tok_title</th>\n",
       "    </tr>\n",
       "  </thead>\n",
       "  <tbody>\n",
       "    <tr>\n",
       "      <th>6304</th>\n",
       "      <td>👍</td>\n",
       "      <td>Muito bom</td>\n",
       "      <td>4</td>\n",
       "      <td>[👍]</td>\n",
       "      <td>[Muito, bom]</td>\n",
       "      <td>[👍]</td>\n",
       "      <td>[Muito, bom]</td>\n",
       "      <td>[👍]</td>\n",
       "      <td>[muit, bom]</td>\n",
       "    </tr>\n",
       "    <tr>\n",
       "      <th>89854</th>\n",
       "      <td>Muito bom</td>\n",
       "      <td>Excelente</td>\n",
       "      <td>4</td>\n",
       "      <td>[Muito, bom]</td>\n",
       "      <td>[Excelente]</td>\n",
       "      <td>[Muito, bom]</td>\n",
       "      <td>[Excelente]</td>\n",
       "      <td>[muit, bom]</td>\n",
       "      <td>[excel]</td>\n",
       "    </tr>\n",
       "    <tr>\n",
       "      <th>98682</th>\n",
       "      <td>O produto em si não testei, não instalei ainda...</td>\n",
       "      <td>Entrega</td>\n",
       "      <td>4</td>\n",
       "      <td>[O, produto, em, si, não, testei, ,, não, inst...</td>\n",
       "      <td>[Entrega]</td>\n",
       "      <td>[O, produto, si, testei, instalei, ainda, este...</td>\n",
       "      <td>[Entrega]</td>\n",
       "      <td>[o, produt, si, test, instal, aind, est, no, e...</td>\n",
       "      <td>[entreg]</td>\n",
       "    </tr>\n",
       "    <tr>\n",
       "      <th>89565</th>\n",
       "      <td>Otimo produto, entrega perfeira</td>\n",
       "      <td>Super Recomendo</td>\n",
       "      <td>4</td>\n",
       "      <td>[Otimo, produto, ,, entrega, perfeira]</td>\n",
       "      <td>[Super, Recomendo]</td>\n",
       "      <td>[Otimo, produto, entrega, perfeira]</td>\n",
       "      <td>[Super, Recomendo]</td>\n",
       "      <td>[otim, produt, entreg, perf]</td>\n",
       "      <td>[sup, recom]</td>\n",
       "    </tr>\n",
       "    <tr>\n",
       "      <th>74234</th>\n",
       "      <td>Estou satisfeita com o produto, foi entregue r...</td>\n",
       "      <td>Muito lindo !!</td>\n",
       "      <td>4</td>\n",
       "      <td>[Estou, satisfeita, com, o, produto, ,, foi, e...</td>\n",
       "      <td>[Muito, lindo, !, !]</td>\n",
       "      <td>[Estou, satisfeita, produto, entregue, rápido]</td>\n",
       "      <td>[Muito, lindo]</td>\n",
       "      <td>[est, satisfeit, produt, entreg, rápid]</td>\n",
       "      <td>[muit, lind]</td>\n",
       "    </tr>\n",
       "  </tbody>\n",
       "</table>\n",
       "</div>"
      ],
      "text/plain": [
       "                                  review_comment_message review_comment_title  \\\n",
       "6304                                                   👍            Muito bom   \n",
       "89854                                          Muito bom            Excelente   \n",
       "98682  O produto em si não testei, não instalei ainda...              Entrega   \n",
       "89565                    Otimo produto, entrega perfeira      Super Recomendo   \n",
       "74234  Estou satisfeita com o produto, foi entregue r...       Muito lindo !!   \n",
       "\n",
       "      review_score                                        tok_message  \\\n",
       "6304             4                                                [👍]   \n",
       "89854            4                                       [Muito, bom]   \n",
       "98682            4  [O, produto, em, si, não, testei, ,, não, inst...   \n",
       "89565            4             [Otimo, produto, ,, entrega, perfeira]   \n",
       "74234            4  [Estou, satisfeita, com, o, produto, ,, foi, e...   \n",
       "\n",
       "                  tok_title  \\\n",
       "6304           [Muito, bom]   \n",
       "89854           [Excelente]   \n",
       "98682             [Entrega]   \n",
       "89565    [Super, Recomendo]   \n",
       "74234  [Muito, lindo, !, !]   \n",
       "\n",
       "                                         tok_message_stw       tok_title_stw  \\\n",
       "6304                                                 [👍]        [Muito, bom]   \n",
       "89854                                       [Muito, bom]         [Excelente]   \n",
       "98682  [O, produto, si, testei, instalei, ainda, este...           [Entrega]   \n",
       "89565                [Otimo, produto, entrega, perfeira]  [Super, Recomendo]   \n",
       "74234     [Estou, satisfeita, produto, entregue, rápido]      [Muito, lindo]   \n",
       "\n",
       "                                        stem_tok_message stem_tok_title  \n",
       "6304                                                 [👍]    [muit, bom]  \n",
       "89854                                        [muit, bom]        [excel]  \n",
       "98682  [o, produt, si, test, instal, aind, est, no, e...       [entreg]  \n",
       "89565                       [otim, produt, entreg, perf]   [sup, recom]  \n",
       "74234            [est, satisfeit, produt, entreg, rápid]   [muit, lind]  "
      ]
     },
     "execution_count": 11,
     "metadata": {},
     "output_type": "execute_result"
    }
   ],
   "source": [
    "df.head()"
   ]
  },
  {
   "cell_type": "code",
   "execution_count": 12,
   "metadata": {
    "execution": {
     "iopub.execute_input": "2020-10-22T20:08:45.521554Z",
     "iopub.status.busy": "2020-10-22T20:08:45.516432Z",
     "iopub.status.idle": "2020-10-22T20:08:50.476524Z",
     "shell.execute_reply": "2020-10-22T20:08:50.475831Z"
    },
    "papermill": {
     "duration": 5.019372,
     "end_time": "2020-10-22T20:08:50.476656",
     "exception": false,
     "start_time": "2020-10-22T20:08:45.457284",
     "status": "completed"
    },
    "tags": []
   },
   "outputs": [
    {
     "name": "stdout",
     "output_type": "stream",
     "text": [
      "Amount of words in dictionary for messages = 4697\n",
      "Amount of words in dictionary for titles = 1509\n",
      "Dictionary for messages examples ['muit', 'bom', 'produt', 'si', 'test', 'instal', 'aind', 'est']\n",
      "Dictionary for titles examples ['muit', 'bom', 'excel', 'entreg', 'sup', 'recom', 'lind', 'ant']\n"
     ]
    }
   ],
   "source": [
    "# vectorize words (create dictionary)\n",
    "message_words = []\n",
    "title_words = []\n",
    "for i in range( df.shape[0] ):\n",
    "    for j in range( len(df.iloc[i, -2]) ):\n",
    "        message_words.append( df.iloc[i, -2][j] )\n",
    "    for j in range( len(df.iloc[i, -1]) ):\n",
    "        title_words.append( df.iloc[i, -1][j] )\n",
    "\n",
    "vectorizer_message = CountVectorizer( analyzer='word' )\n",
    "vectorizer_title = CountVectorizer( analyzer='word' )\n",
    "\n",
    "vectorizer_message.fit( message_words )\n",
    "vectorizer_title.fit( title_words )\n",
    "\n",
    "print( 'Amount of words in dictionary for messages = {0}'.format( len( vectorizer_message.vocabulary_ ) ))\n",
    "print( 'Amount of words in dictionary for titles = {0}'.format( len( vectorizer_title.vocabulary_ ) ))\n",
    "print( 'Dictionary for messages examples {0}'.format( list( vectorizer_message.vocabulary_)[:8] ))\n",
    "print( 'Dictionary for titles examples {0}'.format( list( vectorizer_title.vocabulary_)[:8] ))\n",
    "\n",
    "\n",
    "warnings.filterwarnings('default')"
   ]
  },
  {
   "cell_type": "markdown",
   "metadata": {
    "papermill": {
     "duration": 0.040805,
     "end_time": "2020-10-22T20:08:50.568646",
     "exception": false,
     "start_time": "2020-10-22T20:08:50.527841",
     "status": "completed"
    },
    "tags": []
   },
   "source": [
    "### Preparing the data"
   ]
  },
  {
   "cell_type": "code",
   "execution_count": 13,
   "metadata": {
    "execution": {
     "iopub.execute_input": "2020-10-22T20:08:50.658819Z",
     "iopub.status.busy": "2020-10-22T20:08:50.657728Z",
     "iopub.status.idle": "2020-10-22T20:08:50.661357Z",
     "shell.execute_reply": "2020-10-22T20:08:50.661940Z"
    },
    "papermill": {
     "duration": 0.052214,
     "end_time": "2020-10-22T20:08:50.662127",
     "exception": false,
     "start_time": "2020-10-22T20:08:50.609913",
     "status": "completed"
    },
    "tags": []
   },
   "outputs": [
    {
     "name": "stdout",
     "output_type": "stream",
     "text": [
      "Total number of lines = 9986\n"
     ]
    }
   ],
   "source": [
    "messages = df['review_comment_message'].values #X1\n",
    "titles = df['review_comment_title'].values #X2\n",
    "scores = df['review_score'].values #Y\n",
    "scores -= 1 # transform values 1 to 5, to 0 to 4 \n",
    "\n",
    "print( 'Total number of lines = {0}'.format( messages.shape[0] ))"
   ]
  },
  {
   "cell_type": "code",
   "execution_count": 14,
   "metadata": {
    "execution": {
     "iopub.execute_input": "2020-10-22T20:08:50.754542Z",
     "iopub.status.busy": "2020-10-22T20:08:50.753565Z",
     "iopub.status.idle": "2020-10-22T20:08:50.760573Z",
     "shell.execute_reply": "2020-10-22T20:08:50.761129Z"
    },
    "papermill": {
     "duration": 0.056823,
     "end_time": "2020-10-22T20:08:50.761292",
     "exception": false,
     "start_time": "2020-10-22T20:08:50.704469",
     "status": "completed"
    },
    "tags": []
   },
   "outputs": [
    {
     "name": "stdout",
     "output_type": "stream",
     "text": [
      "Scores examples = [3 3 3 3 3]\n",
      "Dummy scores examples = [[0. 0. 0. 1. 0.]\n",
      " [0. 0. 0. 1. 0.]\n",
      " [0. 0. 0. 1. 0.]\n",
      " [0. 0. 0. 1. 0.]\n",
      " [0. 0. 0. 1. 0.]]\n"
     ]
    }
   ],
   "source": [
    "scores_dummy = np_utils.to_categorical(scores)\n",
    "size_scores = len(scores_dummy[0])\n",
    "print( 'Scores examples = {0}'.format( scores[:5] ))\n",
    "print( 'Dummy scores examples = {0}'.format( scores_dummy[:5] ))"
   ]
  },
  {
   "cell_type": "code",
   "execution_count": 15,
   "metadata": {
    "execution": {
     "iopub.execute_input": "2020-10-22T20:08:50.856438Z",
     "iopub.status.busy": "2020-10-22T20:08:50.855319Z",
     "iopub.status.idle": "2020-10-22T20:08:50.865918Z",
     "shell.execute_reply": "2020-10-22T20:08:50.865271Z"
    },
    "papermill": {
     "duration": 0.063215,
     "end_time": "2020-10-22T20:08:50.866042",
     "exception": false,
     "start_time": "2020-10-22T20:08:50.802827",
     "status": "completed"
    },
    "tags": []
   },
   "outputs": [
    {
     "name": "stdout",
     "output_type": "stream",
     "text": [
      "Total number of lines for training   = (6990,)\n",
      "Total number of lines for validation = (1498,)\n",
      "Total number of lines for testing    = (1498,)\n"
     ]
    }
   ],
   "source": [
    "x_train_m, x_test, y_train, y_test = train_test_split( messages, scores_dummy, test_size=0.3, random_state=42 )\n",
    "x_val_m, x_test_m, y_val, y_test = train_test_split( x_test, y_test, test_size=0.5, random_state=42 )\n",
    "x_train_t, x_test, y_train, y_test = train_test_split( titles, scores_dummy, test_size=0.3, random_state=42 )\n",
    "x_val_t, x_test_t, y_val, y_test = train_test_split( x_test, y_test, test_size=0.5, random_state=42 )\n",
    "\n",
    "print('Total number of lines for training   = {0}'.format( x_train_m.shape ))\n",
    "print('Total number of lines for validation = {0}'.format( x_val_m.shape ))\n",
    "print('Total number of lines for testing    = {0}'.format( x_test_m.shape ))"
   ]
  },
  {
   "cell_type": "code",
   "execution_count": 16,
   "metadata": {
    "execution": {
     "iopub.execute_input": "2020-10-22T20:08:50.969513Z",
     "iopub.status.busy": "2020-10-22T20:08:50.964436Z",
     "iopub.status.idle": "2020-10-22T20:08:51.250521Z",
     "shell.execute_reply": "2020-10-22T20:08:51.251198Z"
    },
    "papermill": {
     "duration": 0.343045,
     "end_time": "2020-10-22T20:08:51.251353",
     "exception": false,
     "start_time": "2020-10-22T20:08:50.908308",
     "status": "completed"
    },
    "tags": []
   },
   "outputs": [
    {
     "name": "stdout",
     "output_type": "stream",
     "text": [
      "Bag of words format for training   = (6990, 6206)\n",
      "Bag of words format for validation = (1498, 6206)\n",
      "Bag of words format for testing    = (1498, 6206)\n"
     ]
    }
   ],
   "source": [
    "bow_x_train_m = vectorizer_message.transform( x_train_m )\n",
    "bow_x_train_t = vectorizer_title.transform( x_train_t )\n",
    "bow_x_train = hstack([bow_x_train_m, bow_x_train_t], format='csr') # join the two bows\n",
    "#bow_x_train = bow_x_train_m # use only the commentaries\n",
    "\n",
    "bow_x_val_m = vectorizer_message.transform( x_val_m )\n",
    "bow_x_val_t = vectorizer_title.transform( x_val_t )\n",
    "bow_x_val = hstack([bow_x_val_m, bow_x_val_t], format='csr') # join the two bows\n",
    "#bow_x_val = bow_x_val_m # use only the commentaries\n",
    "\n",
    "bow_x_test_m = vectorizer_message.transform( x_test_m )\n",
    "bow_x_test_t = vectorizer_title.transform( x_test_t )\n",
    "bow_x_test = hstack([bow_x_test_m, bow_x_test_t], format='csr') # join the two bows\n",
    "#bow_x_test = bow_x_test_m # use only the commentaries\n",
    "\n",
    "print('Bag of words format for training   = {0}'.format( bow_x_train.shape ))\n",
    "print('Bag of words format for validation = {0}'.format( bow_x_val.shape ))\n",
    "print('Bag of words format for testing    = {0}'.format( bow_x_test.shape ))"
   ]
  },
  {
   "cell_type": "markdown",
   "metadata": {
    "papermill": {
     "duration": 0.043545,
     "end_time": "2020-10-22T20:08:51.338286",
     "exception": false,
     "start_time": "2020-10-22T20:08:51.294741",
     "status": "completed"
    },
    "tags": []
   },
   "source": [
    "### Creating the model"
   ]
  },
  {
   "cell_type": "code",
   "execution_count": 17,
   "metadata": {
    "execution": {
     "iopub.execute_input": "2020-10-22T20:08:51.430932Z",
     "iopub.status.busy": "2020-10-22T20:08:51.430084Z",
     "iopub.status.idle": "2020-10-22T20:08:51.655649Z",
     "shell.execute_reply": "2020-10-22T20:08:51.654478Z"
    },
    "papermill": {
     "duration": 0.27521,
     "end_time": "2020-10-22T20:08:51.655811",
     "exception": false,
     "start_time": "2020-10-22T20:08:51.380601",
     "status": "completed"
    },
    "tags": []
   },
   "outputs": [
    {
     "name": "stdout",
     "output_type": "stream",
     "text": [
      "Model: \"sequential\"\n",
      "_________________________________________________________________\n",
      "Layer (type)                 Output Shape              Param #   \n",
      "=================================================================\n",
      "dense (Dense)                (None, 1024)              6355968   \n",
      "_________________________________________________________________\n",
      "dense_1 (Dense)              (None, 5)                 5125      \n",
      "=================================================================\n",
      "Total params: 6,361,093\n",
      "Trainable params: 6,361,093\n",
      "Non-trainable params: 0\n",
      "_________________________________________________________________\n"
     ]
    }
   ],
   "source": [
    "model = Sequential()\n",
    "\n",
    "#model.add( Dense( 2048, activation='relu', input_shape=( bow_x_train.shape[1], )))\n",
    "model.add( Dense( 1024, activation='relu', input_shape=( bow_x_train.shape[1], )))\n",
    "#model.add( Dense( 256, activation='relu', input_shape=( bow_x_train.shape[1], )))\n",
    "#model.add( Dense( 64, activation='relu', input_shape=( bow_x_train.shape[1], )))\n",
    "#model.add( Dense( 32, activation='relu' ))\n",
    "#model.add( Dense( 16, activation='relu' ))\n",
    "#model.add( Dense( 8, activation='relu' ))\n",
    "\n",
    "model.add( Dense( size_scores, activation='softmax' ))\n",
    "\n",
    "model.compile( Adam(), loss='categorical_crossentropy', metrics=['accuracy'] )\n",
    "\n",
    "model.summary()"
   ]
  },
  {
   "cell_type": "markdown",
   "metadata": {
    "papermill": {
     "duration": 0.042647,
     "end_time": "2020-10-22T20:08:51.741844",
     "exception": false,
     "start_time": "2020-10-22T20:08:51.699197",
     "status": "completed"
    },
    "tags": []
   },
   "source": [
    "### Training the model"
   ]
  },
  {
   "cell_type": "code",
   "execution_count": 18,
   "metadata": {
    "execution": {
     "iopub.execute_input": "2020-10-22T20:08:51.835037Z",
     "iopub.status.busy": "2020-10-22T20:08:51.834292Z",
     "iopub.status.idle": "2020-10-22T20:09:08.384378Z",
     "shell.execute_reply": "2020-10-22T20:09:08.383510Z"
    },
    "papermill": {
     "duration": 16.599436,
     "end_time": "2020-10-22T20:09:08.384517",
     "exception": false,
     "start_time": "2020-10-22T20:08:51.785081",
     "status": "completed"
    },
    "tags": []
   },
   "outputs": [
    {
     "name": "stdout",
     "output_type": "stream",
     "text": [
      "Epoch 1/5\n",
      "219/219 [==============================] - 3s 15ms/step - loss: 0.8962 - accuracy: 0.6884 - val_loss: 0.8408 - val_accuracy: 0.6836\n",
      "Epoch 2/5\n",
      "219/219 [==============================] - 3s 14ms/step - loss: 0.7011 - accuracy: 0.7432 - val_loss: 0.8672 - val_accuracy: 0.6789\n",
      "Epoch 3/5\n",
      "219/219 [==============================] - 3s 14ms/step - loss: 0.5972 - accuracy: 0.7831 - val_loss: 0.9164 - val_accuracy: 0.6622\n",
      "Epoch 4/5\n",
      "219/219 [==============================] - 3s 15ms/step - loss: 0.4938 - accuracy: 0.8232 - val_loss: 0.9806 - val_accuracy: 0.6602\n",
      "Epoch 5/5\n",
      "219/219 [==============================] - 3s 14ms/step - loss: 0.4080 - accuracy: 0.8582 - val_loss: 1.0358 - val_accuracy: 0.6502\n"
     ]
    }
   ],
   "source": [
    "history = model.fit( bow_x_train, y_train, epochs=5, validation_data=( bow_x_val, y_val ))"
   ]
  },
  {
   "cell_type": "markdown",
   "metadata": {
    "papermill": {
     "duration": 0.161305,
     "end_time": "2020-10-22T20:09:08.708538",
     "exception": false,
     "start_time": "2020-10-22T20:09:08.547233",
     "status": "completed"
    },
    "tags": []
   },
   "source": [
    "### Evaluating the model"
   ]
  },
  {
   "cell_type": "code",
   "execution_count": 19,
   "metadata": {
    "execution": {
     "iopub.execute_input": "2020-10-22T20:09:09.034989Z",
     "iopub.status.busy": "2020-10-22T20:09:09.034206Z",
     "iopub.status.idle": "2020-10-22T20:09:09.532663Z",
     "shell.execute_reply": "2020-10-22T20:09:09.533220Z"
    },
    "papermill": {
     "duration": 0.666909,
     "end_time": "2020-10-22T20:09:09.533389",
     "exception": false,
     "start_time": "2020-10-22T20:09:08.866480",
     "status": "completed"
    },
    "tags": []
   },
   "outputs": [
    {
     "data": {
      "image/png": "[encoded data removed]",
      "text/plain": [
       "<Figure size 432x288 with 1 Axes>"
      ]
     },
     "metadata": {
      "needs_background": "light"
     },
     "output_type": "display_data"
    },
    {
     "data": {
      "image/png": "[encoded data removed]",
      "text/plain": [
       "<Figure size 432x288 with 1 Axes>"
      ]
     },
     "metadata": {
      "needs_background": "light"
     },
     "output_type": "display_data"
    }
   ],
   "source": [
    "plt.plot( history.history['loss'], 'b', label='Training' )\n",
    "plt.plot( history.history['val_loss'], 'bo', label='Validation' )\n",
    "plt.title( 'Model loss function' )\n",
    "plt.xlabel( 'Epoch' )\n",
    "plt.ylabel( 'Loss' )\n",
    "plt.legend()\n",
    "plt.show()\n",
    "\n",
    "plt.plot( history.history['accuracy'], 'b', label='Training' )\n",
    "plt.plot( history.history['val_accuracy'], 'bo', label='Validation' )\n",
    "plt.title( 'Model accuracy' )\n",
    "plt.xlabel( 'Epoch' )\n",
    "plt.ylabel( 'Accuracy' )\n",
    "plt.legend()\n",
    "plt.show()"
   ]
  },
  {
   "cell_type": "code",
   "execution_count": 20,
   "metadata": {
    "execution": {
     "iopub.execute_input": "2020-10-22T20:09:09.864891Z",
     "iopub.status.busy": "2020-10-22T20:09:09.863543Z",
     "iopub.status.idle": "2020-10-22T20:09:10.399009Z",
     "shell.execute_reply": "2020-10-22T20:09:10.399698Z"
    },
    "papermill": {
     "duration": 0.706075,
     "end_time": "2020-10-22T20:09:10.399873",
     "exception": false,
     "start_time": "2020-10-22T20:09:09.693798",
     "status": "completed"
    },
    "tags": []
   },
   "outputs": [
    {
     "name": "stdout",
     "output_type": "stream",
     "text": [
      "219/219 [==============================] - 0s 1ms/step - loss: 0.3255 - accuracy: 0.8920\n",
      "Loss function in train = 0.3255\n",
      "Accuracy in train = 0.8920\n",
      "47/47 [==============================] - 0s 2ms/step - loss: 1.0358 - accuracy: 0.6502\n",
      "Loss function in validation = 1.0358\n",
      "Accuracy in validation = 0.6502\n",
      "47/47 [==============================] - 0s 2ms/step - loss: 0.9984 - accuracy: 0.6762\n",
      "Loss function in test = 0.9984\n",
      "Accuracy in test = 0.6762\n"
     ]
    }
   ],
   "source": [
    "train_metrics = model.evaluate( bow_x_train, y_train )\n",
    "print('Loss function in train = {0:.4f}\\nAccuracy in train = {1:.4f}'.format( train_metrics[0], train_metrics[1] ))\n",
    "\n",
    "val_metrics = model.evaluate( bow_x_val, y_val )\n",
    "print('Loss function in validation = {0:.4f}\\nAccuracy in validation = {1:.4f}'.format( val_metrics[0], val_metrics[1] ))\n",
    "\n",
    "test_metrics = model.evaluate( bow_x_test, y_test )\n",
    "print('Loss function in test = {0:.4f}\\nAccuracy in test = {1:.4f}'.format( test_metrics[0], test_metrics[1] ))"
   ]
  },
  {
   "cell_type": "code",
   "execution_count": 21,
   "metadata": {
    "execution": {
     "iopub.execute_input": "2020-10-22T20:09:10.748380Z",
     "iopub.status.busy": "2020-10-22T20:09:10.747150Z",
     "iopub.status.idle": "2020-10-22T20:09:11.200200Z",
     "shell.execute_reply": "2020-10-22T20:09:11.201089Z"
    },
    "papermill": {
     "duration": 0.629547,
     "end_time": "2020-10-22T20:09:11.201343",
     "exception": false,
     "start_time": "2020-10-22T20:09:10.571796",
     "status": "completed"
    },
    "tags": []
   },
   "outputs": [
    {
     "name": "stdout",
     "output_type": "stream",
     "text": [
      "F1 Score for NN in training   = 0.8826\n",
      "F1 Score for NN in validation = 0.6009\n",
      "F1 Score for NN in testing    = 0.6242\n"
     ]
    }
   ],
   "source": [
    "predict_train = np.argmax( model.predict( bow_x_train ), axis=1 )\n",
    "predict_val = np.argmax( model.predict( bow_x_val ), axis=1 )\n",
    "predict_test = np.argmax( model.predict( bow_x_test ), axis=1 )\n",
    "\n",
    "print( 'F1 Score for NN in training   = {0:.4f}'.format( f1_score( np.argmax( y_train, axis=1 ), predict_train, average='weighted' )))\n",
    "print( 'F1 Score for NN in validation = {0:.4f}'.format( f1_score( np.argmax( y_val, axis=1 ), predict_val, average='weighted' )))\n",
    "print( 'F1 Score for NN in testing    = {0:.4f}'.format( f1_score( np.argmax( y_test, axis=1 ), predict_test, average='weighted' )))"
   ]
  },
  {
   "cell_type": "code",
   "execution_count": 22,
   "metadata": {
    "execution": {
     "iopub.execute_input": "2020-10-22T20:09:11.544310Z",
     "iopub.status.busy": "2020-10-22T20:09:11.543185Z",
     "iopub.status.idle": "2020-10-22T20:09:11.612830Z",
     "shell.execute_reply": "2020-10-22T20:09:11.612145Z"
    },
    "papermill": {
     "duration": 0.244415,
     "end_time": "2020-10-22T20:09:11.612972",
     "exception": false,
     "start_time": "2020-10-22T20:09:11.368557",
     "status": "completed"
    },
    "tags": []
   },
   "outputs": [
    {
     "data": {
      "text/plain": [
       "array([[[1147,   71],\n",
       "        [ 101,  179]],\n",
       "\n",
       "       [[1403,   27],\n",
       "        [  59,    9]],\n",
       "\n",
       "       [[1366,   22],\n",
       "        [ 102,    8]],\n",
       "\n",
       "       [[1241,   25],\n",
       "        [ 217,   15]],\n",
       "\n",
       "       [[ 475,  215],\n",
       "        [  68,  740]]])"
      ]
     },
     "execution_count": 22,
     "metadata": {},
     "output_type": "execute_result"
    }
   ],
   "source": [
    "y_pred = model.predict( bow_x_test )\n",
    "y_pred = np.round( y_pred )\n",
    "\n",
    "conf_matrix = multilabel_confusion_matrix( y_test, y_pred )\n",
    "conf_matrix"
   ]
  },
  {
   "cell_type": "code",
   "execution_count": 23,
   "metadata": {
    "execution": {
     "iopub.execute_input": "2020-10-22T20:09:11.968554Z",
     "iopub.status.busy": "2020-10-22T20:09:11.967675Z",
     "iopub.status.idle": "2020-10-22T20:09:11.983514Z",
     "shell.execute_reply": "2020-10-22T20:09:11.982772Z"
    },
    "papermill": {
     "duration": 0.20048,
     "end_time": "2020-10-22T20:09:11.983666",
     "exception": false,
     "start_time": "2020-10-22T20:09:11.783186",
     "status": "completed"
    },
    "tags": []
   },
   "outputs": [
    {
     "name": "stdout",
     "output_type": "stream",
     "text": [
      "Test 0 model predicted 5\n",
      "Test 1 model predicted 1\n",
      "Test 2 model predicted 2\n",
      "Test 3 model predicted 5\n",
      "Test 4 model predicted 5\n"
     ]
    }
   ],
   "source": [
    "test1_m = 'Não gostei e nunca vou recomendar'\n",
    "test1_t = 'Horrível'\n",
    "\n",
    "test2_m = 'Não assistiria de novo'\n",
    "test2_t = 'Bem fraco'\n",
    "\n",
    "test3_m = 'Não impressiona nem decepciona'\n",
    "test3_t = 'Mais ou menos'\n",
    "\n",
    "test4_m = 'Achei bem bacana'\n",
    "test4_t = 'Bom'\n",
    "\n",
    "test5_m = 'Pretendo assistir mais vezes de tão bom'\n",
    "test5_t = 'Maravilhoso'\n",
    "\n",
    "test_list_m = [ test1_m, test2_m, test3_m, test4_m, test5_m ]\n",
    "test_list_t = [ test1_t, test2_t, test3_t, test4_t, test5_t ]\n",
    "\n",
    "test_vec_m = vectorizer_message.transform( test_list_m )\n",
    "test_vec_t = vectorizer_title.transform( test_list_t )\n",
    "test_vec = hstack( [test_vec_m, test_vec_t], format='csr' ) # join the two bows\n",
    "\n",
    "test_pred = model.predict( test_vec )\n",
    "\n",
    "test_pred_max = np.argmax( test_pred, axis=1 ) + 1\n",
    "\n",
    "for i in range( len(test_list_m) ):\n",
    "    print('Test {0} model predicted {1}'.format( i, test_pred_max[i] ))"
   ]
  },
  {
   "cell_type": "markdown",
   "metadata": {
    "papermill": {
     "duration": 0.172275,
     "end_time": "2020-10-22T20:09:12.328027",
     "exception": false,
     "start_time": "2020-10-22T20:09:12.155752",
     "status": "completed"
    },
    "tags": []
   },
   "source": [
    "### Trying different models"
   ]
  },
  {
   "cell_type": "code",
   "execution_count": 24,
   "metadata": {
    "execution": {
     "iopub.execute_input": "2020-10-22T20:09:12.681398Z",
     "iopub.status.busy": "2020-10-22T20:09:12.680346Z",
     "iopub.status.idle": "2020-10-22T20:09:12.683448Z",
     "shell.execute_reply": "2020-10-22T20:09:12.684044Z"
    },
    "papermill": {
     "duration": 0.185315,
     "end_time": "2020-10-22T20:09:12.684217",
     "exception": false,
     "start_time": "2020-10-22T20:09:12.498902",
     "status": "completed"
    },
    "tags": []
   },
   "outputs": [],
   "source": [
    "x_train, x_test, y_train, y_test = train_test_split( messages, scores, test_size=0.3, random_state=42 )\n",
    "x_val, x_test, y_val, y_test = train_test_split( x_test, y_test, test_size=0.5, random_state=42 )\n",
    "\n",
    "y_train = y_train.astype('int')\n",
    "y_val = y_val.astype('int')\n",
    "y_test = y_test.astype('int')"
   ]
  },
  {
   "cell_type": "code",
   "execution_count": 25,
   "metadata": {
    "execution": {
     "iopub.execute_input": "2020-10-22T20:09:13.032588Z",
     "iopub.status.busy": "2020-10-22T20:09:13.031646Z",
     "iopub.status.idle": "2020-10-22T20:09:13.044921Z",
     "shell.execute_reply": "2020-10-22T20:09:13.044182Z"
    },
    "papermill": {
     "duration": 0.190309,
     "end_time": "2020-10-22T20:09:13.045045",
     "exception": false,
     "start_time": "2020-10-22T20:09:12.854736",
     "status": "completed"
    },
    "tags": []
   },
   "outputs": [
    {
     "data": {
      "text/plain": [
       "MultinomialNB()"
      ]
     },
     "execution_count": 25,
     "metadata": {},
     "output_type": "execute_result"
    }
   ],
   "source": [
    "# Multinomial Naive Bayes\n",
    "nb_clf = MultinomialNB()\n",
    "nb_clf.fit( bow_x_train, y_train )"
   ]
  },
  {
   "cell_type": "code",
   "execution_count": 26,
   "metadata": {
    "execution": {
     "iopub.execute_input": "2020-10-22T20:09:13.393720Z",
     "iopub.status.busy": "2020-10-22T20:09:13.392934Z",
     "iopub.status.idle": "2020-10-22T20:09:13.407961Z",
     "shell.execute_reply": "2020-10-22T20:09:13.408777Z"
    },
    "papermill": {
     "duration": 0.192306,
     "end_time": "2020-10-22T20:09:13.408999",
     "exception": false,
     "start_time": "2020-10-22T20:09:13.216693",
     "status": "completed"
    },
    "tags": []
   },
   "outputs": [
    {
     "name": "stdout",
     "output_type": "stream",
     "text": [
      "F1 Score for MNB in training   = 0.6372\n",
      "F1 Score for MNB in validation = 0.5769\n",
      "F1 Score for MNB in testing    = 0.6012\n"
     ]
    }
   ],
   "source": [
    "predict_train = nb_clf.predict( bow_x_train )\n",
    "predict_val = nb_clf.predict( bow_x_val )\n",
    "predict_test = nb_clf.predict( bow_x_test )\n",
    "\n",
    "print( 'F1 Score for MNB in training   = {0:.4f}'.format( f1_score( y_train, predict_train, average='weighted' )))\n",
    "print( 'F1 Score for MNB in validation = {0:.4f}'.format( f1_score( y_val, predict_val, average='weighted' )))\n",
    "print( 'F1 Score for MNB in testing    = {0:.4f}'.format( f1_score( y_test, predict_test, average='weighted' )))"
   ]
  },
  {
   "cell_type": "code",
   "execution_count": 27,
   "metadata": {
    "execution": {
     "iopub.execute_input": "2020-10-22T20:09:13.755465Z",
     "iopub.status.busy": "2020-10-22T20:09:13.754667Z",
     "iopub.status.idle": "2020-10-22T20:09:19.865503Z",
     "shell.execute_reply": "2020-10-22T20:09:19.864730Z"
    },
    "papermill": {
     "duration": 6.286322,
     "end_time": "2020-10-22T20:09:19.865629",
     "exception": false,
     "start_time": "2020-10-22T20:09:13.579307",
     "status": "completed"
    },
    "tags": []
   },
   "outputs": [
    {
     "data": {
      "text/plain": [
       "SVC()"
      ]
     },
     "execution_count": 27,
     "metadata": {},
     "output_type": "execute_result"
    }
   ],
   "source": [
    "# Support Vector Machines Multi-class Classification\n",
    "svm_clf = svm.SVC()\n",
    "svm_clf.fit( bow_x_train, y_train )"
   ]
  },
  {
   "cell_type": "code",
   "execution_count": 28,
   "metadata": {
    "execution": {
     "iopub.execute_input": "2020-10-22T20:09:20.216020Z",
     "iopub.status.busy": "2020-10-22T20:09:20.214993Z",
     "iopub.status.idle": "2020-10-22T20:09:26.318613Z",
     "shell.execute_reply": "2020-10-22T20:09:26.319274Z"
    },
    "papermill": {
     "duration": 6.283853,
     "end_time": "2020-10-22T20:09:26.319437",
     "exception": false,
     "start_time": "2020-10-22T20:09:20.035584",
     "status": "completed"
    },
    "tags": []
   },
   "outputs": [
    {
     "name": "stdout",
     "output_type": "stream",
     "text": [
      "F1 Score for SVM in training   = 0.7764\n",
      "F1 Score for SVM in validation = 0.5751\n",
      "F1 Score for SVM in testing    = 0.6021\n"
     ]
    }
   ],
   "source": [
    "predict_train = svm_clf.predict( bow_x_train )\n",
    "predict_val = svm_clf.predict( bow_x_val )\n",
    "predict_test = svm_clf.predict( bow_x_test )\n",
    "\n",
    "print( 'F1 Score for SVM in training   = {0:.4f}'.format( f1_score( y_train, predict_train, average='weighted' )))\n",
    "print( 'F1 Score for SVM in validation = {0:.4f}'.format( f1_score( y_val, predict_val, average='weighted' )))\n",
    "print( 'F1 Score for SVM in testing    = {0:.4f}'.format( f1_score( y_test, predict_test, average='weighted' )))"
   ]
  },
  {
   "cell_type": "code",
   "execution_count": 29,
   "metadata": {
    "execution": {
     "iopub.execute_input": "2020-10-22T20:09:26.666217Z",
     "iopub.status.busy": "2020-10-22T20:09:26.665431Z",
     "iopub.status.idle": "2020-10-22T20:10:26.077746Z",
     "shell.execute_reply": "2020-10-22T20:10:26.078375Z"
    },
    "papermill": {
     "duration": 59.58932,
     "end_time": "2020-10-22T20:10:26.078545",
     "exception": false,
     "start_time": "2020-10-22T20:09:26.489225",
     "status": "completed"
    },
    "tags": []
   },
   "outputs": [
    {
     "data": {
      "text/plain": [
       "XGBClassifier(base_score=0.5, booster='gbtree', colsample_bylevel=1,\n",
       "              colsample_bynode=1, colsample_bytree=1, gamma=5, gpu_id=-1,\n",
       "              importance_type='gain', interaction_constraints='',\n",
       "              learning_rate=0.01, max_delta_step=0, max_depth=10,\n",
       "              min_child_weight=1, missing=nan, monotone_constraints='()',\n",
       "              n_estimators=1000, n_jobs=0, num_parallel_tree=1,\n",
       "              objective='multi:softprob', random_state=42, reg_alpha=2,\n",
       "              reg_lambda=8, scale_pos_weight=None, seed=42, subsample=0.8,\n",
       "              tree_method='exact', validate_parameters=1, verbosity=0)"
      ]
     },
     "execution_count": 29,
     "metadata": {},
     "output_type": "execute_result"
    }
   ],
   "source": [
    "# XGBoost Classifier\n",
    "xgb_clf = XGBClassifier(learning_rate = 0.01,\n",
    "                         max_depth = 10, \n",
    "                         n_estimators = 1000,\n",
    "                         objective = 'binary:logistic',\n",
    "                         verbosity =0,\n",
    "                         seed = 42,\n",
    "                         reg_lambda = 8,\n",
    "                         reg_alpha = 2,\n",
    "                         gamma = 5,\n",
    "                         subsample= 0.8,\n",
    "                         #tree_method = 'gpu_hist'\n",
    "                         )\n",
    "xgb_clf.fit( bow_x_train, y_train )"
   ]
  },
  {
   "cell_type": "code",
   "execution_count": 30,
   "metadata": {
    "execution": {
     "iopub.execute_input": "2020-10-22T20:10:26.463602Z",
     "iopub.status.busy": "2020-10-22T20:10:26.462507Z",
     "iopub.status.idle": "2020-10-22T20:10:27.609448Z",
     "shell.execute_reply": "2020-10-22T20:10:27.610504Z"
    },
    "papermill": {
     "duration": 1.361163,
     "end_time": "2020-10-22T20:10:27.610728",
     "exception": false,
     "start_time": "2020-10-22T20:10:26.249565",
     "status": "completed"
    },
    "tags": []
   },
   "outputs": [
    {
     "name": "stdout",
     "output_type": "stream",
     "text": [
      "F1 Score for XGB in training   = 0.6182\n",
      "F1 Score for XGB in validation = 0.5844\n",
      "F1 Score for XGB in testing    = 0.5889\n"
     ]
    }
   ],
   "source": [
    "predict_train = xgb_clf.predict( bow_x_train )\n",
    "predict_val = xgb_clf.predict( bow_x_val )\n",
    "predict_test = xgb_clf.predict( bow_x_test )\n",
    "\n",
    "print( 'F1 Score for XGB in training   = {0:.4f}'.format( f1_score( y_train, predict_train, average='weighted' )))\n",
    "print( 'F1 Score for XGB in validation = {0:.4f}'.format( f1_score( y_val, predict_val, average='weighted' )))\n",
    "print( 'F1 Score for XGB in testing    = {0:.4f}'.format( f1_score( y_test, predict_test, average='weighted' )))"
   ]
  },
  {
   "cell_type": "markdown",
   "metadata": {
    "papermill": {
     "duration": 0.169779,
     "end_time": "2020-10-22T20:10:28.035399",
     "exception": false,
     "start_time": "2020-10-22T20:10:27.865620",
     "status": "completed"
    },
    "tags": []
   },
   "source": [
    "## Unsupervised learning for clustering sellers"
   ]
  },
  {
   "cell_type": "code",
   "execution_count": null,
   "metadata": {
    "papermill": {
     "duration": 0.172409,
     "end_time": "2020-10-22T20:10:28.380238",
     "exception": false,
     "start_time": "2020-10-22T20:10:28.207829",
     "status": "completed"
    },
    "tags": []
   },
   "outputs": [],
   "source": []
  },
  {
   "cell_type": "markdown",
   "metadata": {
    "papermill": {
     "duration": 0.172735,
     "end_time": "2020-10-22T20:10:28.725371",
     "exception": false,
     "start_time": "2020-10-22T20:10:28.552636",
     "status": "completed"
    },
    "tags": []
   },
   "source": [
    "## Supervised Learning to predict customer revenue"
   ]
  },
  {
   "cell_type": "code",
   "execution_count": null,
   "metadata": {
    "papermill": {
     "duration": 0.172609,
     "end_time": "2020-10-22T20:10:29.069843",
     "exception": false,
     "start_time": "2020-10-22T20:10:28.897234",
     "status": "completed"
    },
    "tags": []
   },
   "outputs": [],
   "source": []
  },
  {
   "cell_type": "markdown",
   "metadata": {
    "papermill": {
     "duration": 0.171271,
     "end_time": "2020-10-22T20:10:29.413845",
     "exception": false,
     "start_time": "2020-10-22T20:10:29.242574",
     "status": "completed"
    },
    "tags": []
   },
   "source": [
    "## Supervised Learning to predict product sale quantity"
   ]
  },
  {
   "cell_type": "code",
   "execution_count": null,
   "metadata": {
    "papermill": {
     "duration": 0.171015,
     "end_time": "2020-10-22T20:10:29.756239",
     "exception": false,
     "start_time": "2020-10-22T20:10:29.585224",
     "status": "completed"
    },
    "tags": []
   },
   "outputs": [],
   "source": []
  }
 ],
 "metadata": {
  "kernelspec": {
   "display_name": "Python 3",
   "language": "python",
   "name": "python3"
  },
  "language_info": {
   "codemirror_mode": {
    "name": "ipython",
    "version": 3
   },
   "file_extension": ".py",
   "mimetype": "text/x-python",
   "name": "python",
   "nbconvert_exporter": "python",
   "pygments_lexer": "ipython3",
   "version": "3.7.6"
  },
  "papermill": {
   "duration": 176.034828,
   "end_time": "2020-10-22T20:10:30.036710",
   "environment_variables": {},
   "exception": null,
   "input_path": "__notebook__.ipynb",
   "output_path": "__notebook__.ipynb",
   "parameters": {},
   "start_time": "2020-10-22T20:07:34.001882",
   "version": "2.1.0"
  }
 },
 "nbformat": 4,
 "nbformat_minor": 4
}
