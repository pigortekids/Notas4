{
  "nbformat": 4,
  "nbformat_minor": 0,
  "metadata": {
    "colab": {
      "name": "RLN_basico.ipynb",
      "provenance": []
    },
    "kernelspec": {
      "name": "python3",
      "display_name": "Python 3"
    }
  },
  "cells": [
    {
      "cell_type": "code",
      "metadata": {
        "id": "y_Ri-qxGqyOs",
        "colab_type": "code",
        "colab": {
          "base_uri": "https://localhost:8080/",
          "height": 125
        },
        "outputId": "92b7ff6b-8a65-4c58-8539-9f25aeac1892"
      },
      "source": [
        "from google.colab import drive\n",
        "drive.mount('/content/drive')\n",
        "caminho_drive = '/content/drive/My Drive/colab/RLN/'"
      ],
      "execution_count": 1,
      "outputs": [
        {
          "output_type": "stream",
          "text": [
            "Go to this URL in a browser: https://accounts.google.com/o/oauth2/auth?client_id=947318989803-6bn6qk8qdgf4n4g3pfee6491hc0brc4i.apps.googleusercontent.com&redirect_uri=urn%3aietf%3awg%3aoauth%3a2.0%3aoob&response_type=code&scope=email%20https%3a%2f%2fwww.googleapis.com%2fauth%2fdocs.test%20https%3a%2f%2fwww.googleapis.com%2fauth%2fdrive%20https%3a%2f%2fwww.googleapis.com%2fauth%2fdrive.photos.readonly%20https%3a%2f%2fwww.googleapis.com%2fauth%2fpeopleapi.readonly\n",
            "\n",
            "Enter your authorization code:\n",
            "··········\n",
            "Mounted at /content/drive\n"
          ],
          "name": "stdout"
        }
      ]
    },
    {
      "cell_type": "code",
      "metadata": {
        "id": "Lkr9WK1urAON",
        "colab_type": "code",
        "colab": {
          "base_uri": "https://localhost:8080/",
          "height": 52
        },
        "outputId": "c41546ff-61b9-4429-9b75-f1b7b386e72d"
      },
      "source": [
        "!pip install nltk"
      ],
      "execution_count": 2,
      "outputs": [
        {
          "output_type": "stream",
          "text": [
            "Requirement already satisfied: nltk in /usr/local/lib/python3.6/dist-packages (3.2.5)\n",
            "Requirement already satisfied: six in /usr/local/lib/python3.6/dist-packages (from nltk) (1.12.0)\n"
          ],
          "name": "stdout"
        }
      ]
    },
    {
      "cell_type": "code",
      "metadata": {
        "id": "Wue9DhQcrEe1",
        "colab_type": "code",
        "colab": {
          "base_uri": "https://localhost:8080/",
          "height": 834
        },
        "outputId": "27982ff6-cdde-4122-e541-6b16d671b491"
      },
      "source": [
        "import nltk\n",
        "nltk.download( 'popular' )\n",
        "import pandas as pd\n",
        "import numpy as np"
      ],
      "execution_count": 3,
      "outputs": [
        {
          "output_type": "stream",
          "text": [
            "[nltk_data] Downloading collection 'popular'\n",
            "[nltk_data]    | \n",
            "[nltk_data]    | Downloading package cmudict to /root/nltk_data...\n",
            "[nltk_data]    |   Unzipping corpora/cmudict.zip.\n",
            "[nltk_data]    | Downloading package gazetteers to /root/nltk_data...\n",
            "[nltk_data]    |   Unzipping corpora/gazetteers.zip.\n",
            "[nltk_data]    | Downloading package genesis to /root/nltk_data...\n",
            "[nltk_data]    |   Unzipping corpora/genesis.zip.\n",
            "[nltk_data]    | Downloading package gutenberg to /root/nltk_data...\n",
            "[nltk_data]    |   Unzipping corpora/gutenberg.zip.\n",
            "[nltk_data]    | Downloading package inaugural to /root/nltk_data...\n",
            "[nltk_data]    |   Unzipping corpora/inaugural.zip.\n",
            "[nltk_data]    | Downloading package movie_reviews to\n",
            "[nltk_data]    |     /root/nltk_data...\n",
            "[nltk_data]    |   Unzipping corpora/movie_reviews.zip.\n",
            "[nltk_data]    | Downloading package names to /root/nltk_data...\n",
            "[nltk_data]    |   Unzipping corpora/names.zip.\n",
            "[nltk_data]    | Downloading package shakespeare to /root/nltk_data...\n",
            "[nltk_data]    |   Unzipping corpora/shakespeare.zip.\n",
            "[nltk_data]    | Downloading package stopwords to /root/nltk_data...\n",
            "[nltk_data]    |   Unzipping corpora/stopwords.zip.\n",
            "[nltk_data]    | Downloading package treebank to /root/nltk_data...\n",
            "[nltk_data]    |   Unzipping corpora/treebank.zip.\n",
            "[nltk_data]    | Downloading package twitter_samples to\n",
            "[nltk_data]    |     /root/nltk_data...\n",
            "[nltk_data]    |   Unzipping corpora/twitter_samples.zip.\n",
            "[nltk_data]    | Downloading package omw to /root/nltk_data...\n",
            "[nltk_data]    |   Unzipping corpora/omw.zip.\n",
            "[nltk_data]    | Downloading package wordnet to /root/nltk_data...\n",
            "[nltk_data]    |   Unzipping corpora/wordnet.zip.\n",
            "[nltk_data]    | Downloading package wordnet_ic to /root/nltk_data...\n",
            "[nltk_data]    |   Unzipping corpora/wordnet_ic.zip.\n",
            "[nltk_data]    | Downloading package words to /root/nltk_data...\n",
            "[nltk_data]    |   Unzipping corpora/words.zip.\n",
            "[nltk_data]    | Downloading package maxent_ne_chunker to\n",
            "[nltk_data]    |     /root/nltk_data...\n",
            "[nltk_data]    |   Unzipping chunkers/maxent_ne_chunker.zip.\n",
            "[nltk_data]    | Downloading package punkt to /root/nltk_data...\n",
            "[nltk_data]    |   Unzipping tokenizers/punkt.zip.\n",
            "[nltk_data]    | Downloading package snowball_data to\n",
            "[nltk_data]    |     /root/nltk_data...\n",
            "[nltk_data]    | Downloading package averaged_perceptron_tagger to\n",
            "[nltk_data]    |     /root/nltk_data...\n",
            "[nltk_data]    |   Unzipping taggers/averaged_perceptron_tagger.zip.\n",
            "[nltk_data]    | \n",
            "[nltk_data]  Done downloading collection popular\n"
          ],
          "name": "stdout"
        }
      ]
    },
    {
      "cell_type": "code",
      "metadata": {
        "id": "mj0oO5n5rL5_",
        "colab_type": "code",
        "colab": {}
      },
      "source": [
        "texto0 = 'Eu gosto de assistir filmes de casamento entre cachorros belgas, mas apenas quando estou usando uma meia no pé esquerdo'\n",
        "texto1 = 'A minha maior vontade na morte é comer macarrão de cabeça para baixo, para poder apreciar o nude do Trump'"
      ],
      "execution_count": 0,
      "outputs": []
    },
    {
      "cell_type": "code",
      "metadata": {
        "id": "cE5Ot0gorr0P",
        "colab_type": "code",
        "colab": {
          "base_uri": "https://localhost:8080/",
          "height": 194
        },
        "outputId": "4c2a63af-777e-4352-81df-f6c9dad79eb4"
      },
      "source": [
        "from nltk.tokenize import word_tokenize\n",
        "\n",
        "w_token0 = word_tokenize(texto0)\n",
        "w_token1 = word_tokenize(texto1)\n",
        "\n",
        "w_token0[:10]"
      ],
      "execution_count": 24,
      "outputs": [
        {
          "output_type": "execute_result",
          "data": {
            "text/plain": [
              "['Eu',\n",
              " 'gosto',\n",
              " 'de',\n",
              " 'assistir',\n",
              " 'filmes',\n",
              " 'de',\n",
              " 'casamento',\n",
              " 'entre',\n",
              " 'cachorros',\n",
              " 'belgas']"
            ]
          },
          "metadata": {
            "tags": []
          },
          "execution_count": 24
        }
      ]
    },
    {
      "cell_type": "code",
      "metadata": {
        "id": "5hn6uvbwr3vR",
        "colab_type": "code",
        "colab": {
          "base_uri": "https://localhost:8080/",
          "height": 34
        },
        "outputId": "e44628b6-f2f5-4c3a-ea5b-1534881c700e"
      },
      "source": [
        "from nltk.tokenize import sent_tokenize\n",
        "\n",
        "s_token0 = sent_tokenize(texto0)\n",
        "s_token1 = sent_tokenize(texto1)\n",
        "\n",
        "s_token0"
      ],
      "execution_count": 14,
      "outputs": [
        {
          "output_type": "execute_result",
          "data": {
            "text/plain": [
              "['Eu gosto de assistir filmes de casamento entre cachorros belgas, mas apenas quando estou usando uma meia']"
            ]
          },
          "metadata": {
            "tags": []
          },
          "execution_count": 14
        }
      ]
    },
    {
      "cell_type": "code",
      "metadata": {
        "id": "C46SfGSatVyQ",
        "colab_type": "code",
        "colab": {
          "base_uri": "https://localhost:8080/",
          "height": 34
        },
        "outputId": "2fe19b43-2d53-4cd4-cd28-3e0b024c7fdf"
      },
      "source": [
        "from nltk.corpus import stopwords\n",
        "\n",
        "stw = stopwords.words('portuguese')\n",
        "\n",
        "stw[:10]"
      ],
      "execution_count": 18,
      "outputs": [
        {
          "output_type": "execute_result",
          "data": {
            "text/plain": [
              "['de', 'a', 'o', 'que', 'e', 'é', 'do', 'da', 'em', 'um']"
            ]
          },
          "metadata": {
            "tags": []
          },
          "execution_count": 18
        }
      ]
    },
    {
      "cell_type": "code",
      "metadata": {
        "id": "554X5Qj5ts6K",
        "colab_type": "code",
        "colab": {
          "base_uri": "https://localhost:8080/",
          "height": 34
        },
        "outputId": "555b14fd-5778-4ec1-cc00-775bbb71784d"
      },
      "source": [
        "from string import punctuation\n",
        "\n",
        "pontuacao = list( punctuation )\n",
        "\n",
        "pontuacao[:10]"
      ],
      "execution_count": 20,
      "outputs": [
        {
          "output_type": "execute_result",
          "data": {
            "text/plain": [
              "['!', '\"', '#', '$', '%', '&', \"'\", '(', ')', '*']"
            ]
          },
          "metadata": {
            "tags": []
          },
          "execution_count": 20
        }
      ]
    },
    {
      "cell_type": "code",
      "metadata": {
        "id": "en7_rklMuKLJ",
        "colab_type": "code",
        "colab": {
          "base_uri": "https://localhost:8080/",
          "height": 194
        },
        "outputId": "610d4110-694a-4818-b1b3-c7d3cbc876bb"
      },
      "source": [
        "stopwords_pt = set( stw + pontuacao ) #cria lista sem repetir elementos\n",
        "\n",
        "list(stopwords_pt)[:10]"
      ],
      "execution_count": 30,
      "outputs": [
        {
          "output_type": "execute_result",
          "data": {
            "text/plain": [
              "['houvesse',\n",
              " 'me',\n",
              " 'terei',\n",
              " '?',\n",
              " 'nossa',\n",
              " 'hajam',\n",
              " 'aqueles',\n",
              " 'estava',\n",
              " 'sejamos',\n",
              " 'numa']"
            ]
          },
          "metadata": {
            "tags": []
          },
          "execution_count": 30
        }
      ]
    },
    {
      "cell_type": "code",
      "metadata": {
        "id": "xEp_TXWEvm6h",
        "colab_type": "code",
        "colab": {
          "base_uri": "https://localhost:8080/",
          "height": 194
        },
        "outputId": "454bd771-44bc-4fbd-b544-8c17ff1b1439"
      },
      "source": [
        "w_token_0_sem_stopwords = [palavra for palavra in w_token0 if palavra not in stopwords_pt]\n",
        "\n",
        "w_token_0_sem_stopwords[:10]"
      ],
      "execution_count": 33,
      "outputs": [
        {
          "output_type": "execute_result",
          "data": {
            "text/plain": [
              "['Eu',\n",
              " 'gosto',\n",
              " 'assistir',\n",
              " 'filmes',\n",
              " 'casamento',\n",
              " 'cachorros',\n",
              " 'belgas',\n",
              " 'apenas',\n",
              " 'usando',\n",
              " 'meia']"
            ]
          },
          "metadata": {
            "tags": []
          },
          "execution_count": 33
        }
      ]
    },
    {
      "cell_type": "code",
      "metadata": {
        "id": "zTd6B21-wxFh",
        "colab_type": "code",
        "colab": {
          "base_uri": "https://localhost:8080/",
          "height": 194
        },
        "outputId": "aebc744c-60b7-48f5-8365-20baea62504b"
      },
      "source": [
        "w_token_1_sem_stopwords = [palavra for palavra in w_token1 if palavra not in stopwords_pt]\n",
        "\n",
        "w_token_1_sem_stopwords[:10]"
      ],
      "execution_count": 34,
      "outputs": [
        {
          "output_type": "execute_result",
          "data": {
            "text/plain": [
              "['A',\n",
              " 'maior',\n",
              " 'vontade',\n",
              " 'morte',\n",
              " 'comer',\n",
              " 'macarrão',\n",
              " 'cabeça',\n",
              " 'baixo',\n",
              " 'poder',\n",
              " 'apreciar']"
            ]
          },
          "metadata": {
            "tags": []
          },
          "execution_count": 34
        }
      ]
    },
    {
      "cell_type": "code",
      "metadata": {
        "id": "08ds4w4Dxt1T",
        "colab_type": "code",
        "colab": {
          "base_uri": "https://localhost:8080/",
          "height": 52
        },
        "outputId": "989648af-f903-47db-894c-970d6f19fbd9"
      },
      "source": [
        "nltk.download( 'rslp' )\n",
        "from nltk.stem import RSLPStemmer\n",
        "#ou\n",
        "from nltk.stem.snowball import SnowballStemmer\n",
        "\n",
        "stemmer = RSLPStemmer()\n",
        "#stemmer = SnowballStemmer( 'portuguese' )"
      ],
      "execution_count": 46,
      "outputs": [
        {
          "output_type": "stream",
          "text": [
            "[nltk_data] Downloading package rslp to /root/nltk_data...\n",
            "[nltk_data]   Package rslp is already up-to-date!\n"
          ],
          "name": "stdout"
        }
      ]
    },
    {
      "cell_type": "code",
      "metadata": {
        "id": "uMtgZ-ulyEzK",
        "colab_type": "code",
        "colab": {
          "base_uri": "https://localhost:8080/",
          "height": 87
        },
        "outputId": "4ff91600-73d9-42c4-dd72-e1a8a03a983c"
      },
      "source": [
        "print(stemmer.stem( 'andar' ))\n",
        "print(stemmer.stem( 'andei' ))\n",
        "print(stemmer.stem( 'andando' ))\n",
        "print(stemmer.stem( 'andarei' ))"
      ],
      "execution_count": 40,
      "outputs": [
        {
          "output_type": "stream",
          "text": [
            "and\n",
            "and\n",
            "and\n",
            "and\n"
          ],
          "name": "stdout"
        }
      ]
    },
    {
      "cell_type": "code",
      "metadata": {
        "id": "8p_XhIw7ydEd",
        "colab_type": "code",
        "colab": {
          "base_uri": "https://localhost:8080/",
          "height": 34
        },
        "outputId": "ae268e1a-4f7d-476a-d9f6-250a32dcbf14"
      },
      "source": [
        "w_token_0_sem_stopwords_stem = []\n",
        "for palavra in w_token_0_sem_stopwords:\n",
        "    w_token_0_sem_stopwords_stem.append( stemmer.stem( palavra ) )\n",
        "\n",
        "w_token_0_sem_stopwords_stem[:10]"
      ],
      "execution_count": 42,
      "outputs": [
        {
          "output_type": "execute_result",
          "data": {
            "text/plain": [
              "['eu', 'gost', 'assist', 'film', 'cas', 'cachorr', 'belg', 'apen', 'us', 'mei']"
            ]
          },
          "metadata": {
            "tags": []
          },
          "execution_count": 42
        }
      ]
    },
    {
      "cell_type": "code",
      "metadata": {
        "id": "HIXveMnVyrvc",
        "colab_type": "code",
        "colab": {
          "base_uri": "https://localhost:8080/",
          "height": 194
        },
        "outputId": "0992741e-edb3-4e82-a8e4-87616b4ec99e"
      },
      "source": [
        "w_token_1_sem_stopwords_stem = []\n",
        "for palavra in w_token_1_sem_stopwords:\n",
        "    w_token_1_sem_stopwords_stem.append( stemmer.stem( palavra ) )\n",
        "\n",
        "w_token_1_sem_stopwords_stem[:10]"
      ],
      "execution_count": 44,
      "outputs": [
        {
          "output_type": "execute_result",
          "data": {
            "text/plain": [
              "['a',\n",
              " 'mai',\n",
              " 'vontad',\n",
              " 'mort',\n",
              " 'com',\n",
              " 'macarr',\n",
              " 'cabeç',\n",
              " 'baix',\n",
              " 'pod',\n",
              " 'apreci']"
            ]
          },
          "metadata": {
            "tags": []
          },
          "execution_count": 44
        }
      ]
    },
    {
      "cell_type": "code",
      "metadata": {
        "id": "4OLx_azXzHOB",
        "colab_type": "code",
        "colab": {}
      },
      "source": [
        "from sklearn.feature_extraction.text import CountVectorizer\n",
        "\n",
        "vectorizer = CountVectorizer( analyzer='word' )\n",
        "\n",
        "lista_textos = [ texto0, texto1 ]"
      ],
      "execution_count": 0,
      "outputs": []
    },
    {
      "cell_type": "code",
      "metadata": {
        "id": "ZtAehgtGzmwi",
        "colab_type": "code",
        "colab": {
          "base_uri": "https://localhost:8080/",
          "height": 621
        },
        "outputId": "da86b3ec-2deb-4c90-8d2c-8fa94f774b62"
      },
      "source": [
        "vectorizer.fit( lista_textos )\n",
        "\n",
        "vectorizer.vocabulary_"
      ],
      "execution_count": 50,
      "outputs": [
        {
          "output_type": "execute_result",
          "data": {
            "text/plain": [
              "{'apenas': 0,\n",
              " 'apreciar': 1,\n",
              " 'assistir': 2,\n",
              " 'baixo': 3,\n",
              " 'belgas': 4,\n",
              " 'cabeça': 5,\n",
              " 'cachorros': 6,\n",
              " 'casamento': 7,\n",
              " 'comer': 8,\n",
              " 'de': 9,\n",
              " 'do': 10,\n",
              " 'entre': 11,\n",
              " 'esquerdo': 12,\n",
              " 'estou': 13,\n",
              " 'eu': 14,\n",
              " 'filmes': 15,\n",
              " 'gosto': 16,\n",
              " 'macarrão': 17,\n",
              " 'maior': 18,\n",
              " 'mas': 19,\n",
              " 'meia': 20,\n",
              " 'minha': 21,\n",
              " 'morte': 22,\n",
              " 'na': 23,\n",
              " 'no': 24,\n",
              " 'nude': 25,\n",
              " 'para': 26,\n",
              " 'poder': 27,\n",
              " 'pé': 28,\n",
              " 'quando': 29,\n",
              " 'trump': 30,\n",
              " 'uma': 31,\n",
              " 'usando': 32,\n",
              " 'vontade': 33}"
            ]
          },
          "metadata": {
            "tags": []
          },
          "execution_count": 50
        }
      ]
    },
    {
      "cell_type": "code",
      "metadata": {
        "id": "GRn4OSbT0RSF",
        "colab_type": "code",
        "colab": {
          "base_uri": "https://localhost:8080/",
          "height": 52
        },
        "outputId": "4986719b-8f20-44bb-be03-b2c4e1ba0495"
      },
      "source": [
        "BOW = vectorizer.transform( lista_textos )\n",
        "\n",
        "BOW"
      ],
      "execution_count": 51,
      "outputs": [
        {
          "output_type": "execute_result",
          "data": {
            "text/plain": [
              "<2x34 sparse matrix of type '<class 'numpy.int64'>'\n",
              "\twith 35 stored elements in Compressed Sparse Row format>"
            ]
          },
          "metadata": {
            "tags": []
          },
          "execution_count": 51
        }
      ]
    },
    {
      "cell_type": "code",
      "metadata": {
        "id": "6Q-FMxVf0n77",
        "colab_type": "code",
        "colab": {
          "base_uri": "https://localhost:8080/",
          "height": 87
        },
        "outputId": "b0d1993a-f179-4fb5-ff44-295b612ef556"
      },
      "source": [
        "BOW.toarray()"
      ],
      "execution_count": 52,
      "outputs": [
        {
          "output_type": "execute_result",
          "data": {
            "text/plain": [
              "array([[1, 0, 1, 0, 1, 0, 1, 1, 0, 2, 0, 1, 1, 1, 1, 1, 1, 0, 0, 1, 1, 0,\n",
              "        0, 0, 1, 0, 0, 0, 1, 1, 0, 1, 1, 0],\n",
              "       [0, 1, 0, 1, 0, 1, 0, 0, 1, 1, 1, 0, 0, 0, 0, 0, 0, 1, 1, 0, 0, 1,\n",
              "        1, 1, 0, 1, 2, 1, 0, 0, 1, 0, 0, 1]])"
            ]
          },
          "metadata": {
            "tags": []
          },
          "execution_count": 52
        }
      ]
    },
    {
      "cell_type": "code",
      "metadata": {
        "id": "TvFj1zKX1AZI",
        "colab_type": "code",
        "colab": {
          "base_uri": "https://localhost:8080/",
          "height": 197
        },
        "outputId": "d95c278c-a457-4a7c-a86f-8e43a81f3d4c"
      },
      "source": [
        "dataset = pd.read_csv( caminho_drive + 'imdb-reviews-pt-br.csv', encoding='utf-8' )\n",
        "\n",
        "dataset.head()"
      ],
      "execution_count": 53,
      "outputs": [
        {
          "output_type": "execute_result",
          "data": {
            "text/html": [
              "<div>\n",
              "<style scoped>\n",
              "    .dataframe tbody tr th:only-of-type {\n",
              "        vertical-align: middle;\n",
              "    }\n",
              "\n",
              "    .dataframe tbody tr th {\n",
              "        vertical-align: top;\n",
              "    }\n",
              "\n",
              "    .dataframe thead th {\n",
              "        text-align: right;\n",
              "    }\n",
              "</style>\n",
              "<table border=\"1\" class=\"dataframe\">\n",
              "  <thead>\n",
              "    <tr style=\"text-align: right;\">\n",
              "      <th></th>\n",
              "      <th>id</th>\n",
              "      <th>text_en</th>\n",
              "      <th>text_pt</th>\n",
              "      <th>sentiment</th>\n",
              "    </tr>\n",
              "  </thead>\n",
              "  <tbody>\n",
              "    <tr>\n",
              "      <th>0</th>\n",
              "      <td>1</td>\n",
              "      <td>Once again Mr. Costner has dragged out a movie...</td>\n",
              "      <td>Mais uma vez, o Sr. Costner arrumou um filme p...</td>\n",
              "      <td>neg</td>\n",
              "    </tr>\n",
              "    <tr>\n",
              "      <th>1</th>\n",
              "      <td>2</td>\n",
              "      <td>This is an example of why the majority of acti...</td>\n",
              "      <td>Este é um exemplo do motivo pelo qual a maiori...</td>\n",
              "      <td>neg</td>\n",
              "    </tr>\n",
              "    <tr>\n",
              "      <th>2</th>\n",
              "      <td>3</td>\n",
              "      <td>First of all I hate those moronic rappers, who...</td>\n",
              "      <td>Primeiro de tudo eu odeio esses raps imbecis, ...</td>\n",
              "      <td>neg</td>\n",
              "    </tr>\n",
              "    <tr>\n",
              "      <th>3</th>\n",
              "      <td>4</td>\n",
              "      <td>Not even the Beatles could write songs everyon...</td>\n",
              "      <td>Nem mesmo os Beatles puderam escrever músicas ...</td>\n",
              "      <td>neg</td>\n",
              "    </tr>\n",
              "    <tr>\n",
              "      <th>4</th>\n",
              "      <td>5</td>\n",
              "      <td>Brass pictures movies is not a fitting word fo...</td>\n",
              "      <td>Filmes de fotos de latão não é uma palavra apr...</td>\n",
              "      <td>neg</td>\n",
              "    </tr>\n",
              "  </tbody>\n",
              "</table>\n",
              "</div>"
            ],
            "text/plain": [
              "   id  ... sentiment\n",
              "0   1  ...       neg\n",
              "1   2  ...       neg\n",
              "2   3  ...       neg\n",
              "3   4  ...       neg\n",
              "4   5  ...       neg\n",
              "\n",
              "[5 rows x 4 columns]"
            ]
          },
          "metadata": {
            "tags": []
          },
          "execution_count": 53
        }
      ]
    },
    {
      "cell_type": "code",
      "metadata": {
        "id": "01ud7XYU1kkB",
        "colab_type": "code",
        "colab": {
          "base_uri": "https://localhost:8080/",
          "height": 197
        },
        "outputId": "3ea12957-d393-49d8-9af8-c98b99d3eb4b"
      },
      "source": [
        "df_pt = dataset[ ['text_pt', 'sentiment'] ]\n",
        "\n",
        "df_pt.head()"
      ],
      "execution_count": 60,
      "outputs": [
        {
          "output_type": "execute_result",
          "data": {
            "text/html": [
              "<div>\n",
              "<style scoped>\n",
              "    .dataframe tbody tr th:only-of-type {\n",
              "        vertical-align: middle;\n",
              "    }\n",
              "\n",
              "    .dataframe tbody tr th {\n",
              "        vertical-align: top;\n",
              "    }\n",
              "\n",
              "    .dataframe thead th {\n",
              "        text-align: right;\n",
              "    }\n",
              "</style>\n",
              "<table border=\"1\" class=\"dataframe\">\n",
              "  <thead>\n",
              "    <tr style=\"text-align: right;\">\n",
              "      <th></th>\n",
              "      <th>text_pt</th>\n",
              "      <th>sentiment</th>\n",
              "    </tr>\n",
              "  </thead>\n",
              "  <tbody>\n",
              "    <tr>\n",
              "      <th>0</th>\n",
              "      <td>Mais uma vez, o Sr. Costner arrumou um filme p...</td>\n",
              "      <td>neg</td>\n",
              "    </tr>\n",
              "    <tr>\n",
              "      <th>1</th>\n",
              "      <td>Este é um exemplo do motivo pelo qual a maiori...</td>\n",
              "      <td>neg</td>\n",
              "    </tr>\n",
              "    <tr>\n",
              "      <th>2</th>\n",
              "      <td>Primeiro de tudo eu odeio esses raps imbecis, ...</td>\n",
              "      <td>neg</td>\n",
              "    </tr>\n",
              "    <tr>\n",
              "      <th>3</th>\n",
              "      <td>Nem mesmo os Beatles puderam escrever músicas ...</td>\n",
              "      <td>neg</td>\n",
              "    </tr>\n",
              "    <tr>\n",
              "      <th>4</th>\n",
              "      <td>Filmes de fotos de latão não é uma palavra apr...</td>\n",
              "      <td>neg</td>\n",
              "    </tr>\n",
              "  </tbody>\n",
              "</table>\n",
              "</div>"
            ],
            "text/plain": [
              "                                             text_pt sentiment\n",
              "0  Mais uma vez, o Sr. Costner arrumou um filme p...       neg\n",
              "1  Este é um exemplo do motivo pelo qual a maiori...       neg\n",
              "2  Primeiro de tudo eu odeio esses raps imbecis, ...       neg\n",
              "3  Nem mesmo os Beatles puderam escrever músicas ...       neg\n",
              "4  Filmes de fotos de latão não é uma palavra apr...       neg"
            ]
          },
          "metadata": {
            "tags": []
          },
          "execution_count": 60
        }
      ]
    },
    {
      "cell_type": "code",
      "metadata": {
        "id": "A9xwFNnu1yMn",
        "colab_type": "code",
        "colab": {
          "base_uri": "https://localhost:8080/",
          "height": 34
        },
        "outputId": "e7712757-7f31-4be5-a6c8-68ee5d4cb1c5"
      },
      "source": [
        "df_pt.sentiment.unique()"
      ],
      "execution_count": 56,
      "outputs": [
        {
          "output_type": "execute_result",
          "data": {
            "text/plain": [
              "array(['neg', 'pos'], dtype=object)"
            ]
          },
          "metadata": {
            "tags": []
          },
          "execution_count": 56
        }
      ]
    },
    {
      "cell_type": "code",
      "metadata": {
        "id": "DIVLCbxi1_Fz",
        "colab_type": "code",
        "colab": {
          "base_uri": "https://localhost:8080/",
          "height": 286
        },
        "outputId": "b00613ac-3d5c-4cfe-80be-ce97747eccfe"
      },
      "source": [
        "df_pt.sentiment.replace( {'neg':0, 'pos':1}, inplace=True )\n",
        "\n",
        "df_pt.head()"
      ],
      "execution_count": 61,
      "outputs": [
        {
          "output_type": "stream",
          "text": [
            "/usr/local/lib/python3.6/dist-packages/pandas/core/generic.py:6746: SettingWithCopyWarning: \n",
            "A value is trying to be set on a copy of a slice from a DataFrame\n",
            "\n",
            "See the caveats in the documentation: https://pandas.pydata.org/pandas-docs/stable/user_guide/indexing.html#returning-a-view-versus-a-copy\n",
            "  self._update_inplace(new_data)\n"
          ],
          "name": "stderr"
        },
        {
          "output_type": "execute_result",
          "data": {
            "text/html": [
              "<div>\n",
              "<style scoped>\n",
              "    .dataframe tbody tr th:only-of-type {\n",
              "        vertical-align: middle;\n",
              "    }\n",
              "\n",
              "    .dataframe tbody tr th {\n",
              "        vertical-align: top;\n",
              "    }\n",
              "\n",
              "    .dataframe thead th {\n",
              "        text-align: right;\n",
              "    }\n",
              "</style>\n",
              "<table border=\"1\" class=\"dataframe\">\n",
              "  <thead>\n",
              "    <tr style=\"text-align: right;\">\n",
              "      <th></th>\n",
              "      <th>text_pt</th>\n",
              "      <th>sentiment</th>\n",
              "    </tr>\n",
              "  </thead>\n",
              "  <tbody>\n",
              "    <tr>\n",
              "      <th>0</th>\n",
              "      <td>Mais uma vez, o Sr. Costner arrumou um filme p...</td>\n",
              "      <td>0</td>\n",
              "    </tr>\n",
              "    <tr>\n",
              "      <th>1</th>\n",
              "      <td>Este é um exemplo do motivo pelo qual a maiori...</td>\n",
              "      <td>0</td>\n",
              "    </tr>\n",
              "    <tr>\n",
              "      <th>2</th>\n",
              "      <td>Primeiro de tudo eu odeio esses raps imbecis, ...</td>\n",
              "      <td>0</td>\n",
              "    </tr>\n",
              "    <tr>\n",
              "      <th>3</th>\n",
              "      <td>Nem mesmo os Beatles puderam escrever músicas ...</td>\n",
              "      <td>0</td>\n",
              "    </tr>\n",
              "    <tr>\n",
              "      <th>4</th>\n",
              "      <td>Filmes de fotos de latão não é uma palavra apr...</td>\n",
              "      <td>0</td>\n",
              "    </tr>\n",
              "  </tbody>\n",
              "</table>\n",
              "</div>"
            ],
            "text/plain": [
              "                                             text_pt  sentiment\n",
              "0  Mais uma vez, o Sr. Costner arrumou um filme p...          0\n",
              "1  Este é um exemplo do motivo pelo qual a maiori...          0\n",
              "2  Primeiro de tudo eu odeio esses raps imbecis, ...          0\n",
              "3  Nem mesmo os Beatles puderam escrever músicas ...          0\n",
              "4  Filmes de fotos de latão não é uma palavra apr...          0"
            ]
          },
          "metadata": {
            "tags": []
          },
          "execution_count": 61
        }
      ]
    },
    {
      "cell_type": "code",
      "metadata": {
        "id": "_mUrWwAn2XQZ",
        "colab_type": "code",
        "colab": {}
      },
      "source": [
        "reviews = df_pt.text_pt.values #X\n",
        "sentiments = df_pt.sentiment.values #Y"
      ],
      "execution_count": 0,
      "outputs": []
    },
    {
      "cell_type": "code",
      "metadata": {
        "id": "qJuDtmDv4NwD",
        "colab_type": "code",
        "colab": {}
      },
      "source": [
        "from sklearn.model_selection import train_test_split\n",
        "\n",
        "x_train, x_test, y_train, y_test = train_test_split( reviews, sentiments, test_size=0.2, random_state=42 )"
      ],
      "execution_count": 0,
      "outputs": []
    },
    {
      "cell_type": "code",
      "metadata": {
        "id": "cwV-cAFv62_o",
        "colab_type": "code",
        "colab": {
          "base_uri": "https://localhost:8080/",
          "height": 123
        },
        "outputId": "7915ebe9-f060-4aab-e874-8dc9b2c3fed6"
      },
      "source": [
        "vectorizer = CountVectorizer( analyzer='word' )\n",
        "\n",
        "vectorizer.fit(reviews)"
      ],
      "execution_count": 72,
      "outputs": [
        {
          "output_type": "execute_result",
          "data": {
            "text/plain": [
              "CountVectorizer(analyzer='word', binary=False, decode_error='strict',\n",
              "                dtype=<class 'numpy.int64'>, encoding='utf-8', input='content',\n",
              "                lowercase=True, max_df=1.0, max_features=None, min_df=1,\n",
              "                ngram_range=(1, 1), preprocessor=None, stop_words=None,\n",
              "                strip_accents=None, token_pattern='(?u)\\\\b\\\\w\\\\w+\\\\b',\n",
              "                tokenizer=None, vocabulary=None)"
            ]
          },
          "metadata": {
            "tags": []
          },
          "execution_count": 72
        }
      ]
    },
    {
      "cell_type": "code",
      "metadata": {
        "id": "YStQKh8Z5MfS",
        "colab_type": "code",
        "colab": {}
      },
      "source": [
        "BOW_x_train = vectorizer.transform( x_train )\n",
        "BOW_x_test = vectorizer.transform( x_test )"
      ],
      "execution_count": 0,
      "outputs": []
    },
    {
      "cell_type": "code",
      "metadata": {
        "id": "syCKbuV_5jsQ",
        "colab_type": "code",
        "colab": {
          "base_uri": "https://localhost:8080/",
          "height": 52
        },
        "outputId": "aae6080d-87d7-4e90-8e82-90ed05c98dbd"
      },
      "source": [
        "BOW_x_train"
      ],
      "execution_count": 74,
      "outputs": [
        {
          "output_type": "execute_result",
          "data": {
            "text/plain": [
              "<39567x129621 sparse matrix of type '<class 'numpy.int64'>'\n",
              "\twith 5306324 stored elements in Compressed Sparse Row format>"
            ]
          },
          "metadata": {
            "tags": []
          },
          "execution_count": 74
        }
      ]
    },
    {
      "cell_type": "code",
      "metadata": {
        "id": "imyzdlFP5sZx",
        "colab_type": "code",
        "colab": {
          "base_uri": "https://localhost:8080/",
          "height": 52
        },
        "outputId": "0983334a-2dfc-43e2-cdf7-dde5a2ad4dc2"
      },
      "source": [
        "BOW_x_test"
      ],
      "execution_count": 75,
      "outputs": [
        {
          "output_type": "execute_result",
          "data": {
            "text/plain": [
              "<9892x129621 sparse matrix of type '<class 'numpy.int64'>'\n",
              "\twith 1314176 stored elements in Compressed Sparse Row format>"
            ]
          },
          "metadata": {
            "tags": []
          },
          "execution_count": 75
        }
      ]
    },
    {
      "cell_type": "code",
      "metadata": {
        "id": "Ph9ydC7853FN",
        "colab_type": "code",
        "colab": {
          "base_uri": "https://localhost:8080/",
          "height": 34
        },
        "outputId": "f10ffc76-9632-476f-a3d8-f5b234429e54"
      },
      "source": [
        "from sklearn.naive_bayes import MultinomialNB\n",
        "\n",
        "modelo = MultinomialNB()\n",
        "modelo.fit( BOW_x_train, y_train )"
      ],
      "execution_count": 78,
      "outputs": [
        {
          "output_type": "execute_result",
          "data": {
            "text/plain": [
              "MultinomialNB(alpha=1.0, class_prior=None, fit_prior=True)"
            ]
          },
          "metadata": {
            "tags": []
          },
          "execution_count": 78
        }
      ]
    },
    {
      "cell_type": "code",
      "metadata": {
        "id": "FhEhKKOZ7IL3",
        "colab_type": "code",
        "colab": {
          "base_uri": "https://localhost:8080/",
          "height": 34
        },
        "outputId": "a14c4e90-e5e7-4bf4-b18d-04003d45615a"
      },
      "source": [
        "frase0 = 'Belo filme, achei o final emocionante'\n",
        "frase1 = 'Esperava mais desse diretor, já foi melhor'\n",
        "\n",
        "lista_frases = [frase0, frase1]\n",
        "\n",
        "teste = vectorizer.transform( lista_frases ).toarray()\n",
        "saida = modelo.predict( teste )\n",
        "\n",
        "saida"
      ],
      "execution_count": 83,
      "outputs": [
        {
          "output_type": "execute_result",
          "data": {
            "text/plain": [
              "array([1, 0])"
            ]
          },
          "metadata": {
            "tags": []
          },
          "execution_count": 83
        }
      ]
    },
    {
      "cell_type": "code",
      "metadata": {
        "id": "6y3L88Wa8Bbt",
        "colab_type": "code",
        "colab": {
          "base_uri": "https://localhost:8080/",
          "height": 52
        },
        "outputId": "64ba3576-c7d2-44e3-f594-63b992367d02"
      },
      "source": [
        "print( modelo.score( BOW_x_train, y_train ) )\n",
        "print( modelo.score( BOW_x_test, y_test ) )"
      ],
      "execution_count": 84,
      "outputs": [
        {
          "output_type": "stream",
          "text": [
            "0.9039350974296763\n",
            "0.8500808734330773\n"
          ],
          "name": "stdout"
        }
      ]
    },
    {
      "cell_type": "code",
      "metadata": {
        "id": "cPpKM-OF8W-4",
        "colab_type": "code",
        "colab": {
          "base_uri": "https://localhost:8080/",
          "height": 278
        },
        "outputId": "d03db642-a626-4ac3-f391-60b66b17d572"
      },
      "source": [
        "from sklearn.metrics import plot_confusion_matrix\n",
        "import matplotlib.pyplot as plt\n",
        "\n",
        "plot_confusion_matrix( estimator=modelo, X=BOW_x_test, y_true=y_test, cmap=plt.cm.Blues, normalize='true' )\n",
        "plt.grid(False)"
      ],
      "execution_count": 87,
      "outputs": [
        {
          "output_type": "display_data",
          "data": {
            "image/png": "[encoded data removed]",
            "text/plain": [
              "<Figure size 432x288 with 2 Axes>"
            ]
          },
          "metadata": {
            "tags": [],
            "needs_background": "light"
          }
        }
      ]
    }
  ]
}