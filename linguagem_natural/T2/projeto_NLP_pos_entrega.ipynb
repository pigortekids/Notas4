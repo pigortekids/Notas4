{
  "nbformat": 4,
  "nbformat_minor": 0,
  "metadata": {
    "colab": {
      "name": "projeto_NLP_(2)_(7)_(1)_(1)_(1) (1).ipynb",
      "provenance": [],
      "collapsed_sections": []
    },
    "kernelspec": {
      "name": "python3",
      "display_name": "Python 3"
    }
  },
  "cells": [
    {
      "cell_type": "markdown",
      "metadata": {
        "id": "ljuBT5KGpCV5",
        "colab_type": "text"
      },
      "source": [
        "#Predição do gênero de uma música a partir da letra"
      ]
    },
    {
      "cell_type": "markdown",
      "metadata": {
        "id": "ZHWFo8AVpUkn",
        "colab_type": "text"
      },
      "source": [
        "###Esse projeto tem como objetivo construir um modelo que prevê o gênero de uma música a partir da letra dela, utilizando um modelo de Processamento de Linguagem Natural (PLN), ou em ingles Natural Language Processing (NLP), e o dataset abaixo:\n",
        "https://www.kaggle.com/neisse/scrapped-lyrics-from-6-genres\n",
        "\n",
        "###Esse dataset contêm dois arquivos. O primeiro, artists-data, contém as seguintes colunas:\n",
        "- Artists (nome do artista)\n",
        "- Songs (quantidade de musicas)\n",
        "- Popularity (nota de popularidade)\n",
        "- Link (link da página do artista)\n",
        "- Genre (gênero principal)\n",
        "- Genres (gêneros que o artista de encaixa)\n",
        "\n",
        "###O segundo dataset, lyrics-data, contém as seguintes colunas:\n",
        "- ALink (link da página do artista)\n",
        "- SName (nome da música)\n",
        "- SLink (link da página da música)\n",
        "- Lyric (letra da música)\n",
        "- Idiom (idioma da música)\n",
        "\n",
        "Primeiro faremos a conexão com o Google Drive."
      ]
    },
    {
      "cell_type": "code",
      "metadata": {
        "id": "y_Ri-qxGqyOs",
        "colab_type": "code",
        "colab": {
          "base_uri": "https://localhost:8080/",
          "height": 125
        },
        "outputId": "8c9ee77b-7312-415e-d90f-339be5a77258"
      },
      "source": [
        "from google.colab import drive\n",
        "drive.mount('/content/drive')\n",
        "caminho_drive = '/content/drive/My Drive/colab/NLP/T2/'"
      ],
      "execution_count": 1,
      "outputs": [
        {
          "output_type": "stream",
          "text": [
            "Go to this URL in a browser: https://accounts.google.com/o/oauth2/auth?client_id=947318989803-6bn6qk8qdgf4n4g3pfee6491hc0brc4i.apps.googleusercontent.com&redirect_uri=urn%3aietf%3awg%3aoauth%3a2.0%3aoob&response_type=code&scope=email%20https%3a%2f%2fwww.googleapis.com%2fauth%2fdocs.test%20https%3a%2f%2fwww.googleapis.com%2fauth%2fdrive%20https%3a%2f%2fwww.googleapis.com%2fauth%2fdrive.photos.readonly%20https%3a%2f%2fwww.googleapis.com%2fauth%2fpeopleapi.readonly\n",
            "\n",
            "Enter your authorization code:\n",
            "··········\n",
            "Mounted at /content/drive\n"
          ],
          "name": "stdout"
        }
      ]
    },
    {
      "cell_type": "markdown",
      "metadata": {
        "id": "07ce8q1IHqU5",
        "colab_type": "text"
      },
      "source": [
        "Depois vamos importar as bibliotecas que serão utilizadas ao longo do código."
      ]
    },
    {
      "cell_type": "code",
      "metadata": {
        "id": "KOcOKoEmo2HU",
        "colab_type": "code",
        "colab": {
          "base_uri": "https://localhost:8080/",
          "height": 887
        },
        "outputId": "c63bf133-84a7-4ec8-f2d4-86a620a048ce"
      },
      "source": [
        "import pandas as pd\n",
        "import nltk\n",
        "nltk.download( 'popular' )\n",
        "nltk.download( 'rslp' )\n",
        "from nltk.stem import RSLPStemmer\n",
        "from nltk.tokenize import word_tokenize\n",
        "from nltk.corpus import stopwords\n",
        "from string import punctuation\n",
        "from sklearn.feature_extraction.text import CountVectorizer\n",
        "from keras.utils import np_utils\n",
        "from sklearn.model_selection import train_test_split\n",
        "from tensorflow.keras.models import Sequential\n",
        "from tensorflow.keras.layers import Dense\n",
        "from tensorflow.keras.optimizers import Adam\n",
        "from sklearn.metrics import multilabel_confusion_matrix\n",
        "import numpy as np\n",
        "import matplotlib.pyplot as plt\n",
        "from datetime import datetime, timedelta\n",
        "import time\n",
        "agora = str( datetime.now() - timedelta(hours = 3) ).replace(' ', '_').replace('-', '').replace(':', '')[:15] #horario de brasilia UTC-3\n",
        "caminho_export = '{0}{1}_'.format( caminho_drive, agora )"
      ],
      "execution_count": 2,
      "outputs": [
        {
          "output_type": "stream",
          "text": [
            "[nltk_data] Downloading collection 'popular'\n",
            "[nltk_data]    | \n",
            "[nltk_data]    | Downloading package cmudict to /root/nltk_data...\n",
            "[nltk_data]    |   Unzipping corpora/cmudict.zip.\n",
            "[nltk_data]    | Downloading package gazetteers to /root/nltk_data...\n",
            "[nltk_data]    |   Unzipping corpora/gazetteers.zip.\n",
            "[nltk_data]    | Downloading package genesis to /root/nltk_data...\n",
            "[nltk_data]    |   Unzipping corpora/genesis.zip.\n",
            "[nltk_data]    | Downloading package gutenberg to /root/nltk_data...\n",
            "[nltk_data]    |   Unzipping corpora/gutenberg.zip.\n",
            "[nltk_data]    | Downloading package inaugural to /root/nltk_data...\n",
            "[nltk_data]    |   Unzipping corpora/inaugural.zip.\n",
            "[nltk_data]    | Downloading package movie_reviews to\n",
            "[nltk_data]    |     /root/nltk_data...\n",
            "[nltk_data]    |   Unzipping corpora/movie_reviews.zip.\n",
            "[nltk_data]    | Downloading package names to /root/nltk_data...\n",
            "[nltk_data]    |   Unzipping corpora/names.zip.\n",
            "[nltk_data]    | Downloading package shakespeare to /root/nltk_data...\n",
            "[nltk_data]    |   Unzipping corpora/shakespeare.zip.\n",
            "[nltk_data]    | Downloading package stopwords to /root/nltk_data...\n",
            "[nltk_data]    |   Unzipping corpora/stopwords.zip.\n",
            "[nltk_data]    | Downloading package treebank to /root/nltk_data...\n",
            "[nltk_data]    |   Unzipping corpora/treebank.zip.\n",
            "[nltk_data]    | Downloading package twitter_samples to\n",
            "[nltk_data]    |     /root/nltk_data...\n",
            "[nltk_data]    |   Unzipping corpora/twitter_samples.zip.\n",
            "[nltk_data]    | Downloading package omw to /root/nltk_data...\n",
            "[nltk_data]    |   Unzipping corpora/omw.zip.\n",
            "[nltk_data]    | Downloading package wordnet to /root/nltk_data...\n",
            "[nltk_data]    |   Unzipping corpora/wordnet.zip.\n",
            "[nltk_data]    | Downloading package wordnet_ic to /root/nltk_data...\n",
            "[nltk_data]    |   Unzipping corpora/wordnet_ic.zip.\n",
            "[nltk_data]    | Downloading package words to /root/nltk_data...\n",
            "[nltk_data]    |   Unzipping corpora/words.zip.\n",
            "[nltk_data]    | Downloading package maxent_ne_chunker to\n",
            "[nltk_data]    |     /root/nltk_data...\n",
            "[nltk_data]    |   Unzipping chunkers/maxent_ne_chunker.zip.\n",
            "[nltk_data]    | Downloading package punkt to /root/nltk_data...\n",
            "[nltk_data]    |   Unzipping tokenizers/punkt.zip.\n",
            "[nltk_data]    | Downloading package snowball_data to\n",
            "[nltk_data]    |     /root/nltk_data...\n",
            "[nltk_data]    | Downloading package averaged_perceptron_tagger to\n",
            "[nltk_data]    |     /root/nltk_data...\n",
            "[nltk_data]    |   Unzipping taggers/averaged_perceptron_tagger.zip.\n",
            "[nltk_data]    | \n",
            "[nltk_data]  Done downloading collection popular\n",
            "[nltk_data] Downloading package rslp to /root/nltk_data...\n",
            "[nltk_data]   Unzipping stemmers/rslp.zip.\n"
          ],
          "name": "stdout"
        },
        {
          "output_type": "stream",
          "text": [
            "Using TensorFlow backend.\n"
          ],
          "name": "stderr"
        }
      ]
    },
    {
      "cell_type": "code",
      "metadata": {
        "id": "5BF7CDgpTwn_",
        "colab_type": "code",
        "colab": {
          "base_uri": "https://localhost:8080/",
          "height": 52
        },
        "outputId": "6c529056-9e92-4e55-ccaf-02378cad5f28"
      },
      "source": [
        "print('{0} -> inicio'.format(datetime.now() - timedelta(hours = 3)))\n",
        "inicio = time.time()\n",
        "\n",
        "artistas = pd.read_csv( caminho_drive + 'artists-data.csv' )\n",
        "letras = pd.read_csv( caminho_drive + 'lyrics-data.csv' )\n",
        "\n",
        "artistas = artistas[['Artist', 'Link', 'Genre']]\n",
        "letras = letras[['ALink', 'SName', 'Lyric', 'Idiom']]\n",
        "dataset = pd.merge( artistas, letras, left_on='Link', right_on='ALink' )\n",
        "dataset = dataset[['Artist', 'Genre', 'SName', 'Lyric', 'Idiom']]\n",
        "\n",
        "labels = dataset['Genre'].unique()\n",
        "\n",
        "dataset_generos = { 'Rock':0, 'Pop':1, 'Hip Hop':2, 'Sertanejo':3, 'Samba':4, 'Funk Carioca':5 }\n",
        "dataset_generos_rev = { 0:'Rock', 1:'Pop', 2:'Hip Hop', 3:'Sertanejo', 4:'Samba', 5:'Funk Carioca' }\n",
        "dataset['NR_Genre'] = dataset['Genre']\n",
        "dataset['NR_Genre'].replace( dataset_generos, inplace=True )\n",
        "\n",
        "dataset_pt = dataset[dataset['Idiom'] == 'PORTUGUESE']\n",
        "dataset_en = dataset[dataset['Idiom'] == 'ENGLISH']\n",
        "dataset_en = dataset_en[(dataset_en['Genre'] == 'Rock') | (dataset_en['Genre'] == 'Pop') | (dataset_en['Genre'] == 'Hip Hop')]\n",
        "\n",
        "quantidade_generos_pt = 6\n",
        "quantidade_generos_en = 3\n",
        "\n",
        "print('{0} -> fim , levou {1:.2f}s'.format(datetime.now() - timedelta(hours = 3), time.time() - inicio))"
      ],
      "execution_count": 3,
      "outputs": [
        {
          "output_type": "stream",
          "text": [
            "2020-06-27 17:12:20.861636 -> inicio\n",
            "2020-06-27 17:12:26.897560 -> fim , levou 6.04s\n"
          ],
          "name": "stdout"
        }
      ]
    },
    {
      "cell_type": "markdown",
      "metadata": {
        "id": "K4uIYoTBUtyX",
        "colab_type": "text"
      },
      "source": [
        "#PT"
      ]
    },
    {
      "cell_type": "code",
      "metadata": {
        "id": "CJXqUvPDUJfu",
        "colab_type": "code",
        "colab": {
          "base_uri": "https://localhost:8080/",
          "height": 52
        },
        "outputId": "230b75ec-d2cf-4382-e203-e4845845bc3a"
      },
      "source": [
        "print('{0} -> inicio'.format(datetime.now() - timedelta(hours = 3)))\n",
        "inicio = time.time()\n",
        "\n",
        "letras_pt_agrupado = ''\n",
        "for i in range( dataset_pt.shape[0] ):\n",
        "    letras_pt_agrupado += dataset_pt.iloc[i]['Lyric']\n",
        "\n",
        "w_token_pt = word_tokenize( letras_pt_agrupado )\n",
        "\n",
        "print('{0} -> fim , levou {1:.2f}s'.format(datetime.now() - timedelta(hours = 3), time.time() - inicio))"
      ],
      "execution_count": 4,
      "outputs": [
        {
          "output_type": "stream",
          "text": [
            "2020-06-27 17:12:26.912585 -> inicio\n",
            "2020-06-27 17:16:27.666891 -> fim , levou 240.75s\n"
          ],
          "name": "stdout"
        }
      ]
    },
    {
      "cell_type": "code",
      "metadata": {
        "id": "fyT4ZaJaUOEu",
        "colab_type": "code",
        "colab": {
          "base_uri": "https://localhost:8080/",
          "height": 52
        },
        "outputId": "d6fd7884-1017-445b-e989-6f4ea185bab8"
      },
      "source": [
        "print('{0} -> inicio'.format(datetime.now() - timedelta(hours = 3)))\n",
        "inicio = time.time()\n",
        "\n",
        "stw_pt = stopwords.words('portuguese')\n",
        "pontuacao = list( punctuation )\n",
        "stopwords_pt = set( stw_pt + pontuacao ) #cria lista sem repetir elementos\n",
        "w_token_pt_sem_stopwords = [palavra for palavra in w_token_pt if palavra not in stopwords_pt]\n",
        "\n",
        "stemmer = RSLPStemmer()\n",
        "w_token_pt_sem_stopwords_stem = [stemmer.stem( palavra ) for palavra in w_token_pt_sem_stopwords]\n",
        "\n",
        "print('{0} -> fim , levou {1:.2f}s'.format(datetime.now() - timedelta(hours = 3), time.time() - inicio))"
      ],
      "execution_count": 5,
      "outputs": [
        {
          "output_type": "stream",
          "text": [
            "2020-06-27 17:16:27.683174 -> inicio\n",
            "2020-06-27 17:23:11.718779 -> fim , levou 404.04s\n"
          ],
          "name": "stdout"
        }
      ]
    },
    {
      "cell_type": "code",
      "metadata": {
        "id": "gNVFyAMwUWhB",
        "colab_type": "code",
        "colab": {
          "base_uri": "https://localhost:8080/",
          "height": 238
        },
        "outputId": "5d17e109-ed2a-42b7-eb51-7dceb8da90f7"
      },
      "source": [
        "print('{0} -> inicio'.format(datetime.now() - timedelta(hours = 3)))\n",
        "inicio = time.time()\n",
        "\n",
        "vectorizer_pt = CountVectorizer( analyzer='word', max_features=30000 )\n",
        "vectorizer_pt.fit( w_token_pt_sem_stopwords_stem )\n",
        "tamanho_dicionario_pt = len(list(vectorizer_pt.vocabulary_))\n",
        "\n",
        "letras_pt = dataset_pt['Lyric'].values #X\n",
        "generos_pt = dataset_pt['NR_Genre'].values #Y\n",
        "\n",
        "generos_pt_dummy = np_utils.to_categorical(generos_pt)\n",
        "\n",
        "x_treino_pt, x_teste_pt, y_treino_pt, y_teste_pt = train_test_split( letras_pt, generos_pt_dummy, test_size=0.3, random_state=42 )\n",
        "x_vali_pt, x_teste_pt, y_vali_pt, y_teste_pt = train_test_split( x_teste_pt, y_teste_pt, test_size=0.5, random_state=42 )\n",
        "\n",
        "BOW_x_treino_pt = vectorizer_pt.transform( x_treino_pt )\n",
        "BOW_x_vali_pt = vectorizer_pt.transform( x_vali_pt )\n",
        "BOW_x_teste_pt = vectorizer_pt.transform( x_teste_pt )\n",
        "\n",
        "print('{0} -> fim , levou {1:.2f}s'.format(datetime.now() - timedelta(hours = 3), time.time() - inicio))"
      ],
      "execution_count": 1,
      "outputs": [
        {
          "output_type": "error",
          "ename": "NameError",
          "evalue": "ignored",
          "traceback": [
            "\u001b[0;31m---------------------------------------------------------------------------\u001b[0m",
            "\u001b[0;31mNameError\u001b[0m                                 Traceback (most recent call last)",
            "\u001b[0;32m<ipython-input-1-c5749df2a197>\u001b[0m in \u001b[0;36m<module>\u001b[0;34m()\u001b[0m\n\u001b[0;32m----> 1\u001b[0;31m \u001b[0mprint\u001b[0m\u001b[0;34m(\u001b[0m\u001b[0;34m'{0} -> inicio'\u001b[0m\u001b[0;34m.\u001b[0m\u001b[0mformat\u001b[0m\u001b[0;34m(\u001b[0m\u001b[0mdatetime\u001b[0m\u001b[0;34m.\u001b[0m\u001b[0mnow\u001b[0m\u001b[0;34m(\u001b[0m\u001b[0;34m)\u001b[0m \u001b[0;34m-\u001b[0m \u001b[0mtimedelta\u001b[0m\u001b[0;34m(\u001b[0m\u001b[0mhours\u001b[0m \u001b[0;34m=\u001b[0m \u001b[0;36m3\u001b[0m\u001b[0;34m)\u001b[0m\u001b[0;34m)\u001b[0m\u001b[0;34m)\u001b[0m\u001b[0;34m\u001b[0m\u001b[0;34m\u001b[0m\u001b[0m\n\u001b[0m\u001b[1;32m      2\u001b[0m \u001b[0minicio\u001b[0m \u001b[0;34m=\u001b[0m \u001b[0mtime\u001b[0m\u001b[0;34m.\u001b[0m\u001b[0mtime\u001b[0m\u001b[0;34m(\u001b[0m\u001b[0;34m)\u001b[0m\u001b[0;34m\u001b[0m\u001b[0;34m\u001b[0m\u001b[0m\n\u001b[1;32m      3\u001b[0m \u001b[0;34m\u001b[0m\u001b[0m\n\u001b[1;32m      4\u001b[0m \u001b[0mvectorizer_pt\u001b[0m \u001b[0;34m=\u001b[0m \u001b[0mCountVectorizer\u001b[0m\u001b[0;34m(\u001b[0m \u001b[0manalyzer\u001b[0m\u001b[0;34m=\u001b[0m\u001b[0;34m'word'\u001b[0m\u001b[0;34m,\u001b[0m \u001b[0mmax_features\u001b[0m\u001b[0;34m=\u001b[0m\u001b[0;36m30000\u001b[0m \u001b[0;34m)\u001b[0m\u001b[0;34m\u001b[0m\u001b[0;34m\u001b[0m\u001b[0m\n\u001b[1;32m      5\u001b[0m \u001b[0mvectorizer_pt\u001b[0m\u001b[0;34m.\u001b[0m\u001b[0mfit\u001b[0m\u001b[0;34m(\u001b[0m \u001b[0mw_token_pt_sem_stopwords_stem\u001b[0m \u001b[0;34m)\u001b[0m\u001b[0;34m\u001b[0m\u001b[0;34m\u001b[0m\u001b[0m\n",
            "\u001b[0;31mNameError\u001b[0m: name 'datetime' is not defined"
          ]
        }
      ]
    },
    {
      "cell_type": "code",
      "metadata": {
        "id": "LlabrFMsC5TW",
        "colab_type": "code",
        "colab": {
          "base_uri": "https://localhost:8080/",
          "height": 238
        },
        "outputId": "650fd276-e105-49b7-8d21-6e7b2d14bb13"
      },
      "source": [
        "modelo_pt = Sequential()\n",
        "\n",
        "modelo_pt.add( Dense( 128, activation='relu', input_shape=(tamanho_dicionario_pt,) ) )\n",
        "modelo_pt.add( Dense( quantidade_generos_pt, activation='softmax' ) )\n",
        "\n",
        "modelo_pt.compile( Adam(), loss='categorical_crossentropy', metrics=['accuracy'] )\n",
        "\n",
        "modelo_pt.summary()"
      ],
      "execution_count": 2,
      "outputs": [
        {
          "output_type": "error",
          "ename": "NameError",
          "evalue": "ignored",
          "traceback": [
            "\u001b[0;31m---------------------------------------------------------------------------\u001b[0m",
            "\u001b[0;31mNameError\u001b[0m                                 Traceback (most recent call last)",
            "\u001b[0;32m<ipython-input-2-42058a4155f3>\u001b[0m in \u001b[0;36m<module>\u001b[0;34m()\u001b[0m\n\u001b[0;32m----> 1\u001b[0;31m \u001b[0mmodelo_pt\u001b[0m \u001b[0;34m=\u001b[0m \u001b[0mSequential\u001b[0m\u001b[0;34m(\u001b[0m\u001b[0;34m)\u001b[0m\u001b[0;34m\u001b[0m\u001b[0;34m\u001b[0m\u001b[0m\n\u001b[0m\u001b[1;32m      2\u001b[0m \u001b[0;34m\u001b[0m\u001b[0m\n\u001b[1;32m      3\u001b[0m \u001b[0mmodelo_pt\u001b[0m\u001b[0;34m.\u001b[0m\u001b[0madd\u001b[0m\u001b[0;34m(\u001b[0m \u001b[0mDense\u001b[0m\u001b[0;34m(\u001b[0m \u001b[0;36m128\u001b[0m\u001b[0;34m,\u001b[0m \u001b[0mactivation\u001b[0m\u001b[0;34m=\u001b[0m\u001b[0;34m'relu'\u001b[0m\u001b[0;34m,\u001b[0m \u001b[0minput_shape\u001b[0m\u001b[0;34m=\u001b[0m\u001b[0;34m(\u001b[0m\u001b[0mtamanho_dicionario_pt\u001b[0m\u001b[0;34m,\u001b[0m\u001b[0;34m)\u001b[0m \u001b[0;34m)\u001b[0m \u001b[0;34m)\u001b[0m\u001b[0;34m\u001b[0m\u001b[0;34m\u001b[0m\u001b[0m\n\u001b[1;32m      4\u001b[0m \u001b[0mmodelo_pt\u001b[0m\u001b[0;34m.\u001b[0m\u001b[0madd\u001b[0m\u001b[0;34m(\u001b[0m \u001b[0mDense\u001b[0m\u001b[0;34m(\u001b[0m \u001b[0mquantidade_generos_pt\u001b[0m\u001b[0;34m,\u001b[0m \u001b[0mactivation\u001b[0m\u001b[0;34m=\u001b[0m\u001b[0;34m'softmax'\u001b[0m \u001b[0;34m)\u001b[0m \u001b[0;34m)\u001b[0m\u001b[0;34m\u001b[0m\u001b[0;34m\u001b[0m\u001b[0m\n\u001b[1;32m      5\u001b[0m \u001b[0;34m\u001b[0m\u001b[0m\n",
            "\u001b[0;31mNameError\u001b[0m: name 'Sequential' is not defined"
          ]
        }
      ]
    },
    {
      "cell_type": "markdown",
      "metadata": {
        "id": "R3Dx5XzZPnTB",
        "colab_type": "text"
      },
      "source": [
        "E com nosso modelo pronto, podemos finalmente treinar ele.\n",
        "\n",
        "Com um primeiro modelo, colocaremos para ele rodar todos os dados de treino por 50 vezes e analisaremos o resultado."
      ]
    },
    {
      "cell_type": "code",
      "metadata": {
        "id": "5j9igAT5Dklf",
        "colab_type": "code",
        "colab": {
          "base_uri": "https://localhost:8080/",
          "height": 727
        },
        "outputId": "34e49e0c-6b85-422f-d91b-ef7923e122f2"
      },
      "source": [
        "historico_pt = modelo_pt.fit( BOW_x_treino_pt, y_treino_pt, epochs=20, validation_data=( BOW_x_vali_pt, y_vali_pt ) )"
      ],
      "execution_count": 9,
      "outputs": [
        {
          "output_type": "stream",
          "text": [
            "Epoch 1/20\n",
            "2038/2038 [==============================] - 47s 23ms/step - loss: 0.8688 - accuracy: 0.6858 - val_loss: 0.9615 - val_accuracy: 0.6541\n",
            "Epoch 2/20\n",
            "2038/2038 [==============================] - 46s 23ms/step - loss: 0.6606 - accuracy: 0.7560 - val_loss: 0.9744 - val_accuracy: 0.6666\n",
            "Epoch 3/20\n",
            "2038/2038 [==============================] - 46s 23ms/step - loss: 0.5321 - accuracy: 0.8032 - val_loss: 1.0332 - val_accuracy: 0.6698\n",
            "Epoch 4/20\n",
            "2038/2038 [==============================] - 46s 22ms/step - loss: 0.4505 - accuracy: 0.8303 - val_loss: 1.1049 - val_accuracy: 0.6681\n",
            "Epoch 5/20\n",
            "2038/2038 [==============================] - 45s 22ms/step - loss: 0.3989 - accuracy: 0.8472 - val_loss: 1.1878 - val_accuracy: 0.6633\n",
            "Epoch 6/20\n",
            "2038/2038 [==============================] - 47s 23ms/step - loss: 0.3640 - accuracy: 0.8580 - val_loss: 1.2003 - val_accuracy: 0.6672\n",
            "Epoch 7/20\n",
            "2038/2038 [==============================] - 45s 22ms/step - loss: 0.3361 - accuracy: 0.8644 - val_loss: 1.2268 - val_accuracy: 0.6692\n",
            "Epoch 8/20\n",
            "2038/2038 [==============================] - 45s 22ms/step - loss: 0.3204 - accuracy: 0.8686 - val_loss: 1.2702 - val_accuracy: 0.6648\n",
            "Epoch 9/20\n",
            "2038/2038 [==============================] - 45s 22ms/step - loss: 0.3023 - accuracy: 0.8716 - val_loss: 1.3015 - val_accuracy: 0.6680\n",
            "Epoch 10/20\n",
            "2038/2038 [==============================] - 44s 22ms/step - loss: 0.2929 - accuracy: 0.8736 - val_loss: 1.3234 - val_accuracy: 0.6620\n",
            "Epoch 11/20\n",
            "2038/2038 [==============================] - 44s 22ms/step - loss: 0.2805 - accuracy: 0.8749 - val_loss: 1.3731 - val_accuracy: 0.6662\n",
            "Epoch 12/20\n",
            "2038/2038 [==============================] - 43s 21ms/step - loss: 0.2729 - accuracy: 0.8770 - val_loss: 1.4022 - val_accuracy: 0.6566\n",
            "Epoch 13/20\n",
            "2038/2038 [==============================] - 44s 21ms/step - loss: 0.2666 - accuracy: 0.8772 - val_loss: 1.4349 - val_accuracy: 0.6571\n",
            "Epoch 14/20\n",
            "2038/2038 [==============================] - 44s 21ms/step - loss: 0.2575 - accuracy: 0.8802 - val_loss: 1.4547 - val_accuracy: 0.6563\n",
            "Epoch 15/20\n",
            "2038/2038 [==============================] - 44s 21ms/step - loss: 0.2543 - accuracy: 0.8799 - val_loss: 1.4599 - val_accuracy: 0.6554\n",
            "Epoch 16/20\n",
            "2038/2038 [==============================] - 44s 21ms/step - loss: 0.2449 - accuracy: 0.8822 - val_loss: 1.4869 - val_accuracy: 0.6567\n",
            "Epoch 17/20\n",
            "2038/2038 [==============================] - 43s 21ms/step - loss: 0.2428 - accuracy: 0.8820 - val_loss: 1.5349 - val_accuracy: 0.6545\n",
            "Epoch 18/20\n",
            "2038/2038 [==============================] - 44s 22ms/step - loss: 0.2366 - accuracy: 0.8829 - val_loss: 1.5283 - val_accuracy: 0.6562\n",
            "Epoch 19/20\n",
            "2038/2038 [==============================] - 43s 21ms/step - loss: 0.2328 - accuracy: 0.8832 - val_loss: 1.5708 - val_accuracy: 0.6544\n",
            "Epoch 20/20\n",
            "2038/2038 [==============================] - 45s 22ms/step - loss: 0.2297 - accuracy: 0.8833 - val_loss: 1.5818 - val_accuracy: 0.6525\n"
          ],
          "name": "stdout"
        }
      ]
    },
    {
      "cell_type": "markdown",
      "metadata": {
        "id": "ox3w93QXP9IH",
        "colab_type": "text"
      },
      "source": [
        "Com o modelo treinado, vamos analisar como a função de custo e a métrica de exatidão se comportaram durante o treino, para as informações de treino e validação."
      ]
    },
    {
      "cell_type": "code",
      "metadata": {
        "id": "8wZ3xzB_ODdy",
        "colab_type": "code",
        "colab": {
          "base_uri": "https://localhost:8080/",
          "height": 576
        },
        "outputId": "3eb68e52-eb3f-4f74-9097-e8b7067b26fa"
      },
      "source": [
        "plt.plot(historico_pt.history['loss'], 'b', label='Treinamento')\n",
        "plt.plot(historico_pt.history['val_loss'], 'bo', label='Validação')\n",
        "plt.title('Função de custo por época')\n",
        "plt.xlabel('Épocas')\n",
        "plt.ylabel('Custo')\n",
        "plt.legend()\n",
        "plt.show()\n",
        "\n",
        "plt.plot(historico_pt.history['accuracy'], 'b', label='Treinamento')\n",
        "plt.plot(historico_pt.history['val_accuracy'], 'bo', label='Validação')\n",
        "plt.title('Exatidão por época')\n",
        "plt.xlabel('Épocas')\n",
        "plt.ylabel('Exatidão')\n",
        "plt.legend()\n",
        "plt.show()"
      ],
      "execution_count": 10,
      "outputs": [
        {
          "output_type": "display_data",
          "data": {
            "image/png": "[encoded data removed]",
            "text/plain": [
              "<Figure size 432x288 with 1 Axes>"
            ]
          },
          "metadata": {
            "tags": [],
            "needs_background": "light"
          }
        },
        {
          "output_type": "display_data",
          "data": {
            "image/png": "[encoded data removed]",
            "text/plain": [
              "<Figure size 432x288 with 1 Axes>"
            ]
          },
          "metadata": {
            "tags": [],
            "needs_background": "light"
          }
        }
      ]
    },
    {
      "cell_type": "markdown",
      "metadata": {
        "id": "x2N15Xd6QRAI",
        "colab_type": "text"
      },
      "source": [
        "Podemos analisar que o modelo deu overfit, onde ele melhora os resultados do modelo para o treino ao longo das épocas, mas piorando os o modelo para os dados de validação ao longo das épocas."
      ]
    },
    {
      "cell_type": "code",
      "metadata": {
        "id": "EA9_Kw4WEQwM",
        "colab_type": "code",
        "colab": {
          "base_uri": "https://localhost:8080/",
          "height": 176
        },
        "outputId": "c274f5ef-4b06-49f6-def3-7fde7cde41f3"
      },
      "source": [
        "desempenho_treino_pt = modelo_pt.evaluate( BOW_x_treino_pt, y_treino_pt )\n",
        "print('Valor da função de custo do treino = {0:.4f}\\nValor da exatidão do treino = {1:.4f}'.format( desempenho_treino_pt[0], desempenho_treino_pt[1] ))\n",
        "\n",
        "desempenho_validacao_pt = modelo_pt.evaluate( BOW_x_vali_pt, y_vali_pt )\n",
        "print('Valor da função de custo da validação = {0:.4f}\\nValor da exatidão da validação = {1:.4f}'.format( desempenho_validacao_pt[0], desempenho_validacao_pt[1] ))\n",
        "\n",
        "desempenho_teste_pt = modelo_pt.evaluate( BOW_x_teste_pt, y_teste_pt )\n",
        "print('Valor da função de custo do teste = {0:.4f}\\nValor da exatidão do teste = {1:.4f}'.format( desempenho_teste_pt[0], desempenho_teste_pt[1] ))"
      ],
      "execution_count": 11,
      "outputs": [
        {
          "output_type": "stream",
          "text": [
            "2038/2038 [==============================] - 3s 1ms/step - loss: 0.1862 - accuracy: 0.9070\n",
            "Valor da função de custo do treino = 0.1862\n",
            "Valor da exatidão do treino = 0.9070\n",
            "437/437 [==============================] - 1s 1ms/step - loss: 1.5818 - accuracy: 0.6525\n",
            "Valor da função de custo da validação = 1.5818\n",
            "Valor da exatidão da validação = 0.6525\n",
            "437/437 [==============================] - 1s 1ms/step - loss: 1.6323 - accuracy: 0.6550\n",
            "Valor da função de custo do teste = 1.6323\n",
            "Valor da exatidão do teste = 0.6550\n"
          ],
          "name": "stdout"
        }
      ]
    },
    {
      "cell_type": "code",
      "metadata": {
        "id": "JuwgxqYgExse",
        "colab_type": "code",
        "colab": {
          "base_uri": "https://localhost:8080/",
          "height": 318
        },
        "outputId": "aafb5e81-33c2-4bf5-ce41-9278fa6715d4"
      },
      "source": [
        "y_pred_pt = modelo_pt.predict( BOW_x_teste_pt )\n",
        "y_pred_pt = np.round(y_pred_pt)\n",
        "\n",
        "conf_matrix_pt = multilabel_confusion_matrix(y_teste_pt, y_pred_pt)\n",
        "conf_matrix_pt"
      ],
      "execution_count": 12,
      "outputs": [
        {
          "output_type": "execute_result",
          "data": {
            "text/plain": [
              "array([[[11129,   729],\n",
              "        [  863,  1248]],\n",
              "\n",
              "       [[10561,  1193],\n",
              "        [ 1363,   852]],\n",
              "\n",
              "       [[12714,   271],\n",
              "        [  373,   611]],\n",
              "\n",
              "       [[ 7649,  1083],\n",
              "        [ 1189,  4048]],\n",
              "\n",
              "       [[11199,   535],\n",
              "        [  761,  1474]],\n",
              "\n",
              "       [[12343,   439],\n",
              "        [  580,   607]]])"
            ]
          },
          "metadata": {
            "tags": []
          },
          "execution_count": 12
        }
      ]
    },
    {
      "cell_type": "code",
      "metadata": {
        "id": "Apmegt0DFm93",
        "colab_type": "code",
        "colab": {
          "base_uri": "https://localhost:8080/",
          "height": 123
        },
        "outputId": "64c8ff8a-874c-4b21-ac86-1c72c8f8b51b"
      },
      "source": [
        "# Legião Urbana - Tempo perdido\n",
        "musica_teste_pt_rock = 'Todos os dias quando acordo Não tenho mais O tempo que passou Mas tenho muito tempo Temos todo o tempo do mundo Todos os dias Antes de dormir Lembro e esqueço Como foi o dia Sempre em frente Não temos tempo a perder Nosso suor sagrado É bem mais belo Que esse sangue amargo E tão sério E selvagem! Selvagem! Selvagem! Veja o sol Dessa manhã tão cinza A tempestade que chega É da cor dos teus olhos Castanhos Então me abraça forte E diz mais uma vez Que já estamos Distantes de tudo Temos nosso próprio tempo Temos nosso próprio tempo Temos nosso próprio tempo Não tenho medo do escuro Mas deixe as luzes Acesas agora O que foi escondido É o que se escondeu E o que foi prometido Ninguém prometeu Nem foi tempo perdido Somos tão jovens Tão jovens! Tão jovens!'\n",
        "\n",
        "# Lexa - Amor bandido\n",
        "musica_teste_pt_pop = 'Oh oh oh oh yeah yeah yeah yeah yeah yeah Lexa e Kekel Hitmaker Sei que você tá bolada Tá chateada e não quer me ouvir Dei umas escorregada Uma vacilada e me arrependi Mas to aqui, bebê Pedindo pra você voltar comigo Voltar comigo Eu te falei que não tinha perdão E pro meu coração já não dava mais Só que foi batendo a bad O corpo pede, voltei atrás Mas to aqui, bebê Sorrindo pra você voltar comigo Voltar comigo Voltar comigo Baby, eu não resisto a esse nosso amor bandido Quando você beija meu pescoço até o umbigo Volta pra cá que a saudade tá pedindo Baby, vem cá Baby, eu não resisto a esse nosso amor bandido Quando você beija meu pescoço até o umbigo Volta pra cá que a saudade tá pedindo Baby, vem cá Você sabe que é maldade Despertar minha insanidade To morrendo de vontade da sua boca Agora vê se não vacila Volta pra minha vida e vê se fica sem roupa Incrível como tudo se encaixa Em tudo o que a gente faz Indescritível o sentimento permanente que você me traz Baby, eu não resisto a esse nosso amor bandido Quando você beija meu pescoço até o umbigo Volta pra cá que a saudade tá pedindo Baby, vem cá Baby, eu não resisto a esse nosso amor bandido Quando você beija meu pescoço até o umbigo Volta pra cá que a saudade tá pedindo Baby, vem cá Eu to querendo mais Eu to querendo mais Cê tá querendo, eu to querendo Então como é que faz? Eu to querendo mais Eu to querendo mais Cê tá querendo, eu to querendo Então como é que faz? Eu to querendo mais Eu to querendo mais Cê tá querendo, eu to querendo Então como é que faz? Eu to querendo mais Eu to querendo mais Cê tá querendo Baby, eu não resisto a esse nosso amor bandido Quando você beija meu pescoço até o umbigo Volta pra cá que a saudade tá pedindo Baby, vem cá Eu to querendo mais Então como é que faz? Kekel e Lexa (yeah yeah yeah yeah)'\n",
        "\n",
        "# 1Kilo - Deixe-me ir\n",
        "musica_teste_pt_hiphop = 'Menina, me dá sua mão, pense bem antes de agir Se não for agora, te espero lá fora, então deixe-me ir Um dia te encontro nessas suas voltas Minha mente é mó confusão Solta a minha mão, que eu sei que cê volta O tempo mostra nossa direção Se eu soubesse que era assim, eu nem vinha Tô bebendo champanhe e catando latinha Mas tive que perder pra aprender dar valor Pra você entender seu amor, mas não quer ser mais minha Então diz que não me quer por perto Mas diz olhando nos meus olhos Desculpe se eu não fui sincero Mas a vida que eu levo, erros lógicos Óbvio, cada letra em rap é um código sórdido Psicografado som sólido, súbito Nunca fui de fazer som pra público Verso meu universo, peço que entenda meu mundo, mina A gente briga por bobeira demais A gente pira, o tempo vira por bobeira demais O amor é bandeira de paz Mas se não der, vai em paz, meto o pé Tô vivo e quero viver, ensinar e aprender Menina, eu sigo com ou sem você, mas tente entender Eu tentei, a vida é curta pra chorar pela ex Eu falei pra mim mesmo enquanto eu chorava outra vez, é Eu vou ficar, mas vou pela manhã Sem me despedir, vou antes do café Que é pra não te acordar, sei que não sou nenhum Don Juan Sou todo errado, mas tô certo que você me quer Eu vou ficar, mas vou pela manhã Sem me despedir, vou antes do café Que é pra não te acordar, sei que não sou nenhum Don Juan Sou todo errado, mas tô certo que você me quer Ei, amor, sei que tá tão difícil eu falar de amor Porque lá fora é tanto ódio e rancor Que eu preciso muito te falar Ei, amor, eu tô contigo independente do caô Cê sabe que aonde você for, eu vou E já passou da hora da gente se encontrar E se amar, nega, cê sabe que contigo nada vai me abalar A viagem é longa, então faça a mala Na vibe mais positiva, no pique mandala Esse papo de que se tu não existisse eu te inventaria é tão clichê Mas cai tão bem quando se trata de você Só vem comigo, cê não vai se arrepender Só vem comigo, cê não vai se arrepender Noites em claro, tentando não me envolver Seja o que deus quiser Noites em claro, tentando não me envolver Seja o que deus quiser, deixe-me ir Não vou me despedir porque dói Não vou brigar pra ficar Quero estar contigo e sentir, ser seu e só Sem ter que justificar o tempo em que eu sumi Seja o que deus quiser, deixe-me ir'\n",
        "\n",
        "# Henrique & Juliano - Amor atual\n",
        "musica_teste_pt_sertanejo = 'Você não pensou no meu amor Foi tão covarde Vivi um drama Vivendo na lama Já to indo tarde Não quero isso pra mim Não vou viver assim Eita, como dói Isso me destrói Mas eu vou te falar Você tá pensando o quê? Seu amor atual não tem culpa do anterior, bebê Tá pensando o quê? O que ele fez contigo, comigo cê quer fazer Você tá pensando o quê? Seu amor atual não tem culpa do anterior, bebê Tá pensando o quê? O que ele fez contigo, comigo cê quer fazer Pode esquecer Aí a pessoa briga com a pessoa E a pessoa quer brigar com a minha pessoa Tem jeito não, né Aí, não, né Você não pensou no meu amor Foi tão covarde Vivi um drama Vivendo na lama Já to indo tarde Não quero isso pra mim Não vou viver assim Eita, como dói Isso me destrói Mas eu vou te falar Você tá pensando o quê? Seu amor atual não tem culpa do anterior, bebê Tá pensando o quê? O que ele fez contigo, comigo cê quer fazer Você tá pensando o quê? Seu amor atual não tem culpa do anterior, bebê Tá pensando o quê? O que ele fez contigo, comigo cê quer fazer Pode esquecer Você tá pensando o quê? Seu amor atual não tem culpa do anterior, bebê Tá pensando o quê? O que ele fez contigo, comigo cê quer fazer Você tá pensando o quê? Seu amor atual não tem culpa do anterior, bebê Tá pensando o quê? O que ele fez contigo, comigo cê quer fazer Pode esquecer'\n",
        "\n",
        "# Martinho Da Vila - Casa de Bamba\n",
        "musica_teste_pt_samba = 'Na minha casa Todo mundo é bamba Todo mundo bebe Todo mundo samba Na minha casa Todo mundo é bamba Todo mundo bebe Todo mundo samba Na minha casa Não tem bola pra vizinha Não se fala do alheio Nem se liga pra candinha Na minha casa Não tem bola pra vizinha Não se fala do alheio Nem se liga pra candinha Na minha casa Todo mundo é bamba Todo mundo bebe Todo mundo samba Na minha casa Todo mundo é bamba Todo mundo bebe Todo mundo samba Na minha casa Ninguém liga pra intriga Todo mundo xinga Todo mundo briga Na minha casa Ninguém liga prá intriga Todo mundo xinga Todo mundo briga Macumba lá na minha casa Tem galinha preta Azeite de dendê Mas ladainha lá na minha casa Tem reza bonitinha E canjiquinha pra comer Mas ladainha lá na minha casa Tem reza bonitinha E canjiquinha pra comer Se tem alguém aflito Todo mundo chora Todo mundo sofre Mas logo se reza Pra São Benedito Pra Nossa Senhora E pra Santo Onofre Mas se tem alguém cantando Todo mundo canta Todo mundo dança Todo mundo samba E ninguém se cansa Pois minha casa É casa de bamba Pois minha casa É casa de bamba Macumba lá na minha casa Tem galinha preta Azeite de dendê Mas ladainha lá na minha casa Tem reza bonitinha E canjiquinha prá comer Mas ladainha lá na minha casa Tem reza bonitinha E canjiquinha pra comer Se tem alguém aflito Todo mundo chora Todo mundo sofre Mas logo se reza Pra São Benedito Pra Nossa Senhora E pra Santo Onofre Mas se tem alguém cantando Todo mundo canta Todo mundo dança Todo mundo samba E ninguém se cansa Pois minha casa É casa de bamba Pois minha casa É casa de bamba Pois minha casa É casa de bamba'\n",
        "\n",
        "# MC Ingryd - Vem Me Satisfazer\n",
        "musica_teste_pt_funk = 'Marca pra nós se ver Pode ser pra ferver Hoje eu quero você Vem me satisfazer No teu jeito que eu me amarro De quatro, eu jogo o rabo Sequência de toma-toma Sequência de vapo-vapo De quatro, eu jogo o rabo De quatro, eu jogo o rabo Sequência de toma-toma Sequência de vapo-vapo De quatro, eu jogo o rabo De quatro, eu jogo o rabo Sequência de toma-toma Sequência de vapo-vapo De quatro, eu jogo o rabo De quatro, eu jogo o rabo Sequência de toma-toma Sequência de vapo-vapo De quatro, eu jogo o rabo De quatro, eu jogo o rabo Sequência de toma-toma Sequência de vapo-vapo Te avisei, não se envolve no meu papo Não passou de um boato pra você enlouquecer Eu te dei prazer, tu pediu prazer Agora o que eu posso fazer? Eu não quero mais você Quem falou que eu quero ser tua mulher? Toma vergonha na cara e vê se larga do meu pé Muito louca na onda do Goldin Chamei os cria pra base Vai rolar chuva de lean De quatro, eu jogo o rabo De quatro, eu jogo o rabo Sequência de toma-toma Sequência de vapo-vapo De quatro, eu jogo o rabo De quatro, eu jogo o rabo Sequência de toma-toma Sequência de vapo-vapo De quatro, eu jogo o rabo De quatro, eu jogo o rabo Sequência de toma-toma Sequência de vapo-vapo De quatro, eu jogo o rabo De quatro, eu jogo o rabo Sequência de toma-toma Sequência de vapo-vapo Marca pra nós se ver Pode ser pra ferver Hoje eu quero você Vem me satisfazer No teu jeito que eu me amarro De quatro, eu jogo o rabo Sequência de toma-toma Sequência de vapo-vapo De quatro, eu jogo o rabo De quatro, eu jogo o rabo Sequência de toma-toma Sequência de vapo-vapo De quatro, eu jogo o rabo De quatro, eu jogo o rabo Sequência de toma-toma Sequência de vapo-vapo De quatro, eu jogo o rabo De quatro, eu jogo o rabo Sequência de toma-toma Sequência de vapo-vapo De quatro, eu jogo o rabo De quatro, eu jogo o rabo Sequência de toma-toma Sequência de vapo-vapo Te avisei, não se envolve no meu papo Não passou de um boato pra você enlouquecer Eu te dei prazer, tu pediu prazer Agora o que eu posso fazer? Eu não quero mais você Quem falou que eu quero ser tua mulher? Toma vergonha na cara e vê se larga do meu pé Muito louca na onda do Goldin Chamei os cria pra base Vai rolar chuva de lean De quatro, eu jogo o rabo De quatro, eu jogo o rabo Sequência de toma-toma Sequência de vapo-vapo De quatro, eu jogo o rabo De quatro, eu jogo o rabo Sequência de toma-toma Sequência de vapo-vapo De quatro, eu jogo o rabo De quatro, eu jogo o rabo Sequência de toma-toma Sequência de vapo-vapo De quatro, eu jogo o rabo De quatro, eu jogo o rabo Sequência de toma-toma Sequência de vapo-vapo'\n",
        "\n",
        "lista_musicas_teste_pt = [ musica_teste_pt_rock, musica_teste_pt_pop, musica_teste_pt_hiphop, musica_teste_pt_sertanejo, musica_teste_pt_samba, musica_teste_pt_funk ]\n",
        "\n",
        "teste_pt = vectorizer_pt.transform( lista_musicas_teste_pt ).toarray()\n",
        "saida_teste_pt = modelo_pt.predict( teste_pt )\n",
        "saida_teste_mex_pt = np.argmax( saida_teste_pt, axis=1 )\n",
        "saida_teste_traducao_pt = [dataset_generos_rev.get(item,item) for item in saida_teste_mex_pt]\n",
        "\n",
        "for i in range( quantidade_generos_pt ):\n",
        "    print('Música de {0} o modelo preveu {1}'.format( list(dataset_generos.keys())[i], saida_teste_traducao_pt[i] ))"
      ],
      "execution_count": 13,
      "outputs": [
        {
          "output_type": "stream",
          "text": [
            "Música de Rock o modelo preveu Pop\n",
            "Música de Pop o modelo preveu Pop\n",
            "Música de Hip Hop o modelo preveu Pop\n",
            "Música de Sertanejo o modelo preveu Funk Carioca\n",
            "Música de Samba o modelo preveu Samba\n",
            "Música de Funk Carioca o modelo preveu Funk Carioca\n"
          ],
          "name": "stdout"
        }
      ]
    },
    {
      "cell_type": "markdown",
      "metadata": {
        "id": "rA_lsAoFgmuz",
        "colab_type": "text"
      },
      "source": [
        "Vamos analisar que palavras tem maior peso na analise do resultado para o modelo."
      ]
    },
    {
      "cell_type": "code",
      "metadata": {
        "id": "TbntoCD7gixY",
        "colab_type": "code",
        "colab": {
          "base_uri": "https://localhost:8080/",
          "height": 406
        },
        "outputId": "b94791c2-d77c-454f-c93b-86cb30c0cea5"
      },
      "source": [
        "primeira_camada_pt = modelo_pt.layers[0].name\n",
        "somatoria_pesos_pt = np.sum(modelo_pt.get_layer( primeira_camada_pt ).get_weights()[0], axis=1)\n",
        "\n",
        "df_vetor_palavras_pt = pd.DataFrame.from_dict(vectorizer_pt.vocabulary_, orient='index', columns=['numero'])\n",
        "df_vetor_palavras_pt['peso'] = somatoria_pesos_pt\n",
        "\n",
        "df_vetor_palavras_pt.sort_values(by=['peso'], ascending=False)"
      ],
      "execution_count": 14,
      "outputs": [
        {
          "output_type": "execute_result",
          "data": {
            "text/html": [
              "<div>\n",
              "<style scoped>\n",
              "    .dataframe tbody tr th:only-of-type {\n",
              "        vertical-align: middle;\n",
              "    }\n",
              "\n",
              "    .dataframe tbody tr th {\n",
              "        vertical-align: top;\n",
              "    }\n",
              "\n",
              "    .dataframe thead th {\n",
              "        text-align: right;\n",
              "    }\n",
              "</style>\n",
              "<table border=\"1\" class=\"dataframe\">\n",
              "  <thead>\n",
              "    <tr style=\"text-align: right;\">\n",
              "      <th></th>\n",
              "      <th>numero</th>\n",
              "      <th>peso</th>\n",
              "    </tr>\n",
              "  </thead>\n",
              "  <tbody>\n",
              "    <tr>\n",
              "      <th>closing</th>\n",
              "      <td>10255</td>\n",
              "      <td>50.323399</td>\n",
              "    </tr>\n",
              "    <tr>\n",
              "      <th>lásó</th>\n",
              "      <td>27668</td>\n",
              "      <td>49.250191</td>\n",
              "    </tr>\n",
              "    <tr>\n",
              "      <th>lambrett</th>\n",
              "      <td>26319</td>\n",
              "      <td>47.354076</td>\n",
              "    </tr>\n",
              "    <tr>\n",
              "      <th>amorpel</th>\n",
              "      <td>2906</td>\n",
              "      <td>44.917393</td>\n",
              "    </tr>\n",
              "    <tr>\n",
              "      <th>antár</th>\n",
              "      <td>3309</td>\n",
              "      <td>43.207836</td>\n",
              "    </tr>\n",
              "    <tr>\n",
              "      <th>...</th>\n",
              "      <td>...</td>\n",
              "      <td>...</td>\n",
              "    </tr>\n",
              "    <tr>\n",
              "      <th>alguémcol</th>\n",
              "      <td>2222</td>\n",
              "      <td>-19.851274</td>\n",
              "    </tr>\n",
              "    <tr>\n",
              "      <th>tayl</th>\n",
              "      <td>43754</td>\n",
              "      <td>-21.284807</td>\n",
              "    </tr>\n",
              "    <tr>\n",
              "      <th>sabendosó</th>\n",
              "      <td>40287</td>\n",
              "      <td>-21.721247</td>\n",
              "    </tr>\n",
              "    <tr>\n",
              "      <th>fischer</th>\n",
              "      <td>19790</td>\n",
              "      <td>-22.212563</td>\n",
              "    </tr>\n",
              "    <tr>\n",
              "      <th>enchug</th>\n",
              "      <td>16623</td>\n",
              "      <td>-26.881008</td>\n",
              "    </tr>\n",
              "  </tbody>\n",
              "</table>\n",
              "<p>50000 rows × 2 columns</p>\n",
              "</div>"
            ],
            "text/plain": [
              "           numero       peso\n",
              "closing     10255  50.323399\n",
              "lásó        27668  49.250191\n",
              "lambrett    26319  47.354076\n",
              "amorpel      2906  44.917393\n",
              "antár        3309  43.207836\n",
              "...           ...        ...\n",
              "alguémcol    2222 -19.851274\n",
              "tayl        43754 -21.284807\n",
              "sabendosó   40287 -21.721247\n",
              "fischer     19790 -22.212563\n",
              "enchug      16623 -26.881008\n",
              "\n",
              "[50000 rows x 2 columns]"
            ]
          },
          "metadata": {
            "tags": []
          },
          "execution_count": 14
        }
      ]
    },
    {
      "cell_type": "markdown",
      "metadata": {
        "id": "RQj56ctXUwMu",
        "colab_type": "text"
      },
      "source": [
        "#EN"
      ]
    },
    {
      "cell_type": "code",
      "metadata": {
        "id": "ntvBGQKMUvjW",
        "colab_type": "code",
        "colab": {}
      },
      "source": [
        "print('{0} -> inicio'.format(datetime.now() - timedelta(hours = 3)))\n",
        "inicio = time.time()\n",
        "\n",
        "letras_en_agrupado = ''\n",
        "for i in range( dataset_en.shape[0] ):\n",
        "    letras_en_agrupado += dataset_en.iloc[i]['Lyric']\n",
        "\n",
        "w_token_en = word_tokenize( letras_en_agrupado )\n",
        "\n",
        "print('{0} -> fim , levou {1:.2f}s'.format(datetime.now() - timedelta(hours = 3), time.time() - inicio))"
      ],
      "execution_count": null,
      "outputs": []
    },
    {
      "cell_type": "code",
      "metadata": {
        "id": "cwkOZswCVBiB",
        "colab_type": "code",
        "colab": {}
      },
      "source": [
        "print('{0} -> inicio'.format(datetime.now() - timedelta(hours = 3)))\n",
        "inicio = time.time()\n",
        "\n",
        "stw_en = stopwords.words('english')\n",
        "pontuacao = list( punctuation )\n",
        "stopwords_en = set( stw_en + pontuacao ) #cria lista sem repetir elementos\n",
        "w_token_en_sem_stopwords = [palavra for palavra in w_token_en if palavra not in stopwords_en]\n",
        "\n",
        "stemmer = RSLPStemmer()\n",
        "w_token_en_sem_stopwords_stem = [stemmer.stem( palavra ) for palavra in w_token_en_sem_stopwords]\n",
        "\n",
        "print('{0} -> fim , levou {1:.2f}s'.format(datetime.now() - timedelta(hours = 3), time.time() - inicio))"
      ],
      "execution_count": null,
      "outputs": []
    },
    {
      "cell_type": "code",
      "metadata": {
        "id": "cD7BukIAVIxQ",
        "colab_type": "code",
        "colab": {}
      },
      "source": [
        "print('{0} -> inicio'.format(datetime.now() - timedelta(hours = 3)))\n",
        "inicio = time.time()\n",
        "\n",
        "vectorizer_en = CountVectorizer( analyzer='word' )\n",
        "vectorizer_en.fit( w_token_en_sem_stopwords_stem )\n",
        "tamanho_dicionario_en = len(list(vectorizer_en.vocabulary_))\n",
        "\n",
        "letras_en = dataset_en['Lyric'].values #X\n",
        "generos_en = dataset_en['NR_Genre'].values #Y\n",
        "\n",
        "generos_en_dummy = np_utils.to_categorical(generos_en)\n",
        "\n",
        "x_treino_en, x_teste_en, y_treino_en, y_teste_en = train_test_split( letras_en, generos_en_dummy, test_size=0.3, random_state=42 )\n",
        "x_vali_en, x_teste_en, y_vali_en, y_teste_en = train_test_split( x_teste_en, y_teste_en, test_size=0.5, random_state=42 )\n",
        "\n",
        "BOW_x_treino_en = vectorizer_en.transform( x_treino_en )\n",
        "BOW_x_vali_en = vectorizer_en.transform( x_vali_en )\n",
        "BOW_x_teste_en = vectorizer_en.transform( x_teste_en )\n",
        "\n",
        "print('{0} -> fim , levou {1:.2f}s'.format(datetime.now() - timedelta(hours = 3), time.time() - inicio))"
      ],
      "execution_count": null,
      "outputs": []
    },
    {
      "cell_type": "code",
      "metadata": {
        "id": "rReS3UTEfl0h",
        "colab_type": "code",
        "colab": {
          "base_uri": "https://localhost:8080/",
          "height": 230
        },
        "outputId": "e533ebee-6310-455f-eb8e-67d92054bc0e"
      },
      "source": [
        "modelo_en = Sequential()\n",
        "\n",
        "modelo_en.add( Dense( 128, activation='relu', input_shape=(tamanho_dicionario_en,) ) )\n",
        "modelo_en.add( Dense( quantidade_generos_en, activation='softmax' ) )\n",
        "\n",
        "modelo_en.compile( Adam(), loss='categorical_crossentropy', metrics=['accuracy'] )\n",
        "\n",
        "modelo_en.summary()"
      ],
      "execution_count": null,
      "outputs": [
        {
          "output_type": "stream",
          "text": [
            "Model: \"sequential_1\"\n",
            "_________________________________________________________________\n",
            "Layer (type)                 Output Shape              Param #   \n",
            "=================================================================\n",
            "dense_2 (Dense)              (None, 128)               16552320  \n",
            "_________________________________________________________________\n",
            "dense_3 (Dense)              (None, 3)                 387       \n",
            "=================================================================\n",
            "Total params: 16,552,707\n",
            "Trainable params: 16,552,707\n",
            "Non-trainable params: 0\n",
            "_________________________________________________________________\n"
          ],
          "name": "stdout"
        }
      ]
    },
    {
      "cell_type": "code",
      "metadata": {
        "id": "bRtTJ5pDV86z",
        "colab_type": "code",
        "colab": {
          "base_uri": "https://localhost:8080/",
          "height": 1000
        },
        "outputId": "e4c0663d-5678-48c7-c669-34ff8b0cdad9"
      },
      "source": [
        "historico_en = modelo_en.fit( BOW_x_treino_en, y_treino_en, epochs=50, validation_data=( BOW_x_vali_en, y_vali_en ) )"
      ],
      "execution_count": null,
      "outputs": [
        {
          "output_type": "stream",
          "text": [
            "Epoch 1/50\n",
            "2713/2713 [==============================] - 167s 62ms/step - loss: 0.7210 - accuracy: 0.6784 - val_loss: 0.6803 - val_accuracy: 0.6893\n",
            "Epoch 2/50\n",
            "2713/2713 [==============================] - 167s 62ms/step - loss: 0.5835 - accuracy: 0.7323 - val_loss: 0.6659 - val_accuracy: 0.6969\n",
            "Epoch 3/50\n",
            "2713/2713 [==============================] - 167s 61ms/step - loss: 0.4985 - accuracy: 0.7719 - val_loss: 0.6863 - val_accuracy: 0.6998\n",
            "Epoch 4/50\n",
            "2713/2713 [==============================] - 164s 60ms/step - loss: 0.4344 - accuracy: 0.8015 - val_loss: 0.7393 - val_accuracy: 0.6914\n",
            "Epoch 5/50\n",
            "2713/2713 [==============================] - 164s 61ms/step - loss: 0.3858 - accuracy: 0.8237 - val_loss: 0.7816 - val_accuracy: 0.6945\n",
            "Epoch 6/50\n",
            "2713/2713 [==============================] - 164s 60ms/step - loss: 0.3555 - accuracy: 0.8379 - val_loss: 0.8231 - val_accuracy: 0.6909\n",
            "Epoch 7/50\n",
            "2713/2713 [==============================] - 164s 60ms/step - loss: 0.3309 - accuracy: 0.8474 - val_loss: 0.8665 - val_accuracy: 0.6943\n",
            "Epoch 8/50\n",
            "2713/2713 [==============================] - 164s 60ms/step - loss: 0.3139 - accuracy: 0.8545 - val_loss: 0.9096 - val_accuracy: 0.6938\n",
            "Epoch 9/50\n",
            "2713/2713 [==============================] - 163s 60ms/step - loss: 0.3012 - accuracy: 0.8582 - val_loss: 0.9149 - val_accuracy: 0.6901\n",
            "Epoch 10/50\n",
            "2713/2713 [==============================] - 160s 59ms/step - loss: 0.2891 - accuracy: 0.8627 - val_loss: 0.9524 - val_accuracy: 0.6922\n",
            "Epoch 11/50\n",
            "2713/2713 [==============================] - 160s 59ms/step - loss: 0.2806 - accuracy: 0.8657 - val_loss: 0.9689 - val_accuracy: 0.6909\n",
            "Epoch 12/50\n",
            "2713/2713 [==============================] - 162s 60ms/step - loss: 0.2713 - accuracy: 0.8677 - val_loss: 1.0151 - val_accuracy: 0.6925\n",
            "Epoch 13/50\n",
            "2713/2713 [==============================] - 160s 59ms/step - loss: 0.2656 - accuracy: 0.8706 - val_loss: 0.9921 - val_accuracy: 0.6878\n",
            "Epoch 14/50\n",
            "2713/2713 [==============================] - 160s 59ms/step - loss: 0.2587 - accuracy: 0.8709 - val_loss: 1.0321 - val_accuracy: 0.6851\n",
            "Epoch 15/50\n",
            "2713/2713 [==============================] - 159s 59ms/step - loss: 0.2525 - accuracy: 0.8740 - val_loss: 1.0436 - val_accuracy: 0.6919\n",
            "Epoch 16/50\n",
            "2713/2713 [==============================] - 158s 58ms/step - loss: 0.2478 - accuracy: 0.8732 - val_loss: 1.1207 - val_accuracy: 0.6938\n",
            "Epoch 17/50\n",
            "2713/2713 [==============================] - 158s 58ms/step - loss: 0.2442 - accuracy: 0.8757 - val_loss: 1.0930 - val_accuracy: 0.6897\n",
            "Epoch 18/50\n",
            "2713/2713 [==============================] - 158s 58ms/step - loss: 0.2399 - accuracy: 0.8768 - val_loss: 1.1270 - val_accuracy: 0.6892\n",
            "Epoch 19/50\n",
            "2713/2713 [==============================] - 158s 58ms/step - loss: 0.2360 - accuracy: 0.8771 - val_loss: 1.1461 - val_accuracy: 0.6834\n",
            "Epoch 20/50\n",
            "2713/2713 [==============================] - 158s 58ms/step - loss: 0.2321 - accuracy: 0.8777 - val_loss: 1.1737 - val_accuracy: 0.6894\n",
            "Epoch 21/50\n",
            "2713/2713 [==============================] - 156s 58ms/step - loss: 0.2311 - accuracy: 0.8780 - val_loss: 1.1925 - val_accuracy: 0.6907\n",
            "Epoch 22/50\n",
            "2713/2713 [==============================] - 157s 58ms/step - loss: 0.2279 - accuracy: 0.8790 - val_loss: 1.2083 - val_accuracy: 0.6834\n",
            "Epoch 23/50\n",
            "2713/2713 [==============================] - 157s 58ms/step - loss: 0.2250 - accuracy: 0.8798 - val_loss: 1.2290 - val_accuracy: 0.6821\n",
            "Epoch 24/50\n",
            "2713/2713 [==============================] - 158s 58ms/step - loss: 0.2237 - accuracy: 0.8795 - val_loss: 1.2717 - val_accuracy: 0.6885\n",
            "Epoch 25/50\n",
            "2713/2713 [==============================] - 158s 58ms/step - loss: 0.2209 - accuracy: 0.8807 - val_loss: 1.2671 - val_accuracy: 0.6860\n",
            "Epoch 26/50\n",
            "2713/2713 [==============================] - 158s 58ms/step - loss: 0.2187 - accuracy: 0.8797 - val_loss: 1.2761 - val_accuracy: 0.6832\n",
            "Epoch 27/50\n",
            "2713/2713 [==============================] - 154s 57ms/step - loss: 0.2176 - accuracy: 0.8815 - val_loss: 1.2889 - val_accuracy: 0.6845\n",
            "Epoch 28/50\n",
            "2713/2713 [==============================] - 157s 58ms/step - loss: 0.2147 - accuracy: 0.8826 - val_loss: 1.3092 - val_accuracy: 0.6825\n",
            "Epoch 29/50\n",
            "2713/2713 [==============================] - 157s 58ms/step - loss: 0.2134 - accuracy: 0.8823 - val_loss: 1.3360 - val_accuracy: 0.6811\n",
            "Epoch 30/50\n",
            "2713/2713 [==============================] - 158s 58ms/step - loss: 0.2120 - accuracy: 0.8824 - val_loss: 1.3260 - val_accuracy: 0.6831\n",
            "Epoch 31/50\n",
            "2713/2713 [==============================] - 158s 58ms/step - loss: 0.2102 - accuracy: 0.8836 - val_loss: 1.3567 - val_accuracy: 0.6804\n",
            "Epoch 32/50\n",
            "2713/2713 [==============================] - 158s 58ms/step - loss: 0.2089 - accuracy: 0.8848 - val_loss: 1.4031 - val_accuracy: 0.6817\n",
            "Epoch 33/50\n",
            "2713/2713 [==============================] - 156s 57ms/step - loss: 0.2082 - accuracy: 0.8831 - val_loss: 1.4050 - val_accuracy: 0.6839\n",
            "Epoch 34/50\n",
            "2713/2713 [==============================] - 158s 58ms/step - loss: 0.2069 - accuracy: 0.8846 - val_loss: 1.4333 - val_accuracy: 0.6811\n",
            "Epoch 35/50\n",
            "2713/2713 [==============================] - 160s 59ms/step - loss: 0.2049 - accuracy: 0.8841 - val_loss: 1.4519 - val_accuracy: 0.6806\n",
            "Epoch 36/50\n",
            "2713/2713 [==============================] - 160s 59ms/step - loss: 0.2037 - accuracy: 0.8849 - val_loss: 1.4874 - val_accuracy: 0.6815\n",
            "Epoch 37/50\n",
            "2713/2713 [==============================] - 158s 58ms/step - loss: 0.2025 - accuracy: 0.8858 - val_loss: 1.4875 - val_accuracy: 0.6817\n",
            "Epoch 38/50\n",
            "2713/2713 [==============================] - 158s 58ms/step - loss: 0.2020 - accuracy: 0.8856 - val_loss: 1.5435 - val_accuracy: 0.6841\n",
            "Epoch 39/50\n",
            "2713/2713 [==============================] - 158s 58ms/step - loss: 0.2012 - accuracy: 0.8865 - val_loss: 1.5849 - val_accuracy: 0.6807\n",
            "Epoch 40/50\n",
            "2713/2713 [==============================] - 158s 58ms/step - loss: 0.2009 - accuracy: 0.8864 - val_loss: 1.5744 - val_accuracy: 0.6834\n",
            "Epoch 41/50\n",
            "2713/2713 [==============================] - 158s 58ms/step - loss: 0.1998 - accuracy: 0.8856 - val_loss: 1.5576 - val_accuracy: 0.6804\n",
            "Epoch 42/50\n",
            "2713/2713 [==============================] - 162s 60ms/step - loss: 0.1986 - accuracy: 0.8872 - val_loss: 1.6334 - val_accuracy: 0.6799\n",
            "Epoch 43/50\n",
            "2713/2713 [==============================] - 159s 58ms/step - loss: 0.1976 - accuracy: 0.8872 - val_loss: 1.5700 - val_accuracy: 0.6860\n",
            "Epoch 44/50\n",
            "2713/2713 [==============================] - 158s 58ms/step - loss: 0.1971 - accuracy: 0.8865 - val_loss: 1.5972 - val_accuracy: 0.6850\n",
            "Epoch 45/50\n",
            "2713/2713 [==============================] - 158s 58ms/step - loss: 0.1967 - accuracy: 0.8869 - val_loss: 1.6449 - val_accuracy: 0.6758\n",
            "Epoch 46/50\n",
            "2713/2713 [==============================] - 159s 58ms/step - loss: 0.1956 - accuracy: 0.8885 - val_loss: 1.6587 - val_accuracy: 0.6768\n",
            "Epoch 47/50\n",
            "2713/2713 [==============================] - 158s 58ms/step - loss: 0.1949 - accuracy: 0.8883 - val_loss: 1.6811 - val_accuracy: 0.6799\n",
            "Epoch 48/50\n",
            "2713/2713 [==============================] - 159s 59ms/step - loss: 0.1938 - accuracy: 0.8887 - val_loss: 1.7100 - val_accuracy: 0.6766\n",
            "Epoch 49/50\n",
            "2713/2713 [==============================] - 158s 58ms/step - loss: 0.1941 - accuracy: 0.8884 - val_loss: 1.7416 - val_accuracy: 0.6751\n",
            "Epoch 50/50\n",
            "2713/2713 [==============================] - 157s 58ms/step - loss: 0.1928 - accuracy: 0.8885 - val_loss: 1.7547 - val_accuracy: 0.6761\n"
          ],
          "name": "stdout"
        }
      ]
    },
    {
      "cell_type": "code",
      "metadata": {
        "id": "Em4vhyCRgXaH",
        "colab_type": "code",
        "colab": {
          "base_uri": "https://localhost:8080/",
          "height": 576
        },
        "outputId": "36cab007-26e7-4019-ac11-b30db60910a4"
      },
      "source": [
        "plt.plot(historico_en.history['loss'], 'b', label='Treinamento')\n",
        "plt.plot(historico_en.history['val_loss'], 'bo', label='Validação')\n",
        "plt.title('Função de custo por época')\n",
        "plt.xlabel('Épocas')\n",
        "plt.ylabel('Custo')\n",
        "plt.legend()\n",
        "plt.show()\n",
        "\n",
        "plt.plot(historico_en.history['accuracy'], 'b', label='Treinamento')\n",
        "plt.plot(historico_en.history['val_accuracy'], 'bo', label='Validação')\n",
        "plt.title('Exatidão por época')\n",
        "plt.xlabel('Épocas')\n",
        "plt.ylabel('Exatidão')\n",
        "plt.legend()\n",
        "plt.show()"
      ],
      "execution_count": null,
      "outputs": [
        {
          "output_type": "display_data",
          "data": {
            "image/png": "[encoded data removed]",
            "text/plain": [
              "<Figure size 432x288 with 1 Axes>"
            ]
          },
          "metadata": {
            "tags": [],
            "needs_background": "light"
          }
        },
        {
          "output_type": "display_data",
          "data": {
            "image/png": "[encoded data removed]",
            "text/plain": [
              "<Figure size 432x288 with 1 Axes>"
            ]
          },
          "metadata": {
            "tags": [],
            "needs_background": "light"
          }
        }
      ]
    },
    {
      "cell_type": "code",
      "metadata": {
        "id": "Bi7XsQoGgYsS",
        "colab_type": "code",
        "colab": {
          "base_uri": "https://localhost:8080/",
          "height": 176
        },
        "outputId": "c009b098-4b78-485c-8f8b-185f97471432"
      },
      "source": [
        "desempenho_treino_en = modelo_en.evaluate( BOW_x_treino_en, y_treino_en )\n",
        "print('Valor da função de custo do treino = {0:.4f}\\nValor da exatidão do treino = {1:.4f}'.format( desempenho_treino_en[0], desempenho_treino_en[1] ))\n",
        "\n",
        "desempenho_validacao_en = modelo_en.evaluate( BOW_x_vali_en, y_vali_en )\n",
        "print('Valor da função de custo da validação = {0:.4f}\\nValor da exatidão da validação = {1:.4f}'.format( desempenho_validacao_en[0], desempenho_validacao_en[1] ))\n",
        "\n",
        "desempenho_teste_en = modelo_en.evaluate( BOW_x_teste_en, y_teste_en )\n",
        "print('Valor da função de custo do teste = {0:.4f}\\nValor da exatidão do teste = {1:.4f}'.format( desempenho_teste_en[0], desempenho_teste_en[1] ))"
      ],
      "execution_count": null,
      "outputs": [
        {
          "output_type": "stream",
          "text": [
            "2713/2713 [==============================] - 4s 1ms/step - loss: 0.1734 - accuracy: 0.9016\n",
            "Valor da função de custo do treino = 0.1734\n",
            "Valor da exatidão do treino = 0.9016\n",
            "582/582 [==============================] - 1s 1ms/step - loss: 1.7547 - accuracy: 0.6761\n",
            "Valor da função de custo da validação = 1.7547\n",
            "Valor da exatidão da validação = 0.6761\n",
            "582/582 [==============================] - 1s 1ms/step - loss: 1.6874 - accuracy: 0.6748\n",
            "Valor da função de custo do teste = 1.6874\n",
            "Valor da exatidão do teste = 0.6748\n"
          ],
          "name": "stdout"
        }
      ]
    },
    {
      "cell_type": "code",
      "metadata": {
        "id": "TWNQ4FE-FbU5",
        "colab_type": "code",
        "colab": {
          "base_uri": "https://localhost:8080/",
          "height": 158
        },
        "outputId": "6ccf9d06-68bf-49ed-c0e8-4862704ecc91"
      },
      "source": [
        "y_pred_en = modelo_en.predict( BOW_x_teste_en )\n",
        "y_pred_en = np.round(y_pred_en)\n",
        "\n",
        "conf_matrix_en = multilabel_confusion_matrix(y_teste_en, y_pred_en)\n",
        "conf_matrix_en"
      ],
      "execution_count": null,
      "outputs": [
        {
          "output_type": "execute_result",
          "data": {
            "text/plain": [
              "array([[[ 7236,  2281],\n",
              "        [ 1780,  7302]],\n",
              "\n",
              "       [[10204,  2373],\n",
              "        [ 3117,  2905]],\n",
              "\n",
              "       [[13915,  1189],\n",
              "        [ 1312,  2183]]])"
            ]
          },
          "metadata": {
            "tags": []
          },
          "execution_count": 50
        }
      ]
    },
    {
      "cell_type": "code",
      "metadata": {
        "id": "-9mwkyLrGfF7",
        "colab_type": "code",
        "colab": {
          "base_uri": "https://localhost:8080/",
          "height": 70
        },
        "outputId": "33ddc83a-8be1-400a-ef24-27d2a772362e"
      },
      "source": [
        "# Linkin Park - Numb\n",
        "musica_teste_en_rock = \"I'm tired of being what you want me to be Feeling so faithless, lost under the surface I don't know what you're expecting of me Put under the pressure of walking in your shoes Caught in the undertow, just caught in the undertow Every step that I take is another mistake to you Caught in the undertow, just caught in the undertow I've become so numb, I can't feel you there Become so tired, so much more aware By becoming this all I want to do Is be more like me and be less like you Can't you see that you're smothering me? Holding too tightly, afraid to lose control 'Cause everything that you thought I would be Has fallen apart right in front of you Caught in the undertow, just caught in the undertow Every step that I take is another mistake to you Caught in the undertow, just caught in the undertow And every second I waste is more than I can take! I've become so numb, I can't feel you there Become so tired, so much more aware By becoming this all I want to do Is be more like me and be less like you And I know I may end up failing too But I know you were just like me with someone disappointed in you I've become so numb, I can't feel you there Become so tired, so much more aware By becoming this all I want to do Is be more like me and be less like you I've become so numb, I can't feel you there I'm tired of being what you want me to be I've become so numb, I can't feel you there I'm tired of being what you want me to be\"\n",
        "\n",
        "# Lady Gaga - Poker Face\n",
        "musica_teste_en_pop = \"Mum-mum-mum-mah Mum-mum-mum-mah Mum-mum-mum-mah Mum-mum-mum-mah Mum-mum-mum-mah I wanna hold 'em like they do in Texas, please Fold 'em, let 'em hit me, raise it, baby, stay with me (I love it) Love game intuition, play the cards with spades to start And after he's been hooked, I'll play the one that's on his heart Oh, whoa, oh, oh Oh, oh oh I'll get him hot, show him what I've got Oh, whoa, oh, oh Oh, oh oh I'll get him hot, show him what I've got Can't read my, can't read my No, he can't read my poker face (She's got me like nobody) Can't read my, can't read my No, he can't read my poker face (She's got me like nobody) P-p-p-poker face, p-p-poker face (mum-mum-mum-mah) P-p-p-poker face, p-p-poker face (mum-mum-mum-mah) I wanna roll with him, a hard pair we will be (hey) A little gamblin' is fun when you're with me (I love it) Russian roulette is not the same without a gun And baby, when it's love, if it's not rough, it isn't fun (fun) Oh, whoa, oh, oh Oh, oh oh I'll get him hot, show him what I've got Oh, whoa, oh, oh Oh, oh oh I'll get him hot, show him what I've got Can't read my, can't read my No, he can't read my poker face (She's got me like nobody) Can't read my, can't read my No, he can't read my poker face (She's got me like nobody) P-p-p-poker face, p-p-poker face (mum-mum-mum-mah) P-p-p-poker face, p-p-poker face (mum-mum-mum-mah) (Mum-mum-mum-mah) (Mum-mum-mum-mah) I won't tell you that I love you, kiss or hug you 'Cause I'm bluffin' with my muffin I'm not lying, I'm just stunnin' with my love-glue-gunnin' Just like a chick in the casino Take your bank before I pay you out I promise this, promise this Check this hand 'cause I'm marvelous Can't read my, can't read my No, he can't read my poker face (She's got me like nobody) Can't read my, can't read my No, he can't read my poker face (She's got me like nobody) Can't read my, can't read my No, he can't read my poker face (She's got me like nobody) Can't read my, can't read my No, he can't read my poker face (She's got me like nobody) Can't read my, can't read my No, he can't read my poker face (She's got me like nobody) Can't read my, can't read my No, he can't read my poker face (She's got me like nobody) P-p-p-poker face, p-p-poker face P-p-p-poker face, p-p-poker face (She's got me like nobody) P-p-p-poker face, p-p-poker face (mum-mum-mum-mah) P-p-p-poker face, p-p-poker face (mum-mum-mum-mah) P-p-p-poker face, p-p-poker face (mum-mum-mum-mah) P-p-p-poker face, p-p-poker face (mum-mum-mum-mah)\"\n",
        "\n",
        "# Akon - Lonely\n",
        "musica_teste_en_hiphop = \"Lonely, I'm Mr. Lonely I have nobody for my own Oh, I'm so lonely I'm Mr. Lonely I have nobody for my own Oh, I'm so lonely Yo, this one here Goes out to all my players out there, man You know, that got that one good girl, dogg That's always been there, man Like, took all the bullshit But then one day she can't take it no more And decide to leave Yeah, I woke up in the middle of the night And I noticed my girl wasn't by my side Could've sworn I was dreamin' For her I was feenin' So I had to take a little ride Backtrackin' on these few years Tryna figure out what I do to make it go bad 'Cause ever since my girl left me My whole life came crashin', and I'm so Lonely (so lonely) I'm Mr. Lonely (Mr. Lonely) I have nobody (I have nobody) For my own (to call my own) girl Oh, I'm so lonely (so lonely) I'm Mr. Lonely (Mr. Lonely) I have nobody (I have nobody) For my own (to call my own) girl Oh, I'm so lonely Can't believe I had a girl like you And I just let you walk right out of my life After all I put you through You still stuck around and stayed by my side What really hurt me is I broke your heart Baby, you a good girl and I had no right I really wanna to make things right 'Cause without you in my life girl, I'm so Lonely (so lonely) I'm Mr. Lonely (Mr. Lonely) I have nobody (I have nobody) For my own (to call my own) girl Oh, I'm so lonely (so lonely) I'm Mr. Lonely (Mr. Lonely) I have nobody (I have nobody) For my own (to call my own, baby) Oh, I'm so lonely Been all over the world Ain't never met a girl That could take the things that you been through Never thought the day would come Where you would get up and run And I would be out chasin' you 'Cause ain't nowhere in the globe I'd rather be Ain't no one in the globe I'd rather see Than the girl of my dreams that made me be So happy, but now so lonely Lonely (so lonely) I'm Mr. Lonely (Mr. Lonely) I have nobody (I have nobody) For my own (to call my own) girl Oh, I'm so lonely (so lonely) I'm Mr. Lonely (Mr. Lonely) I have nobody (I have nobody) For my own (to call my own, baby) Oh, I'm so lonely Never thought that I'd be alone I didn't think you'd be gone this long I just want you to call my phone So stop playing girl and come on home (come on home) Baby girl I didn't mean to shout I want me and you to work it out I never wished to ever hurt my baby And it's drivin' me crazy, 'cause I'm so Lonely (so lonely) I'm Mr. Lonely (Mr. Lonely) I have nobody (I have nobody) For my own (to call my own) girl Oh, I'm so lonely (so lonely) I'm Mr. Lonely (Mr. Lonely) I have nobody (I have nobody) For my own (to call my own, baby) Oh, I'm so lonely So lonely, so lonely Mr. Lonely, so lonely So lonely, so lonely So lonely, Mr. Lonely\"\n",
        "\n",
        "lista_musicas_teste_en = [ musica_teste_en_rock, musica_teste_en_pop, musica_teste_en_hiphop ]\n",
        "\n",
        "teste_en = vectorizer_en.transform( lista_musicas_teste_en ).toarray()\n",
        "saida_teste_en = modelo_en.predict( teste_en )\n",
        "saida_teste_mex_en = np.argmax( saida_teste_en, axis=1 )\n",
        "saida_teste_traducao_en = [dataset_generos_rev.get(item,item) for item in saida_teste_mex_en]\n",
        "\n",
        "for i in range( quantidade_generos_en ):\n",
        "    print('Música de {0} o modelo preveu {1}'.format( list(dataset_generos.keys())[i], saida_teste_traducao_en[i] ))"
      ],
      "execution_count": null,
      "outputs": [
        {
          "output_type": "stream",
          "text": [
            "Música de Rock o modelo preveu Rock\n",
            "Música de Pop o modelo preveu Pop\n",
            "Música de Hip Hop o modelo preveu Pop\n"
          ],
          "name": "stdout"
        }
      ]
    },
    {
      "cell_type": "code",
      "metadata": {
        "id": "2_zZ9-zU4AgL",
        "colab_type": "code",
        "colab": {
          "base_uri": "https://localhost:8080/",
          "height": 406
        },
        "outputId": "ce01524c-f019-43d5-eb78-42e2ef6c80f9"
      },
      "source": [
        "primeira_camada_en = modelo_en.layers[0].name\n",
        "somatoria_pesos_en = np.sum(modelo_en.get_layer( primeira_camada_en ).get_weights()[0], axis=1)\n",
        "\n",
        "df_vetor_palavras_en = pd.DataFrame.from_dict(vectorizer_en.vocabulary_, orient='index', columns=['numero'])\n",
        "df_vetor_palavras_en['peso'] = somatoria_pesos_en\n",
        "\n",
        "df_vetor_palavras_en.sort_values(by=['peso'], ascending=False)"
      ],
      "execution_count": null,
      "outputs": [
        {
          "output_type": "execute_result",
          "data": {
            "text/html": [
              "<div>\n",
              "<style scoped>\n",
              "    .dataframe tbody tr th:only-of-type {\n",
              "        vertical-align: middle;\n",
              "    }\n",
              "\n",
              "    .dataframe tbody tr th {\n",
              "        vertical-align: top;\n",
              "    }\n",
              "\n",
              "    .dataframe thead th {\n",
              "        text-align: right;\n",
              "    }\n",
              "</style>\n",
              "<table border=\"1\" class=\"dataframe\">\n",
              "  <thead>\n",
              "    <tr style=\"text-align: right;\">\n",
              "      <th></th>\n",
              "      <th>numero</th>\n",
              "      <th>peso</th>\n",
              "    </tr>\n",
              "  </thead>\n",
              "  <tbody>\n",
              "    <tr>\n",
              "      <th>offbeat</th>\n",
              "      <td>79877</td>\n",
              "      <td>79.274055</td>\n",
              "    </tr>\n",
              "    <tr>\n",
              "      <th>game</th>\n",
              "      <td>44743</td>\n",
              "      <td>69.616493</td>\n",
              "    </tr>\n",
              "    <tr>\n",
              "      <th>jcarlosthil</th>\n",
              "      <td>59382</td>\n",
              "      <td>68.311104</td>\n",
              "    </tr>\n",
              "    <tr>\n",
              "      <th>grime</th>\n",
              "      <td>48481</td>\n",
              "      <td>67.685822</td>\n",
              "    </tr>\n",
              "    <tr>\n",
              "      <th>perkul</th>\n",
              "      <td>85242</td>\n",
              "      <td>67.650497</td>\n",
              "    </tr>\n",
              "    <tr>\n",
              "      <th>...</th>\n",
              "      <td>...</td>\n",
              "      <td>...</td>\n",
              "    </tr>\n",
              "    <tr>\n",
              "      <th>kaset</th>\n",
              "      <td>61116</td>\n",
              "      <td>-50.787788</td>\n",
              "    </tr>\n",
              "    <tr>\n",
              "      <th>splurging</th>\n",
              "      <td>105298</td>\n",
              "      <td>-52.086670</td>\n",
              "    </tr>\n",
              "    <tr>\n",
              "      <th>pimin</th>\n",
              "      <td>86182</td>\n",
              "      <td>-56.059128</td>\n",
              "    </tr>\n",
              "    <tr>\n",
              "      <th>werenâ</th>\n",
              "      <td>122899</td>\n",
              "      <td>-59.531796</td>\n",
              "    </tr>\n",
              "    <tr>\n",
              "      <th>otow</th>\n",
              "      <td>82153</td>\n",
              "      <td>-79.783470</td>\n",
              "    </tr>\n",
              "  </tbody>\n",
              "</table>\n",
              "<p>129314 rows × 2 columns</p>\n",
              "</div>"
            ],
            "text/plain": [
              "             numero       peso\n",
              "offbeat       79877  79.274055\n",
              "game          44743  69.616493\n",
              "jcarlosthil   59382  68.311104\n",
              "grime         48481  67.685822\n",
              "perkul        85242  67.650497\n",
              "...             ...        ...\n",
              "kaset         61116 -50.787788\n",
              "splurging    105298 -52.086670\n",
              "pimin         86182 -56.059128\n",
              "werenâ       122899 -59.531796\n",
              "otow          82153 -79.783470\n",
              "\n",
              "[129314 rows x 2 columns]"
            ]
          },
          "metadata": {
            "tags": []
          },
          "execution_count": 95
        }
      ]
    },
    {
      "cell_type": "code",
      "metadata": {
        "id": "jXy9WvlCiRIN",
        "colab_type": "code",
        "colab": {}
      },
      "source": [
        "modelo_pt.save_weights( caminho_drive + 'modelo_pt_{0}.h5'.format( agora ) )\n",
        "modelo_en.save_weights( caminho_drive + 'modelo_en_{0}.h5'.format( agora ) )"
      ],
      "execution_count": null,
      "outputs": []
    },
    {
      "cell_type": "markdown",
      "metadata": {
        "id": "-1WlYeg2SZe8",
        "colab_type": "text"
      },
      "source": [
        "#TESTAR\n",
        "- Support Vector Machines\n",
        "- Bayesian Networks\n",
        "- Maximum Entropy\n",
        "- Conditional Random Field\n",
        "- Neural Networks/Deep Learning\n",
        "- XGBoost\n",
        "\n",
        "#Utilizar sklearn"
      ]
    },
    {
      "cell_type": "code",
      "metadata": {
        "id": "Nzs-hNLCSvD6",
        "colab_type": "code",
        "colab": {}
      },
      "source": [
        "from sklearn.naive_bayes import MultinomialNB\n",
        "import xgboost as xgb\n",
        "from sklearn import svm\n",
        "\n",
        "from sklearn.naive_bayes import GaussianNB\n",
        "\n",
        "from sklearn.metrics import f1_score"
      ],
      "execution_count": null,
      "outputs": []
    },
    {
      "cell_type": "code",
      "metadata": {
        "id": "JaM-Z8lOkGPn",
        "colab_type": "code",
        "colab": {}
      },
      "source": [
        "x_treino_pt, x_teste_pt, y_treino_pt, y_teste_pt = train_test_split( letras_pt, generos_pt, test_size=0.3, random_state=42 )\n",
        "x_vali_pt, x_teste_pt, y_vali_pt, y_teste_pt = train_test_split( x_teste_pt, y_teste_pt, test_size=0.5, random_state=42 )"
      ],
      "execution_count": null,
      "outputs": []
    },
    {
      "cell_type": "code",
      "metadata": {
        "id": "6X8QGhtamB3T",
        "colab_type": "code",
        "colab": {
          "base_uri": "https://localhost:8080/",
          "height": 34
        },
        "outputId": "1190b332-0046-491e-db99-48a8567e9ba5"
      },
      "source": [
        "nb_pt = MultinomialNB()\n",
        "nb_pt.fit( BOW_x_treino_pt, y_treino_pt )"
      ],
      "execution_count": null,
      "outputs": [
        {
          "output_type": "execute_result",
          "data": {
            "text/plain": [
              "MultinomialNB(alpha=1.0, class_prior=None, fit_prior=True)"
            ]
          },
          "metadata": {
            "tags": []
          },
          "execution_count": 18
        }
      ]
    },
    {
      "cell_type": "code",
      "metadata": {
        "id": "1N8VLygQmJRQ",
        "colab_type": "code",
        "colab": {
          "base_uri": "https://localhost:8080/",
          "height": 70
        },
        "outputId": "5e130421-782d-4f55-c116-c87eed7d3cec"
      },
      "source": [
        "predicao_treino_pt = nb_pt.predict( BOW_x_treino_pt )\n",
        "predicao_vali_pt = nb_pt.predict( BOW_x_vali_pt )\n",
        "predicao_teste_pt = nb_pt.predict( BOW_x_teste_pt )\n",
        "\n",
        "print( f1_score( y_treino_pt, predicao_treino_pt, average='weighted' ) )\n",
        "print( f1_score( y_vali_pt, predicao_vali_pt, average='weighted' ) )\n",
        "print( f1_score( y_teste_pt, predicao_teste_pt, average='weighted' ) )"
      ],
      "execution_count": null,
      "outputs": [
        {
          "output_type": "stream",
          "text": [
            "0.6273797806353383\n",
            "0.5839240603163042\n",
            "0.5846584227196335\n"
          ],
          "name": "stdout"
        }
      ]
    },
    {
      "cell_type": "code",
      "metadata": {
        "id": "V69vvT0tmP-f",
        "colab_type": "code",
        "colab": {
          "base_uri": "https://localhost:8080/",
          "height": 87
        },
        "outputId": "fdd66bef-5751-47d9-ae94-1b0fb2fcd53b"
      },
      "source": [
        "svm_pt = svm.SVC()\n",
        "svm_pt.fit( BOW_x_treino_pt, y_treino_pt )"
      ],
      "execution_count": null,
      "outputs": [
        {
          "output_type": "execute_result",
          "data": {
            "text/plain": [
              "SVC(C=1.0, break_ties=False, cache_size=200, class_weight=None, coef0=0.0,\n",
              "    decision_function_shape='ovr', degree=3, gamma='scale', kernel='rbf',\n",
              "    max_iter=-1, probability=False, random_state=None, shrinking=True,\n",
              "    tol=0.001, verbose=False)"
            ]
          },
          "metadata": {
            "tags": []
          },
          "execution_count": 26
        }
      ]
    },
    {
      "cell_type": "code",
      "metadata": {
        "id": "tMr3-ra8mQ5n",
        "colab_type": "code",
        "colab": {
          "base_uri": "https://localhost:8080/",
          "height": 70
        },
        "outputId": "c905411c-0609-4b83-e215-c6699b80da21"
      },
      "source": [
        "predicao_treino_pt = svm_pt.predict( BOW_x_treino_pt )\n",
        "predicao_vali_pt = svm_pt.predict( BOW_x_vali_pt )\n",
        "predicao_teste_pt = svm_pt.predict( BOW_x_teste_pt )\n",
        "\n",
        "print( f1_score( y_treino_pt, predicao_treino_pt, average='weighted' ) )\n",
        "print( f1_score( y_vali_pt, predicao_vali_pt, average='weighted' ) )\n",
        "print( f1_score( y_teste_pt, predicao_teste_pt, average='weighted' ) )"
      ],
      "execution_count": null,
      "outputs": [
        {
          "output_type": "stream",
          "text": [
            "0.7279094843827587\n",
            "0.613097031279735\n",
            "0.6109263912710139\n"
          ],
          "name": "stdout"
        }
      ]
    },
    {
      "cell_type": "code",
      "metadata": {
        "id": "fMA52hSgoctd",
        "colab_type": "code",
        "colab": {
          "base_uri": "https://localhost:8080/",
          "height": 265
        },
        "outputId": "e4d4fcbd-c54f-4345-b84f-99e1a44e9940"
      },
      "source": [
        "from sklearn.multiclass import OneVsRestClassifier\n",
        "from xgboost import XGBClassifier\n",
        "from sklearn.preprocessing import MultiLabelBinarizer\n",
        "\n",
        "clf = OneVsRestClassifier(XGBClassifier(n_jobs=-1, max_depth=4))\n",
        "\n",
        "mlb = MultiLabelBinarizer()\n",
        "\n",
        "clf.fit( BOW_x_treino_pt, y_treino_pt )"
      ],
      "execution_count": null,
      "outputs": [
        {
          "output_type": "execute_result",
          "data": {
            "text/plain": [
              "OneVsRestClassifier(estimator=XGBClassifier(base_score=0.5, booster='gbtree',\n",
              "                                            colsample_bylevel=1,\n",
              "                                            colsample_bynode=1,\n",
              "                                            colsample_bytree=1, gamma=0,\n",
              "                                            learning_rate=0.1, max_delta_step=0,\n",
              "                                            max_depth=4, min_child_weight=1,\n",
              "                                            missing=None, n_estimators=100,\n",
              "                                            n_jobs=-1, nthread=None,\n",
              "                                            objective='binary:logistic',\n",
              "                                            random_state=0, reg_alpha=0,\n",
              "                                            reg_lambda=1, scale_pos_weight=1,\n",
              "                                            seed=None, silent=None, subsample=1,\n",
              "                                            verbosity=1),\n",
              "                    n_jobs=None)"
            ]
          },
          "metadata": {
            "tags": []
          },
          "execution_count": 7
        }
      ]
    },
    {
      "cell_type": "code",
      "metadata": {
        "id": "0K5y6P-aohxB",
        "colab_type": "code",
        "colab": {
          "base_uri": "https://localhost:8080/",
          "height": 70
        },
        "outputId": "5f4ccea8-9306-43d4-fef7-0ba6d51f358d"
      },
      "source": [
        "predicao_treino_pt = clf.predict( BOW_x_treino_pt )\n",
        "predicao_vali_pt = clf.predict( BOW_x_vali_pt )\n",
        "predicao_teste_pt = clf.predict( BOW_x_teste_pt )\n",
        "\n",
        "print( f1_score( y_treino_pt, predicao_treino_pt, average='weighted' ) )\n",
        "print( f1_score( y_vali_pt, predicao_vali_pt, average='weighted' ) )\n",
        "print( f1_score( y_teste_pt, predicao_teste_pt, average='weighted' ) )"
      ],
      "execution_count": null,
      "outputs": [
        {
          "output_type": "stream",
          "text": [
            "0.3856007499167081\n",
            "0.3704527039463678\n",
            "0.37171248572911636\n"
          ],
          "name": "stdout"
        }
      ]
    },
    {
      "cell_type": "code",
      "metadata": {
        "id": "nj1R2fKVqZCK",
        "colab_type": "code",
        "colab": {
          "base_uri": "https://localhost:8080/",
          "height": 141
        },
        "outputId": "0274b1dd-02aa-452a-dd40-1237b7c908b5"
      },
      "source": [
        "xgb_clf = xgb.XGBClassifier(learning_rate = 0.01,\n",
        "                         max_depth = 10, \n",
        "                         n_estimators = 1000,\n",
        "                         objective = 'binary:logistic',\n",
        "                         verbosity =0,\n",
        "                         seed = 42,\n",
        "                         reg_lambda = 8,\n",
        "                         reg_alpha = 2,\n",
        "                         gamma = 5,\n",
        "                         subsample= 0.8,\n",
        "                         #tree_method = 'gpu_hist'\n",
        "                         )\n",
        "xgb_clf.fit( BOW_x_treino_pt, y_treino_pt )"
      ],
      "execution_count": null,
      "outputs": [
        {
          "output_type": "execute_result",
          "data": {
            "text/plain": [
              "XGBClassifier(base_score=0.5, booster='gbtree', colsample_bylevel=1,\n",
              "              colsample_bynode=1, colsample_bytree=1, gamma=5,\n",
              "              learning_rate=0.01, max_delta_step=0, max_depth=10,\n",
              "              min_child_weight=1, missing=None, n_estimators=1000, n_jobs=1,\n",
              "              nthread=None, objective='multi:softprob', random_state=0,\n",
              "              reg_alpha=2, reg_lambda=8, scale_pos_weight=1, seed=42,\n",
              "              silent=None, subsample=0.8, verbosity=0)"
            ]
          },
          "metadata": {
            "tags": []
          },
          "execution_count": 15
        }
      ]
    },
    {
      "cell_type": "code",
      "metadata": {
        "id": "WvjL1AwjrA7r",
        "colab_type": "code",
        "colab": {
          "base_uri": "https://localhost:8080/",
          "height": 70
        },
        "outputId": "eb5feda2-1a3c-40a6-d936-af38891290b5"
      },
      "source": [
        "predicao_treino_pt = xgb_clf.predict( BOW_x_treino_pt )\n",
        "predicao_vali_pt = xgb_clf.predict( BOW_x_vali_pt )\n",
        "predicao_teste_pt = xgb_clf.predict( BOW_x_teste_pt )\n",
        "\n",
        "print( f1_score( y_treino_pt, predicao_treino_pt, average='weighted' ) )\n",
        "print( f1_score( y_vali_pt, predicao_vali_pt, average='weighted' ) )\n",
        "print( f1_score( y_teste_pt, predicao_teste_pt, average='weighted' ) )"
      ],
      "execution_count": null,
      "outputs": [
        {
          "output_type": "stream",
          "text": [
            "0.6302667054432052\n",
            "0.5761223215723886\n",
            "0.5770302598162361\n"
          ],
          "name": "stdout"
        }
      ]
    },
    {
      "cell_type": "code",
      "metadata": {
        "id": "06A6GiW_rBXx",
        "colab_type": "code",
        "colab": {}
      },
      "source": [
        ""
      ],
      "execution_count": null,
      "outputs": []
    }
  ]
}