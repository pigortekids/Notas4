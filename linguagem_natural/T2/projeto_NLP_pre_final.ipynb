{
  "nbformat": 4,
  "nbformat_minor": 0,
  "metadata": {
    "colab": {
      "name": "projeto_NLP_(2)_(7)_(1)_(1)_(1) (1).ipynb",
      "provenance": [],
      "collapsed_sections": []
    },
    "kernelspec": {
      "name": "python3",
      "display_name": "Python 3"
    }
  },
  "cells": [
    {
      "cell_type": "markdown",
      "metadata": {
        "id": "ljuBT5KGpCV5",
        "colab_type": "text"
      },
      "source": [
        "#Predição do gênero de uma música a partir da letra"
      ]
    },
    {
      "cell_type": "markdown",
      "metadata": {
        "id": "ZHWFo8AVpUkn",
        "colab_type": "text"
      },
      "source": [
        "###Esse projeto tem como objetivo construir um modelo que prevê o gênero de uma música a partir da letra dela, utilizando um modelo de Processamento de Linguagem Natural (PLN), ou em ingles Natural Language Processing (NLP), e o dataset abaixo:\n",
        "https://www.kaggle.com/neisse/scrapped-lyrics-from-6-genres\n",
        "\n",
        "###Esse dataset contêm dois arquivos. O primeiro, artists-data, contém as seguintes colunas:\n",
        "- Artists (nome do artista)\n",
        "- Songs (quantidade de musicas)\n",
        "- Popularity (nota de popularidade)\n",
        "- Link (link da página do artista)\n",
        "- Genre (gênero principal)\n",
        "- Genres (gêneros que o artista de encaixa)\n",
        "\n",
        "###O segundo dataset, lyrics-data, contém as seguintes colunas:\n",
        "- ALink (link da página do artista)\n",
        "- SName (nome da música)\n",
        "- SLink (link da página da música)\n",
        "- Lyric (letra da música)\n",
        "- Idiom (idioma da música)\n",
        "\n",
        "Primeiro faremos a conexão com o Google Drive."
      ]
    },
    {
      "cell_type": "code",
      "metadata": {
        "id": "y_Ri-qxGqyOs",
        "colab_type": "code",
        "colab": {
          "base_uri": "https://localhost:8080/",
          "height": 125
        },
        "outputId": "b151f69e-1cf3-4af3-8053-ab562c5893de"
      },
      "source": [
        "from google.colab import drive\n",
        "drive.mount('/content/drive')\n",
        "caminho_drive = '/content/drive/My Drive/colab/NLP/T2/'"
      ],
      "execution_count": 3,
      "outputs": [
        {
          "output_type": "stream",
          "text": [
            "Go to this URL in a browser: https://accounts.google.com/o/oauth2/auth?client_id=947318989803-6bn6qk8qdgf4n4g3pfee6491hc0brc4i.apps.googleusercontent.com&redirect_uri=urn%3aietf%3awg%3aoauth%3a2.0%3aoob&response_type=code&scope=email%20https%3a%2f%2fwww.googleapis.com%2fauth%2fdocs.test%20https%3a%2f%2fwww.googleapis.com%2fauth%2fdrive%20https%3a%2f%2fwww.googleapis.com%2fauth%2fdrive.photos.readonly%20https%3a%2f%2fwww.googleapis.com%2fauth%2fpeopleapi.readonly\n",
            "\n",
            "Enter your authorization code:\n",
            "··········\n",
            "Mounted at /content/drive\n"
          ],
          "name": "stdout"
        }
      ]
    },
    {
      "cell_type": "markdown",
      "metadata": {
        "id": "07ce8q1IHqU5",
        "colab_type": "text"
      },
      "source": [
        "Depois vamos importar as bibliotecas que serão utilizadas ao longo do código."
      ]
    },
    {
      "cell_type": "code",
      "metadata": {
        "id": "KOcOKoEmo2HU",
        "colab_type": "code",
        "colab": {
          "base_uri": "https://localhost:8080/",
          "height": 887
        },
        "outputId": "79531235-61b3-4e01-b432-efc7c2e23b86"
      },
      "source": [
        "import pandas as pd\n",
        "import nltk\n",
        "nltk.download( 'popular' )\n",
        "nltk.download( 'rslp' )\n",
        "from nltk.stem import RSLPStemmer\n",
        "from nltk.tokenize import word_tokenize\n",
        "from nltk.corpus import stopwords\n",
        "from string import punctuation\n",
        "from sklearn.feature_extraction.text import CountVectorizer\n",
        "from keras.utils import np_utils\n",
        "from sklearn.model_selection import train_test_split\n",
        "from tensorflow.keras.models import Sequential\n",
        "from tensorflow.keras.layers import Dense\n",
        "from tensorflow.keras.optimizers import Adam\n",
        "from sklearn.metrics import multilabel_confusion_matrix\n",
        "import numpy as np\n",
        "import matplotlib.pyplot as plt\n",
        "from datetime import datetime, timedelta\n",
        "import time\n",
        "agora = str( datetime.now() - timedelta(hours = 3) ).replace(' ', '_').replace('-', '').replace(':', '')[:15] #horario de brasilia UTC-3\n",
        "caminho_export = '{0}{1}_'.format( caminho_drive, agora )"
      ],
      "execution_count": 4,
      "outputs": [
        {
          "output_type": "stream",
          "text": [
            "[nltk_data] Downloading collection 'popular'\n",
            "[nltk_data]    | \n",
            "[nltk_data]    | Downloading package cmudict to /root/nltk_data...\n",
            "[nltk_data]    |   Unzipping corpora/cmudict.zip.\n",
            "[nltk_data]    | Downloading package gazetteers to /root/nltk_data...\n",
            "[nltk_data]    |   Unzipping corpora/gazetteers.zip.\n",
            "[nltk_data]    | Downloading package genesis to /root/nltk_data...\n",
            "[nltk_data]    |   Unzipping corpora/genesis.zip.\n",
            "[nltk_data]    | Downloading package gutenberg to /root/nltk_data...\n",
            "[nltk_data]    |   Unzipping corpora/gutenberg.zip.\n",
            "[nltk_data]    | Downloading package inaugural to /root/nltk_data...\n",
            "[nltk_data]    |   Unzipping corpora/inaugural.zip.\n",
            "[nltk_data]    | Downloading package movie_reviews to\n",
            "[nltk_data]    |     /root/nltk_data...\n",
            "[nltk_data]    |   Unzipping corpora/movie_reviews.zip.\n",
            "[nltk_data]    | Downloading package names to /root/nltk_data...\n",
            "[nltk_data]    |   Unzipping corpora/names.zip.\n",
            "[nltk_data]    | Downloading package shakespeare to /root/nltk_data...\n",
            "[nltk_data]    |   Unzipping corpora/shakespeare.zip.\n",
            "[nltk_data]    | Downloading package stopwords to /root/nltk_data...\n",
            "[nltk_data]    |   Unzipping corpora/stopwords.zip.\n",
            "[nltk_data]    | Downloading package treebank to /root/nltk_data...\n",
            "[nltk_data]    |   Unzipping corpora/treebank.zip.\n",
            "[nltk_data]    | Downloading package twitter_samples to\n",
            "[nltk_data]    |     /root/nltk_data...\n",
            "[nltk_data]    |   Unzipping corpora/twitter_samples.zip.\n",
            "[nltk_data]    | Downloading package omw to /root/nltk_data...\n",
            "[nltk_data]    |   Unzipping corpora/omw.zip.\n",
            "[nltk_data]    | Downloading package wordnet to /root/nltk_data...\n",
            "[nltk_data]    |   Unzipping corpora/wordnet.zip.\n",
            "[nltk_data]    | Downloading package wordnet_ic to /root/nltk_data...\n",
            "[nltk_data]    |   Unzipping corpora/wordnet_ic.zip.\n",
            "[nltk_data]    | Downloading package words to /root/nltk_data...\n",
            "[nltk_data]    |   Unzipping corpora/words.zip.\n",
            "[nltk_data]    | Downloading package maxent_ne_chunker to\n",
            "[nltk_data]    |     /root/nltk_data...\n",
            "[nltk_data]    |   Unzipping chunkers/maxent_ne_chunker.zip.\n",
            "[nltk_data]    | Downloading package punkt to /root/nltk_data...\n",
            "[nltk_data]    |   Unzipping tokenizers/punkt.zip.\n",
            "[nltk_data]    | Downloading package snowball_data to\n",
            "[nltk_data]    |     /root/nltk_data...\n",
            "[nltk_data]    | Downloading package averaged_perceptron_tagger to\n",
            "[nltk_data]    |     /root/nltk_data...\n",
            "[nltk_data]    |   Unzipping taggers/averaged_perceptron_tagger.zip.\n",
            "[nltk_data]    | \n",
            "[nltk_data]  Done downloading collection popular\n",
            "[nltk_data] Downloading package rslp to /root/nltk_data...\n",
            "[nltk_data]   Unzipping stemmers/rslp.zip.\n"
          ],
          "name": "stdout"
        },
        {
          "output_type": "stream",
          "text": [
            "Using TensorFlow backend.\n"
          ],
          "name": "stderr"
        }
      ]
    },
    {
      "cell_type": "markdown",
      "metadata": {
        "id": "RJufJLv8H2D0",
        "colab_type": "text"
      },
      "source": [
        "Podemos agora importar os arquivos que serão utilizados."
      ]
    },
    {
      "cell_type": "code",
      "metadata": {
        "id": "kQQ2mKfNwroo",
        "colab_type": "code",
        "colab": {
          "base_uri": "https://localhost:8080/",
          "height": 247
        },
        "outputId": "3a6bf4d5-d603-4dd5-fc56-26c01a910292"
      },
      "source": [
        "artistas = pd.read_csv( caminho_drive + 'artists-data.csv' )\n",
        "artistas.info()"
      ],
      "execution_count": null,
      "outputs": [
        {
          "output_type": "stream",
          "text": [
            "<class 'pandas.core.frame.DataFrame'>\n",
            "RangeIndex: 3242 entries, 0 to 3241\n",
            "Data columns (total 6 columns):\n",
            " #   Column      Non-Null Count  Dtype  \n",
            "---  ------      --------------  -----  \n",
            " 0   Artist      3242 non-null   object \n",
            " 1   Songs       3242 non-null   int64  \n",
            " 2   Popularity  3242 non-null   float64\n",
            " 3   Link        3242 non-null   object \n",
            " 4   Genre       3242 non-null   object \n",
            " 5   Genres      3238 non-null   object \n",
            "dtypes: float64(1), int64(1), object(4)\n",
            "memory usage: 152.1+ KB\n"
          ],
          "name": "stdout"
        }
      ]
    },
    {
      "cell_type": "code",
      "metadata": {
        "id": "X7A4TqWhxD2d",
        "colab_type": "code",
        "colab": {
          "base_uri": "https://localhost:8080/",
          "height": 197
        },
        "outputId": "9f31bcac-4571-442e-9fff-d2f36abfeb65"
      },
      "source": [
        "artistas.head()"
      ],
      "execution_count": null,
      "outputs": [
        {
          "output_type": "execute_result",
          "data": {
            "text/html": [
              "<div>\n",
              "<style scoped>\n",
              "    .dataframe tbody tr th:only-of-type {\n",
              "        vertical-align: middle;\n",
              "    }\n",
              "\n",
              "    .dataframe tbody tr th {\n",
              "        vertical-align: top;\n",
              "    }\n",
              "\n",
              "    .dataframe thead th {\n",
              "        text-align: right;\n",
              "    }\n",
              "</style>\n",
              "<table border=\"1\" class=\"dataframe\">\n",
              "  <thead>\n",
              "    <tr style=\"text-align: right;\">\n",
              "      <th></th>\n",
              "      <th>Artist</th>\n",
              "      <th>Songs</th>\n",
              "      <th>Popularity</th>\n",
              "      <th>Link</th>\n",
              "      <th>Genre</th>\n",
              "      <th>Genres</th>\n",
              "    </tr>\n",
              "  </thead>\n",
              "  <tbody>\n",
              "    <tr>\n",
              "      <th>0</th>\n",
              "      <td>10000 Maniacs</td>\n",
              "      <td>110</td>\n",
              "      <td>0.3</td>\n",
              "      <td>/10000-maniacs/</td>\n",
              "      <td>Rock</td>\n",
              "      <td>Rock; Pop; Electronica; Dance; J-Pop/J-Rock; G...</td>\n",
              "    </tr>\n",
              "    <tr>\n",
              "      <th>1</th>\n",
              "      <td>12 Stones</td>\n",
              "      <td>75</td>\n",
              "      <td>0.3</td>\n",
              "      <td>/12-stones/</td>\n",
              "      <td>Rock</td>\n",
              "      <td>Rock; Gospel/Religioso; Hard Rock; Grunge; Roc...</td>\n",
              "    </tr>\n",
              "    <tr>\n",
              "      <th>2</th>\n",
              "      <td>311</td>\n",
              "      <td>196</td>\n",
              "      <td>0.5</td>\n",
              "      <td>/311/</td>\n",
              "      <td>Rock</td>\n",
              "      <td>Rock; Surf Music; Reggae; Ska; Pop/Rock; Rock ...</td>\n",
              "    </tr>\n",
              "    <tr>\n",
              "      <th>3</th>\n",
              "      <td>4 Non Blondes</td>\n",
              "      <td>15</td>\n",
              "      <td>7.5</td>\n",
              "      <td>/4-non-blondes/</td>\n",
              "      <td>Rock</td>\n",
              "      <td>Rock; Pop/Rock; Rock Alternativo; Grunge; Blue...</td>\n",
              "    </tr>\n",
              "    <tr>\n",
              "      <th>4</th>\n",
              "      <td>A Cruz Está Vazia</td>\n",
              "      <td>13</td>\n",
              "      <td>0.0</td>\n",
              "      <td>/a-cruz-esta-vazia/</td>\n",
              "      <td>Rock</td>\n",
              "      <td>Rock</td>\n",
              "    </tr>\n",
              "  </tbody>\n",
              "</table>\n",
              "</div>"
            ],
            "text/plain": [
              "              Artist  ...                                             Genres\n",
              "0      10000 Maniacs  ...  Rock; Pop; Electronica; Dance; J-Pop/J-Rock; G...\n",
              "1          12 Stones  ...  Rock; Gospel/Religioso; Hard Rock; Grunge; Roc...\n",
              "2                311  ...  Rock; Surf Music; Reggae; Ska; Pop/Rock; Rock ...\n",
              "3      4 Non Blondes  ...  Rock; Pop/Rock; Rock Alternativo; Grunge; Blue...\n",
              "4  A Cruz Está Vazia  ...                                               Rock\n",
              "\n",
              "[5 rows x 6 columns]"
            ]
          },
          "metadata": {
            "tags": []
          },
          "execution_count": 4
        }
      ]
    },
    {
      "cell_type": "code",
      "metadata": {
        "id": "xjNn0TyxsgLY",
        "colab_type": "code",
        "colab": {
          "base_uri": "https://localhost:8080/",
          "height": 230
        },
        "outputId": "fc60f514-8313-4139-cd86-7f64fa8723ee"
      },
      "source": [
        "letras = pd.read_csv( caminho_drive + 'lyrics-data.csv' )\n",
        "letras.info()"
      ],
      "execution_count": null,
      "outputs": [
        {
          "output_type": "stream",
          "text": [
            "<class 'pandas.core.frame.DataFrame'>\n",
            "RangeIndex: 209522 entries, 0 to 209521\n",
            "Data columns (total 5 columns):\n",
            " #   Column  Non-Null Count   Dtype \n",
            "---  ------  --------------   ----- \n",
            " 0   ALink   209522 non-null  object\n",
            " 1   SName   209522 non-null  object\n",
            " 2   SLink   209522 non-null  object\n",
            " 3   Lyric   209484 non-null  object\n",
            " 4   Idiom   206375 non-null  object\n",
            "dtypes: object(5)\n",
            "memory usage: 8.0+ MB\n"
          ],
          "name": "stdout"
        }
      ]
    },
    {
      "cell_type": "code",
      "metadata": {
        "id": "rOWQ4MQ0xGJl",
        "colab_type": "code",
        "colab": {
          "base_uri": "https://localhost:8080/",
          "height": 281
        },
        "outputId": "8c7746e4-2653-4aed-8538-962ff52ab45a"
      },
      "source": [
        "letras.head()"
      ],
      "execution_count": null,
      "outputs": [
        {
          "output_type": "execute_result",
          "data": {
            "text/html": [
              "<div>\n",
              "<style scoped>\n",
              "    .dataframe tbody tr th:only-of-type {\n",
              "        vertical-align: middle;\n",
              "    }\n",
              "\n",
              "    .dataframe tbody tr th {\n",
              "        vertical-align: top;\n",
              "    }\n",
              "\n",
              "    .dataframe thead th {\n",
              "        text-align: right;\n",
              "    }\n",
              "</style>\n",
              "<table border=\"1\" class=\"dataframe\">\n",
              "  <thead>\n",
              "    <tr style=\"text-align: right;\">\n",
              "      <th></th>\n",
              "      <th>ALink</th>\n",
              "      <th>SName</th>\n",
              "      <th>SLink</th>\n",
              "      <th>Lyric</th>\n",
              "      <th>Idiom</th>\n",
              "    </tr>\n",
              "  </thead>\n",
              "  <tbody>\n",
              "    <tr>\n",
              "      <th>0</th>\n",
              "      <td>/10000-maniacs/</td>\n",
              "      <td>More Than This</td>\n",
              "      <td>/10000-maniacs/more-than-this.html</td>\n",
              "      <td>I could feel at the time. There was no way of ...</td>\n",
              "      <td>ENGLISH</td>\n",
              "    </tr>\n",
              "    <tr>\n",
              "      <th>1</th>\n",
              "      <td>/10000-maniacs/</td>\n",
              "      <td>Because The Night</td>\n",
              "      <td>/10000-maniacs/because-the-night.html</td>\n",
              "      <td>Take me now, baby, here as I am. Hold me close...</td>\n",
              "      <td>ENGLISH</td>\n",
              "    </tr>\n",
              "    <tr>\n",
              "      <th>2</th>\n",
              "      <td>/10000-maniacs/</td>\n",
              "      <td>These Are Days</td>\n",
              "      <td>/10000-maniacs/these-are-days.html</td>\n",
              "      <td>These are. These are days you'll remember. Nev...</td>\n",
              "      <td>ENGLISH</td>\n",
              "    </tr>\n",
              "    <tr>\n",
              "      <th>3</th>\n",
              "      <td>/10000-maniacs/</td>\n",
              "      <td>A Campfire Song</td>\n",
              "      <td>/10000-maniacs/a-campfire-song.html</td>\n",
              "      <td>A lie to say, \"O my mountain has coal veins an...</td>\n",
              "      <td>ENGLISH</td>\n",
              "    </tr>\n",
              "    <tr>\n",
              "      <th>4</th>\n",
              "      <td>/10000-maniacs/</td>\n",
              "      <td>Everyday Is Like Sunday</td>\n",
              "      <td>/10000-maniacs/everyday-is-like-sunday.html</td>\n",
              "      <td>Trudging slowly over wet sand. Back to the ben...</td>\n",
              "      <td>ENGLISH</td>\n",
              "    </tr>\n",
              "  </tbody>\n",
              "</table>\n",
              "</div>"
            ],
            "text/plain": [
              "             ALink  ...    Idiom\n",
              "0  /10000-maniacs/  ...  ENGLISH\n",
              "1  /10000-maniacs/  ...  ENGLISH\n",
              "2  /10000-maniacs/  ...  ENGLISH\n",
              "3  /10000-maniacs/  ...  ENGLISH\n",
              "4  /10000-maniacs/  ...  ENGLISH\n",
              "\n",
              "[5 rows x 5 columns]"
            ]
          },
          "metadata": {
            "tags": []
          },
          "execution_count": 6
        }
      ]
    },
    {
      "cell_type": "markdown",
      "metadata": {
        "id": "CYAu2jC-H93y",
        "colab_type": "text"
      },
      "source": [
        "Com os arquivos importados, temos que manipular eles para juntar os dois arquivos e filtrar apenas as colunas necessárias para o projeto."
      ]
    },
    {
      "cell_type": "code",
      "metadata": {
        "id": "6nm6qR_ltdGy",
        "colab_type": "code",
        "colab": {
          "base_uri": "https://localhost:8080/",
          "height": 230
        },
        "outputId": "01b14ec6-b052-4c11-df89-097dd009bd9f"
      },
      "source": [
        "#filtro das colunas\n",
        "artistas = artistas[['Artist', 'Link', 'Genre']]\n",
        "letras = letras[['ALink', 'SName', 'Lyric', 'Idiom']]\n",
        "\n",
        "#inner join das colunas\n",
        "dataset = pd.merge( artistas, letras, left_on='Link', right_on='ALink' )\n",
        "dataset = dataset[['Artist', 'Genre', 'SName', 'Lyric', 'Idiom']]\n",
        "dataset.info()"
      ],
      "execution_count": null,
      "outputs": [
        {
          "output_type": "stream",
          "text": [
            "<class 'pandas.core.frame.DataFrame'>\n",
            "Int64Index: 227513 entries, 0 to 227512\n",
            "Data columns (total 5 columns):\n",
            " #   Column  Non-Null Count   Dtype \n",
            "---  ------  --------------   ----- \n",
            " 0   Artist  227513 non-null  object\n",
            " 1   Genre   227513 non-null  object\n",
            " 2   SName   227513 non-null  object\n",
            " 3   Lyric   227474 non-null  object\n",
            " 4   Idiom   223997 non-null  object\n",
            "dtypes: object(5)\n",
            "memory usage: 10.4+ MB\n"
          ],
          "name": "stdout"
        }
      ]
    },
    {
      "cell_type": "code",
      "metadata": {
        "id": "WyIP5_b1xHwo",
        "colab_type": "code",
        "colab": {
          "base_uri": "https://localhost:8080/",
          "height": 197
        },
        "outputId": "e22b37e0-4e18-49d0-e076-b6f7e37b9d10"
      },
      "source": [
        "dataset.head()"
      ],
      "execution_count": null,
      "outputs": [
        {
          "output_type": "execute_result",
          "data": {
            "text/html": [
              "<div>\n",
              "<style scoped>\n",
              "    .dataframe tbody tr th:only-of-type {\n",
              "        vertical-align: middle;\n",
              "    }\n",
              "\n",
              "    .dataframe tbody tr th {\n",
              "        vertical-align: top;\n",
              "    }\n",
              "\n",
              "    .dataframe thead th {\n",
              "        text-align: right;\n",
              "    }\n",
              "</style>\n",
              "<table border=\"1\" class=\"dataframe\">\n",
              "  <thead>\n",
              "    <tr style=\"text-align: right;\">\n",
              "      <th></th>\n",
              "      <th>Artist</th>\n",
              "      <th>Genre</th>\n",
              "      <th>SName</th>\n",
              "      <th>Lyric</th>\n",
              "      <th>Idiom</th>\n",
              "    </tr>\n",
              "  </thead>\n",
              "  <tbody>\n",
              "    <tr>\n",
              "      <th>0</th>\n",
              "      <td>10000 Maniacs</td>\n",
              "      <td>Rock</td>\n",
              "      <td>More Than This</td>\n",
              "      <td>I could feel at the time. There was no way of ...</td>\n",
              "      <td>ENGLISH</td>\n",
              "    </tr>\n",
              "    <tr>\n",
              "      <th>1</th>\n",
              "      <td>10000 Maniacs</td>\n",
              "      <td>Rock</td>\n",
              "      <td>Because The Night</td>\n",
              "      <td>Take me now, baby, here as I am. Hold me close...</td>\n",
              "      <td>ENGLISH</td>\n",
              "    </tr>\n",
              "    <tr>\n",
              "      <th>2</th>\n",
              "      <td>10000 Maniacs</td>\n",
              "      <td>Rock</td>\n",
              "      <td>These Are Days</td>\n",
              "      <td>These are. These are days you'll remember. Nev...</td>\n",
              "      <td>ENGLISH</td>\n",
              "    </tr>\n",
              "    <tr>\n",
              "      <th>3</th>\n",
              "      <td>10000 Maniacs</td>\n",
              "      <td>Rock</td>\n",
              "      <td>A Campfire Song</td>\n",
              "      <td>A lie to say, \"O my mountain has coal veins an...</td>\n",
              "      <td>ENGLISH</td>\n",
              "    </tr>\n",
              "    <tr>\n",
              "      <th>4</th>\n",
              "      <td>10000 Maniacs</td>\n",
              "      <td>Rock</td>\n",
              "      <td>Everyday Is Like Sunday</td>\n",
              "      <td>Trudging slowly over wet sand. Back to the ben...</td>\n",
              "      <td>ENGLISH</td>\n",
              "    </tr>\n",
              "  </tbody>\n",
              "</table>\n",
              "</div>"
            ],
            "text/plain": [
              "          Artist  ...    Idiom\n",
              "0  10000 Maniacs  ...  ENGLISH\n",
              "1  10000 Maniacs  ...  ENGLISH\n",
              "2  10000 Maniacs  ...  ENGLISH\n",
              "3  10000 Maniacs  ...  ENGLISH\n",
              "4  10000 Maniacs  ...  ENGLISH\n",
              "\n",
              "[5 rows x 5 columns]"
            ]
          },
          "metadata": {
            "tags": []
          },
          "execution_count": 8
        }
      ]
    },
    {
      "cell_type": "markdown",
      "metadata": {
        "id": "DvDcN-s0ISiF",
        "colab_type": "text"
      },
      "source": [
        "Vamos agora ver quais são os gêneros das músicas do dataset."
      ]
    },
    {
      "cell_type": "code",
      "metadata": {
        "id": "h98Z_Gv_75b8",
        "colab_type": "code",
        "colab": {
          "base_uri": "https://localhost:8080/",
          "height": 52
        },
        "outputId": "c6905f85-c1d4-42d5-c36b-d1768643af55"
      },
      "source": [
        "labels = dataset['Genre'].unique()\n",
        "labels"
      ],
      "execution_count": null,
      "outputs": [
        {
          "output_type": "execute_result",
          "data": {
            "text/plain": [
              "array(['Rock', 'Pop', 'Hip Hop', 'Sertanejo', 'Samba', 'Funk Carioca'],\n",
              "      dtype=object)"
            ]
          },
          "metadata": {
            "tags": []
          },
          "execution_count": 7
        }
      ]
    },
    {
      "cell_type": "markdown",
      "metadata": {
        "id": "p48m7q8NIZF-",
        "colab_type": "text"
      },
      "source": [
        "Podemos ver que temos 6 gêneros, e com isso criaremos um dicionário para criar uma coluna de numeração a partir dos gêneros em formato de texto."
      ]
    },
    {
      "cell_type": "code",
      "metadata": {
        "id": "pXIJ3p6a71vR",
        "colab_type": "code",
        "colab": {
          "base_uri": "https://localhost:8080/",
          "height": 197
        },
        "outputId": "f198c10f-2708-424c-87ca-565b1b66d706"
      },
      "source": [
        "dataset_generos = { 'Rock':0, 'Pop':1, 'Hip Hop':2, 'Sertanejo':3, 'Samba':4, 'Funk Carioca':5 }\n",
        "dataset_generos_rev = { 0:'Rock', 1:'Pop', 2:'Hip Hop', 3:'Sertanejo', 4:'Samba', 5:'Funk Carioca' }\n",
        "dataset['NR_Genre'] = dataset['Genre']\n",
        "dataset['NR_Genre'].replace( dataset_generos, inplace=True )\n",
        "\n",
        "dataset.head()"
      ],
      "execution_count": null,
      "outputs": [
        {
          "output_type": "execute_result",
          "data": {
            "text/html": [
              "<div>\n",
              "<style scoped>\n",
              "    .dataframe tbody tr th:only-of-type {\n",
              "        vertical-align: middle;\n",
              "    }\n",
              "\n",
              "    .dataframe tbody tr th {\n",
              "        vertical-align: top;\n",
              "    }\n",
              "\n",
              "    .dataframe thead th {\n",
              "        text-align: right;\n",
              "    }\n",
              "</style>\n",
              "<table border=\"1\" class=\"dataframe\">\n",
              "  <thead>\n",
              "    <tr style=\"text-align: right;\">\n",
              "      <th></th>\n",
              "      <th>Artist</th>\n",
              "      <th>Genre</th>\n",
              "      <th>SName</th>\n",
              "      <th>Lyric</th>\n",
              "      <th>Idiom</th>\n",
              "      <th>NR_Genre</th>\n",
              "    </tr>\n",
              "  </thead>\n",
              "  <tbody>\n",
              "    <tr>\n",
              "      <th>0</th>\n",
              "      <td>10000 Maniacs</td>\n",
              "      <td>Rock</td>\n",
              "      <td>More Than This</td>\n",
              "      <td>I could feel at the time. There was no way of ...</td>\n",
              "      <td>ENGLISH</td>\n",
              "      <td>0</td>\n",
              "    </tr>\n",
              "    <tr>\n",
              "      <th>1</th>\n",
              "      <td>10000 Maniacs</td>\n",
              "      <td>Rock</td>\n",
              "      <td>Because The Night</td>\n",
              "      <td>Take me now, baby, here as I am. Hold me close...</td>\n",
              "      <td>ENGLISH</td>\n",
              "      <td>0</td>\n",
              "    </tr>\n",
              "    <tr>\n",
              "      <th>2</th>\n",
              "      <td>10000 Maniacs</td>\n",
              "      <td>Rock</td>\n",
              "      <td>These Are Days</td>\n",
              "      <td>These are. These are days you'll remember. Nev...</td>\n",
              "      <td>ENGLISH</td>\n",
              "      <td>0</td>\n",
              "    </tr>\n",
              "    <tr>\n",
              "      <th>3</th>\n",
              "      <td>10000 Maniacs</td>\n",
              "      <td>Rock</td>\n",
              "      <td>A Campfire Song</td>\n",
              "      <td>A lie to say, \"O my mountain has coal veins an...</td>\n",
              "      <td>ENGLISH</td>\n",
              "      <td>0</td>\n",
              "    </tr>\n",
              "    <tr>\n",
              "      <th>4</th>\n",
              "      <td>10000 Maniacs</td>\n",
              "      <td>Rock</td>\n",
              "      <td>Everyday Is Like Sunday</td>\n",
              "      <td>Trudging slowly over wet sand. Back to the ben...</td>\n",
              "      <td>ENGLISH</td>\n",
              "      <td>0</td>\n",
              "    </tr>\n",
              "  </tbody>\n",
              "</table>\n",
              "</div>"
            ],
            "text/plain": [
              "          Artist Genre  ...    Idiom NR_Genre\n",
              "0  10000 Maniacs  Rock  ...  ENGLISH        0\n",
              "1  10000 Maniacs  Rock  ...  ENGLISH        0\n",
              "2  10000 Maniacs  Rock  ...  ENGLISH        0\n",
              "3  10000 Maniacs  Rock  ...  ENGLISH        0\n",
              "4  10000 Maniacs  Rock  ...  ENGLISH        0\n",
              "\n",
              "[5 rows x 6 columns]"
            ]
          },
          "metadata": {
            "tags": []
          },
          "execution_count": 8
        }
      ]
    },
    {
      "cell_type": "markdown",
      "metadata": {
        "id": "d23k4SDaIwS6",
        "colab_type": "text"
      },
      "source": [
        "Com o dataset no formato que queremos, devemos agora definir uma língua que iremos utilizar em toda nossa análise."
      ]
    },
    {
      "cell_type": "code",
      "metadata": {
        "id": "9fiAv3ggvngd",
        "colab_type": "code",
        "colab": {
          "base_uri": "https://localhost:8080/",
          "height": 123
        },
        "outputId": "3e0ad74a-a50c-4dff-8c8f-755b96fdf7db"
      },
      "source": [
        "dataset['Idiom'].value_counts()[:5]"
      ],
      "execution_count": null,
      "outputs": [
        {
          "output_type": "execute_result",
          "data": {
            "text/plain": [
              "ENGLISH       124230\n",
              "PORTUGUESE     93125\n",
              "SPANISH         4950\n",
              "ITALIAN          635\n",
              "FRENCH           407\n",
              "Name: Idiom, dtype: int64"
            ]
          },
          "metadata": {
            "tags": []
          },
          "execution_count": 11
        }
      ]
    },
    {
      "cell_type": "markdown",
      "metadata": {
        "id": "-hDj3jbuI8Yr",
        "colab_type": "text"
      },
      "source": [
        "Podemos ver que a maior parte dos dados estão em inglês e em português. Vamos então criar dois datasets para analisá-los separadamente."
      ]
    },
    {
      "cell_type": "code",
      "metadata": {
        "id": "tVMAS_3WvTw7",
        "colab_type": "code",
        "colab": {
          "base_uri": "https://localhost:8080/",
          "height": 247
        },
        "outputId": "c16a471b-f5a9-4385-8637-030fd3ad85e5"
      },
      "source": [
        "dataset_pt = dataset[dataset['Idiom'] == 'PORTUGUESE']\n",
        "dataset_pt.info()"
      ],
      "execution_count": null,
      "outputs": [
        {
          "output_type": "stream",
          "text": [
            "<class 'pandas.core.frame.DataFrame'>\n",
            "Int64Index: 93125 entries, 387 to 227512\n",
            "Data columns (total 6 columns):\n",
            " #   Column    Non-Null Count  Dtype \n",
            "---  ------    --------------  ----- \n",
            " 0   Artist    93125 non-null  object\n",
            " 1   Genre     93125 non-null  object\n",
            " 2   SName     93125 non-null  object\n",
            " 3   Lyric     93125 non-null  object\n",
            " 4   Idiom     93125 non-null  object\n",
            " 5   NR_Genre  93125 non-null  int64 \n",
            "dtypes: int64(1), object(5)\n",
            "memory usage: 5.0+ MB\n"
          ],
          "name": "stdout"
        }
      ]
    },
    {
      "cell_type": "code",
      "metadata": {
        "id": "2wonf6FexJ5U",
        "colab_type": "code",
        "colab": {
          "base_uri": "https://localhost:8080/",
          "height": 197
        },
        "outputId": "f4100c02-005d-4821-af08-f1525955db2e"
      },
      "source": [
        "dataset_pt.head()"
      ],
      "execution_count": null,
      "outputs": [
        {
          "output_type": "execute_result",
          "data": {
            "text/html": [
              "<div>\n",
              "<style scoped>\n",
              "    .dataframe tbody tr th:only-of-type {\n",
              "        vertical-align: middle;\n",
              "    }\n",
              "\n",
              "    .dataframe tbody tr th {\n",
              "        vertical-align: top;\n",
              "    }\n",
              "\n",
              "    .dataframe thead th {\n",
              "        text-align: right;\n",
              "    }\n",
              "</style>\n",
              "<table border=\"1\" class=\"dataframe\">\n",
              "  <thead>\n",
              "    <tr style=\"text-align: right;\">\n",
              "      <th></th>\n",
              "      <th>Artist</th>\n",
              "      <th>Genre</th>\n",
              "      <th>SName</th>\n",
              "      <th>Lyric</th>\n",
              "      <th>Idiom</th>\n",
              "      <th>NR_Genre</th>\n",
              "    </tr>\n",
              "  </thead>\n",
              "  <tbody>\n",
              "    <tr>\n",
              "      <th>387</th>\n",
              "      <td>311</td>\n",
              "      <td>Rock</td>\n",
              "      <td>Summer Of Love - Traducao</td>\n",
              "      <td>Eu pensei na minha cena hoje. E eu finalmente ...</td>\n",
              "      <td>PORTUGUESE</td>\n",
              "      <td>0</td>\n",
              "    </tr>\n",
              "    <tr>\n",
              "      <th>542</th>\n",
              "      <td>311</td>\n",
              "      <td>Rock</td>\n",
              "      <td>Summer Of Love - Traducao</td>\n",
              "      <td>Eu pensei na minha cena hoje. E eu finalmente ...</td>\n",
              "      <td>PORTUGUESE</td>\n",
              "      <td>0</td>\n",
              "    </tr>\n",
              "    <tr>\n",
              "      <th>611</th>\n",
              "      <td>A Cruz Está Vazia</td>\n",
              "      <td>Rock</td>\n",
              "      <td>A Cruz Está Vazia</td>\n",
              "      <td>A Cruz esta vazia. Morreu em meu lugar para me...</td>\n",
              "      <td>PORTUGUESE</td>\n",
              "      <td>0</td>\n",
              "    </tr>\n",
              "    <tr>\n",
              "      <th>612</th>\n",
              "      <td>A Cruz Está Vazia</td>\n",
              "      <td>Rock</td>\n",
              "      <td>A Minha Vida</td>\n",
              "      <td>Queria gritar para o mundo todo o quanto eu te...</td>\n",
              "      <td>PORTUGUESE</td>\n",
              "      <td>0</td>\n",
              "    </tr>\n",
              "    <tr>\n",
              "      <th>613</th>\n",
              "      <td>A Cruz Está Vazia</td>\n",
              "      <td>Rock</td>\n",
              "      <td>Amor Eterno</td>\n",
              "      <td>Por que longe de você eu fico triste?. Você ch...</td>\n",
              "      <td>PORTUGUESE</td>\n",
              "      <td>0</td>\n",
              "    </tr>\n",
              "  </tbody>\n",
              "</table>\n",
              "</div>"
            ],
            "text/plain": [
              "                Artist Genre  ...       Idiom NR_Genre\n",
              "387                311  Rock  ...  PORTUGUESE        0\n",
              "542                311  Rock  ...  PORTUGUESE        0\n",
              "611  A Cruz Está Vazia  Rock  ...  PORTUGUESE        0\n",
              "612  A Cruz Está Vazia  Rock  ...  PORTUGUESE        0\n",
              "613  A Cruz Está Vazia  Rock  ...  PORTUGUESE        0\n",
              "\n",
              "[5 rows x 6 columns]"
            ]
          },
          "metadata": {
            "tags": []
          },
          "execution_count": 13
        }
      ]
    },
    {
      "cell_type": "code",
      "metadata": {
        "id": "eJwZ2Jayw-f5",
        "colab_type": "code",
        "colab": {
          "base_uri": "https://localhost:8080/",
          "height": 247
        },
        "outputId": "19876563-78c7-4e80-b297-617d82e80e43"
      },
      "source": [
        "dataset_en = dataset[dataset['Idiom'] == 'ENGLISH']\n",
        "dataset_en.info()"
      ],
      "execution_count": null,
      "outputs": [
        {
          "output_type": "stream",
          "text": [
            "<class 'pandas.core.frame.DataFrame'>\n",
            "Int64Index: 124230 entries, 0 to 225914\n",
            "Data columns (total 6 columns):\n",
            " #   Column    Non-Null Count   Dtype \n",
            "---  ------    --------------   ----- \n",
            " 0   Artist    124230 non-null  object\n",
            " 1   Genre     124230 non-null  object\n",
            " 2   SName     124230 non-null  object\n",
            " 3   Lyric     124230 non-null  object\n",
            " 4   Idiom     124230 non-null  object\n",
            " 5   NR_Genre  124230 non-null  int64 \n",
            "dtypes: int64(1), object(5)\n",
            "memory usage: 6.6+ MB\n"
          ],
          "name": "stdout"
        }
      ]
    },
    {
      "cell_type": "code",
      "metadata": {
        "id": "vdt3sGke6ujD",
        "colab_type": "code",
        "colab": {
          "base_uri": "https://localhost:8080/",
          "height": 197
        },
        "outputId": "14b5c39e-b37b-4a9a-ee00-0d69860c42a3"
      },
      "source": [
        "dataset_en.head()"
      ],
      "execution_count": null,
      "outputs": [
        {
          "output_type": "execute_result",
          "data": {
            "text/html": [
              "<div>\n",
              "<style scoped>\n",
              "    .dataframe tbody tr th:only-of-type {\n",
              "        vertical-align: middle;\n",
              "    }\n",
              "\n",
              "    .dataframe tbody tr th {\n",
              "        vertical-align: top;\n",
              "    }\n",
              "\n",
              "    .dataframe thead th {\n",
              "        text-align: right;\n",
              "    }\n",
              "</style>\n",
              "<table border=\"1\" class=\"dataframe\">\n",
              "  <thead>\n",
              "    <tr style=\"text-align: right;\">\n",
              "      <th></th>\n",
              "      <th>Artist</th>\n",
              "      <th>Genre</th>\n",
              "      <th>SName</th>\n",
              "      <th>Lyric</th>\n",
              "      <th>Idiom</th>\n",
              "      <th>NR_Genre</th>\n",
              "    </tr>\n",
              "  </thead>\n",
              "  <tbody>\n",
              "    <tr>\n",
              "      <th>0</th>\n",
              "      <td>10000 Maniacs</td>\n",
              "      <td>Rock</td>\n",
              "      <td>More Than This</td>\n",
              "      <td>I could feel at the time. There was no way of ...</td>\n",
              "      <td>ENGLISH</td>\n",
              "      <td>0</td>\n",
              "    </tr>\n",
              "    <tr>\n",
              "      <th>1</th>\n",
              "      <td>10000 Maniacs</td>\n",
              "      <td>Rock</td>\n",
              "      <td>Because The Night</td>\n",
              "      <td>Take me now, baby, here as I am. Hold me close...</td>\n",
              "      <td>ENGLISH</td>\n",
              "      <td>0</td>\n",
              "    </tr>\n",
              "    <tr>\n",
              "      <th>2</th>\n",
              "      <td>10000 Maniacs</td>\n",
              "      <td>Rock</td>\n",
              "      <td>These Are Days</td>\n",
              "      <td>These are. These are days you'll remember. Nev...</td>\n",
              "      <td>ENGLISH</td>\n",
              "      <td>0</td>\n",
              "    </tr>\n",
              "    <tr>\n",
              "      <th>3</th>\n",
              "      <td>10000 Maniacs</td>\n",
              "      <td>Rock</td>\n",
              "      <td>A Campfire Song</td>\n",
              "      <td>A lie to say, \"O my mountain has coal veins an...</td>\n",
              "      <td>ENGLISH</td>\n",
              "      <td>0</td>\n",
              "    </tr>\n",
              "    <tr>\n",
              "      <th>4</th>\n",
              "      <td>10000 Maniacs</td>\n",
              "      <td>Rock</td>\n",
              "      <td>Everyday Is Like Sunday</td>\n",
              "      <td>Trudging slowly over wet sand. Back to the ben...</td>\n",
              "      <td>ENGLISH</td>\n",
              "      <td>0</td>\n",
              "    </tr>\n",
              "  </tbody>\n",
              "</table>\n",
              "</div>"
            ],
            "text/plain": [
              "          Artist Genre  ...    Idiom NR_Genre\n",
              "0  10000 Maniacs  Rock  ...  ENGLISH        0\n",
              "1  10000 Maniacs  Rock  ...  ENGLISH        0\n",
              "2  10000 Maniacs  Rock  ...  ENGLISH        0\n",
              "3  10000 Maniacs  Rock  ...  ENGLISH        0\n",
              "4  10000 Maniacs  Rock  ...  ENGLISH        0\n",
              "\n",
              "[5 rows x 6 columns]"
            ]
          },
          "metadata": {
            "tags": []
          },
          "execution_count": 15
        }
      ]
    },
    {
      "cell_type": "markdown",
      "metadata": {
        "id": "UmwpRFzjJfXx",
        "colab_type": "text"
      },
      "source": [
        "Separado os datasets, vamos analisar como está a distribuição dos gêneros para cada um deles."
      ]
    },
    {
      "cell_type": "code",
      "metadata": {
        "id": "C-suTGu6cA_o",
        "colab_type": "code",
        "colab": {
          "base_uri": "https://localhost:8080/",
          "height": 141
        },
        "outputId": "6488e562-2d7d-417b-a166-702b81c5c5d9"
      },
      "source": [
        "dataset_pt['Genre'].value_counts()"
      ],
      "execution_count": null,
      "outputs": [
        {
          "output_type": "execute_result",
          "data": {
            "text/plain": [
              "Sertanejo       34919\n",
              "Pop             15082\n",
              "Samba           15044\n",
              "Rock            13600\n",
              "Funk Carioca     8086\n",
              "Hip Hop          6394\n",
              "Name: Genre, dtype: int64"
            ]
          },
          "metadata": {
            "tags": []
          },
          "execution_count": 16
        }
      ]
    },
    {
      "cell_type": "markdown",
      "metadata": {
        "id": "GjkLKroVJsbu",
        "colab_type": "text"
      },
      "source": [
        "Vendo a quantidade de cada um dos gêneros da língua portuguesa, percebemos que eles estão relativamente bem distribuidos, então por enquanto deixaremos assim."
      ]
    },
    {
      "cell_type": "code",
      "metadata": {
        "id": "qvVI7i3dcIA4",
        "colab_type": "code",
        "colab": {
          "base_uri": "https://localhost:8080/",
          "height": 141
        },
        "outputId": "1def7ba0-53fd-405b-9c9e-7917409628d6"
      },
      "source": [
        "dataset_en['Genre'].value_counts()"
      ],
      "execution_count": null,
      "outputs": [
        {
          "output_type": "execute_result",
          "data": {
            "text/plain": [
              "Rock            60585\n",
              "Pop             40294\n",
              "Hip Hop         23108\n",
              "Funk Carioca      104\n",
              "Sertanejo          87\n",
              "Samba              52\n",
              "Name: Genre, dtype: int64"
            ]
          },
          "metadata": {
            "tags": []
          },
          "execution_count": 17
        }
      ]
    },
    {
      "cell_type": "markdown",
      "metadata": {
        "id": "z-6a2dhiJ_gZ",
        "colab_type": "text"
      },
      "source": [
        "Já na língua inglesa, vemos que os gêneros de Funk Carioca, Sertanejo e Samba não tem muitos dados, que faz sentido por serem gêneros brasileiros, e por conta disso vamos retirar esses gêneros desse dataset."
      ]
    },
    {
      "cell_type": "code",
      "metadata": {
        "id": "oNHotw28cLVh",
        "colab_type": "code",
        "colab": {
          "base_uri": "https://localhost:8080/",
          "height": 247
        },
        "outputId": "36b22914-9ec0-40b7-b084-8d6b0608267d"
      },
      "source": [
        "dataset_en = dataset_en[(dataset_en['Genre'] == 'Rock') | (dataset_en['Genre'] == 'Pop') | (dataset_en['Genre'] == 'Hip Hop')]\n",
        "dataset_en.info()"
      ],
      "execution_count": null,
      "outputs": [
        {
          "output_type": "stream",
          "text": [
            "<class 'pandas.core.frame.DataFrame'>\n",
            "Int64Index: 123987 entries, 0 to 225066\n",
            "Data columns (total 6 columns):\n",
            " #   Column    Non-Null Count   Dtype \n",
            "---  ------    --------------   ----- \n",
            " 0   Artist    123987 non-null  object\n",
            " 1   Genre     123987 non-null  object\n",
            " 2   SName     123987 non-null  object\n",
            " 3   Lyric     123987 non-null  object\n",
            " 4   Idiom     123987 non-null  object\n",
            " 5   NR_Genre  123987 non-null  int64 \n",
            "dtypes: int64(1), object(5)\n",
            "memory usage: 6.6+ MB\n"
          ],
          "name": "stdout"
        }
      ]
    },
    {
      "cell_type": "code",
      "metadata": {
        "id": "DatCKDlxKldy",
        "colab_type": "code",
        "colab": {
          "base_uri": "https://localhost:8080/",
          "height": 87
        },
        "outputId": "ddf498f5-d421-4501-b934-926d37d07e7e"
      },
      "source": [
        "dataset_en['Genre'].value_counts()"
      ],
      "execution_count": null,
      "outputs": [
        {
          "output_type": "execute_result",
          "data": {
            "text/plain": [
              "Rock       60585\n",
              "Pop        40294\n",
              "Hip Hop    23108\n",
              "Name: Genre, dtype: int64"
            ]
          },
          "metadata": {
            "tags": []
          },
          "execution_count": 19
        }
      ]
    },
    {
      "cell_type": "code",
      "metadata": {
        "id": "7_nBtHl3VRDR",
        "colab_type": "code",
        "colab": {}
      },
      "source": [
        "quantidade_generos_pt = 6\n",
        "quantidade_generos_en = 3"
      ],
      "execution_count": null,
      "outputs": []
    },
    {
      "cell_type": "markdown",
      "metadata": {
        "id": "kh0-pmyS8YU-",
        "colab_type": "text"
      },
      "source": [
        "Com os datasets já trabalhados, vamos começar a criar nossa PNL, primeiro focando no dataset em português.\n",
        "\n",
        "Primeira coisa que faremos é criar uma lista de todas as palavras das letras musicais."
      ]
    },
    {
      "cell_type": "code",
      "metadata": {
        "id": "sl_y4VGVE4aE",
        "colab_type": "code",
        "colab": {
          "base_uri": "https://localhost:8080/",
          "height": 34
        },
        "outputId": "36d2c1ea-10e2-474a-e8d0-204881d28b09"
      },
      "source": [
        "letras_pt_agrupado = ''\n",
        "for i in range( dataset_pt.shape[0] ):\n",
        "    letras_pt_agrupado += dataset_pt.iloc[i]['Lyric']\n",
        "\n",
        "w_token_pt = word_tokenize( letras_pt_agrupado )\n",
        "w_token_pt[:5]"
      ],
      "execution_count": null,
      "outputs": [
        {
          "output_type": "execute_result",
          "data": {
            "text/plain": [
              "['Eu', 'pensei', 'na', 'minha', 'cena']"
            ]
          },
          "metadata": {
            "tags": []
          },
          "execution_count": 13
        }
      ]
    },
    {
      "cell_type": "markdown",
      "metadata": {
        "id": "p4fNsBxGLmj3",
        "colab_type": "text"
      },
      "source": [
        "Segundo vamos retirar algumas palavras que não ajudam muito o nosso algoritmo, chamadas \"stopwords\", ou em português \"palavras vazias\", juntamente com as pontuações e caracteres especiais, dimiuindo a quantidade de entradas do algoritmo."
      ]
    },
    {
      "cell_type": "code",
      "metadata": {
        "id": "K-cahoDiFNLH",
        "colab_type": "code",
        "colab": {
          "base_uri": "https://localhost:8080/",
          "height": 34
        },
        "outputId": "98e3e85e-8261-4d17-fc19-e8fa515a0d2f"
      },
      "source": [
        "stw_pt = stopwords.words('portuguese')\n",
        "\n",
        "stw_pt[:5]"
      ],
      "execution_count": null,
      "outputs": [
        {
          "output_type": "execute_result",
          "data": {
            "text/plain": [
              "['de', 'a', 'o', 'que', 'e']"
            ]
          },
          "metadata": {
            "tags": []
          },
          "execution_count": 14
        }
      ]
    },
    {
      "cell_type": "code",
      "metadata": {
        "id": "db9i7cpsFOPt",
        "colab_type": "code",
        "colab": {
          "base_uri": "https://localhost:8080/",
          "height": 34
        },
        "outputId": "1f869b15-e8d2-44da-a2aa-d90574ee31da"
      },
      "source": [
        "pontuacao = list( punctuation )\n",
        "\n",
        "pontuacao[:5]"
      ],
      "execution_count": null,
      "outputs": [
        {
          "output_type": "execute_result",
          "data": {
            "text/plain": [
              "['!', '\"', '#', '$', '%']"
            ]
          },
          "metadata": {
            "tags": []
          },
          "execution_count": 15
        }
      ]
    },
    {
      "cell_type": "code",
      "metadata": {
        "id": "MObR37FGFOpK",
        "colab_type": "code",
        "colab": {
          "base_uri": "https://localhost:8080/",
          "height": 34
        },
        "outputId": "5db0a3d6-c349-4e1a-d776-205770cd323f"
      },
      "source": [
        "stopwords_pt = set( stw_pt + pontuacao ) #cria lista sem repetir elementos\n",
        "\n",
        "list(stopwords_pt)[:5]"
      ],
      "execution_count": null,
      "outputs": [
        {
          "output_type": "execute_result",
          "data": {
            "text/plain": [
              "['_', 'tuas', ';', 'até', 'nossas']"
            ]
          },
          "metadata": {
            "tags": []
          },
          "execution_count": 16
        }
      ]
    },
    {
      "cell_type": "code",
      "metadata": {
        "id": "NqqZRn8UFRKa",
        "colab_type": "code",
        "colab": {
          "base_uri": "https://localhost:8080/",
          "height": 34
        },
        "outputId": "c6534b22-0d32-4f4f-ad08-db0e72ca4d93"
      },
      "source": [
        "w_token_pt_sem_stopwords = [palavra for palavra in w_token_pt if palavra not in stopwords_pt]\n",
        "\n",
        "w_token_pt_sem_stopwords[:5]"
      ],
      "execution_count": null,
      "outputs": [
        {
          "output_type": "execute_result",
          "data": {
            "text/plain": [
              "['Eu', 'pensei', 'cena', 'hoje', 'E']"
            ]
          },
          "metadata": {
            "tags": []
          },
          "execution_count": 17
        }
      ]
    },
    {
      "cell_type": "markdown",
      "metadata": {
        "id": "xVv3pzLLMm6K",
        "colab_type": "text"
      },
      "source": [
        "Terceiro vamos encurtar certas palavras para serem interpretadas pelo nosso código como significando a mesma coisa, com objetivo de dimiuir a quantidade de entradas do nosso algoritmo, e facilitar o entendimento da língua.\n",
        "\n",
        "Ex: 'pegar', 'peguei', 'pegamos' e 'pegaremos' podem ser transformados em 'pegar'."
      ]
    },
    {
      "cell_type": "code",
      "metadata": {
        "id": "uhdPjh1OFWXa",
        "colab_type": "code",
        "colab": {
          "base_uri": "https://localhost:8080/",
          "height": 34
        },
        "outputId": "1e65c5ea-8cdb-48ae-8a3b-af7fbd9e25bf"
      },
      "source": [
        "stemmer = RSLPStemmer()\n",
        "\n",
        "w_token_pt_sem_stopwords_stem = [stemmer.stem( palavra ) for palavra in w_token_pt_sem_stopwords]\n",
        "\n",
        "w_token_pt_sem_stopwords_stem[:5]"
      ],
      "execution_count": null,
      "outputs": [
        {
          "output_type": "execute_result",
          "data": {
            "text/plain": [
              "['eu', 'pens', 'cen', 'hoj', 'e']"
            ]
          },
          "metadata": {
            "tags": []
          },
          "execution_count": 18
        }
      ]
    },
    {
      "cell_type": "markdown",
      "metadata": {
        "id": "gfCmdatnNcjR",
        "colab_type": "text"
      },
      "source": [
        "Com nossas palavras todas prontas vamos criar um dicionário com todas essas palavras, para podermos traduzir nossas entradas no formato que o modelo vai aceitar."
      ]
    },
    {
      "cell_type": "code",
      "metadata": {
        "id": "8rBJdhbzFZa-",
        "colab_type": "code",
        "colab": {
          "base_uri": "https://localhost:8080/",
          "height": 34
        },
        "outputId": "11bc40ee-282c-46df-fb16-c5b2df59c5ef"
      },
      "source": [
        "vectorizer_pt = CountVectorizer( analyzer='word' )\n",
        "\n",
        "vectorizer_pt.fit( w_token_pt_sem_stopwords_stem )\n",
        "\n",
        "tamanho_dicionario_pt = len(vectorizer_pt.vocabulary_)\n",
        "print( 'Quantidade de palavras no dicionário = {0}'.format( tamanho_dicionario_pt ) )"
      ],
      "execution_count": 16,
      "outputs": [
        {
          "output_type": "stream",
          "text": [
            "Quantidade de palavras no dicionário = 92322\n"
          ],
          "name": "stdout"
        }
      ]
    },
    {
      "cell_type": "markdown",
      "metadata": {
        "id": "o_HdM8KpOCQV",
        "colab_type": "text"
      },
      "source": [
        "Agora que já temos nosso dicionário de palavras, podemos começar a preparar os dados de entrada e saída do modelo.\n",
        "\n",
        "Primeiro vamos separar entre dados de entrada e saída."
      ]
    },
    {
      "cell_type": "code",
      "metadata": {
        "id": "cHlZFmob8sVT",
        "colab_type": "code",
        "colab": {}
      },
      "source": [
        "letras_pt = dataset_pt['Lyric'].values #X\n",
        "generos_pt = dataset_pt['NR_Genre'].values #Y\n",
        "\n",
        "print( 'Formato de dados de entrada = {0}'.format(letras_pt.shape) )\n",
        "print( 'Formato de dados de saída   = {0}'.format(generos_pt.shape) )"
      ],
      "execution_count": null,
      "outputs": []
    },
    {
      "cell_type": "markdown",
      "metadata": {
        "id": "l69XvGF1OTAu",
        "colab_type": "text"
      },
      "source": [
        "Vamos transformar nossa saída em um vetor dummy, ou seja, a saída [0] vai ser transformada em [1, 0, 0, 0, 0, 0], a saída [1] vai ser transformada em [0, 1, 0, 0, 0, 0, 0], e assim por diante."
      ]
    },
    {
      "cell_type": "code",
      "metadata": {
        "id": "-scI7faaDo5x",
        "colab_type": "code",
        "colab": {}
      },
      "source": [
        "generos_pt_dummy = np_utils.to_categorical(generos_pt)\n",
        "\n",
        "generos_pt_dummy[:5]"
      ],
      "execution_count": null,
      "outputs": []
    },
    {
      "cell_type": "markdown",
      "metadata": {
        "id": "PaBK4tSTOkgC",
        "colab_type": "text"
      },
      "source": [
        "Com os dados separados entre entrada e saída, vamos separar os dados entre treino, validação e teste.\n",
        "\n",
        "Usaremos inicialmente 70% dos dados para treino, 15% para validação e 15% para teste."
      ]
    },
    {
      "cell_type": "code",
      "metadata": {
        "id": "rqSc9chF8-2u",
        "colab_type": "code",
        "colab": {}
      },
      "source": [
        "x_treino_pt, x_teste_pt, y_treino_pt, y_teste_pt = train_test_split( letras_pt, generos_pt_dummy, test_size=0.3, random_state=42 )\n",
        "x_vali_pt, x_teste_pt, y_vali_pt, y_teste_pt = train_test_split( x_teste_pt, y_teste_pt, test_size=0.5, random_state=42 )\n",
        "\n",
        "print('Formato de dados de entrada para treino    = {0}'.format(x_treino_pt.shape))\n",
        "print('Formato de dados de entrada para validação = {0}'.format(x_vali_pt.shape))\n",
        "print('Formato de dados de entrada para teste     = {0}'.format(x_teste_pt.shape))\n",
        "print('Formato de dados de saída para treino      = {0}'.format(y_treino_pt.shape))\n",
        "print('Formato de dados de saída para validação   = {0}'.format(y_vali_pt.shape))\n",
        "print('Formato de dados de saída para teste       = {0}'.format(y_teste_pt.shape))"
      ],
      "execution_count": null,
      "outputs": []
    },
    {
      "cell_type": "markdown",
      "metadata": {
        "id": "dV0w2j4HOyWA",
        "colab_type": "text"
      },
      "source": [
        "Devemos transformar os dados de entrada no formato do vetor de palavras, e para isso usaremos o dicionário que criamos anteriormente."
      ]
    },
    {
      "cell_type": "code",
      "metadata": {
        "id": "YIVxLU90CylL",
        "colab_type": "code",
        "colab": {}
      },
      "source": [
        "BOW_x_treino_pt = vectorizer_pt.transform( x_treino_pt )\n",
        "BOW_x_vali_pt = vectorizer_pt.transform( x_vali_pt )\n",
        "BOW_x_teste_pt = vectorizer_pt.transform( x_teste_pt )\n",
        "\n",
        "print('Formato do vetor de palavras para treino    = {0}'.format(BOW_x_treino_pt.shape))\n",
        "print('Formato do vetor de palavras para validação = {0}'.format(BOW_x_vali_pt.shape))\n",
        "print('Formato do vetor de palavras para teste     = {0}'.format(BOW_x_teste_pt.shape))"
      ],
      "execution_count": null,
      "outputs": []
    },
    {
      "cell_type": "markdown",
      "metadata": {
        "id": "YnOutZsQPY48",
        "colab_type": "text"
      },
      "source": [
        "Com todos os dados manipulados e separados para o modelo, vamos criar nosso primeiro modelo, com a entrada dele sendo o tamanho do nosso dicionário de palavras, e a saída a quantidade de gêneros da língua."
      ]
    },
    {
      "cell_type": "code",
      "metadata": {
        "id": "LlabrFMsC5TW",
        "colab_type": "code",
        "colab": {
          "base_uri": "https://localhost:8080/",
          "height": 230
        },
        "outputId": "a1433666-6148-4d42-eb1a-4011305548c8"
      },
      "source": [
        "modelo_pt = Sequential()\n",
        "\n",
        "modelo_pt.add( Dense( 128, activation='relu', input_shape=(tamanho_dicionario_pt,) ) )\n",
        "modelo_pt.add( Dense( quantidade_generos_pt, activation='softmax' ) )\n",
        "\n",
        "modelo_pt.compile( Adam(), loss='categorical_crossentropy', metrics=['accuracy'] )\n",
        "\n",
        "modelo_pt.summary()"
      ],
      "execution_count": null,
      "outputs": [
        {
          "output_type": "stream",
          "text": [
            "Model: \"sequential\"\n",
            "_________________________________________________________________\n",
            "Layer (type)                 Output Shape              Param #   \n",
            "=================================================================\n",
            "dense (Dense)                (None, 128)               11817344  \n",
            "_________________________________________________________________\n",
            "dense_1 (Dense)              (None, 6)                 774       \n",
            "=================================================================\n",
            "Total params: 11,818,118\n",
            "Trainable params: 11,818,118\n",
            "Non-trainable params: 0\n",
            "_________________________________________________________________\n"
          ],
          "name": "stdout"
        }
      ]
    },
    {
      "cell_type": "markdown",
      "metadata": {
        "id": "R3Dx5XzZPnTB",
        "colab_type": "text"
      },
      "source": [
        "E com nosso modelo pronto, podemos finalmente treinar ele.\n",
        "\n",
        "Com um primeiro modelo, colocaremos para ele rodar todos os dados de treino por 50 vezes e analisaremos o resultado."
      ]
    },
    {
      "cell_type": "code",
      "metadata": {
        "id": "5j9igAT5Dklf",
        "colab_type": "code",
        "colab": {
          "base_uri": "https://localhost:8080/",
          "height": 1000
        },
        "outputId": "42cc8f56-51e2-49d1-8069-24b637e09caf"
      },
      "source": [
        "historico_pt = modelo_pt.fit( BOW_x_treino_pt, y_treino_pt, epochs=50, validation_data=( BOW_x_vali_pt, y_vali_pt ) )"
      ],
      "execution_count": null,
      "outputs": [
        {
          "output_type": "stream",
          "text": [
            "Epoch 1/50\n",
            "2038/2038 [==============================] - 82s 40ms/step - loss: 1.0813 - accuracy: 0.6140 - val_loss: 0.9679 - val_accuracy: 0.6496\n",
            "Epoch 2/50\n",
            "2038/2038 [==============================] - 78s 38ms/step - loss: 0.7458 - accuracy: 0.7251 - val_loss: 0.9539 - val_accuracy: 0.6640\n",
            "Epoch 3/50\n",
            "2038/2038 [==============================] - 78s 38ms/step - loss: 0.5704 - accuracy: 0.7883 - val_loss: 0.9934 - val_accuracy: 0.6711\n",
            "Epoch 4/50\n",
            "2038/2038 [==============================] - 78s 38ms/step - loss: 0.4695 - accuracy: 0.8227 - val_loss: 1.0723 - val_accuracy: 0.6689\n",
            "Epoch 5/50\n",
            "2038/2038 [==============================] - 74s 36ms/step - loss: 0.4019 - accuracy: 0.8451 - val_loss: 1.1086 - val_accuracy: 0.6694\n",
            "Epoch 6/50\n",
            "2038/2038 [==============================] - 74s 36ms/step - loss: 0.3620 - accuracy: 0.8584 - val_loss: 1.1902 - val_accuracy: 0.6728\n",
            "Epoch 7/50\n",
            "2038/2038 [==============================] - 74s 36ms/step - loss: 0.3335 - accuracy: 0.8646 - val_loss: 1.2315 - val_accuracy: 0.6715\n",
            "Epoch 8/50\n",
            "2038/2038 [==============================] - 76s 37ms/step - loss: 0.3114 - accuracy: 0.8691 - val_loss: 1.2421 - val_accuracy: 0.6660\n",
            "Epoch 9/50\n",
            "2038/2038 [==============================] - 73s 36ms/step - loss: 0.2954 - accuracy: 0.8730 - val_loss: 1.3082 - val_accuracy: 0.6622\n",
            "Epoch 10/50\n",
            "2038/2038 [==============================] - 74s 36ms/step - loss: 0.2821 - accuracy: 0.8754 - val_loss: 1.3207 - val_accuracy: 0.6602\n",
            "Epoch 11/50\n",
            "2038/2038 [==============================] - 74s 36ms/step - loss: 0.2741 - accuracy: 0.8754 - val_loss: 1.3387 - val_accuracy: 0.6616\n",
            "Epoch 12/50\n",
            "2038/2038 [==============================] - 75s 37ms/step - loss: 0.2633 - accuracy: 0.8780 - val_loss: 1.3928 - val_accuracy: 0.6635\n",
            "Epoch 13/50\n",
            "2038/2038 [==============================] - 74s 36ms/step - loss: 0.2544 - accuracy: 0.8796 - val_loss: 1.4324 - val_accuracy: 0.6608\n",
            "Epoch 14/50\n",
            "2038/2038 [==============================] - 74s 36ms/step - loss: 0.2486 - accuracy: 0.8794 - val_loss: 1.4585 - val_accuracy: 0.6622\n",
            "Epoch 15/50\n",
            "2038/2038 [==============================] - 73s 36ms/step - loss: 0.2445 - accuracy: 0.8804 - val_loss: 1.4557 - val_accuracy: 0.6589\n",
            "Epoch 16/50\n",
            "2038/2038 [==============================] - 74s 36ms/step - loss: 0.2371 - accuracy: 0.8831 - val_loss: 1.5006 - val_accuracy: 0.6620\n",
            "Epoch 17/50\n",
            "2038/2038 [==============================] - 73s 36ms/step - loss: 0.2332 - accuracy: 0.8828 - val_loss: 1.5025 - val_accuracy: 0.6590\n",
            "Epoch 18/50\n",
            "2038/2038 [==============================] - 73s 36ms/step - loss: 0.2284 - accuracy: 0.8833 - val_loss: 1.5175 - val_accuracy: 0.6588\n",
            "Epoch 19/50\n",
            "2038/2038 [==============================] - 73s 36ms/step - loss: 0.2250 - accuracy: 0.8841 - val_loss: 1.5779 - val_accuracy: 0.6601\n",
            "Epoch 20/50\n",
            "2038/2038 [==============================] - 73s 36ms/step - loss: 0.2201 - accuracy: 0.8861 - val_loss: 1.5995 - val_accuracy: 0.6574\n",
            "Epoch 21/50\n",
            "2038/2038 [==============================] - 73s 36ms/step - loss: 0.2186 - accuracy: 0.8856 - val_loss: 1.6104 - val_accuracy: 0.6570\n",
            "Epoch 22/50\n",
            "2038/2038 [==============================] - 73s 36ms/step - loss: 0.2142 - accuracy: 0.8870 - val_loss: 1.6923 - val_accuracy: 0.6578\n",
            "Epoch 23/50\n",
            "2038/2038 [==============================] - 73s 36ms/step - loss: 0.2119 - accuracy: 0.8875 - val_loss: 1.6963 - val_accuracy: 0.6481\n",
            "Epoch 24/50\n",
            "2038/2038 [==============================] - 74s 36ms/step - loss: 0.2086 - accuracy: 0.8879 - val_loss: 1.7341 - val_accuracy: 0.6595\n",
            "Epoch 25/50\n",
            "2038/2038 [==============================] - 74s 36ms/step - loss: 0.2060 - accuracy: 0.8887 - val_loss: 1.7173 - val_accuracy: 0.6567\n",
            "Epoch 26/50\n",
            "2038/2038 [==============================] - 73s 36ms/step - loss: 0.2042 - accuracy: 0.8892 - val_loss: 1.7985 - val_accuracy: 0.6599\n",
            "Epoch 27/50\n",
            "2038/2038 [==============================] - 73s 36ms/step - loss: 0.2030 - accuracy: 0.8883 - val_loss: 1.8151 - val_accuracy: 0.6513\n",
            "Epoch 28/50\n",
            "2038/2038 [==============================] - 73s 36ms/step - loss: 0.2007 - accuracy: 0.8911 - val_loss: 1.8283 - val_accuracy: 0.6490\n",
            "Epoch 29/50\n",
            "2038/2038 [==============================] - 73s 36ms/step - loss: 0.1977 - accuracy: 0.8913 - val_loss: 1.8646 - val_accuracy: 0.6554\n",
            "Epoch 30/50\n",
            "2038/2038 [==============================] - 73s 36ms/step - loss: 0.1969 - accuracy: 0.8915 - val_loss: 1.9233 - val_accuracy: 0.6555\n",
            "Epoch 31/50\n",
            "2038/2038 [==============================] - 74s 36ms/step - loss: 0.1946 - accuracy: 0.8906 - val_loss: 1.9515 - val_accuracy: 0.6517\n",
            "Epoch 32/50\n",
            "2038/2038 [==============================] - 73s 36ms/step - loss: 0.1942 - accuracy: 0.8914 - val_loss: 1.9781 - val_accuracy: 0.6527\n",
            "Epoch 33/50\n",
            "2038/2038 [==============================] - 75s 37ms/step - loss: 0.1920 - accuracy: 0.8929 - val_loss: 2.0074 - val_accuracy: 0.6500\n",
            "Epoch 34/50\n",
            "2038/2038 [==============================] - 73s 36ms/step - loss: 0.1918 - accuracy: 0.8926 - val_loss: 2.0459 - val_accuracy: 0.6452\n",
            "Epoch 35/50\n",
            "2038/2038 [==============================] - 73s 36ms/step - loss: 0.1896 - accuracy: 0.8923 - val_loss: 2.0731 - val_accuracy: 0.6476\n",
            "Epoch 36/50\n",
            "2038/2038 [==============================] - 73s 36ms/step - loss: 0.1893 - accuracy: 0.8930 - val_loss: 2.0905 - val_accuracy: 0.6493\n",
            "Epoch 37/50\n",
            "2038/2038 [==============================] - 74s 36ms/step - loss: 0.1886 - accuracy: 0.8944 - val_loss: 2.1207 - val_accuracy: 0.6537\n",
            "Epoch 38/50\n",
            "2038/2038 [==============================] - 73s 36ms/step - loss: 0.1873 - accuracy: 0.8936 - val_loss: 2.1666 - val_accuracy: 0.6475\n",
            "Epoch 39/50\n",
            "2038/2038 [==============================] - 74s 36ms/step - loss: 0.1853 - accuracy: 0.8934 - val_loss: 2.1802 - val_accuracy: 0.6471\n",
            "Epoch 40/50\n",
            "2038/2038 [==============================] - 73s 36ms/step - loss: 0.1845 - accuracy: 0.8939 - val_loss: 2.2522 - val_accuracy: 0.6434\n",
            "Epoch 41/50\n",
            "2038/2038 [==============================] - 75s 37ms/step - loss: 0.1842 - accuracy: 0.8935 - val_loss: 2.2790 - val_accuracy: 0.6387\n",
            "Epoch 42/50\n",
            "2038/2038 [==============================] - 73s 36ms/step - loss: 0.1835 - accuracy: 0.8946 - val_loss: 2.2442 - val_accuracy: 0.6441\n",
            "Epoch 43/50\n",
            "2038/2038 [==============================] - 73s 36ms/step - loss: 0.1833 - accuracy: 0.8952 - val_loss: 2.2956 - val_accuracy: 0.6452\n",
            "Epoch 44/50\n",
            "2038/2038 [==============================] - 73s 36ms/step - loss: 0.1812 - accuracy: 0.8957 - val_loss: 2.3292 - val_accuracy: 0.6434\n",
            "Epoch 45/50\n",
            "2038/2038 [==============================] - 73s 36ms/step - loss: 0.1816 - accuracy: 0.8944 - val_loss: 2.3851 - val_accuracy: 0.6453\n",
            "Epoch 46/50\n",
            "2038/2038 [==============================] - 73s 36ms/step - loss: 0.1791 - accuracy: 0.8951 - val_loss: 2.4065 - val_accuracy: 0.6435\n",
            "Epoch 47/50\n",
            "2038/2038 [==============================] - 73s 36ms/step - loss: 0.1789 - accuracy: 0.8964 - val_loss: 2.4130 - val_accuracy: 0.6489\n",
            "Epoch 48/50\n",
            "2038/2038 [==============================] - 73s 36ms/step - loss: 0.1776 - accuracy: 0.8975 - val_loss: 2.5012 - val_accuracy: 0.6465\n",
            "Epoch 49/50\n",
            "2038/2038 [==============================] - 74s 36ms/step - loss: 0.1779 - accuracy: 0.8947 - val_loss: 2.4822 - val_accuracy: 0.6434\n",
            "Epoch 50/50\n",
            "2038/2038 [==============================] - 73s 36ms/step - loss: 0.1767 - accuracy: 0.8971 - val_loss: 2.5529 - val_accuracy: 0.6471\n"
          ],
          "name": "stdout"
        }
      ]
    },
    {
      "cell_type": "markdown",
      "metadata": {
        "id": "ox3w93QXP9IH",
        "colab_type": "text"
      },
      "source": [
        "Com o modelo treinado, vamos analisar como a função de custo e a métrica de exatidão se comportaram durante o treino, para as informações de treino e validação."
      ]
    },
    {
      "cell_type": "code",
      "metadata": {
        "id": "8wZ3xzB_ODdy",
        "colab_type": "code",
        "colab": {
          "base_uri": "https://localhost:8080/",
          "height": 576
        },
        "outputId": "4e0861da-21f6-42e4-ca00-7a361678ae2a"
      },
      "source": [
        "plt.plot(historico_pt.history['loss'], 'b', label='Treinamento')\n",
        "plt.plot(historico_pt.history['val_loss'], 'bo', label='Validação')\n",
        "plt.title('Função de custo por época')\n",
        "plt.xlabel('Épocas')\n",
        "plt.ylabel('Custo')\n",
        "plt.legend()\n",
        "plt.show()\n",
        "\n",
        "plt.plot(historico_pt.history['accuracy'], 'b', label='Treinamento')\n",
        "plt.plot(historico_pt.history['val_accuracy'], 'bo', label='Validação')\n",
        "plt.title('Exatidão por época')\n",
        "plt.xlabel('Épocas')\n",
        "plt.ylabel('Exatidão')\n",
        "plt.legend()\n",
        "plt.show()"
      ],
      "execution_count": null,
      "outputs": [
        {
          "output_type": "display_data",
          "data": {
            "image/png": "[encoded data removed]",
            "text/plain": [
              "<Figure size 432x288 with 1 Axes>"
            ]
          },
          "metadata": {
            "tags": [],
            "needs_background": "light"
          }
        },
        {
          "output_type": "display_data",
          "data": {
            "image/png": "[encoded data removed]",
            "text/plain": [
              "<Figure size 432x288 with 1 Axes>"
            ]
          },
          "metadata": {
            "tags": [],
            "needs_background": "light"
          }
        }
      ]
    },
    {
      "cell_type": "markdown",
      "metadata": {
        "id": "x2N15Xd6QRAI",
        "colab_type": "text"
      },
      "source": [
        "Podemos analisar que o modelo deu overfit, onde ele melhora os resultados do modelo para o treino ao longo das épocas, mas piorando os o modelo para os dados de validação ao longo das épocas."
      ]
    },
    {
      "cell_type": "code",
      "metadata": {
        "id": "EA9_Kw4WEQwM",
        "colab_type": "code",
        "colab": {
          "base_uri": "https://localhost:8080/",
          "height": 176
        },
        "outputId": "fa0acd9f-9d99-41df-faa6-2c3286664533"
      },
      "source": [
        "desempenho_treino_pt = modelo_pt.evaluate( BOW_x_treino_pt, y_treino_pt )\n",
        "print('Valor da função de custo do treino = {0:.4f}\\nValor da exatidão do treino = {1:.4f}'.format( desempenho_treino_pt[0], desempenho_treino_pt[1] ))\n",
        "\n",
        "desempenho_validacao_pt = modelo_pt.evaluate( BOW_x_vali_pt, y_vali_pt )\n",
        "print('Valor da função de custo da validação = {0:.4f}\\nValor da exatidão da validação = {1:.4f}'.format( desempenho_validacao_pt[0], desempenho_validacao_pt[1] ))\n",
        "\n",
        "desempenho_teste_pt = modelo_pt.evaluate( BOW_x_teste_pt, y_teste_pt )\n",
        "print('Valor da função de custo do teste = {0:.4f}\\nValor da exatidão do teste = {1:.4f}'.format( desempenho_teste_pt[0], desempenho_teste_pt[1] ))"
      ],
      "execution_count": null,
      "outputs": [
        {
          "output_type": "stream",
          "text": [
            "2038/2038 [==============================] - 3s 1ms/step - loss: 0.1599 - accuracy: 0.9070\n",
            "Valor da função de custo do treino = 0.1599\n",
            "Valor da exatidão do treino = 0.9070\n",
            "437/437 [==============================] - 1s 1ms/step - loss: 2.5529 - accuracy: 0.6471\n",
            "Valor da função de custo da validação = 2.5529\n",
            "Valor da exatidão da validação = 0.6471\n",
            "437/437 [==============================] - 1s 1ms/step - loss: 2.6337 - accuracy: 0.6500\n",
            "Valor da função de custo do teste = 2.6337\n",
            "Valor da exatidão do teste = 0.6500\n"
          ],
          "name": "stdout"
        }
      ]
    },
    {
      "cell_type": "code",
      "metadata": {
        "id": "JuwgxqYgExse",
        "colab_type": "code",
        "colab": {
          "base_uri": "https://localhost:8080/",
          "height": 318
        },
        "outputId": "245c2eb8-1087-47ee-995f-7651de18c111"
      },
      "source": [
        "y_pred_pt = modelo_pt.predict( BOW_x_teste_pt )\n",
        "y_pred_pt = np.round(y_pred_pt)\n",
        "\n",
        "conf_matrix_pt = multilabel_confusion_matrix(y_teste_pt, y_pred_pt)\n",
        "conf_matrix_pt"
      ],
      "execution_count": null,
      "outputs": [
        {
          "output_type": "execute_result",
          "data": {
            "text/plain": [
              "array([[[11143,   715],\n",
              "        [  904,  1207]],\n",
              "\n",
              "       [[10769,   985],\n",
              "        [ 1440,   775]],\n",
              "\n",
              "       [[12720,   265],\n",
              "        [  366,   618]],\n",
              "\n",
              "       [[ 7317,  1415],\n",
              "        [ 1060,  4177]],\n",
              "\n",
              "       [[11129,   605],\n",
              "        [  749,  1486]],\n",
              "\n",
              "       [[12353,   429],\n",
              "        [  621,   566]]])"
            ]
          },
          "metadata": {
            "tags": []
          },
          "execution_count": 36
        }
      ]
    },
    {
      "cell_type": "code",
      "metadata": {
        "id": "Apmegt0DFm93",
        "colab_type": "code",
        "colab": {
          "base_uri": "https://localhost:8080/",
          "height": 123
        },
        "outputId": "b2f069a7-01f9-4101-d8f8-bacd30d08980"
      },
      "source": [
        "# Legião Urbana - Tempo perdido\n",
        "musica_teste_pt_rock = 'Todos os dias quando acordo Não tenho mais O tempo que passou Mas tenho muito tempo Temos todo o tempo do mundo Todos os dias Antes de dormir Lembro e esqueço Como foi o dia Sempre em frente Não temos tempo a perder Nosso suor sagrado É bem mais belo Que esse sangue amargo E tão sério E selvagem! Selvagem! Selvagem! Veja o sol Dessa manhã tão cinza A tempestade que chega É da cor dos teus olhos Castanhos Então me abraça forte E diz mais uma vez Que já estamos Distantes de tudo Temos nosso próprio tempo Temos nosso próprio tempo Temos nosso próprio tempo Não tenho medo do escuro Mas deixe as luzes Acesas agora O que foi escondido É o que se escondeu E o que foi prometido Ninguém prometeu Nem foi tempo perdido Somos tão jovens Tão jovens! Tão jovens!'\n",
        "\n",
        "# Lexa - Amor bandido\n",
        "musica_teste_pt_pop = 'Oh oh oh oh yeah yeah yeah yeah yeah yeah Lexa e Kekel Hitmaker Sei que você tá bolada Tá chateada e não quer me ouvir Dei umas escorregada Uma vacilada e me arrependi Mas to aqui, bebê Pedindo pra você voltar comigo Voltar comigo Eu te falei que não tinha perdão E pro meu coração já não dava mais Só que foi batendo a bad O corpo pede, voltei atrás Mas to aqui, bebê Sorrindo pra você voltar comigo Voltar comigo Voltar comigo Baby, eu não resisto a esse nosso amor bandido Quando você beija meu pescoço até o umbigo Volta pra cá que a saudade tá pedindo Baby, vem cá Baby, eu não resisto a esse nosso amor bandido Quando você beija meu pescoço até o umbigo Volta pra cá que a saudade tá pedindo Baby, vem cá Você sabe que é maldade Despertar minha insanidade To morrendo de vontade da sua boca Agora vê se não vacila Volta pra minha vida e vê se fica sem roupa Incrível como tudo se encaixa Em tudo o que a gente faz Indescritível o sentimento permanente que você me traz Baby, eu não resisto a esse nosso amor bandido Quando você beija meu pescoço até o umbigo Volta pra cá que a saudade tá pedindo Baby, vem cá Baby, eu não resisto a esse nosso amor bandido Quando você beija meu pescoço até o umbigo Volta pra cá que a saudade tá pedindo Baby, vem cá Eu to querendo mais Eu to querendo mais Cê tá querendo, eu to querendo Então como é que faz? Eu to querendo mais Eu to querendo mais Cê tá querendo, eu to querendo Então como é que faz? Eu to querendo mais Eu to querendo mais Cê tá querendo, eu to querendo Então como é que faz? Eu to querendo mais Eu to querendo mais Cê tá querendo Baby, eu não resisto a esse nosso amor bandido Quando você beija meu pescoço até o umbigo Volta pra cá que a saudade tá pedindo Baby, vem cá Eu to querendo mais Então como é que faz? Kekel e Lexa (yeah yeah yeah yeah)'\n",
        "\n",
        "# 1Kilo - Deixe-me ir\n",
        "musica_teste_pt_hiphop = 'Menina, me dá sua mão, pense bem antes de agir Se não for agora, te espero lá fora, então deixe-me ir Um dia te encontro nessas suas voltas Minha mente é mó confusão Solta a minha mão, que eu sei que cê volta O tempo mostra nossa direção Se eu soubesse que era assim, eu nem vinha Tô bebendo champanhe e catando latinha Mas tive que perder pra aprender dar valor Pra você entender seu amor, mas não quer ser mais minha Então diz que não me quer por perto Mas diz olhando nos meus olhos Desculpe se eu não fui sincero Mas a vida que eu levo, erros lógicos Óbvio, cada letra em rap é um código sórdido Psicografado som sólido, súbito Nunca fui de fazer som pra público Verso meu universo, peço que entenda meu mundo, mina A gente briga por bobeira demais A gente pira, o tempo vira por bobeira demais O amor é bandeira de paz Mas se não der, vai em paz, meto o pé Tô vivo e quero viver, ensinar e aprender Menina, eu sigo com ou sem você, mas tente entender Eu tentei, a vida é curta pra chorar pela ex Eu falei pra mim mesmo enquanto eu chorava outra vez, é Eu vou ficar, mas vou pela manhã Sem me despedir, vou antes do café Que é pra não te acordar, sei que não sou nenhum Don Juan Sou todo errado, mas tô certo que você me quer Eu vou ficar, mas vou pela manhã Sem me despedir, vou antes do café Que é pra não te acordar, sei que não sou nenhum Don Juan Sou todo errado, mas tô certo que você me quer Ei, amor, sei que tá tão difícil eu falar de amor Porque lá fora é tanto ódio e rancor Que eu preciso muito te falar Ei, amor, eu tô contigo independente do caô Cê sabe que aonde você for, eu vou E já passou da hora da gente se encontrar E se amar, nega, cê sabe que contigo nada vai me abalar A viagem é longa, então faça a mala Na vibe mais positiva, no pique mandala Esse papo de que se tu não existisse eu te inventaria é tão clichê Mas cai tão bem quando se trata de você Só vem comigo, cê não vai se arrepender Só vem comigo, cê não vai se arrepender Noites em claro, tentando não me envolver Seja o que deus quiser Noites em claro, tentando não me envolver Seja o que deus quiser, deixe-me ir Não vou me despedir porque dói Não vou brigar pra ficar Quero estar contigo e sentir, ser seu e só Sem ter que justificar o tempo em que eu sumi Seja o que deus quiser, deixe-me ir'\n",
        "\n",
        "# Henrique & Juliano - Amor atual\n",
        "musica_teste_pt_sertanejo = 'Você não pensou no meu amor Foi tão covarde Vivi um drama Vivendo na lama Já to indo tarde Não quero isso pra mim Não vou viver assim Eita, como dói Isso me destrói Mas eu vou te falar Você tá pensando o quê? Seu amor atual não tem culpa do anterior, bebê Tá pensando o quê? O que ele fez contigo, comigo cê quer fazer Você tá pensando o quê? Seu amor atual não tem culpa do anterior, bebê Tá pensando o quê? O que ele fez contigo, comigo cê quer fazer Pode esquecer Aí a pessoa briga com a pessoa E a pessoa quer brigar com a minha pessoa Tem jeito não, né Aí, não, né Você não pensou no meu amor Foi tão covarde Vivi um drama Vivendo na lama Já to indo tarde Não quero isso pra mim Não vou viver assim Eita, como dói Isso me destrói Mas eu vou te falar Você tá pensando o quê? Seu amor atual não tem culpa do anterior, bebê Tá pensando o quê? O que ele fez contigo, comigo cê quer fazer Você tá pensando o quê? Seu amor atual não tem culpa do anterior, bebê Tá pensando o quê? O que ele fez contigo, comigo cê quer fazer Pode esquecer Você tá pensando o quê? Seu amor atual não tem culpa do anterior, bebê Tá pensando o quê? O que ele fez contigo, comigo cê quer fazer Você tá pensando o quê? Seu amor atual não tem culpa do anterior, bebê Tá pensando o quê? O que ele fez contigo, comigo cê quer fazer Pode esquecer'\n",
        "\n",
        "# Martinho Da Vila - Casa de Bamba\n",
        "musica_teste_pt_samba = 'Na minha casa Todo mundo é bamba Todo mundo bebe Todo mundo samba Na minha casa Todo mundo é bamba Todo mundo bebe Todo mundo samba Na minha casa Não tem bola pra vizinha Não se fala do alheio Nem se liga pra candinha Na minha casa Não tem bola pra vizinha Não se fala do alheio Nem se liga pra candinha Na minha casa Todo mundo é bamba Todo mundo bebe Todo mundo samba Na minha casa Todo mundo é bamba Todo mundo bebe Todo mundo samba Na minha casa Ninguém liga pra intriga Todo mundo xinga Todo mundo briga Na minha casa Ninguém liga prá intriga Todo mundo xinga Todo mundo briga Macumba lá na minha casa Tem galinha preta Azeite de dendê Mas ladainha lá na minha casa Tem reza bonitinha E canjiquinha pra comer Mas ladainha lá na minha casa Tem reza bonitinha E canjiquinha pra comer Se tem alguém aflito Todo mundo chora Todo mundo sofre Mas logo se reza Pra São Benedito Pra Nossa Senhora E pra Santo Onofre Mas se tem alguém cantando Todo mundo canta Todo mundo dança Todo mundo samba E ninguém se cansa Pois minha casa É casa de bamba Pois minha casa É casa de bamba Macumba lá na minha casa Tem galinha preta Azeite de dendê Mas ladainha lá na minha casa Tem reza bonitinha E canjiquinha prá comer Mas ladainha lá na minha casa Tem reza bonitinha E canjiquinha pra comer Se tem alguém aflito Todo mundo chora Todo mundo sofre Mas logo se reza Pra São Benedito Pra Nossa Senhora E pra Santo Onofre Mas se tem alguém cantando Todo mundo canta Todo mundo dança Todo mundo samba E ninguém se cansa Pois minha casa É casa de bamba Pois minha casa É casa de bamba Pois minha casa É casa de bamba'\n",
        "\n",
        "# MC Ingryd - Vem Me Satisfazer\n",
        "musica_teste_pt_funk = 'Marca pra nós se ver Pode ser pra ferver Hoje eu quero você Vem me satisfazer No teu jeito que eu me amarro De quatro, eu jogo o rabo Sequência de toma-toma Sequência de vapo-vapo De quatro, eu jogo o rabo De quatro, eu jogo o rabo Sequência de toma-toma Sequência de vapo-vapo De quatro, eu jogo o rabo De quatro, eu jogo o rabo Sequência de toma-toma Sequência de vapo-vapo De quatro, eu jogo o rabo De quatro, eu jogo o rabo Sequência de toma-toma Sequência de vapo-vapo De quatro, eu jogo o rabo De quatro, eu jogo o rabo Sequência de toma-toma Sequência de vapo-vapo Te avisei, não se envolve no meu papo Não passou de um boato pra você enlouquecer Eu te dei prazer, tu pediu prazer Agora o que eu posso fazer? Eu não quero mais você Quem falou que eu quero ser tua mulher? Toma vergonha na cara e vê se larga do meu pé Muito louca na onda do Goldin Chamei os cria pra base Vai rolar chuva de lean De quatro, eu jogo o rabo De quatro, eu jogo o rabo Sequência de toma-toma Sequência de vapo-vapo De quatro, eu jogo o rabo De quatro, eu jogo o rabo Sequência de toma-toma Sequência de vapo-vapo De quatro, eu jogo o rabo De quatro, eu jogo o rabo Sequência de toma-toma Sequência de vapo-vapo De quatro, eu jogo o rabo De quatro, eu jogo o rabo Sequência de toma-toma Sequência de vapo-vapo Marca pra nós se ver Pode ser pra ferver Hoje eu quero você Vem me satisfazer No teu jeito que eu me amarro De quatro, eu jogo o rabo Sequência de toma-toma Sequência de vapo-vapo De quatro, eu jogo o rabo De quatro, eu jogo o rabo Sequência de toma-toma Sequência de vapo-vapo De quatro, eu jogo o rabo De quatro, eu jogo o rabo Sequência de toma-toma Sequência de vapo-vapo De quatro, eu jogo o rabo De quatro, eu jogo o rabo Sequência de toma-toma Sequência de vapo-vapo De quatro, eu jogo o rabo De quatro, eu jogo o rabo Sequência de toma-toma Sequência de vapo-vapo Te avisei, não se envolve no meu papo Não passou de um boato pra você enlouquecer Eu te dei prazer, tu pediu prazer Agora o que eu posso fazer? Eu não quero mais você Quem falou que eu quero ser tua mulher? Toma vergonha na cara e vê se larga do meu pé Muito louca na onda do Goldin Chamei os cria pra base Vai rolar chuva de lean De quatro, eu jogo o rabo De quatro, eu jogo o rabo Sequência de toma-toma Sequência de vapo-vapo De quatro, eu jogo o rabo De quatro, eu jogo o rabo Sequência de toma-toma Sequência de vapo-vapo De quatro, eu jogo o rabo De quatro, eu jogo o rabo Sequência de toma-toma Sequência de vapo-vapo De quatro, eu jogo o rabo De quatro, eu jogo o rabo Sequência de toma-toma Sequência de vapo-vapo'\n",
        "\n",
        "lista_musicas_teste_pt = [ musica_teste_pt_rock, musica_teste_pt_pop, musica_teste_pt_hiphop, musica_teste_pt_sertanejo, musica_teste_pt_samba, musica_teste_pt_funk ]\n",
        "\n",
        "teste_pt = vectorizer_pt.transform( lista_musicas_teste_pt ).toarray()\n",
        "saida_teste_pt = modelo_pt.predict( teste_pt )\n",
        "saida_teste_mex_pt = np.argmax( saida_teste_pt, axis=1 )\n",
        "saida_teste_traducao_pt = [dataset_generos_rev.get(item,item) for item in saida_teste_mex_pt]\n",
        "\n",
        "for i in range( quantidade_generos_pt ):\n",
        "    print('Música de {0} o modelo preveu {1}'.format( list(dataset_generos.keys())[i], saida_teste_traducao_pt[i] ))"
      ],
      "execution_count": null,
      "outputs": [
        {
          "output_type": "stream",
          "text": [
            "Música de Rock o modelo preveu Pop\n",
            "Música de Pop o modelo preveu Pop\n",
            "Música de Hip Hop o modelo preveu Pop\n",
            "Música de Sertanejo o modelo preveu Sertanejo\n",
            "Música de Samba o modelo preveu Samba\n",
            "Música de Funk Carioca o modelo preveu Hip Hop\n"
          ],
          "name": "stdout"
        }
      ]
    },
    {
      "cell_type": "markdown",
      "metadata": {
        "id": "UVd1k3mtkMwp",
        "colab_type": "text"
      },
      "source": [
        "Com nosso modelo para a língua pra portuguesa treinado, vamos agora realizar as mesmas manipulções, e criar um modelo, mas agora para a língua inglesa."
      ]
    },
    {
      "cell_type": "code",
      "metadata": {
        "id": "5M5lsKE1eaQ5",
        "colab_type": "code",
        "colab": {
          "base_uri": "https://localhost:8080/",
          "height": 34
        },
        "outputId": "070c743c-bb41-4d74-ac86-89b994d585fa"
      },
      "source": [
        "letras_en_agrupado = ''\n",
        "for i in range( dataset_en.shape[0] ):\n",
        "    letras_en_agrupado += dataset_en.iloc[i]['Lyric']\n",
        "\n",
        "w_token_en = word_tokenize( letras_en_agrupado )\n",
        "w_token_en[:5]"
      ],
      "execution_count": null,
      "outputs": [
        {
          "output_type": "execute_result",
          "data": {
            "text/plain": [
              "['I', 'could', 'feel', 'at', 'the']"
            ]
          },
          "metadata": {
            "tags": []
          },
          "execution_count": 38
        }
      ]
    },
    {
      "cell_type": "code",
      "metadata": {
        "id": "eBQvWdoMeyAP",
        "colab_type": "code",
        "colab": {
          "base_uri": "https://localhost:8080/",
          "height": 34
        },
        "outputId": "46c0f33e-a03f-462e-9aec-b8a81e7bc890"
      },
      "source": [
        "stw_en = stopwords.words('english')\n",
        "\n",
        "stw_en[:5]"
      ],
      "execution_count": null,
      "outputs": [
        {
          "output_type": "execute_result",
          "data": {
            "text/plain": [
              "['i', 'me', 'my', 'myself', 'we']"
            ]
          },
          "metadata": {
            "tags": []
          },
          "execution_count": 39
        }
      ]
    },
    {
      "cell_type": "code",
      "metadata": {
        "id": "zlA76q7Me1sv",
        "colab_type": "code",
        "colab": {
          "base_uri": "https://localhost:8080/",
          "height": 34
        },
        "outputId": "4ad03163-4670-4cf0-c85b-34a858ef2ef1"
      },
      "source": [
        "pontuacao = list( punctuation )\n",
        "\n",
        "pontuacao[:5]"
      ],
      "execution_count": null,
      "outputs": [
        {
          "output_type": "execute_result",
          "data": {
            "text/plain": [
              "['!', '\"', '#', '$', '%']"
            ]
          },
          "metadata": {
            "tags": []
          },
          "execution_count": 40
        }
      ]
    },
    {
      "cell_type": "code",
      "metadata": {
        "id": "KGExJ5Fce3i7",
        "colab_type": "code",
        "colab": {
          "base_uri": "https://localhost:8080/",
          "height": 34
        },
        "outputId": "9dd45cce-870c-4b23-91bf-bfaa5bfc28c4"
      },
      "source": [
        "stopwords_en = set( stw_en + pontuacao ) #cria lista sem repetir elementos\n",
        "\n",
        "list(stopwords_en)[:5]"
      ],
      "execution_count": null,
      "outputs": [
        {
          "output_type": "execute_result",
          "data": {
            "text/plain": [
              "[\"hasn't\", 'ma', 'hasn', \"you'll\", \"it's\"]"
            ]
          },
          "metadata": {
            "tags": []
          },
          "execution_count": 41
        }
      ]
    },
    {
      "cell_type": "code",
      "metadata": {
        "id": "7e48LqWne5j3",
        "colab_type": "code",
        "colab": {
          "base_uri": "https://localhost:8080/",
          "height": 34
        },
        "outputId": "7dc726f5-6d63-40ba-8840-a7d38ffd99b0"
      },
      "source": [
        "w_token_en_sem_stopwords = [palavra for palavra in w_token_en if palavra not in stopwords_en]\n",
        "\n",
        "w_token_en_sem_stopwords[:5]"
      ],
      "execution_count": null,
      "outputs": [
        {
          "output_type": "execute_result",
          "data": {
            "text/plain": [
              "['I', 'could', 'feel', 'time', 'There']"
            ]
          },
          "metadata": {
            "tags": []
          },
          "execution_count": 42
        }
      ]
    },
    {
      "cell_type": "code",
      "metadata": {
        "id": "DqCEXlL7e8Ha",
        "colab_type": "code",
        "colab": {
          "base_uri": "https://localhost:8080/",
          "height": 34
        },
        "outputId": "ffbd856f-1f53-42e0-a15f-d6b360c3e7d9"
      },
      "source": [
        "stemmer = RSLPStemmer()\n",
        "\n",
        "w_token_en_sem_stopwords_stem = [stemmer.stem( palavra ) for palavra in w_token_en_sem_stopwords]\n",
        "\n",
        "w_token_en_sem_stopwords_stem[:5]"
      ],
      "execution_count": null,
      "outputs": [
        {
          "output_type": "execute_result",
          "data": {
            "text/plain": [
              "['i', 'could', 'feel', 'tim', 'ther']"
            ]
          },
          "metadata": {
            "tags": []
          },
          "execution_count": 43
        }
      ]
    },
    {
      "cell_type": "code",
      "metadata": {
        "id": "xjqsyaC3fLbY",
        "colab_type": "code",
        "colab": {
          "base_uri": "https://localhost:8080/",
          "height": 34
        },
        "outputId": "2b8eca45-36e9-44e4-d8a3-8489eca1526e"
      },
      "source": [
        "vectorizer_en = CountVectorizer( analyzer='word' )\n",
        "\n",
        "vectorizer_en.fit( w_token_en_sem_stopwords_stem )\n",
        "\n",
        "tamanho_dicionario_en = len(vectorizer_en.vocabulary_)\n",
        "print( 'Quantidade de palavras no dicionário = {0}'.format( tamanho_dicionario_en ) )"
      ],
      "execution_count": null,
      "outputs": [
        {
          "output_type": "stream",
          "text": [
            "Quantidade de palavras no dicionário = \n"
          ],
          "name": "stdout"
        }
      ]
    },
    {
      "cell_type": "code",
      "metadata": {
        "id": "WnmwgBjNfRGI",
        "colab_type": "code",
        "colab": {
          "base_uri": "https://localhost:8080/",
          "height": 123
        },
        "outputId": "9db39dd7-4fae-4074-c079-22599db72b77"
      },
      "source": [
        "letras_en = dataset_en['Lyric'].values #X\n",
        "generos_en = dataset_en['NR_Genre'].values #Y\n",
        "\n",
        "generos_en_dummy = np_utils.to_categorical(generos_en)\n",
        "\n",
        "x_treino_en, x_teste_en, y_treino_en, y_teste_en = train_test_split( letras_en, generos_en_dummy, test_size=0.3, random_state=42 )\n",
        "x_vali_en, x_teste_en, y_vali_en, y_teste_en = train_test_split( x_teste_en, y_teste_en, test_size=0.5, random_state=42 )\n",
        "\n",
        "BOW_x_treino_en = vectorizer_en.transform( x_treino_en )\n",
        "BOW_x_vali_en = vectorizer_en.transform( x_vali_en )\n",
        "BOW_x_teste_en = vectorizer_en.transform( x_teste_en )\n",
        "\n",
        "print('Formato do vetor de palavras para treino    = {0}'.format(BOW_x_treino_en.shape))\n",
        "print('Formato do vetor de palavras para validação = {0}'.format(BOW_x_vali_en.shape))\n",
        "print('Formato do vetor de palavras para teste     = {0}'.format(BOW_x_teste_en.shape))\n",
        "print('Formato de dados de saída para treino       = {0}'.format(y_treino_en.shape))\n",
        "print('Formato de dados de saída para validação    = {0}'.format(y_vali_en.shape))\n",
        "print('Formato de dados de saída para teste        = {0}'.format(y_teste_en.shape))"
      ],
      "execution_count": null,
      "outputs": [
        {
          "output_type": "stream",
          "text": [
            "Formato do vetor de palavras para treino    = (86790, 129314)\n",
            "Formato do vetor de palavras para validação = (18598, 129314)\n",
            "Formato do vetor de palavras para teste     = (18599, 129314)\n",
            "Formato de dados de saída para treino       = (86790, 3)\n",
            "Formato de dados de saída para validação    = (18598, 3)\n",
            "Formato de dados de saída para teste        = (18599, 3)\n"
          ],
          "name": "stdout"
        }
      ]
    },
    {
      "cell_type": "code",
      "metadata": {
        "id": "rReS3UTEfl0h",
        "colab_type": "code",
        "colab": {
          "base_uri": "https://localhost:8080/",
          "height": 230
        },
        "outputId": "e533ebee-6310-455f-eb8e-67d92054bc0e"
      },
      "source": [
        "modelo_en = Sequential()\n",
        "\n",
        "modelo_en.add( Dense( 128, activation='relu', input_shape=(tamanho_dicionario_en,) ) )\n",
        "modelo_en.add( Dense( quantidade_generos_en, activation='softmax' ) )\n",
        "\n",
        "modelo_en.compile( Adam(), loss='categorical_crossentropy', metrics=['accuracy'] )\n",
        "\n",
        "modelo_en.summary()"
      ],
      "execution_count": null,
      "outputs": [
        {
          "output_type": "stream",
          "text": [
            "Model: \"sequential_1\"\n",
            "_________________________________________________________________\n",
            "Layer (type)                 Output Shape              Param #   \n",
            "=================================================================\n",
            "dense_2 (Dense)              (None, 128)               16552320  \n",
            "_________________________________________________________________\n",
            "dense_3 (Dense)              (None, 3)                 387       \n",
            "=================================================================\n",
            "Total params: 16,552,707\n",
            "Trainable params: 16,552,707\n",
            "Non-trainable params: 0\n",
            "_________________________________________________________________\n"
          ],
          "name": "stdout"
        }
      ]
    },
    {
      "cell_type": "code",
      "metadata": {
        "id": "bRtTJ5pDV86z",
        "colab_type": "code",
        "colab": {
          "base_uri": "https://localhost:8080/",
          "height": 1000
        },
        "outputId": "e4c0663d-5678-48c7-c669-34ff8b0cdad9"
      },
      "source": [
        "historico_en = modelo_en.fit( BOW_x_treino_en, y_treino_en, epochs=50, validation_data=( BOW_x_vali_en, y_vali_en ) )"
      ],
      "execution_count": null,
      "outputs": [
        {
          "output_type": "stream",
          "text": [
            "Epoch 1/50\n",
            "2713/2713 [==============================] - 167s 62ms/step - loss: 0.7210 - accuracy: 0.6784 - val_loss: 0.6803 - val_accuracy: 0.6893\n",
            "Epoch 2/50\n",
            "2713/2713 [==============================] - 167s 62ms/step - loss: 0.5835 - accuracy: 0.7323 - val_loss: 0.6659 - val_accuracy: 0.6969\n",
            "Epoch 3/50\n",
            "2713/2713 [==============================] - 167s 61ms/step - loss: 0.4985 - accuracy: 0.7719 - val_loss: 0.6863 - val_accuracy: 0.6998\n",
            "Epoch 4/50\n",
            "2713/2713 [==============================] - 164s 60ms/step - loss: 0.4344 - accuracy: 0.8015 - val_loss: 0.7393 - val_accuracy: 0.6914\n",
            "Epoch 5/50\n",
            "2713/2713 [==============================] - 164s 61ms/step - loss: 0.3858 - accuracy: 0.8237 - val_loss: 0.7816 - val_accuracy: 0.6945\n",
            "Epoch 6/50\n",
            "2713/2713 [==============================] - 164s 60ms/step - loss: 0.3555 - accuracy: 0.8379 - val_loss: 0.8231 - val_accuracy: 0.6909\n",
            "Epoch 7/50\n",
            "2713/2713 [==============================] - 164s 60ms/step - loss: 0.3309 - accuracy: 0.8474 - val_loss: 0.8665 - val_accuracy: 0.6943\n",
            "Epoch 8/50\n",
            "2713/2713 [==============================] - 164s 60ms/step - loss: 0.3139 - accuracy: 0.8545 - val_loss: 0.9096 - val_accuracy: 0.6938\n",
            "Epoch 9/50\n",
            "2713/2713 [==============================] - 163s 60ms/step - loss: 0.3012 - accuracy: 0.8582 - val_loss: 0.9149 - val_accuracy: 0.6901\n",
            "Epoch 10/50\n",
            "2713/2713 [==============================] - 160s 59ms/step - loss: 0.2891 - accuracy: 0.8627 - val_loss: 0.9524 - val_accuracy: 0.6922\n",
            "Epoch 11/50\n",
            "2713/2713 [==============================] - 160s 59ms/step - loss: 0.2806 - accuracy: 0.8657 - val_loss: 0.9689 - val_accuracy: 0.6909\n",
            "Epoch 12/50\n",
            "2713/2713 [==============================] - 162s 60ms/step - loss: 0.2713 - accuracy: 0.8677 - val_loss: 1.0151 - val_accuracy: 0.6925\n",
            "Epoch 13/50\n",
            "2713/2713 [==============================] - 160s 59ms/step - loss: 0.2656 - accuracy: 0.8706 - val_loss: 0.9921 - val_accuracy: 0.6878\n",
            "Epoch 14/50\n",
            "2713/2713 [==============================] - 160s 59ms/step - loss: 0.2587 - accuracy: 0.8709 - val_loss: 1.0321 - val_accuracy: 0.6851\n",
            "Epoch 15/50\n",
            "2713/2713 [==============================] - 159s 59ms/step - loss: 0.2525 - accuracy: 0.8740 - val_loss: 1.0436 - val_accuracy: 0.6919\n",
            "Epoch 16/50\n",
            "2713/2713 [==============================] - 158s 58ms/step - loss: 0.2478 - accuracy: 0.8732 - val_loss: 1.1207 - val_accuracy: 0.6938\n",
            "Epoch 17/50\n",
            "2713/2713 [==============================] - 158s 58ms/step - loss: 0.2442 - accuracy: 0.8757 - val_loss: 1.0930 - val_accuracy: 0.6897\n",
            "Epoch 18/50\n",
            "2713/2713 [==============================] - 158s 58ms/step - loss: 0.2399 - accuracy: 0.8768 - val_loss: 1.1270 - val_accuracy: 0.6892\n",
            "Epoch 19/50\n",
            "2713/2713 [==============================] - 158s 58ms/step - loss: 0.2360 - accuracy: 0.8771 - val_loss: 1.1461 - val_accuracy: 0.6834\n",
            "Epoch 20/50\n",
            "2713/2713 [==============================] - 158s 58ms/step - loss: 0.2321 - accuracy: 0.8777 - val_loss: 1.1737 - val_accuracy: 0.6894\n",
            "Epoch 21/50\n",
            "2713/2713 [==============================] - 156s 58ms/step - loss: 0.2311 - accuracy: 0.8780 - val_loss: 1.1925 - val_accuracy: 0.6907\n",
            "Epoch 22/50\n",
            "2713/2713 [==============================] - 157s 58ms/step - loss: 0.2279 - accuracy: 0.8790 - val_loss: 1.2083 - val_accuracy: 0.6834\n",
            "Epoch 23/50\n",
            "2713/2713 [==============================] - 157s 58ms/step - loss: 0.2250 - accuracy: 0.8798 - val_loss: 1.2290 - val_accuracy: 0.6821\n",
            "Epoch 24/50\n",
            "2713/2713 [==============================] - 158s 58ms/step - loss: 0.2237 - accuracy: 0.8795 - val_loss: 1.2717 - val_accuracy: 0.6885\n",
            "Epoch 25/50\n",
            "2713/2713 [==============================] - 158s 58ms/step - loss: 0.2209 - accuracy: 0.8807 - val_loss: 1.2671 - val_accuracy: 0.6860\n",
            "Epoch 26/50\n",
            "2713/2713 [==============================] - 158s 58ms/step - loss: 0.2187 - accuracy: 0.8797 - val_loss: 1.2761 - val_accuracy: 0.6832\n",
            "Epoch 27/50\n",
            "2713/2713 [==============================] - 154s 57ms/step - loss: 0.2176 - accuracy: 0.8815 - val_loss: 1.2889 - val_accuracy: 0.6845\n",
            "Epoch 28/50\n",
            "2713/2713 [==============================] - 157s 58ms/step - loss: 0.2147 - accuracy: 0.8826 - val_loss: 1.3092 - val_accuracy: 0.6825\n",
            "Epoch 29/50\n",
            "2713/2713 [==============================] - 157s 58ms/step - loss: 0.2134 - accuracy: 0.8823 - val_loss: 1.3360 - val_accuracy: 0.6811\n",
            "Epoch 30/50\n",
            "2713/2713 [==============================] - 158s 58ms/step - loss: 0.2120 - accuracy: 0.8824 - val_loss: 1.3260 - val_accuracy: 0.6831\n",
            "Epoch 31/50\n",
            "2713/2713 [==============================] - 158s 58ms/step - loss: 0.2102 - accuracy: 0.8836 - val_loss: 1.3567 - val_accuracy: 0.6804\n",
            "Epoch 32/50\n",
            "2713/2713 [==============================] - 158s 58ms/step - loss: 0.2089 - accuracy: 0.8848 - val_loss: 1.4031 - val_accuracy: 0.6817\n",
            "Epoch 33/50\n",
            "2713/2713 [==============================] - 156s 57ms/step - loss: 0.2082 - accuracy: 0.8831 - val_loss: 1.4050 - val_accuracy: 0.6839\n",
            "Epoch 34/50\n",
            "2713/2713 [==============================] - 158s 58ms/step - loss: 0.2069 - accuracy: 0.8846 - val_loss: 1.4333 - val_accuracy: 0.6811\n",
            "Epoch 35/50\n",
            "2713/2713 [==============================] - 160s 59ms/step - loss: 0.2049 - accuracy: 0.8841 - val_loss: 1.4519 - val_accuracy: 0.6806\n",
            "Epoch 36/50\n",
            "2713/2713 [==============================] - 160s 59ms/step - loss: 0.2037 - accuracy: 0.8849 - val_loss: 1.4874 - val_accuracy: 0.6815\n",
            "Epoch 37/50\n",
            "2713/2713 [==============================] - 158s 58ms/step - loss: 0.2025 - accuracy: 0.8858 - val_loss: 1.4875 - val_accuracy: 0.6817\n",
            "Epoch 38/50\n",
            "2713/2713 [==============================] - 158s 58ms/step - loss: 0.2020 - accuracy: 0.8856 - val_loss: 1.5435 - val_accuracy: 0.6841\n",
            "Epoch 39/50\n",
            "2713/2713 [==============================] - 158s 58ms/step - loss: 0.2012 - accuracy: 0.8865 - val_loss: 1.5849 - val_accuracy: 0.6807\n",
            "Epoch 40/50\n",
            "2713/2713 [==============================] - 158s 58ms/step - loss: 0.2009 - accuracy: 0.8864 - val_loss: 1.5744 - val_accuracy: 0.6834\n",
            "Epoch 41/50\n",
            "2713/2713 [==============================] - 158s 58ms/step - loss: 0.1998 - accuracy: 0.8856 - val_loss: 1.5576 - val_accuracy: 0.6804\n",
            "Epoch 42/50\n",
            "2713/2713 [==============================] - 162s 60ms/step - loss: 0.1986 - accuracy: 0.8872 - val_loss: 1.6334 - val_accuracy: 0.6799\n",
            "Epoch 43/50\n",
            "2713/2713 [==============================] - 159s 58ms/step - loss: 0.1976 - accuracy: 0.8872 - val_loss: 1.5700 - val_accuracy: 0.6860\n",
            "Epoch 44/50\n",
            "2713/2713 [==============================] - 158s 58ms/step - loss: 0.1971 - accuracy: 0.8865 - val_loss: 1.5972 - val_accuracy: 0.6850\n",
            "Epoch 45/50\n",
            "2713/2713 [==============================] - 158s 58ms/step - loss: 0.1967 - accuracy: 0.8869 - val_loss: 1.6449 - val_accuracy: 0.6758\n",
            "Epoch 46/50\n",
            "2713/2713 [==============================] - 159s 58ms/step - loss: 0.1956 - accuracy: 0.8885 - val_loss: 1.6587 - val_accuracy: 0.6768\n",
            "Epoch 47/50\n",
            "2713/2713 [==============================] - 158s 58ms/step - loss: 0.1949 - accuracy: 0.8883 - val_loss: 1.6811 - val_accuracy: 0.6799\n",
            "Epoch 48/50\n",
            "2713/2713 [==============================] - 159s 59ms/step - loss: 0.1938 - accuracy: 0.8887 - val_loss: 1.7100 - val_accuracy: 0.6766\n",
            "Epoch 49/50\n",
            "2713/2713 [==============================] - 158s 58ms/step - loss: 0.1941 - accuracy: 0.8884 - val_loss: 1.7416 - val_accuracy: 0.6751\n",
            "Epoch 50/50\n",
            "2713/2713 [==============================] - 157s 58ms/step - loss: 0.1928 - accuracy: 0.8885 - val_loss: 1.7547 - val_accuracy: 0.6761\n"
          ],
          "name": "stdout"
        }
      ]
    },
    {
      "cell_type": "code",
      "metadata": {
        "id": "Em4vhyCRgXaH",
        "colab_type": "code",
        "colab": {
          "base_uri": "https://localhost:8080/",
          "height": 576
        },
        "outputId": "36cab007-26e7-4019-ac11-b30db60910a4"
      },
      "source": [
        "plt.plot(historico_en.history['loss'], 'b', label='Treinamento')\n",
        "plt.plot(historico_en.history['val_loss'], 'bo', label='Validação')\n",
        "plt.title('Função de custo por época')\n",
        "plt.xlabel('Épocas')\n",
        "plt.ylabel('Custo')\n",
        "plt.legend()\n",
        "plt.show()\n",
        "\n",
        "plt.plot(historico_en.history['accuracy'], 'b', label='Treinamento')\n",
        "plt.plot(historico_en.history['val_accuracy'], 'bo', label='Validação')\n",
        "plt.title('Exatidão por época')\n",
        "plt.xlabel('Épocas')\n",
        "plt.ylabel('Exatidão')\n",
        "plt.legend()\n",
        "plt.show()"
      ],
      "execution_count": null,
      "outputs": [
        {
          "output_type": "display_data",
          "data": {
            "image/png": "[encoded data removed]",
            "text/plain": [
              "<Figure size 432x288 with 1 Axes>"
            ]
          },
          "metadata": {
            "tags": [],
            "needs_background": "light"
          }
        },
        {
          "output_type": "display_data",
          "data": {
            "image/png": "[encoded data removed]",
            "text/plain": [
              "<Figure size 432x288 with 1 Axes>"
            ]
          },
          "metadata": {
            "tags": [],
            "needs_background": "light"
          }
        }
      ]
    },
    {
      "cell_type": "markdown",
      "metadata": {
        "id": "hzkko3mqe3YU",
        "colab_type": "text"
      },
      "source": [
        "Novamente podemos ver que o modelo deu overfit. é esperada essa performace pois temos muitos parâmetros na rede para um número não tao grande de dados."
      ]
    },
    {
      "cell_type": "code",
      "metadata": {
        "id": "Bi7XsQoGgYsS",
        "colab_type": "code",
        "colab": {
          "base_uri": "https://localhost:8080/",
          "height": 176
        },
        "outputId": "c009b098-4b78-485c-8f8b-185f97471432"
      },
      "source": [
        "desempenho_treino_en = modelo_en.evaluate( BOW_x_treino_en, y_treino_en )\n",
        "print('Valor da função de custo do treino = {0:.4f}\\nValor da exatidão do treino = {1:.4f}'.format( desempenho_treino_en[0], desempenho_treino_en[1] ))\n",
        "\n",
        "desempenho_validacao_en = modelo_en.evaluate( BOW_x_vali_en, y_vali_en )\n",
        "print('Valor da função de custo da validação = {0:.4f}\\nValor da exatidão da validação = {1:.4f}'.format( desempenho_validacao_en[0], desempenho_validacao_en[1] ))\n",
        "\n",
        "desempenho_teste_en = modelo_en.evaluate( BOW_x_teste_en, y_teste_en )\n",
        "print('Valor da função de custo do teste = {0:.4f}\\nValor da exatidão do teste = {1:.4f}'.format( desempenho_teste_en[0], desempenho_teste_en[1] ))"
      ],
      "execution_count": null,
      "outputs": [
        {
          "output_type": "stream",
          "text": [
            "2713/2713 [==============================] - 4s 1ms/step - loss: 0.1734 - accuracy: 0.9016\n",
            "Valor da função de custo do treino = 0.1734\n",
            "Valor da exatidão do treino = 0.9016\n",
            "582/582 [==============================] - 1s 1ms/step - loss: 1.7547 - accuracy: 0.6761\n",
            "Valor da função de custo da validação = 1.7547\n",
            "Valor da exatidão da validação = 0.6761\n",
            "582/582 [==============================] - 1s 1ms/step - loss: 1.6874 - accuracy: 0.6748\n",
            "Valor da função de custo do teste = 1.6874\n",
            "Valor da exatidão do teste = 0.6748\n"
          ],
          "name": "stdout"
        }
      ]
    },
    {
      "cell_type": "code",
      "metadata": {
        "id": "TWNQ4FE-FbU5",
        "colab_type": "code",
        "colab": {
          "base_uri": "https://localhost:8080/",
          "height": 158
        },
        "outputId": "6ccf9d06-68bf-49ed-c0e8-4862704ecc91"
      },
      "source": [
        "y_pred_en = modelo_en.predict( BOW_x_teste_en )\n",
        "y_pred_en = np.round(y_pred_en)\n",
        "\n",
        "conf_matrix_en = multilabel_confusion_matrix(y_teste_en, y_pred_en)\n",
        "conf_matrix_en"
      ],
      "execution_count": null,
      "outputs": [
        {
          "output_type": "execute_result",
          "data": {
            "text/plain": [
              "array([[[ 7236,  2281],\n",
              "        [ 1780,  7302]],\n",
              "\n",
              "       [[10204,  2373],\n",
              "        [ 3117,  2905]],\n",
              "\n",
              "       [[13915,  1189],\n",
              "        [ 1312,  2183]]])"
            ]
          },
          "metadata": {
            "tags": []
          },
          "execution_count": 50
        }
      ]
    },
    {
      "cell_type": "code",
      "metadata": {
        "id": "-9mwkyLrGfF7",
        "colab_type": "code",
        "colab": {
          "base_uri": "https://localhost:8080/",
          "height": 70
        },
        "outputId": "33ddc83a-8be1-400a-ef24-27d2a772362e"
      },
      "source": [
        "# Linkin Park - Numb\n",
        "musica_teste_en_rock = \"I'm tired of being what you want me to be Feeling so faithless, lost under the surface I don't know what you're expecting of me Put under the pressure of walking in your shoes Caught in the undertow, just caught in the undertow Every step that I take is another mistake to you Caught in the undertow, just caught in the undertow I've become so numb, I can't feel you there Become so tired, so much more aware By becoming this all I want to do Is be more like me and be less like you Can't you see that you're smothering me? Holding too tightly, afraid to lose control 'Cause everything that you thought I would be Has fallen apart right in front of you Caught in the undertow, just caught in the undertow Every step that I take is another mistake to you Caught in the undertow, just caught in the undertow And every second I waste is more than I can take! I've become so numb, I can't feel you there Become so tired, so much more aware By becoming this all I want to do Is be more like me and be less like you And I know I may end up failing too But I know you were just like me with someone disappointed in you I've become so numb, I can't feel you there Become so tired, so much more aware By becoming this all I want to do Is be more like me and be less like you I've become so numb, I can't feel you there I'm tired of being what you want me to be I've become so numb, I can't feel you there I'm tired of being what you want me to be\"\n",
        "\n",
        "# Lady Gaga - Poker Face\n",
        "musica_teste_en_pop = \"Mum-mum-mum-mah Mum-mum-mum-mah Mum-mum-mum-mah Mum-mum-mum-mah Mum-mum-mum-mah I wanna hold 'em like they do in Texas, please Fold 'em, let 'em hit me, raise it, baby, stay with me (I love it) Love game intuition, play the cards with spades to start And after he's been hooked, I'll play the one that's on his heart Oh, whoa, oh, oh Oh, oh oh I'll get him hot, show him what I've got Oh, whoa, oh, oh Oh, oh oh I'll get him hot, show him what I've got Can't read my, can't read my No, he can't read my poker face (She's got me like nobody) Can't read my, can't read my No, he can't read my poker face (She's got me like nobody) P-p-p-poker face, p-p-poker face (mum-mum-mum-mah) P-p-p-poker face, p-p-poker face (mum-mum-mum-mah) I wanna roll with him, a hard pair we will be (hey) A little gamblin' is fun when you're with me (I love it) Russian roulette is not the same without a gun And baby, when it's love, if it's not rough, it isn't fun (fun) Oh, whoa, oh, oh Oh, oh oh I'll get him hot, show him what I've got Oh, whoa, oh, oh Oh, oh oh I'll get him hot, show him what I've got Can't read my, can't read my No, he can't read my poker face (She's got me like nobody) Can't read my, can't read my No, he can't read my poker face (She's got me like nobody) P-p-p-poker face, p-p-poker face (mum-mum-mum-mah) P-p-p-poker face, p-p-poker face (mum-mum-mum-mah) (Mum-mum-mum-mah) (Mum-mum-mum-mah) I won't tell you that I love you, kiss or hug you 'Cause I'm bluffin' with my muffin I'm not lying, I'm just stunnin' with my love-glue-gunnin' Just like a chick in the casino Take your bank before I pay you out I promise this, promise this Check this hand 'cause I'm marvelous Can't read my, can't read my No, he can't read my poker face (She's got me like nobody) Can't read my, can't read my No, he can't read my poker face (She's got me like nobody) Can't read my, can't read my No, he can't read my poker face (She's got me like nobody) Can't read my, can't read my No, he can't read my poker face (She's got me like nobody) Can't read my, can't read my No, he can't read my poker face (She's got me like nobody) Can't read my, can't read my No, he can't read my poker face (She's got me like nobody) P-p-p-poker face, p-p-poker face P-p-p-poker face, p-p-poker face (She's got me like nobody) P-p-p-poker face, p-p-poker face (mum-mum-mum-mah) P-p-p-poker face, p-p-poker face (mum-mum-mum-mah) P-p-p-poker face, p-p-poker face (mum-mum-mum-mah) P-p-p-poker face, p-p-poker face (mum-mum-mum-mah)\"\n",
        "\n",
        "# Akon - Lonely\n",
        "musica_teste_en_hiphop = \"Lonely, I'm Mr. Lonely I have nobody for my own Oh, I'm so lonely I'm Mr. Lonely I have nobody for my own Oh, I'm so lonely Yo, this one here Goes out to all my players out there, man You know, that got that one good girl, dogg That's always been there, man Like, took all the bullshit But then one day she can't take it no more And decide to leave Yeah, I woke up in the middle of the night And I noticed my girl wasn't by my side Could've sworn I was dreamin' For her I was feenin' So I had to take a little ride Backtrackin' on these few years Tryna figure out what I do to make it go bad 'Cause ever since my girl left me My whole life came crashin', and I'm so Lonely (so lonely) I'm Mr. Lonely (Mr. Lonely) I have nobody (I have nobody) For my own (to call my own) girl Oh, I'm so lonely (so lonely) I'm Mr. Lonely (Mr. Lonely) I have nobody (I have nobody) For my own (to call my own) girl Oh, I'm so lonely Can't believe I had a girl like you And I just let you walk right out of my life After all I put you through You still stuck around and stayed by my side What really hurt me is I broke your heart Baby, you a good girl and I had no right I really wanna to make things right 'Cause without you in my life girl, I'm so Lonely (so lonely) I'm Mr. Lonely (Mr. Lonely) I have nobody (I have nobody) For my own (to call my own) girl Oh, I'm so lonely (so lonely) I'm Mr. Lonely (Mr. Lonely) I have nobody (I have nobody) For my own (to call my own, baby) Oh, I'm so lonely Been all over the world Ain't never met a girl That could take the things that you been through Never thought the day would come Where you would get up and run And I would be out chasin' you 'Cause ain't nowhere in the globe I'd rather be Ain't no one in the globe I'd rather see Than the girl of my dreams that made me be So happy, but now so lonely Lonely (so lonely) I'm Mr. Lonely (Mr. Lonely) I have nobody (I have nobody) For my own (to call my own) girl Oh, I'm so lonely (so lonely) I'm Mr. Lonely (Mr. Lonely) I have nobody (I have nobody) For my own (to call my own, baby) Oh, I'm so lonely Never thought that I'd be alone I didn't think you'd be gone this long I just want you to call my phone So stop playing girl and come on home (come on home) Baby girl I didn't mean to shout I want me and you to work it out I never wished to ever hurt my baby And it's drivin' me crazy, 'cause I'm so Lonely (so lonely) I'm Mr. Lonely (Mr. Lonely) I have nobody (I have nobody) For my own (to call my own) girl Oh, I'm so lonely (so lonely) I'm Mr. Lonely (Mr. Lonely) I have nobody (I have nobody) For my own (to call my own, baby) Oh, I'm so lonely So lonely, so lonely Mr. Lonely, so lonely So lonely, so lonely So lonely, Mr. Lonely\"\n",
        "\n",
        "lista_musicas_teste_en = [ musica_teste_en_rock, musica_teste_en_pop, musica_teste_en_hiphop ]\n",
        "\n",
        "teste_en = vectorizer_en.transform( lista_musicas_teste_en ).toarray()\n",
        "saida_teste_en = modelo_en.predict( teste_en )\n",
        "saida_teste_mex_en = np.argmax( saida_teste_en, axis=1 )\n",
        "saida_teste_traducao_en = [dataset_generos_rev.get(item,item) for item in saida_teste_mex_en]\n",
        "\n",
        "for i in range( quantidade_generos_en ):\n",
        "    print('Música de {0} o modelo preveu {1}'.format( list(dataset_generos.keys())[i], saida_teste_traducao_en[i] ))"
      ],
      "execution_count": null,
      "outputs": [
        {
          "output_type": "stream",
          "text": [
            "Música de Rock o modelo preveu Rock\n",
            "Música de Pop o modelo preveu Pop\n",
            "Música de Hip Hop o modelo preveu Pop\n"
          ],
          "name": "stdout"
        }
      ]
    },
    {
      "cell_type": "code",
      "metadata": {
        "id": "2_zZ9-zU4AgL",
        "colab_type": "code",
        "colab": {
          "base_uri": "https://localhost:8080/",
          "height": 406
        },
        "outputId": "ce01524c-f019-43d5-eb78-42e2ef6c80f9"
      },
      "source": [
        "primeira_camada_en = modelo_en.layers[0].name\n",
        "somatoria_pesos_en = np.sum(modelo_en.get_layer( primeira_camada_en ).get_weights()[0], axis=1)\n",
        "\n",
        "df_vetor_palavras_en = pd.DataFrame.from_dict(vectorizer_en.vocabulary_, orient='index', columns=['numero'])\n",
        "df_vetor_palavras_en['peso'] = somatoria_pesos_en\n",
        "\n",
        "df_vetor_palavras_en.sort_values(by=['peso'], ascending=False)"
      ],
      "execution_count": null,
      "outputs": [
        {
          "output_type": "execute_result",
          "data": {
            "text/html": [
              "<div>\n",
              "<style scoped>\n",
              "    .dataframe tbody tr th:only-of-type {\n",
              "        vertical-align: middle;\n",
              "    }\n",
              "\n",
              "    .dataframe tbody tr th {\n",
              "        vertical-align: top;\n",
              "    }\n",
              "\n",
              "    .dataframe thead th {\n",
              "        text-align: right;\n",
              "    }\n",
              "</style>\n",
              "<table border=\"1\" class=\"dataframe\">\n",
              "  <thead>\n",
              "    <tr style=\"text-align: right;\">\n",
              "      <th></th>\n",
              "      <th>numero</th>\n",
              "      <th>peso</th>\n",
              "    </tr>\n",
              "  </thead>\n",
              "  <tbody>\n",
              "    <tr>\n",
              "      <th>offbeat</th>\n",
              "      <td>79877</td>\n",
              "      <td>79.274055</td>\n",
              "    </tr>\n",
              "    <tr>\n",
              "      <th>game</th>\n",
              "      <td>44743</td>\n",
              "      <td>69.616493</td>\n",
              "    </tr>\n",
              "    <tr>\n",
              "      <th>jcarlosthil</th>\n",
              "      <td>59382</td>\n",
              "      <td>68.311104</td>\n",
              "    </tr>\n",
              "    <tr>\n",
              "      <th>grime</th>\n",
              "      <td>48481</td>\n",
              "      <td>67.685822</td>\n",
              "    </tr>\n",
              "    <tr>\n",
              "      <th>perkul</th>\n",
              "      <td>85242</td>\n",
              "      <td>67.650497</td>\n",
              "    </tr>\n",
              "    <tr>\n",
              "      <th>...</th>\n",
              "      <td>...</td>\n",
              "      <td>...</td>\n",
              "    </tr>\n",
              "    <tr>\n",
              "      <th>kaset</th>\n",
              "      <td>61116</td>\n",
              "      <td>-50.787788</td>\n",
              "    </tr>\n",
              "    <tr>\n",
              "      <th>splurging</th>\n",
              "      <td>105298</td>\n",
              "      <td>-52.086670</td>\n",
              "    </tr>\n",
              "    <tr>\n",
              "      <th>pimin</th>\n",
              "      <td>86182</td>\n",
              "      <td>-56.059128</td>\n",
              "    </tr>\n",
              "    <tr>\n",
              "      <th>werenâ</th>\n",
              "      <td>122899</td>\n",
              "      <td>-59.531796</td>\n",
              "    </tr>\n",
              "    <tr>\n",
              "      <th>otow</th>\n",
              "      <td>82153</td>\n",
              "      <td>-79.783470</td>\n",
              "    </tr>\n",
              "  </tbody>\n",
              "</table>\n",
              "<p>129314 rows × 2 columns</p>\n",
              "</div>"
            ],
            "text/plain": [
              "             numero       peso\n",
              "offbeat       79877  79.274055\n",
              "game          44743  69.616493\n",
              "jcarlosthil   59382  68.311104\n",
              "grime         48481  67.685822\n",
              "perkul        85242  67.650497\n",
              "...             ...        ...\n",
              "kaset         61116 -50.787788\n",
              "splurging    105298 -52.086670\n",
              "pimin         86182 -56.059128\n",
              "werenâ       122899 -59.531796\n",
              "otow          82153 -79.783470\n",
              "\n",
              "[129314 rows x 2 columns]"
            ]
          },
          "metadata": {
            "tags": []
          },
          "execution_count": 95
        }
      ]
    },
    {
      "cell_type": "code",
      "metadata": {
        "id": "jXy9WvlCiRIN",
        "colab_type": "code",
        "colab": {}
      },
      "source": [
        "modelo_pt.save_weights( caminho_drive + 'modelo_pt_{0}.h5'.format( agora ) )\n",
        "modelo_en.save_weights( caminho_drive + 'modelo_en_{0}.h5'.format( agora ) )"
      ],
      "execution_count": null,
      "outputs": []
    },
    {
      "cell_type": "markdown",
      "metadata": {
        "id": "EwJlc9ACfHDk",
        "colab_type": "text"
      },
      "source": [
        "Vamos agora testar outras tecnicas de machine learning para vermos se teremos um melhor resultado.\n",
        "\n",
        "Testaremos 3 outras tecnicas:\n",
        "- Multinomial Naive Bayes\n",
        "- SUpport Vector Machine\n",
        "- Gradient Boosting"
      ]
    },
    {
      "cell_type": "markdown",
      "metadata": {
        "id": "bEp-HQ8Wkiw5",
        "colab_type": "text"
      },
      "source": [
        "# TESTE MAIS RAPIDO"
      ]
    },
    {
      "cell_type": "code",
      "metadata": {
        "id": "5BF7CDgpTwn_",
        "colab_type": "code",
        "colab": {
          "base_uri": "https://localhost:8080/",
          "height": 52
        },
        "outputId": "75f2b14c-cbfd-49d5-9bcd-03f328591bdc"
      },
      "source": [
        "print('{0} -> inicio'.format(datetime.now() - timedelta(hours = 3)))\n",
        "inicio = time.time()\n",
        "\n",
        "artistas = pd.read_csv( caminho_drive + 'artists-data.csv' )\n",
        "letras = pd.read_csv( caminho_drive + 'lyrics-data.csv' )\n",
        "\n",
        "artistas = artistas[['Artist', 'Link', 'Genre']]\n",
        "letras = letras[['ALink', 'SName', 'Lyric', 'Idiom']]\n",
        "dataset = pd.merge( artistas, letras, left_on='Link', right_on='ALink' )\n",
        "dataset = dataset[['Artist', 'Genre', 'SName', 'Lyric', 'Idiom']]\n",
        "\n",
        "labels = dataset['Genre'].unique()\n",
        "\n",
        "dataset_generos = { 'Rock':0, 'Pop':1, 'Hip Hop':2, 'Sertanejo':3, 'Samba':4, 'Funk Carioca':5 }\n",
        "dataset_generos_rev = { 0:'Rock', 1:'Pop', 2:'Hip Hop', 3:'Sertanejo', 4:'Samba', 5:'Funk Carioca' }\n",
        "dataset['NR_Genre'] = dataset['Genre']\n",
        "dataset['NR_Genre'].replace( dataset_generos, inplace=True )\n",
        "\n",
        "dataset_pt = dataset[dataset['Idiom'] == 'PORTUGUESE']\n",
        "dataset_en = dataset[dataset['Idiom'] == 'ENGLISH']\n",
        "dataset_en = dataset_en[(dataset_en['Genre'] == 'Rock') | (dataset_en['Genre'] == 'Pop') | (dataset_en['Genre'] == 'Hip Hop')]\n",
        "\n",
        "quantidade_generos_pt = 6\n",
        "quantidade_generos_en = 3\n",
        "\n",
        "print('{0} -> fim , levou {1:.2f}s'.format(datetime.now() - timedelta(hours = 3), time.time() - inicio))"
      ],
      "execution_count": 5,
      "outputs": [
        {
          "output_type": "stream",
          "text": [
            "2020-06-27 12:59:08.547235 -> inicio\n",
            "2020-06-27 12:59:15.139543 -> fim , levou 6.59s\n"
          ],
          "name": "stdout"
        }
      ]
    },
    {
      "cell_type": "markdown",
      "metadata": {
        "id": "K4uIYoTBUtyX",
        "colab_type": "text"
      },
      "source": [
        "#PT"
      ]
    },
    {
      "cell_type": "code",
      "metadata": {
        "id": "CJXqUvPDUJfu",
        "colab_type": "code",
        "colab": {
          "base_uri": "https://localhost:8080/",
          "height": 52
        },
        "outputId": "4021b5d4-fa55-4069-dd37-95a5ac51b3fe"
      },
      "source": [
        "print('{0} -> inicio'.format(datetime.now() - timedelta(hours = 3)))\n",
        "inicio = time.time()\n",
        "\n",
        "letras_pt_agrupado = ''\n",
        "for i in range( dataset_pt.shape[0] ):\n",
        "    letras_pt_agrupado += dataset_pt.iloc[i]['Lyric']\n",
        "\n",
        "w_token_pt = word_tokenize( letras_pt_agrupado )\n",
        "\n",
        "print('{0} -> fim , levou {1:.2f}s'.format(datetime.now() - timedelta(hours = 3), time.time() - inicio))"
      ],
      "execution_count": 6,
      "outputs": [
        {
          "output_type": "stream",
          "text": [
            "2020-06-27 12:59:15.154411 -> inicio\n",
            "2020-06-27 13:03:20.901214 -> fim , levou 245.75s\n"
          ],
          "name": "stdout"
        }
      ]
    },
    {
      "cell_type": "code",
      "metadata": {
        "id": "fyT4ZaJaUOEu",
        "colab_type": "code",
        "colab": {
          "base_uri": "https://localhost:8080/",
          "height": 52
        },
        "outputId": "badb71d3-6db9-474d-8c9d-cbd74439f5e0"
      },
      "source": [
        "print('{0} -> inicio'.format(datetime.now() - timedelta(hours = 3)))\n",
        "inicio = time.time()\n",
        "\n",
        "stw_pt = stopwords.words('portuguese')\n",
        "pontuacao = list( punctuation )\n",
        "stopwords_pt = set( stw_pt + pontuacao ) #cria lista sem repetir elementos\n",
        "w_token_pt_sem_stopwords = [palavra for palavra in w_token_pt if palavra not in stopwords_pt]\n",
        "\n",
        "stemmer = RSLPStemmer()\n",
        "w_token_pt_sem_stopwords_stem = [stemmer.stem( palavra ) for palavra in w_token_pt_sem_stopwords]\n",
        "\n",
        "print('{0} -> fim , levou {1:.2f}s'.format(datetime.now() - timedelta(hours = 3), time.time() - inicio))"
      ],
      "execution_count": 7,
      "outputs": [
        {
          "output_type": "stream",
          "text": [
            "2020-06-27 13:03:20.916204 -> inicio\n",
            "2020-06-27 13:09:46.212087 -> fim , levou 385.30s\n"
          ],
          "name": "stdout"
        }
      ]
    },
    {
      "cell_type": "code",
      "metadata": {
        "id": "gNVFyAMwUWhB",
        "colab_type": "code",
        "colab": {
          "base_uri": "https://localhost:8080/",
          "height": 52
        },
        "outputId": "8524d1f0-2c75-4041-a617-d855e04812ad"
      },
      "source": [
        "print('{0} -> inicio'.format(datetime.now() - timedelta(hours = 3)))\n",
        "inicio = time.time()\n",
        "\n",
        "vectorizer_pt = CountVectorizer( analyzer='word' )\n",
        "vectorizer_pt.fit( w_token_pt_sem_stopwords_stem )\n",
        "tamanho_dicionario_pt = len(list(vectorizer_pt.vocabulary_))\n",
        "\n",
        "letras_pt = dataset_pt['Lyric'].values #X\n",
        "generos_pt = dataset_pt['NR_Genre'].values #Y\n",
        "\n",
        "generos_pt_dummy = np_utils.to_categorical(generos_pt)\n",
        "\n",
        "x_treino_pt, x_teste_pt, y_treino_pt, y_teste_pt = train_test_split( letras_pt, generos_pt_dummy, test_size=0.3, random_state=42 )\n",
        "x_vali_pt, x_teste_pt, y_vali_pt, y_teste_pt = train_test_split( x_teste_pt, y_teste_pt, test_size=0.5, random_state=42 )\n",
        "\n",
        "BOW_x_treino_pt = vectorizer_pt.transform( x_treino_pt )\n",
        "BOW_x_vali_pt = vectorizer_pt.transform( x_vali_pt )\n",
        "BOW_x_teste_pt = vectorizer_pt.transform( x_teste_pt )\n",
        "\n",
        "print('{0} -> fim , levou {1:.2f}s'.format(datetime.now() - timedelta(hours = 3), time.time() - inicio))"
      ],
      "execution_count": 8,
      "outputs": [
        {
          "output_type": "stream",
          "text": [
            "2020-06-27 13:09:46.232712 -> inicio\n",
            "2020-06-27 13:10:33.303149 -> fim , levou 47.07s\n"
          ],
          "name": "stdout"
        }
      ]
    },
    {
      "cell_type": "markdown",
      "metadata": {
        "id": "RQj56ctXUwMu",
        "colab_type": "text"
      },
      "source": [
        "#EN"
      ]
    },
    {
      "cell_type": "code",
      "metadata": {
        "id": "ntvBGQKMUvjW",
        "colab_type": "code",
        "colab": {
          "base_uri": "https://localhost:8080/",
          "height": 34
        },
        "outputId": "dc2e27b8-5a19-4fcb-fb56-154d86e59551"
      },
      "source": [
        "print('{0} -> inicio'.format(datetime.now() - timedelta(hours = 3)))\n",
        "inicio = time.time()\n",
        "\n",
        "letras_en_agrupado = ''\n",
        "for i in range( dataset_en.shape[0] ):\n",
        "    letras_en_agrupado += dataset_en.iloc[i]['Lyric']\n",
        "\n",
        "w_token_en = word_tokenize( letras_en_agrupado )\n",
        "\n",
        "print('{0} -> fim , levou {1:.2f}s'.format(datetime.now() - timedelta(hours = 3), time.time() - inicio))"
      ],
      "execution_count": null,
      "outputs": [
        {
          "output_type": "stream",
          "text": [
            "2020-06-27 13:19:21.224073 -> inicio\n"
          ],
          "name": "stdout"
        }
      ]
    },
    {
      "cell_type": "code",
      "metadata": {
        "id": "cwkOZswCVBiB",
        "colab_type": "code",
        "colab": {}
      },
      "source": [
        "print('{0} -> inicio'.format(datetime.now() - timedelta(hours = 3)))\n",
        "inicio = time.time()\n",
        "\n",
        "stw_en = stopwords.words('english')\n",
        "pontuacao = list( punctuation )\n",
        "stopwords_en = set( stw_en + pontuacao ) #cria lista sem repetir elementos\n",
        "w_token_en_sem_stopwords = [palavra for palavra in w_token_en if palavra not in stopwords_en]\n",
        "\n",
        "stemmer = RSLPStemmer()\n",
        "w_token_en_sem_stopwords_stem = [stemmer.stem( palavra ) for palavra in w_token_en_sem_stopwords]\n",
        "\n",
        "print('{0} -> fim , levou {1:.2f}s'.format(datetime.now() - timedelta(hours = 3), time.time() - inicio))"
      ],
      "execution_count": null,
      "outputs": []
    },
    {
      "cell_type": "code",
      "metadata": {
        "id": "cD7BukIAVIxQ",
        "colab_type": "code",
        "colab": {}
      },
      "source": [
        "print('{0} -> inicio'.format(datetime.now() - timedelta(hours = 3)))\n",
        "inicio = time.time()\n",
        "\n",
        "vectorizer_en = CountVectorizer( analyzer='word' )\n",
        "vectorizer_en.fit( w_token_en_sem_stopwords_stem )\n",
        "tamanho_dicionario_en = len(list(vectorizer_en.vocabulary_))\n",
        "\n",
        "letras_en = dataset_en['Lyric'].values #X\n",
        "generos_en = dataset_en['NR_Genre'].values #Y\n",
        "\n",
        "generos_en_dummy = np_utils.to_categorical(generos_en)\n",
        "\n",
        "x_treino_en, x_teste_en, y_treino_en, y_teste_en = train_test_split( letras_en, generos_en_dummy, test_size=0.3, random_state=42 )\n",
        "x_vali_en, x_teste_en, y_vali_en, y_teste_en = train_test_split( x_teste_en, y_teste_en, test_size=0.5, random_state=42 )\n",
        "\n",
        "BOW_x_treino_en = vectorizer_en.transform( x_treino_en )\n",
        "BOW_x_vali_en = vectorizer_en.transform( x_vali_en )\n",
        "BOW_x_teste_en = vectorizer_en.transform( x_teste_en )\n",
        "\n",
        "print('{0} -> fim , levou {1:.2f}s'.format(datetime.now() - timedelta(hours = 3), time.time() - inicio))"
      ],
      "execution_count": null,
      "outputs": []
    },
    {
      "cell_type": "code",
      "metadata": {
        "id": "Nzs-hNLCSvD6",
        "colab_type": "code",
        "colab": {}
      },
      "source": [
        "from sklearn.naive_bayes import MultinomialNB\n",
        "from sklearn import svm\n",
        "from sklearn.metrics import f1_score\n",
        "\n",
        "from xgboost import XGBClassifier"
      ],
      "execution_count": null,
      "outputs": []
    },
    {
      "cell_type": "code",
      "metadata": {
        "id": "JaM-Z8lOkGPn",
        "colab_type": "code",
        "colab": {}
      },
      "source": [
        "x_treino_pt, x_teste_pt, y_treino_pt, y_teste_pt = train_test_split( letras_pt, generos_pt, test_size=0.3, random_state=42 )\n",
        "x_vali_pt, x_teste_pt, y_vali_pt, y_teste_pt = train_test_split( x_teste_pt, y_teste_pt, test_size=0.5, random_state=42 )"
      ],
      "execution_count": null,
      "outputs": []
    },
    {
      "cell_type": "code",
      "metadata": {
        "id": "6X8QGhtamB3T",
        "colab_type": "code",
        "colab": {
          "base_uri": "https://localhost:8080/",
          "height": 34
        },
        "outputId": "1190b332-0046-491e-db99-48a8567e9ba5"
      },
      "source": [
        "nb_pt = MultinomialNB()\n",
        "nb_pt.fit( BOW_x_treino_pt, y_treino_pt )"
      ],
      "execution_count": null,
      "outputs": [
        {
          "output_type": "execute_result",
          "data": {
            "text/plain": [
              "MultinomialNB(alpha=1.0, class_prior=None, fit_prior=True)"
            ]
          },
          "metadata": {
            "tags": []
          },
          "execution_count": 18
        }
      ]
    },
    {
      "cell_type": "markdown",
      "metadata": {
        "id": "d2nzSzqWiqKH",
        "colab_type": "text"
      },
      "source": [
        "Para validar os algoritmos, usaremos a métrica de F1 score, que é uma junção da métrica de precisão e a métrica de recall.\n",
        "\n",
        "A métrica de precisão é a quantidade de verdadeiros positivos que o algoritmo previu, sobre a quantidade total de predições positivas, enquanto a métrica de recall é a quantidade de verdadeiros positivos, sobre a quantidade de exemplos que deveriam ser positivos."
      ]
    },
    {
      "cell_type": "code",
      "metadata": {
        "id": "1N8VLygQmJRQ",
        "colab_type": "code",
        "colab": {
          "base_uri": "https://localhost:8080/",
          "height": 70
        },
        "outputId": "5e130421-782d-4f55-c116-c87eed7d3cec"
      },
      "source": [
        "predicao_treino_pt = nb_pt.predict( BOW_x_treino_pt )\n",
        "predicao_vali_pt = nb_pt.predict( BOW_x_vali_pt )\n",
        "predicao_teste_pt = nb_pt.predict( BOW_x_teste_pt )\n",
        "\n",
        "print( f1_score( y_treino_pt, predicao_treino_pt, average='weighted' ) )\n",
        "print( f1_score( y_vali_pt, predicao_vali_pt, average='weighted' ) )\n",
        "print( f1_score( y_teste_pt, predicao_teste_pt, average='weighted' ) )"
      ],
      "execution_count": null,
      "outputs": [
        {
          "output_type": "stream",
          "text": [
            "0.6273797806353383\n",
            "0.5839240603163042\n",
            "0.5846584227196335\n"
          ],
          "name": "stdout"
        }
      ]
    },
    {
      "cell_type": "code",
      "metadata": {
        "id": "V69vvT0tmP-f",
        "colab_type": "code",
        "colab": {
          "base_uri": "https://localhost:8080/",
          "height": 87
        },
        "outputId": "fdd66bef-5751-47d9-ae94-1b0fb2fcd53b"
      },
      "source": [
        "svm_pt = svm.SVC()\n",
        "svm_pt.fit( BOW_x_treino_pt, y_treino_pt )"
      ],
      "execution_count": null,
      "outputs": [
        {
          "output_type": "execute_result",
          "data": {
            "text/plain": [
              "SVC(C=1.0, break_ties=False, cache_size=200, class_weight=None, coef0=0.0,\n",
              "    decision_function_shape='ovr', degree=3, gamma='scale', kernel='rbf',\n",
              "    max_iter=-1, probability=False, random_state=None, shrinking=True,\n",
              "    tol=0.001, verbose=False)"
            ]
          },
          "metadata": {
            "tags": []
          },
          "execution_count": 26
        }
      ]
    },
    {
      "cell_type": "code",
      "metadata": {
        "id": "tMr3-ra8mQ5n",
        "colab_type": "code",
        "colab": {
          "base_uri": "https://localhost:8080/",
          "height": 70
        },
        "outputId": "c905411c-0609-4b83-e215-c6699b80da21"
      },
      "source": [
        "predicao_treino_pt = svm_pt.predict( BOW_x_treino_pt )\n",
        "predicao_vali_pt = svm_pt.predict( BOW_x_vali_pt )\n",
        "predicao_teste_pt = svm_pt.predict( BOW_x_teste_pt )\n",
        "\n",
        "print( f1_score( y_treino_pt, predicao_treino_pt, average='weighted' ) )\n",
        "print( f1_score( y_vali_pt, predicao_vali_pt, average='weighted' ) )\n",
        "print( f1_score( y_teste_pt, predicao_teste_pt, average='weighted' ) )"
      ],
      "execution_count": null,
      "outputs": [
        {
          "output_type": "stream",
          "text": [
            "0.7279094843827587\n",
            "0.613097031279735\n",
            "0.6109263912710139\n"
          ],
          "name": "stdout"
        }
      ]
    },
    {
      "cell_type": "code",
      "metadata": {
        "id": "nj1R2fKVqZCK",
        "colab_type": "code",
        "colab": {
          "base_uri": "https://localhost:8080/",
          "height": 141
        },
        "outputId": "0274b1dd-02aa-452a-dd40-1237b7c908b5"
      },
      "source": [
        "xgb_clf_pt = xgb.XGBClassifier(learning_rate = 0.01,\n",
        "                         max_depth = 10, \n",
        "                         n_estimators = 1000,\n",
        "                         objective = 'binary:logistic',\n",
        "                         verbosity =0,\n",
        "                         seed = 42,\n",
        "                         reg_lambda = 8,\n",
        "                         reg_alpha = 2,\n",
        "                         gamma = 5,\n",
        "                         subsample= 0.8,\n",
        "                         #tree_method = 'gpu_hist'\n",
        "                         )\n",
        "xgb_clf_pt.fit( BOW_x_treino_pt, y_treino_pt )"
      ],
      "execution_count": null,
      "outputs": [
        {
          "output_type": "execute_result",
          "data": {
            "text/plain": [
              "XGBClassifier(base_score=0.5, booster='gbtree', colsample_bylevel=1,\n",
              "              colsample_bynode=1, colsample_bytree=1, gamma=5,\n",
              "              learning_rate=0.01, max_delta_step=0, max_depth=10,\n",
              "              min_child_weight=1, missing=None, n_estimators=1000, n_jobs=1,\n",
              "              nthread=None, objective='multi:softprob', random_state=0,\n",
              "              reg_alpha=2, reg_lambda=8, scale_pos_weight=1, seed=42,\n",
              "              silent=None, subsample=0.8, verbosity=0)"
            ]
          },
          "metadata": {
            "tags": []
          },
          "execution_count": 15
        }
      ]
    },
    {
      "cell_type": "code",
      "metadata": {
        "id": "WvjL1AwjrA7r",
        "colab_type": "code",
        "colab": {
          "base_uri": "https://localhost:8080/",
          "height": 70
        },
        "outputId": "eb5feda2-1a3c-40a6-d936-af38891290b5"
      },
      "source": [
        "predicao_treino_pt = xgb_clf_pt.predict( BOW_x_treino_pt )\n",
        "predicao_vali_pt = xgb_clf_pt.predict( BOW_x_vali_pt )\n",
        "predicao_teste_pt = xgb_clf_pt.predict( BOW_x_teste_pt )\n",
        "\n",
        "print( f1_score( y_treino_pt, predicao_treino_pt, average='weighted' ) )\n",
        "print( f1_score( y_vali_pt, predicao_vali_pt, average='weighted' ) )\n",
        "print( f1_score( y_teste_pt, predicao_teste_pt, average='weighted' ) )"
      ],
      "execution_count": null,
      "outputs": [
        {
          "output_type": "stream",
          "text": [
            "0.6302667054432052\n",
            "0.5761223215723886\n",
            "0.5770302598162361\n"
          ],
          "name": "stdout"
        }
      ]
    },
    {
      "cell_type": "markdown",
      "metadata": {
        "id": "NW8xq_M2hmFS",
        "colab_type": "text"
      },
      "source": [
        "No final dos testes podemos ver que o Support Vector Machine foi o melhor dos algoritmos.\n",
        "\n",
        "Com o objetivo de obter melhores resultados, o ideal seria obter mais dados para uma melhor predição dos modelos."
      ]
    }
  ]
}