{
  "nbformat": 4,
  "nbformat_minor": 0,
  "metadata": {
    "colab": {
      "name": "word_embeddings.ipynb",
      "provenance": []
    },
    "kernelspec": {
      "name": "python3",
      "display_name": "Python 3"
    }
  },
  "cells": [
    {
      "cell_type": "code",
      "metadata": {
        "id": "5MuRsJGPfd29",
        "colab_type": "code",
        "colab": {
          "base_uri": "https://localhost:8080/",
          "height": 34
        },
        "outputId": "3e41fec0-9061-46cd-aa6b-50aae8cdb34f"
      },
      "source": [
        "from google.colab import drive\n",
        "drive.mount('/content/drive')\n",
        "caminho_drive = '/content/drive/My Drive/colab/NLP/'"
      ],
      "execution_count": 1,
      "outputs": [
        {
          "output_type": "stream",
          "text": [
            "Drive already mounted at /content/drive; to attempt to forcibly remount, call drive.mount(\"/content/drive\", force_remount=True).\n"
          ],
          "name": "stdout"
        }
      ]
    },
    {
      "cell_type": "code",
      "metadata": {
        "id": "RGH4G1TnfnbC",
        "colab_type": "code",
        "colab": {}
      },
      "source": [
        "from gensim.models import Word2Vec\n",
        "from sklearn.manifold import TSNE\n",
        "from sklearn.decomposition import PCA\n",
        "import matplotlib.pyplot as plt\n",
        "import numpy as np"
      ],
      "execution_count": 2,
      "outputs": []
    },
    {
      "cell_type": "code",
      "metadata": {
        "id": "xrW4wWhP8c04",
        "colab_type": "code",
        "colab": {}
      },
      "source": [
        "sentences = [['isso', 'é', 'um', 'curso', 'muito', 'bom', 'de', 'NLP'],\n",
        "            ['isso', 'é', 'um', 'curso', 'NLP'],\n",
        "            ['Word2Vec', 'NLP', 'texto'],\n",
        "            ['palavra', 'embedding', 'NLP'],\n",
        "            ['NLP', 'curso', 'Word2Vec', 'embedding'],\n",
        "            ['cursos', 'NLP', 'são', 'legais'],\n",
        "            ['disciplina', 'deep', 'NLP', 'excelente']]"
      ],
      "execution_count": 3,
      "outputs": []
    },
    {
      "cell_type": "code",
      "metadata": {
        "id": "OkHxor3W8lIm",
        "colab_type": "code",
        "colab": {
          "base_uri": "https://localhost:8080/",
          "height": 34
        },
        "outputId": "ee4a5a62-569d-4e4c-e4a5-053f302cdf06"
      },
      "source": [
        "model = Word2Vec(sentences, min_count=1)\n",
        "print(model)"
      ],
      "execution_count": 4,
      "outputs": [
        {
          "output_type": "stream",
          "text": [
            "Word2Vec(vocab=18, size=100, alpha=0.025)\n"
          ],
          "name": "stdout"
        }
      ]
    },
    {
      "cell_type": "code",
      "metadata": {
        "id": "rsP7oL3P8mXW",
        "colab_type": "code",
        "colab": {
          "base_uri": "https://localhost:8080/",
          "height": 336
        },
        "outputId": "f4b5bf95-0019-4b2f-a572-1987eceb9ec1"
      },
      "source": [
        "list(model.wv.vocab)"
      ],
      "execution_count": 5,
      "outputs": [
        {
          "output_type": "execute_result",
          "data": {
            "text/plain": [
              "['isso',\n",
              " 'é',\n",
              " 'um',\n",
              " 'curso',\n",
              " 'muito',\n",
              " 'bom',\n",
              " 'de',\n",
              " 'NLP',\n",
              " 'Word2Vec',\n",
              " 'texto',\n",
              " 'palavra',\n",
              " 'embedding',\n",
              " 'cursos',\n",
              " 'são',\n",
              " 'legais',\n",
              " 'disciplina',\n",
              " 'deep',\n",
              " 'excelente']"
            ]
          },
          "metadata": {
            "tags": []
          },
          "execution_count": 5
        }
      ]
    },
    {
      "cell_type": "code",
      "metadata": {
        "id": "BWa9gspU9WVv",
        "colab_type": "code",
        "colab": {
          "base_uri": "https://localhost:8080/",
          "height": 514
        },
        "outputId": "667c807d-74f9-4ddd-d516-9dbd5dae94d3"
      },
      "source": [
        "model['isso']"
      ],
      "execution_count": 6,
      "outputs": [
        {
          "output_type": "stream",
          "text": [
            "/usr/local/lib/python3.6/dist-packages/ipykernel_launcher.py:1: DeprecationWarning: Call to deprecated `__getitem__` (Method will be removed in 4.0.0, use self.wv.__getitem__() instead).\n",
            "  \"\"\"Entry point for launching an IPython kernel.\n"
          ],
          "name": "stderr"
        },
        {
          "output_type": "execute_result",
          "data": {
            "text/plain": [
              "array([ 2.9437644e-03, -4.4292537e-03,  2.9994373e-03, -4.8466711e-03,\n",
              "        3.4115466e-03, -2.1423232e-03, -1.4379313e-03, -4.7551273e-04,\n",
              "        4.4187331e-03, -2.5540646e-03,  2.8800431e-03,  1.1027703e-04,\n",
              "        9.1060670e-04, -1.0564062e-03,  4.8185438e-03,  3.1742356e-03,\n",
              "        1.0574700e-03, -2.2218858e-03, -3.4163266e-03,  4.6143807e-03,\n",
              "        1.7577052e-03, -4.8408555e-03, -3.2014654e-03,  1.1080003e-03,\n",
              "       -4.0648608e-03,  5.9149065e-04,  1.4124153e-03, -4.7684694e-03,\n",
              "        1.2562046e-03,  1.7961087e-05,  5.5090047e-04,  2.4240988e-03,\n",
              "       -2.0805933e-03, -4.1774693e-03, -4.2450638e-03, -4.0559946e-03,\n",
              "       -4.4511701e-03, -4.4201468e-03,  2.9776779e-03, -4.2962730e-03,\n",
              "        3.6308262e-03, -2.3499336e-03,  4.5913840e-03,  3.0973130e-03,\n",
              "       -3.9730258e-03,  1.0818214e-03, -3.2780517e-03, -1.7729004e-04,\n",
              "       -3.0056671e-03,  4.6368870e-03, -2.0901791e-03, -1.5083321e-03,\n",
              "        6.8605097e-04, -4.3884860e-04,  4.0152655e-03, -4.7027235e-04,\n",
              "       -4.6931850e-03, -2.3367035e-03,  3.8824442e-03, -2.2127695e-05,\n",
              "       -5.0162704e-04, -3.2737078e-03,  4.0261564e-03, -1.1157271e-03,\n",
              "        2.1043781e-03, -2.1847954e-03, -3.2051934e-03,  1.6212378e-05,\n",
              "        3.7314843e-03, -3.2541302e-03, -2.7598131e-03,  3.0912887e-04,\n",
              "       -5.0987792e-04, -1.1738589e-03,  4.0550567e-03,  1.9114945e-03,\n",
              "       -3.9290534e-03,  4.1687419e-03,  3.9623966e-03, -2.8226734e-03,\n",
              "        2.8591047e-03, -4.7017792e-03,  2.0300807e-03, -4.4713183e-03,\n",
              "       -1.1178488e-03,  3.0594703e-03,  4.4155912e-03,  3.1033584e-03,\n",
              "       -4.8271185e-03, -2.3627044e-03, -4.2703352e-03,  2.8738819e-04,\n",
              "        3.6347164e-03,  1.3157198e-03,  1.5236409e-03, -2.5037986e-03,\n",
              "        4.1825539e-03, -1.5376590e-03, -2.0895035e-03,  3.4350685e-03],\n",
              "      dtype=float32)"
            ]
          },
          "metadata": {
            "tags": []
          },
          "execution_count": 6
        }
      ]
    },
    {
      "cell_type": "code",
      "metadata": {
        "id": "UgocaJA09Y3g",
        "colab_type": "code",
        "colab": {
          "base_uri": "https://localhost:8080/",
          "height": 265
        },
        "outputId": "6a3e53dd-1c9d-4aa0-dfed-185bfca4ca71"
      },
      "source": [
        "model.most_similar( 'cursos' )"
      ],
      "execution_count": 7,
      "outputs": [
        {
          "output_type": "stream",
          "text": [
            "/usr/local/lib/python3.6/dist-packages/ipykernel_launcher.py:1: DeprecationWarning: Call to deprecated `most_similar` (Method will be removed in 4.0.0, use self.wv.most_similar() instead).\n",
            "  \"\"\"Entry point for launching an IPython kernel.\n",
            "/usr/local/lib/python3.6/dist-packages/gensim/matutils.py:737: FutureWarning: Conversion of the second argument of issubdtype from `int` to `np.signedinteger` is deprecated. In future, it will be treated as `np.int64 == np.dtype(int).type`.\n",
            "  if np.issubdtype(vec.dtype, np.int):\n"
          ],
          "name": "stderr"
        },
        {
          "output_type": "execute_result",
          "data": {
            "text/plain": [
              "[('excelente', 0.1137191653251648),\n",
              " ('bom', 0.10082967579364777),\n",
              " ('deep', 0.072421133518219),\n",
              " ('embedding', 0.05538754165172577),\n",
              " ('texto', 0.033829186111688614),\n",
              " ('NLP', -0.00018002837896347046),\n",
              " ('de', -0.025770938023924828),\n",
              " ('palavra', -0.03913131356239319),\n",
              " ('Word2Vec', -0.04256255179643631),\n",
              " ('legais', -0.055140696465969086)]"
            ]
          },
          "metadata": {
            "tags": []
          },
          "execution_count": 7
        }
      ]
    },
    {
      "cell_type": "markdown",
      "metadata": {
        "id": "vw8Q7jayAuMn",
        "colab_type": "text"
      },
      "source": [
        "#Visualização"
      ]
    },
    {
      "cell_type": "code",
      "metadata": {
        "id": "C8jl9qoT--I1",
        "colab_type": "code",
        "colab": {
          "base_uri": "https://localhost:8080/",
          "height": 52
        },
        "outputId": "9ea8442a-94f7-475f-e577-2970142b72c7"
      },
      "source": [
        "X = model[model.wv.vocab]"
      ],
      "execution_count": 8,
      "outputs": [
        {
          "output_type": "stream",
          "text": [
            "/usr/local/lib/python3.6/dist-packages/ipykernel_launcher.py:1: DeprecationWarning: Call to deprecated `__getitem__` (Method will be removed in 4.0.0, use self.wv.__getitem__() instead).\n",
            "  \"\"\"Entry point for launching an IPython kernel.\n"
          ],
          "name": "stderr"
        }
      ]
    },
    {
      "cell_type": "code",
      "metadata": {
        "id": "oiwr10zi--M-",
        "colab_type": "code",
        "colab": {
          "base_uri": "https://localhost:8080/",
          "height": 34
        },
        "outputId": "025369e1-6dbb-468a-dd5d-a04816ce0024"
      },
      "source": [
        "X.shape"
      ],
      "execution_count": 9,
      "outputs": [
        {
          "output_type": "execute_result",
          "data": {
            "text/plain": [
              "(18, 100)"
            ]
          },
          "metadata": {
            "tags": []
          },
          "execution_count": 9
        }
      ]
    },
    {
      "cell_type": "code",
      "metadata": {
        "id": "TPenGBWb9zRk",
        "colab_type": "code",
        "colab": {}
      },
      "source": [
        "pca = PCA(n_components=2)\n",
        "result = pca.fit_transform(X)"
      ],
      "execution_count": 10,
      "outputs": []
    },
    {
      "cell_type": "code",
      "metadata": {
        "id": "xpX98ZEX9z04",
        "colab_type": "code",
        "colab": {
          "base_uri": "https://localhost:8080/",
          "height": 264
        },
        "outputId": "2e2e2c8b-29ee-4220-e92c-e3b01df5f8f5"
      },
      "source": [
        "plt.scatter(result[:, 0], result[:, 1])\n",
        "words = list(model.wv.vocab)\n",
        "for i, word in enumerate(words):\n",
        "    plt.annotate(word, xy=(result[i, 0], result[i, 1]))\n",
        "plt.show()"
      ],
      "execution_count": 11,
      "outputs": [
        {
          "output_type": "display_data",
          "data": {
            "image/png": "[encoded data removed]",
            "text/plain": [
              "<Figure size 432x288 with 1 Axes>"
            ]
          },
          "metadata": {
            "tags": [],
            "needs_background": "light"
          }
        }
      ]
    },
    {
      "cell_type": "markdown",
      "metadata": {
        "id": "tSVFmP0zAMlF",
        "colab_type": "text"
      },
      "source": [
        "#Carregando modelo NILC\n",
        "\n",
        "http://www.nilc.icmc.usp.br/embeddings"
      ]
    },
    {
      "cell_type": "code",
      "metadata": {
        "id": "3DxKxkyx9z4W",
        "colab_type": "code",
        "colab": {
          "base_uri": "https://localhost:8080/",
          "height": 72
        },
        "outputId": "e5ec6133-d55f-4ed1-8416-4a7a3bc82b84"
      },
      "source": [
        "from gensim.models import KeyedVectors\n",
        "\n",
        "model = KeyedVectors.load_word2vec_format( caminho_drive + 'cbow_s100.txt' )"
      ],
      "execution_count": 15,
      "outputs": [
        {
          "output_type": "stream",
          "text": [
            "/usr/local/lib/python3.6/dist-packages/smart_open/smart_open_lib.py:253: UserWarning: This function is deprecated, use smart_open.open instead. See the migration notes for details: https://github.com/RaRe-Technologies/smart_open/blob/master/README.rst#migrating-to-the-new-open-function\n",
            "  'See the migration notes for details: %s' % _MIGRATION_NOTES_URL\n"
          ],
          "name": "stderr"
        }
      ]
    },
    {
      "cell_type": "code",
      "metadata": {
        "id": "bgLGjJ5y9z6y",
        "colab_type": "code",
        "colab": {
          "base_uri": "https://localhost:8080/",
          "height": 230
        },
        "outputId": "db7679b2-4e73-4a1b-a321-e82904150d1f"
      },
      "source": [
        "model.most_similar( 'um' )"
      ],
      "execution_count": 16,
      "outputs": [
        {
          "output_type": "stream",
          "text": [
            "/usr/local/lib/python3.6/dist-packages/gensim/matutils.py:737: FutureWarning: Conversion of the second argument of issubdtype from `int` to `np.signedinteger` is deprecated. In future, it will be treated as `np.int64 == np.dtype(int).type`.\n",
            "  if np.issubdtype(vec.dtype, np.int):\n"
          ],
          "name": "stderr"
        },
        {
          "output_type": "execute_result",
          "data": {
            "text/plain": [
              "[('aquele', 0.700981080532074),\n",
              " ('\\x93um', 0.6995958089828491),\n",
              " ('\\u200b\\u200bum', 0.6981390714645386),\n",
              " ('«um', 0.6852110028266907),\n",
              " ('esse', 0.6715439558029175),\n",
              " ('o', 0.6603140830993652),\n",
              " ('úm', 0.6545041799545288),\n",
              " ('igualmenteum', 0.6494402289390564),\n",
              " ('nenhum', 0.6479946374893188),\n",
              " ('lusaum', 0.6372602581977844)]"
            ]
          },
          "metadata": {
            "tags": []
          },
          "execution_count": 16
        }
      ]
    },
    {
      "cell_type": "code",
      "metadata": {
        "id": "P_40zsKT9z9i",
        "colab_type": "code",
        "colab": {
          "base_uri": "https://localhost:8080/",
          "height": 230
        },
        "outputId": "49e1b04d-5f99-421a-90c9-6da1e1587195"
      },
      "source": [
        "model.most_similar( 'dois' )"
      ],
      "execution_count": 17,
      "outputs": [
        {
          "output_type": "stream",
          "text": [
            "/usr/local/lib/python3.6/dist-packages/gensim/matutils.py:737: FutureWarning: Conversion of the second argument of issubdtype from `int` to `np.signedinteger` is deprecated. In future, it will be treated as `np.int64 == np.dtype(int).type`.\n",
            "  if np.issubdtype(vec.dtype, np.int):\n"
          ],
          "name": "stderr"
        },
        {
          "output_type": "execute_result",
          "data": {
            "text/plain": [
              "[('três', 0.8419844508171082),\n",
              " ('quatro', 0.820443868637085),\n",
              " ('cinco', 0.806233286857605),\n",
              " ('seis', 0.8033179044723511),\n",
              " ('oito', 0.8033105731010437),\n",
              " ('sete', 0.7971540093421936),\n",
              " ('quatros', 0.78400719165802),\n",
              " ('nove', 0.7836145162582397),\n",
              " ('dez', 0.7832129597663879),\n",
              " ('onze', 0.7791332006454468)]"
            ]
          },
          "metadata": {
            "tags": []
          },
          "execution_count": 17
        }
      ]
    },
    {
      "cell_type": "code",
      "metadata": {
        "id": "ih-MVj9U9z_7",
        "colab_type": "code",
        "colab": {
          "base_uri": "https://localhost:8080/",
          "height": 230
        },
        "outputId": "307a2561-d1c8-42ec-eb71-e2577d7e7bc5"
      },
      "source": [
        "model.most_similar( 'puta' )"
      ],
      "execution_count": 18,
      "outputs": [
        {
          "output_type": "stream",
          "text": [
            "/usr/local/lib/python3.6/dist-packages/gensim/matutils.py:737: FutureWarning: Conversion of the second argument of issubdtype from `int` to `np.signedinteger` is deprecated. In future, it will be treated as `np.int64 == np.dtype(int).type`.\n",
            "  if np.issubdtype(vec.dtype, np.int):\n"
          ],
          "name": "stderr"
        },
        {
          "output_type": "execute_result",
          "data": {
            "text/plain": [
              "[('cachorra', 0.6375849843025208),\n",
              " ('tarada', 0.5960276126861572),\n",
              " ('quenga', 0.5869368314743042),\n",
              " ('besta', 0.5798031687736511),\n",
              " ('porra', 0.5741931200027466),\n",
              " ('vadia', 0.5711554288864136),\n",
              " ('mamã£.', 0.5686336755752563),\n",
              " ('lesma', 0.5641306638717651),\n",
              " ('sanguessuga', 0.5635169744491577),\n",
              " ('sapatão', 0.5632981061935425)]"
            ]
          },
          "metadata": {
            "tags": []
          },
          "execution_count": 18
        }
      ]
    },
    {
      "cell_type": "code",
      "metadata": {
        "id": "dsFdoh3OBlkP",
        "colab_type": "code",
        "colab": {
          "base_uri": "https://localhost:8080/",
          "height": 230
        },
        "outputId": "17db2a4b-242b-400b-aacf-8519978fa8d7"
      },
      "source": [
        "model.most_similar( positive=[ 'homem', 'ladrão' ] )"
      ],
      "execution_count": 19,
      "outputs": [
        {
          "output_type": "stream",
          "text": [
            "/usr/local/lib/python3.6/dist-packages/gensim/matutils.py:737: FutureWarning: Conversion of the second argument of issubdtype from `int` to `np.signedinteger` is deprecated. In future, it will be treated as `np.int64 == np.dtype(int).type`.\n",
            "  if np.issubdtype(vec.dtype, np.int):\n"
          ],
          "name": "stderr"
        },
        {
          "output_type": "execute_result",
          "data": {
            "text/plain": [
              "[('rapaz', 0.9090147018432617),\n",
              " ('bandido', 0.8781195878982544),\n",
              " ('assaltante', 0.8662614822387695),\n",
              " ('garoto', 0.830012321472168),\n",
              " ('taxista', 0.8289758563041687),\n",
              " ('cão', 0.8237225413322449),\n",
              " ('atirador', 0.8226835131645203),\n",
              " ('mendigo', 0.8156789541244507),\n",
              " ('ogro', 0.814790666103363),\n",
              " ('menino', 0.8118487596511841)]"
            ]
          },
          "metadata": {
            "tags": []
          },
          "execution_count": 19
        }
      ]
    },
    {
      "cell_type": "code",
      "metadata": {
        "id": "5H9eyNluCF7u",
        "colab_type": "code",
        "colab": {
          "base_uri": "https://localhost:8080/",
          "height": 230
        },
        "outputId": "575dbe4a-7e3e-4df0-816c-9dd3dcde1b64"
      },
      "source": [
        "model.most_similar( positive=[ 'mulher', 'rei' ], negative=[ 'homem' ] )"
      ],
      "execution_count": 20,
      "outputs": [
        {
          "output_type": "stream",
          "text": [
            "/usr/local/lib/python3.6/dist-packages/gensim/matutils.py:737: FutureWarning: Conversion of the second argument of issubdtype from `int` to `np.signedinteger` is deprecated. In future, it will be treated as `np.int64 == np.dtype(int).type`.\n",
            "  if np.issubdtype(vec.dtype, np.int):\n"
          ],
          "name": "stderr"
        },
        {
          "output_type": "execute_result",
          "data": {
            "text/plain": [
              "[('esposa', 0.688875675201416),\n",
              " ('filha', 0.6741011142730713),\n",
              " ('governanta', 0.6724554896354675),\n",
              " ('sobrinha', 0.669994056224823),\n",
              " ('madrasta', 0.6670832633972168),\n",
              " ('concubina', 0.6659663915634155),\n",
              " ('dama-de-companhia', 0.6614803075790405),\n",
              " ('benção', 0.659320056438446),\n",
              " ('múmia', 0.6535747051239014),\n",
              " ('bênção', 0.6500141620635986)]"
            ]
          },
          "metadata": {
            "tags": []
          },
          "execution_count": 20
        }
      ]
    },
    {
      "cell_type": "code",
      "metadata": {
        "id": "4WPlSfRECqNW",
        "colab_type": "code",
        "colab": {
          "base_uri": "https://localhost:8080/",
          "height": 230
        },
        "outputId": "fcc7f7cc-1f6e-4dd1-b462-6ae3a42311cb"
      },
      "source": [
        "model.most_similar( positive=[ 'homem', 'sexo', 'mulher' ] )"
      ],
      "execution_count": 21,
      "outputs": [
        {
          "output_type": "stream",
          "text": [
            "/usr/local/lib/python3.6/dist-packages/gensim/matutils.py:737: FutureWarning: Conversion of the second argument of issubdtype from `int` to `np.signedinteger` is deprecated. In future, it will be treated as `np.int64 == np.dtype(int).type`.\n",
            "  if np.issubdtype(vec.dtype, np.int):\n"
          ],
          "name": "stderr"
        },
        {
          "output_type": "execute_result",
          "data": {
            "text/plain": [
              "[('adolescente', 0.7359200119972229),\n",
              " ('travesti', 0.6946176290512085),\n",
              " ('amante', 0.6931555271148682),\n",
              " ('garoto', 0.6765562295913696),\n",
              " ('toxicodependente', 0.6692215204238892),\n",
              " ('rapaz', 0.6656990051269531),\n",
              " ('carcereiro', 0.6603147983551025),\n",
              " ('indivíduo', 0.6593289375305176),\n",
              " ('delinquente', 0.658284068107605),\n",
              " ('abusador', 0.6579267382621765)]"
            ]
          },
          "metadata": {
            "tags": []
          },
          "execution_count": 21
        }
      ]
    },
    {
      "cell_type": "code",
      "metadata": {
        "id": "fWIDd-fhDm8_",
        "colab_type": "code",
        "colab": {
          "base_uri": "https://localhost:8080/",
          "height": 230
        },
        "outputId": "3660b2c2-7d3c-4d7d-c90a-cde8b9d03e99"
      },
      "source": [
        "model.most_similar( positive=[ 'homem', 'sexo' ] )"
      ],
      "execution_count": 23,
      "outputs": [
        {
          "output_type": "stream",
          "text": [
            "/usr/local/lib/python3.6/dist-packages/gensim/matutils.py:737: FutureWarning: Conversion of the second argument of issubdtype from `int` to `np.signedinteger` is deprecated. In future, it will be treated as `np.int64 == np.dtype(int).type`.\n",
            "  if np.issubdtype(vec.dtype, np.int):\n"
          ],
          "name": "stderr"
        },
        {
          "output_type": "execute_result",
          "data": {
            "text/plain": [
              "[('indivíduo', 0.7480214834213257),\n",
              " ('delinquente', 0.743060827255249),\n",
              " ('estereótipo', 0.7329531908035278),\n",
              " ('rapaz', 0.7304186224937439),\n",
              " ('garoto', 0.7182210683822632),\n",
              " ('agressor', 0.7025691270828247),\n",
              " ('abusador', 0.7016667127609253),\n",
              " ('assassino', 0.6969007849693298),\n",
              " ('menino', 0.6949894428253174),\n",
              " ('devaneio', 0.6884657144546509)]"
            ]
          },
          "metadata": {
            "tags": []
          },
          "execution_count": 23
        }
      ]
    },
    {
      "cell_type": "code",
      "metadata": {
        "id": "gpa4TPzyER7S",
        "colab_type": "code",
        "colab": {
          "base_uri": "https://localhost:8080/",
          "height": 230
        },
        "outputId": "d40c1b10-ce41-4421-e4ca-13e4349dd3c4"
      },
      "source": [
        "model.most_similar( positive=[ 'mulher', 'gay' ] )"
      ],
      "execution_count": 24,
      "outputs": [
        {
          "output_type": "stream",
          "text": [
            "/usr/local/lib/python3.6/dist-packages/gensim/matutils.py:737: FutureWarning: Conversion of the second argument of issubdtype from `int` to `np.signedinteger` is deprecated. In future, it will be treated as `np.int64 == np.dtype(int).type`.\n",
            "  if np.issubdtype(vec.dtype, np.int):\n"
          ],
          "name": "stderr"
        },
        {
          "output_type": "execute_result",
          "data": {
            "text/plain": [
              "[('cafetina', 0.739840030670166),\n",
              " ('garota', 0.7370715737342834),\n",
              " ('prostituta', 0.7301627397537231),\n",
              " ('stripper', 0.7103753685951233),\n",
              " ('lésbica', 0.700650691986084),\n",
              " ('bruxa', 0.6903043389320374),\n",
              " ('cachorra', 0.6830947399139404),\n",
              " ('rapariga', 0.6784197092056274),\n",
              " ('menina', 0.6718288660049438),\n",
              " ('garçonete', 0.6716513633728027)]"
            ]
          },
          "metadata": {
            "tags": []
          },
          "execution_count": 24
        }
      ]
    },
    {
      "cell_type": "code",
      "metadata": {
        "id": "qJ4vQQGHErg_",
        "colab_type": "code",
        "colab": {
          "base_uri": "https://localhost:8080/",
          "height": 230
        },
        "outputId": "f438ecf7-d0e0-4a2d-b4f2-7485b5179213"
      },
      "source": [
        "model.most_similar( 'deus' )"
      ],
      "execution_count": 29,
      "outputs": [
        {
          "output_type": "stream",
          "text": [
            "/usr/local/lib/python3.6/dist-packages/gensim/matutils.py:737: FutureWarning: Conversion of the second argument of issubdtype from `int` to `np.signedinteger` is deprecated. In future, it will be treated as `np.int64 == np.dtype(int).type`.\n",
            "  if np.issubdtype(vec.dtype, np.int):\n"
          ],
          "name": "stderr"
        },
        {
          "output_type": "execute_result",
          "data": {
            "text/plain": [
              "[('satanás', 0.707493007183075),\n",
              " ('alá', 0.6760026216506958),\n",
              " ('tupá', 0.6731401681900024),\n",
              " ('cristo', 0.6705402135848999),\n",
              " ('cardênio', 0.6607985496520996),\n",
              " ('dioniso', 0.6599113345146179),\n",
              " ('amor', 0.6591964960098267),\n",
              " ('javé', 0.6569312810897827),\n",
              " ('esculápio', 0.6446376442909241),\n",
              " ('sacrifício', 0.6418895721435547)]"
            ]
          },
          "metadata": {
            "tags": []
          },
          "execution_count": 29
        }
      ]
    }
  ]
}