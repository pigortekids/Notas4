{
  "nbformat": 4,
  "nbformat_minor": 0,
  "metadata": {
    "coursera": {
      "course_slug": "deep-neural-network",
      "graded_item_id": "SXQaI",
      "launcher_item_id": "UAwhh"
    },
    "kernelspec": {
      "display_name": "Python 3",
      "language": "python",
      "name": "python3"
    },
    "language_info": {
      "codemirror_mode": {
        "name": "ipython",
        "version": 3
      },
      "file_extension": ".py",
      "mimetype": "text/x-python",
      "name": "python",
      "nbconvert_exporter": "python",
      "pygments_lexer": "ipython3",
      "version": "3.7.4"
    },
    "colab": {
      "name": "T6_Classificacao_multiclasse.ipynb",
      "provenance": [],
      "toc_visible": true
    }
  },
  "cells": [
    {
      "cell_type": "markdown",
      "metadata": {
        "id": "h0JB1tmjtBc7",
        "colab_type": "text"
      },
      "source": [
        "# Trabalho #6 - Classificação de Múltiplas Classes\n",
        "\n",
        "Nesse trabalho você vai desenvolver uma rede neural tipo densa usando a plataforma TensorFlow-Keras para realizar uma tarefa de classificação de múltiplas classes.\n",
        "\n",
        "A tarefa de classificação desse trabalho consiste na identificação de sinais de mão a partir de imagens. \n",
        "\n",
        "Essa mesma tarefa você vai realizar novamente no próximo trabalho mas usando uma rede neural tipo convolucional para verificar a diferença de desempenho das redes neurais tipo densa e convolucional para processar imagens. "
      ]
    },
    {
      "cell_type": "markdown",
      "metadata": {
        "id": "OxbRmUm1tBc-",
        "colab_type": "text"
      },
      "source": [
        "## Coloque os nomes e RAs dos alunos que fizeram esse trabalho\n",
        "\n",
        "Nome e número dos alunos da equipe:\n",
        "\n",
        "Aluno 1: Igor Amaral Correa 20.83992-8\n",
        "\n",
        "Aluno 2: \n"
      ]
    },
    {
      "cell_type": "markdown",
      "metadata": {
        "id": "FvKCaXOytBc_",
        "colab_type": "text"
      },
      "source": [
        "Em primeiro lugar é necessário importar alguns pacotes do Python que serão usados nesse trabalho:\n",
        "- [numpy](www.numpy.org) pacote de cálculo científico com Python\n",
        "- [matplotlib](http://matplotlib.org) biblioteca para gerar gráficos em Python\n",
        "- utils.py função para ler banco de dados "
      ]
    },
    {
      "cell_type": "code",
      "metadata": {
        "id": "5J1gqgFXtBdB",
        "colab_type": "code",
        "colab": {}
      },
      "source": [
        "import numpy as np\n",
        "import h5py\n",
        "import matplotlib.pyplot as plt\n",
        "from utils import *\n",
        "\n",
        "%matplotlib inline"
      ],
      "execution_count": 0,
      "outputs": []
    },
    {
      "cell_type": "markdown",
      "metadata": {
        "collapsed": true,
        "id": "MgYIQh03tBdG",
        "colab_type": "text"
      },
      "source": [
        "## 1 - Visão geral do problema ##\n",
        "\n",
        "**Definição do problema**: \n",
        "\n",
        "O objetivo desse problema é desenvolver uma RNA que recebe como entrada uma imagem de sinais de mão e avalia a probabilidade dos dedos da mão mostrarem um número de 0 a 5 e determina qual o número mais provável entre os seis possíveis.\n",
        "\n",
        "O banco de dados usado nesse trabalho é SIGNS, que consiste de imagens de sinais de mão criado por Andre Ng (deeplearning.ai). Esse banco de dados pode ser obtido no link: https://github.com/cs230-stanford/cs230-code-examples/tree/master/tensorflow/vision\n",
        "\n",
        "O banco de dados possui 1080 exemplos de treinamento e 120 exemplos de teste. Cada exemplo consiste de uma imagem colorida associada a um rótulo de 6 classes. A Figura abaixo mostra alguns exemplos dessas imagens.\n",
        "\n",
        "<img src=\"https://github.com/pigortekids/Notas4/blob/master/T6/SIGNS.png?raw=1\" style=\"width:800px;height:300px;\">"
      ]
    },
    {
      "cell_type": "markdown",
      "metadata": {
        "id": "oct-izqStBdG",
        "colab_type": "text"
      },
      "source": [
        "## 2 - Dados de treinamento\n",
        "\n",
        "Os dados que iremos utilizar nesse trabalho estão nos arquivos train_signs.h5 e test_signs.h5.\n",
        "\n",
        "Características dos dados:\n",
        "\n",
        "- As imagens são coloridas e estão no padrão RGB;\n",
        "- Cada imagem tem 64 pixels de altura e 64 pixels de largura;\n",
        "- O valor da intensidade luminosa de cada cor é um número inteiro entre 0 e 255;\n",
        "- As saídas representam o rótulo do sinal de mão mostrado na imagem, sendo um número inteiro de 0 a 5. \n",
        "\n",
        "\n",
        "\n",
        "### 2.1 - Leitura dos dados\n",
        "\n",
        "Para iniciar o trabalho é necessário ler o arquivo de dados. Assim, execute o código da célula abaixo para ler o arquivo de dados."
      ]
    },
    {
      "cell_type": "code",
      "metadata": {
        "id": "CHBzfYT4tBdH",
        "colab_type": "code",
        "colab": {
          "base_uri": "https://localhost:8080/",
          "height": 51
        },
        "outputId": "379ecd66-5d1d-4616-c369-a84d05bd6014"
      },
      "source": [
        "# Leitura do arquivo de dados\n",
        "X_train_orig, Y_train_orig, X_test_orig, Y_test_orig, classes = load_dataset()\n",
        "print(\"X_train shape:\", X_train_orig.shape, \"y_train shape:\", Y_train_orig.shape)\n",
        "print(\"X_test shape:\", X_test_orig.shape, \"y_test shape:\", Y_test_orig.shape)"
      ],
      "execution_count": 4,
      "outputs": [
        {
          "output_type": "stream",
          "text": [
            "X_train shape: (1080, 64, 64, 3) y_train shape: (1, 1080)\n",
            "X_test shape: (120, 64, 64, 3) y_test shape: (1, 120)\n"
          ],
          "name": "stdout"
        }
      ]
    },
    {
      "cell_type": "markdown",
      "metadata": {
        "id": "efsvEvg7tBdN",
        "colab_type": "text"
      },
      "source": [
        "Pela dimensão dos tensores com os dados de treinamento e teste temos:\n",
        "\n",
        "- 1080 imagens de treinamento com dimensão de 64 por 64 por 3 pixels;\n",
        "- 120 imagens de teste com dimensão de 64 por 64 por 3 pixels.\n"
      ]
    },
    {
      "cell_type": "markdown",
      "metadata": {
        "id": "TNYC4A_FtBdN",
        "colab_type": "text"
      },
      "source": [
        "Execute a célula a seguir para visualizar um exemplo de uma imagem do banco de dados com a sua classe. Altere o valor da variável 'index' e execute a célula novamente para visualizar mais exemplos diferentes."
      ]
    },
    {
      "cell_type": "code",
      "metadata": {
        "id": "uM3E0VtxtBdO",
        "colab_type": "code",
        "colab": {
          "base_uri": "https://localhost:8080/",
          "height": 285
        },
        "outputId": "58f329f4-80b1-41f7-ff8b-19860f0d9ff6"
      },
      "source": [
        "# Exemplo de uma imagem\n",
        "index = 0\n",
        "plt.imshow(X_train_orig[index])\n",
        "print (\"y = \" + str(np.squeeze(Y_train_orig[:, index])))"
      ],
      "execution_count": 5,
      "outputs": [
        {
          "output_type": "stream",
          "text": [
            "y = 5\n"
          ],
          "name": "stdout"
        },
        {
          "output_type": "display_data",
          "data": {
            "image/png": "[encoded data removed]",
            "text/plain": [
              "<Figure size 432x288 with 1 Axes>"
            ]
          },
          "metadata": {
            "tags": [],
            "needs_background": "light"
          }
        }
      ]
    },
    {
      "cell_type": "markdown",
      "metadata": {
        "id": "TgBjYOa8tBdU",
        "colab_type": "text"
      },
      "source": [
        "### 2.2 - Processamento dos dados\n",
        "\n",
        "Para os dados poderem ser usados para o desenvolvimento da RNA devemos primeiramente processá-los.\n",
        "\n",
        "Para isso devemos realizar as seguintes etapas:\n",
        "\n",
        "- Dividir os dados de treinamento nos conjuntos de treinamento e validação;\n",
        "- Os valores dos pixels em uma imagem é um número inteiro que deve ser transformado em número real para ser usado em cálculos;\n",
        "- Redimensionar as imagens para transfroma-las em um vetor linha;\n",
        "- Normalizar as imagens de forma que os valores dos pixels fique entre 0 e 1."
      ]
    },
    {
      "cell_type": "markdown",
      "metadata": {
        "id": "BGAhtBoZtBdV",
        "colab_type": "text"
      },
      "source": [
        "### Exercício #1: Conjuntos de treinamento e validação\n",
        "\n",
        "Na célula abaixo crie um código para para dividir o conjunto de treinamento nos conjuntos de treinamento e validação. Use 960 imagens para o conjunto de treinamento e 120 imagens para o conjunto de validação. Não se esqueça de separar também as classes.\n",
        "\n",
        "Nessa célula também transponha os vetores das saídas para que o primeiro eixo seja o dos exemplos e o segundo eixo o das classes."
      ]
    },
    {
      "cell_type": "code",
      "metadata": {
        "id": "MsaCZmMatBdV",
        "colab_type": "code",
        "colab": {
          "base_uri": "https://localhost:8080/",
          "height": 102
        },
        "outputId": "9ff506bd-6335-4a79-d9fe-6075a1bba365"
      },
      "source": [
        "# PARA VOCÊ FAZER: Divisão dos dados de treinamento em dados de treinamento e validação\n",
        "\n",
        "# Dados de entrada\n",
        "### COMECE AQUI ### (≈ 2 linhas)\n",
        "X_train = X_train_orig[:960]\n",
        "X_val = X_train_orig[960:]\n",
        "### TERMINE AQUI ###\n",
        "\n",
        "# Dados de saída\n",
        "### COMECE AQUI ### (≈ 3 linhas)\n",
        "Y_train = Y_train_orig[:, :960].transpose()\n",
        "Y_val = Y_train_orig[:, 960:].transpose()\n",
        "Y_test = Y_test_orig.transpose()\n",
        "### TERMINE AQUI ###\n",
        "\n",
        "print(\"Dimensão do tensor de dados de entrada de treinamento =\", X_train.shape)\n",
        "print(\"Dimensão do tensor de dados de entrada de validação =\", X_val.shape)\n",
        "print(\"Dimensão do tensor de dados de saída de treinamento =\", Y_train.shape)\n",
        "print(\"Dimensão do tensor de dados de saída de validação =\", Y_val.shape)\n",
        "print(\"Dimensão do tensor de dados de saída de test =\", Y_test.shape)"
      ],
      "execution_count": 9,
      "outputs": [
        {
          "output_type": "stream",
          "text": [
            "Dimensão do tensor de dados de entrada de treinamento = (960, 64, 64, 3)\n",
            "Dimensão do tensor de dados de entrada de validação = (120, 64, 64, 3)\n",
            "Dimensão do tensor de dados de saída de treinamento = (960, 1)\n",
            "Dimensão do tensor de dados de saída de validação = (120, 1)\n",
            "Dimensão do tensor de dados de saída de test = (120, 1)\n"
          ],
          "name": "stdout"
        }
      ]
    },
    {
      "cell_type": "markdown",
      "metadata": {
        "id": "L18NeUN-tBda",
        "colab_type": "text"
      },
      "source": [
        "**Saída esperada:**\n",
        "\n",
        "    Dimensão do tensor de dados de entrada de treinamento = (960, 64, 64, 3)\n",
        "    Dimensão do tensor de dados de entrada de validação = (120, 64, 64, 3)\n",
        "    Dimensão do tensor de dados de saída de treinamento = (960, 1)\n",
        "    Dimensão do tensor de dados de saída de validação = (120, 1)\n",
        "    Dimensão do tensor de dados de saída de test = (120, 1)"
      ]
    },
    {
      "cell_type": "markdown",
      "metadata": {
        "id": "_de2Q1irtBdb",
        "colab_type": "text"
      },
      "source": [
        "### Exercício #2: Normalização e redimensionameto dos dados de entrada\n",
        "\n",
        "Na célula abaixo crie um código para normalizar e transformar as imagens em números reais, dividindo por 255. Após essa operação, redimensionar os dados de entrada para ficarem na forma de vetor linha de dimensão `num_px * num_px * 3`."
      ]
    },
    {
      "cell_type": "code",
      "metadata": {
        "id": "qm8rgD3HtBdc",
        "colab_type": "code",
        "colab": {
          "base_uri": "https://localhost:8080/",
          "height": 136
        },
        "outputId": "c08f982d-fa3e-44b0-881f-2ed41dd84faa"
      },
      "source": [
        "# PARA VOCÊ FAZER: Normalização dos dados de entrada\n",
        "\n",
        "# Guarda dimensão das imagens\n",
        "num_px = X_train.shape[1]\n",
        "print(\"Numero de colunas e linhas das imagens de entrada=\", num_px)\n",
        "\n",
        "# Transformação dos dados em números reais\n",
        "### Comece AQUI ### (≈ 3 linhas)\n",
        "X_train_float = X_train / 255\n",
        "X_val_float = X_val / 255\n",
        "X_test_float = X_test_orig / 255\n",
        "### TERMINE AQUI ###\n",
        "\n",
        "# Redimensionamento dos dados de entrada\n",
        "### COMECE AQUI ### (≈ 6 linhas)\n",
        "m_train = X_train.shape[0]\n",
        "X_train_flat = np.reshape(X_train_float, ( X_train_float.shape[0], num_px * num_px * 3 ))\n",
        "m_test = X_test_orig.shape[0]\n",
        "X_test_flat = np.reshape(X_test_float, ( X_test_float.shape[0], num_px * num_px * 3 ))\n",
        "m_val = X_val.shape[0]\n",
        "X_val_flat = np.reshape(X_val_float, ( X_val_float.shape[0], num_px * num_px * 3 ))\n",
        "### TERMINE AQUI ###\n",
        "\n",
        "print('Dimensão dos dados de entrada do conjunto de treinamento: ', X_train_flat.shape)\n",
        "print('Dimensão dos dados de entrada do conjunto de validação: ', X_test_flat.shape)\n",
        "print('Dimensão dos dados de entrada do conjunto de teste: ', X_test_flat.shape)\n",
        "\n",
        "# Para verificar se os resultados estão corretos\n",
        "print(\"Primeiros 5 elementos da primeira imagem de treinamento = \", X_train_flat[0,:5])\n",
        "print(\"Primeiros 5 elementos da primeira imagem de validação = \", X_val_flat[0,:5])\n",
        "print(\"Primeiros 5 elementos da primeira imagem de teste = \", X_test_flat[0,:5])"
      ],
      "execution_count": 10,
      "outputs": [
        {
          "output_type": "stream",
          "text": [
            "Numero de colunas e linhas das imagens de entrada= 64\n",
            "Dimensão dos dados de entrada do conjunto de treinamento:  (960, 12288)\n",
            "Dimensão dos dados de entrada do conjunto de validação:  (120, 12288)\n",
            "Dimensão dos dados de entrada do conjunto de teste:  (120, 12288)\n",
            "Primeiros 5 elementos da primeira imagem de treinamento =  [0.89019608 0.8627451  0.83921569 0.89019608 0.86666667]\n",
            "Primeiros 5 elementos da primeira imagem de validação =  [0.89803922 0.85882353 0.81176471 0.89411765 0.85882353]\n",
            "Primeiros 5 elementos da primeira imagem de teste =  [0.90588235 0.87843137 0.84705882 0.90980392 0.87843137]\n"
          ],
          "name": "stdout"
        }
      ]
    },
    {
      "cell_type": "markdown",
      "metadata": {
        "id": "eetQvkVmtBdi",
        "colab_type": "text"
      },
      "source": [
        "**Saída esperada:**\n",
        "\n",
        "    Numero de colunas e linhas das imagens de entrada= 64\n",
        "    Dimensão dos dados de entrada do conjunto de treinamento:  (960, 12288)\n",
        "    Dimensão dos dados de entrada do conjunto de validação:  (120, 12288)\n",
        "    Dimensão dos dados de entrada do conjunto de teste:  (120, 12288)\n",
        "    Primeiros 5 elementos da primeira imagem de treinamento =  [0.8901961 0.8627451 0.8392157 0.8901961 0.8666667]\n",
        "    Primeiros 5 elementos da primeira imagem de validação =  [0.8980392  0.85882354 0.8117647  0.89411765 0.85882354]\n",
        "    Primeiros 5 elementos da primeira imagem de teste =  [0.90588236 0.8784314  0.84705883 0.9098039  0.8784314 ]"
      ]
    },
    {
      "cell_type": "markdown",
      "metadata": {
        "id": "VM4kezTOtBdj",
        "colab_type": "text"
      },
      "source": [
        "### Exercício #3: Codificação das classes\n",
        "\n",
        "As classes dos sinais são identificadas por um número inteiro que varia de 0 a 5. Porém, a saída esperada de uma RNA para um problema de classificação de múltiplas classes é um vetor de dimensão igual ao número de classes, que no caso são 6 classes. Cada elemento desse vetor representa a probabilidade da imagem ser um sinal. Assim, devemos transformar as saídas reais do conjunto de dados em um vetor linha de 6 elementos, com todos os elementos iguais a zero a menos do correspondente ao da classe do sinal, que deve ser igual a um.\n",
        "\n",
        "A função que realiza essa transformação é conhecida na literatura de \"one-hot-encoding”, que no Keras é chamada de `to_categorical`. Essa função pertence à classe de utilidades do Keras que deve ser importada antes de ser utilizada. \n",
        "\n",
        "Implemente na célula abaixo a transformação dos dados de saída usando a função `to_categorical` do keras."
      ]
    },
    {
      "cell_type": "code",
      "metadata": {
        "id": "t1TjK9qztBdk",
        "colab_type": "code",
        "colab": {
          "base_uri": "https://localhost:8080/",
          "height": 323
        },
        "outputId": "ded1dad5-0a44-4ae5-ab4a-40b6414843ed"
      },
      "source": [
        "# PARA VOCÊ FAZER: Coficação das classes dos exemplos \n",
        "\n",
        "# Importa classe de utilidades do Keras\n",
        "from tensorflow.keras.utils import to_categorical\n",
        "\n",
        "# Transformação das classes de números reais para vetores\n",
        "### COMECE AQUI ### (≈ 3 linhas)\n",
        "Y_train_hot = to_categorical(Y_train)\n",
        "Y_val_hot = to_categorical(Y_val)\n",
        "Y_test_hot = to_categorical(Y_test)\n",
        "### Termine AQUI ###\n",
        "\n",
        "print('Dimensão dos dados de saída do conjunto de treinamento: ', Y_train_hot.shape)\n",
        "print('Dimensão dos dados de saída do conjunto de validação: ', Y_val_hot.shape)\n",
        "print('Dimensão dos dados de saída do conjunto de teste: ', Y_test_hot.shape)\n",
        "\n",
        "# Para verificar se os resultados estão corretos\n",
        "print(\"Primeiras 5 saídas dos exemplos de treinamento = \", Y_train_hot[:5,:])\n",
        "print(\"Primeiras 5 saídas dos exemplos de validação = \", Y_val_hot[:5,:])\n",
        "print(\"Primeiras 5 saídas dos exemplos de teste = \", Y_test_hot[:5,:])"
      ],
      "execution_count": 12,
      "outputs": [
        {
          "output_type": "stream",
          "text": [
            "Dimensão dos dados de saída do conjunto de treinamento:  (960, 6)\n",
            "Dimensão dos dados de saída do conjunto de validação:  (120, 6)\n",
            "Dimensão dos dados de saída do conjunto de teste:  (120, 6)\n",
            "Primeiras 5 saídas dos exemplos de treinamento =  [[0. 0. 0. 0. 0. 1.]\n",
            " [1. 0. 0. 0. 0. 0.]\n",
            " [0. 0. 1. 0. 0. 0.]\n",
            " [0. 0. 0. 0. 0. 1.]\n",
            " [0. 0. 1. 0. 0. 0.]]\n",
            "Primeiras 5 saídas dos exemplos de validação =  [[0. 1. 0. 0. 0. 0.]\n",
            " [0. 0. 0. 0. 0. 1.]\n",
            " [0. 0. 0. 0. 1. 0.]\n",
            " [0. 0. 0. 0. 0. 1.]\n",
            " [0. 0. 0. 1. 0. 0.]]\n",
            "Primeiras 5 saídas dos exemplos de teste =  [[1. 0. 0. 0. 0. 0.]\n",
            " [1. 0. 0. 0. 0. 0.]\n",
            " [1. 0. 0. 0. 0. 0.]\n",
            " [0. 0. 0. 0. 0. 1.]\n",
            " [0. 1. 0. 0. 0. 0.]]\n"
          ],
          "name": "stdout"
        }
      ]
    },
    {
      "cell_type": "markdown",
      "metadata": {
        "id": "FA8eteW2tBdo",
        "colab_type": "text"
      },
      "source": [
        "**Saída esperada:**\n",
        "\n",
        "    Dimensão dos dados de saída do conjunto de treinamento:  (960, 6)\n",
        "    Dimensão dos dados de saída do conjunto de validação:  (120, 6)\n",
        "    Dimensão dos dados de saída do conjunto de teste:  (120, 6)\n",
        "    Primeiras 5 saídas dos exemplos de treinamento =  [[0. 0. 0. 0. 0. 1.]\n",
        "     [1. 0. 0. 0. 0. 0.]\n",
        "     [0. 0. 1. 0. 0. 0.]\n",
        "     [0. 0. 0. 0. 0. 1.]\n",
        "     [0. 0. 1. 0. 0. 0.]]\n",
        "    Primeiras 5 saídas dos exemplos de validação =  [[0. 1. 0. 0. 0. 0.]\n",
        "     [0. 0. 0. 0. 0. 1.]\n",
        "     [0. 0. 0. 0. 1. 0.]\n",
        "     [0. 0. 0. 0. 0. 1.]\n",
        "     [0. 0. 0. 1. 0. 0.]]\n",
        "    Primeiras 5 saídas dos exemplos de teste =  [[1. 0. 0. 0. 0. 0.]\n",
        "     [1. 0. 0. 0. 0. 0.]\n",
        "     [1. 0. 0. 0. 0. 0.]\n",
        "     [0. 0. 0. 0. 0. 1.]\n",
        "     [0. 1. 0. 0. 0. 0.]]\n",
        "    \n",
        "**Visualização da entrada e saída correspondente**\n",
        "\n",
        "Execute a célula abaixo para verificar se o seu programa está realizando de fato o que você espera. No código abaixo index é o número sequencial da imagem. Tente trocar a imagem, mudando a variável index, usando valores entre 0 e 959, para visualizar outros exemplos."
      ]
    },
    {
      "cell_type": "code",
      "metadata": {
        "id": "BweKlA3-tBdo",
        "colab_type": "code",
        "colab": {
          "base_uri": "https://localhost:8080/",
          "height": 302
        },
        "outputId": "3ad6598a-3968-4f24-a49a-9104444cca6f"
      },
      "source": [
        "# Exemplo de saída\n",
        "index = 100\n",
        "print(\"Classe numérica: \", Y_train[index], \", Vetor de saída correspondentes: \", Y_train_hot[index])\n",
        "plt.imshow(X_train_orig[index], cmap='gray', vmin=0, vmax=255)"
      ],
      "execution_count": 13,
      "outputs": [
        {
          "output_type": "stream",
          "text": [
            "Classe numérica:  [3] , Vetor de saída correspondentes:  [0. 0. 0. 1. 0. 0.]\n"
          ],
          "name": "stdout"
        },
        {
          "output_type": "execute_result",
          "data": {
            "text/plain": [
              "<matplotlib.image.AxesImage at 0x7fbd01861c50>"
            ]
          },
          "metadata": {
            "tags": []
          },
          "execution_count": 13
        },
        {
          "output_type": "display_data",
          "data": {
            "image/png": "[encoded data removed]",
            "text/plain": [
              "<Figure size 432x288 with 1 Axes>"
            ]
          },
          "metadata": {
            "tags": [],
            "needs_background": "light"
          }
        }
      ]
    },
    {
      "cell_type": "markdown",
      "metadata": {
        "id": "k7WgmGR4tBds",
        "colab_type": "text"
      },
      "source": [
        "**Saída esperada:**\n",
        "\n",
        "Classe numérica:  [3] , Vetor de saída correspondentes:  [0. 0. 0. 1. 0. 0.]"
      ]
    },
    {
      "cell_type": "markdown",
      "metadata": {
        "id": "OuLyUIqitBds",
        "colab_type": "text"
      },
      "source": [
        "## 3 - Criação e treinamento da RNA\n",
        "\n",
        "Nesse trabalho você irá usar uma RNA com camadas do tipo densas e com isso poderá verificar a dificuldade de realizar essa tarefa de classificação com esse tipo de RNA.\n",
        "\n",
        "### Exercício #4: Criação e configuração da RNA\n",
        "\n",
        "Você vai usar uma RNA com 2 camadas intermediárias e uma camada de saída com as seguintes características:\n",
        "\n",
        "- Primeira camada: número de neurônios n1, função de ativação ReLu;\n",
        "- Segunda camada: número de neurônios n2, função de ativação ReLu;\n",
        "- Camada de saída: número de neurônio n3, função de ativação softmax.\n",
        "\n",
        "Na célula abaixo crie uma função que recebe a dimensão dos dados de entrada e os números de neurônios das 3 camadas e configura a RNA de acordo com as características acima."
      ]
    },
    {
      "cell_type": "code",
      "metadata": {
        "id": "8QVhrQORtBdt",
        "colab_type": "code",
        "colab": {}
      },
      "source": [
        "# PARA VOCÊ FAZER: Função para configuração da RNA\n",
        "\n",
        "# Importa classes do Keras de modelos e camadas\n",
        "from tensorflow.keras import models\n",
        "from tensorflow.keras import layers\n",
        "\n",
        "def build_model(data_shape, n1, n2, n3):\n",
        "    \"\"\"\n",
        "    Essa função configura uma rede neural deep-learnig\n",
        "    \n",
        "    Argumentos:\n",
        "    data_shape = tuple com dimensões dos dados de entrada da rede\n",
        "    n1 = número de neurônios da primeira camada\n",
        "    n2 = número de neurônios da segunda camada\n",
        "    n3 = número de neurônios da camada de saída\n",
        "       \n",
        "    Retorna: modelo da rede neural\n",
        "    \"\"\"\n",
        "    # Inicialização do gerador de números aleatórios para permitir verificar resultados\n",
        "    np.random.seed(3)\n",
        "    \n",
        "    model = models.Sequential()\n",
        "    \n",
        "    # Adicione as camadas em seu modelo de RNA\n",
        "    #### COMECE AQUI ### (≈ 3 linhas)\n",
        "    model.add(layers.Dense(units=n1, activation='relu', input_dim=data_shape[0]))\n",
        "    model.add(layers.Dense(units=n2, activation='relu'))\n",
        "    model.add(layers.Dense(units=n3, activation='softmax'))\n",
        "    ### TERMINE AQUI ###\n",
        "    \n",
        "    return model"
      ],
      "execution_count": 0,
      "outputs": []
    },
    {
      "cell_type": "markdown",
      "metadata": {
        "id": "wUQt6TcutBd0",
        "colab_type": "text"
      },
      "source": [
        "Defina os números de neurônios das camadas intermediárias e de saída e crie a RNA usando a função `build_model` criada na célula anterior. Utilize n1 = 64, n2 = 32, n3 = 6. Após criar a RNA utilize o método summary para visualizar a sua rede."
      ]
    },
    {
      "cell_type": "code",
      "metadata": {
        "id": "_3U1PSMNtBd1",
        "colab_type": "code",
        "colab": {
          "base_uri": "https://localhost:8080/",
          "height": 255
        },
        "outputId": "8fa74b75-3fcc-4a09-80b1-1b41101fab88"
      },
      "source": [
        "# PARA VOCÊ FAZER: criação da RNA\n",
        "\n",
        "# Dimensão dos dados de entrada\n",
        "#### COMECE AQUI ### (≈ 1 linhas) \n",
        "data_shape = (12288,)\n",
        "### TERMINE AQUI ###\n",
        "\n",
        "# Definição dos números de neurônios das camadas\n",
        "#### COMECE AQUI ### (≈ 3 linhas)\n",
        "n1 = 64\n",
        "n2 = 32\n",
        "n3 = 6\n",
        "### TERMINE AQUI ###\n",
        "\n",
        "# Cria rede neural deep learning e apresenta sua configuração\n",
        "#### COMECE AQUI ### (≈ 2 linhas)\n",
        "rna = build_model(data_shape, n1, n2, n3)\n",
        "rna.summary()\n",
        "### TERMINE AQUI ###\n"
      ],
      "execution_count": 15,
      "outputs": [
        {
          "output_type": "stream",
          "text": [
            "Model: \"sequential\"\n",
            "_________________________________________________________________\n",
            "Layer (type)                 Output Shape              Param #   \n",
            "=================================================================\n",
            "dense (Dense)                (None, 64)                786496    \n",
            "_________________________________________________________________\n",
            "dense_1 (Dense)              (None, 32)                2080      \n",
            "_________________________________________________________________\n",
            "dense_2 (Dense)              (None, 6)                 198       \n",
            "=================================================================\n",
            "Total params: 788,774\n",
            "Trainable params: 788,774\n",
            "Non-trainable params: 0\n",
            "_________________________________________________________________\n"
          ],
          "name": "stdout"
        }
      ]
    },
    {
      "cell_type": "markdown",
      "metadata": {
        "id": "V3h5uEBatBd7",
        "colab_type": "text"
      },
      "source": [
        "**Saída esperada:**\n",
        "\n",
        "    Model: \"sequential\"\n",
        "    _________________________________________________________________\n",
        "    Layer (type)                 Output Shape              Param #   \n",
        "    =================================================================\n",
        "    dense (Dense)                (None, 64)                786496    \n",
        "    _________________________________________________________________\n",
        "    dense_1 (Dense)              (None, 32)                2080      \n",
        "    _________________________________________________________________\n",
        "    dense_2 (Dense)              (None, 6)                 198       \n",
        "    =================================================================\n",
        "    Total params: 788,774\n",
        "    Trainable params: 788,774\n",
        "    Non-trainable params: 0\n",
        "    _________________________________________________________________\n"
      ]
    },
    {
      "cell_type": "markdown",
      "metadata": {
        "id": "CDYnAKmvtBd8",
        "colab_type": "text"
      },
      "source": [
        "### Exercício #5: Compilação e treinamento da RNA\n",
        "\n",
        "Agora você vai treinar a sua RNA usando o método de otimização do gradiente descendente com momento. Assim, na célula abaixo, compile e treine a sua RNA usando os seguinte hiperparâmetros:\n",
        "\n",
        "- taxa de aprendizado = 0,001;\n",
        "- constante beta = 0,9;\n",
        "- decay = 0;\n",
        "- nesterov = True\n",
        "- batch_size = 120;\n",
        "- número de épocas = 600.\n",
        "\n",
        "**Importante:** Escolha o parâmetro verbose=0 no método `fit` para evitar de imprimir os resultados das 600 épocas de treinamento."
      ]
    },
    {
      "cell_type": "code",
      "metadata": {
        "id": "-PMxbM8BtBd8",
        "colab_type": "code",
        "colab": {}
      },
      "source": [
        "# PARA VOCÊ FAZER: compilação e treinamento da RNA usando o método do gradiente descendente com momento\n",
        "\n",
        "# importa do keras a classe dos otimizadores\n",
        "from tensorflow.keras import optimizers\n",
        "\n",
        "# Configuração do otimizador\n",
        "### COMECE AQUI ### (≈ 2 linhas)\n",
        "mom = optimizers.SGD(lr=0.001, decay=0, momentum=0.9, nesterov=True)\n",
        "rna.compile(loss='categorical_crossentropy', optimizer=mom, metrics=['acc'])\n",
        "### TERMINE AQUI ###\n",
        "\n",
        "# Treinamento da RNA\n",
        "### COMECE AQUI ### (≈ 1 linha)\n",
        "history = rna.fit(X_train_flat, Y_train_hot, validation_data=(X_val_flat, Y_val_hot), epochs=600, batch_size=120, verbose=0)\n",
        "### TERMINE AQUI ###"
      ],
      "execution_count": 0,
      "outputs": []
    },
    {
      "cell_type": "markdown",
      "metadata": {
        "id": "aU3WTMWEtBeA",
        "colab_type": "text"
      },
      "source": [
        "### Visualização dos resultados\n",
        "\n",
        "Execute a célula a seguir para fazer os gráficos da função de custo e da métrica para os dados de treinamento e validação."
      ]
    },
    {
      "cell_type": "code",
      "metadata": {
        "id": "n5wLVpthtBeB",
        "colab_type": "code",
        "colab": {
          "base_uri": "https://localhost:8080/",
          "height": 577
        },
        "outputId": "e929becf-3b04-4d58-d6c7-5a60e08de3cd"
      },
      "source": [
        "# Salva treinamento na variável history para visualização\n",
        "history_dict = history.history\n",
        "\n",
        "# Salva custos, métricas e epocas em vetores \n",
        "custo = history_dict['loss']\n",
        "acc = history_dict['acc']\n",
        "val_custo = history_dict['val_loss']\n",
        "val_acc = history_dict['val_acc']\n",
        "\n",
        "# Cria vetor de épocas\n",
        "epocas = range(1, len(custo) + 1)\n",
        "\n",
        "# Gráfico dos valores de custo\n",
        "plt.plot(epocas, custo, 'bo', label='Custo - treinamento')\n",
        "plt.plot(epocas, val_custo, 'b', label='Custo - validação')\n",
        "plt.title('Valor da função de custo – treinamento e validação')\n",
        "plt.xlabel('Épocas')\n",
        "plt.ylabel('Custo')\n",
        "plt.legend()\n",
        "plt.show()\n",
        "\n",
        "# Gráfico dos valores da métrica\n",
        "plt.plot(epocas, acc, 'bo', label='exatidao- treinamento')\n",
        "plt.plot(epocas, val_acc, 'b', label='exatidao - validação')\n",
        "plt.title('Valor da métrica – treinamento e validação')\n",
        "plt.xlabel('Épocas')\n",
        "plt.ylabel('Exatidao')\n",
        "plt.legend()\n",
        "plt.show()"
      ],
      "execution_count": 18,
      "outputs": [
        {
          "output_type": "display_data",
          "data": {
            "image/png": "[encoded data removed]",
            "text/plain": [
              "<Figure size 432x288 with 1 Axes>"
            ]
          },
          "metadata": {
            "tags": [],
            "needs_background": "light"
          }
        },
        {
          "output_type": "display_data",
          "data": {
            "image/png": "[encoded data removed]",
            "text/plain": [
              "<Figure size 432x288 with 1 Axes>"
            ]
          },
          "metadata": {
            "tags": [],
            "needs_background": "light"
          }
        }
      ]
    },
    {
      "cell_type": "markdown",
      "metadata": {
        "id": "3zxOqhh_tBeH",
        "colab_type": "text"
      },
      "source": [
        "### Análise dos resultados\n",
        "\n",
        "Pelos gráficos da função de custo e da métrica você deve observar o seguinte:\n",
        "\n",
        "- O valor do custo para os dados de treinamento diminui constantemente ao longo do treinamento e estabiliza em um valor de cerca de 0,01.\n",
        "- O valor do custo para os dados de validação diminui até por volta da época 200 e depois aumenta levemente e estabiliza em um valor de cerca de 0,6, o que representa um resultado ruim.\n",
        "- A exatidão obtida para os dados de treinamento é de 100%, enquanto que para os dados de validação é de cerca de 85%.\n",
        "\n",
        "O grafico da função de custo durante o treinamento e os valores obtidos para a função de custo e para a métrica no final do treinamento mostram claramente que está ocorrendo overfitting dos dados de treinamento."
      ]
    },
    {
      "cell_type": "markdown",
      "metadata": {
        "id": "peET4HZjtBeH",
        "colab_type": "text"
      },
      "source": [
        "### Exercício #6: Cálculo do custo e métrica\n",
        "\n",
        "Modifique a célula abaixo para calcular o custo e a exatidão para os dados de treinamento, validação e teste."
      ]
    },
    {
      "cell_type": "code",
      "metadata": {
        "id": "quyFQ6VztBeI",
        "colab_type": "code",
        "colab": {
          "base_uri": "https://localhost:8080/",
          "height": 119
        },
        "outputId": "b7466f7c-e101-41a0-80a6-2ab3eb59783f"
      },
      "source": [
        "# PARA VOCÊ FAZER: calculo do custo e a exatidão para os dados de treinamento, validação e teste\n",
        "\n",
        "# Usando o método evaluate calcule o custo e a exatidão\n",
        "### COMECE AQUI ### (≈ 3 linhas)\n",
        "custo_e_metricas_train = rna.evaluate(X_train_flat, Y_train_hot, batch_size=1)\n",
        "custo_e_metricas_val = rna.evaluate(X_val_flat, Y_val_hot, batch_size=1)\n",
        "custo_e_metricas_test = rna.evaluate(X_test_flat, Y_test_hot, batch_size=1)\n",
        "### TERMINE AQUI ###\n",
        "\n",
        "print('Dados de treinamento: ', custo_e_metricas_train)\n",
        "print('Dados de validação: ', custo_e_metricas_val)\n",
        "print('Dados de teste: ', custo_e_metricas_test)"
      ],
      "execution_count": 20,
      "outputs": [
        {
          "output_type": "stream",
          "text": [
            "960/960 [==============================] - 1s 1ms/step - loss: 0.0067 - acc: 1.0000\n",
            "120/120 [==============================] - 0s 1ms/step - loss: 0.6839 - acc: 0.8417\n",
            "120/120 [==============================] - 0s 1ms/step - loss: 0.5401 - acc: 0.8833\n",
            "Dados de treinamento:  [0.006661918479949236, 1.0]\n",
            "Dados de validação:  [0.6839072108268738, 0.8416666388511658]\n",
            "Dados de teste:  [0.5400708317756653, 0.8833333253860474]\n"
          ],
          "name": "stdout"
        }
      ]
    },
    {
      "cell_type": "markdown",
      "metadata": {
        "id": "EcNPndRDtBeL",
        "colab_type": "text"
      },
      "source": [
        "**Exemplo de saída esperada:**\n",
        "\n",
        "    960/960 [==============================] - 0s 102us/sample - loss: 0.0084 - acc: 1.0000\n",
        "    120/120 [==============================] - 0s 116us/sample - loss: 0.6543 - acc: 0.8333\n",
        "    120/120 [==============================] - 0s 108us/sample - loss: 0.4546 - acc: 0.8833\n",
        "    Dados de treinamento:  [0.008386460474381845, 1.0]\n",
        "    Dados de validação:  [0.654319644967715, 0.8333333]\n",
        "    Dados de teste:  [0.4546472152074178, 0.8833333]"
      ]
    },
    {
      "cell_type": "markdown",
      "metadata": {
        "id": "R1QXiaBPtBeM",
        "colab_type": "text"
      },
      "source": [
        "### Análise dos resultados\n",
        "\n",
        "Pelos gráficos da função de custo e da métrica você deve observar o seguinte:\n",
        "\n",
        "- O valor do custo para os dados de treinamento diminui constantemente ao longo do treinamento e estabiliza em um valor de cerca de 0,01.\n",
        "- O valor do custo para os dados de validação diminui até por volta da época 200 e depois aumenta levemente e estabiliza em um valor de cerca de 0,6, o que representa um resultado ruim.\n",
        "- A exatidão obtida para os dados de treinamento é de 100%, enquanto que para os dados de validação é de cerca de 83% e de teste cerca de 88%.\n",
        "\n",
        "O grafico da função de custo durante o treinamento e os valores obtidos para a função de custo e para a métrica no final do treinamento mostram claramente que está ocorrendo overfitting dos dados de treinamento."
      ]
    },
    {
      "cell_type": "markdown",
      "metadata": {
        "id": "89DiB3SvtBeN",
        "colab_type": "text"
      },
      "source": [
        "## 4 - Teste da RNA\n",
        "\n",
        "### Exercício #7: Verificação dos resultados\n",
        "\n",
        "Na célula abaixo calcule a previsões da sua RNA para as imagens dos dados de teste e depois verifique se algumas dessas previsões estão corretas. \n",
        "\n",
        "Note que a previsão da RNA é um vetor de 6 elementos com as probabilidades da imagem mostrar os seis sinais. Para detereminar a classe prevista deve-se transformar esse vetor em um número inteiro de 0 a 5, que representa o sinal sendo mostrado. Para fazer essa transformação use a função numpy `argmax(Y_test, axis=?)`, onde Y_test é o tensor com as saídas previstas pela RNA. Em qual eixo você deve calcular o índice da maior probabilidade?\n",
        "\n",
        "Troque a variável index (variando entre 0 e 119) para verificar se a sua RNA consegue classificar corretamente o sinal de mão mostrado nas imagens."
      ]
    },
    {
      "cell_type": "code",
      "metadata": {
        "id": "5ZSG1eLZtBeO",
        "colab_type": "code",
        "colab": {
          "base_uri": "https://localhost:8080/",
          "height": 285
        },
        "outputId": "aacfa52a-cecd-4122-9a39-e18042f9ab16"
      },
      "source": [
        "# PARA VOCÊ FAZER: cálculo das classes previstas pela RNA com dropout\n",
        "\n",
        "# Calculo das previsões da RNA\n",
        "### COMECE AQUI ### (≈ 1 linha)\n",
        "Y_test = np.argmax(Y_test_hot, axis=1)\n",
        "### TERMINE AQUI ###\n",
        "\n",
        "# Cálculo das classes previstas\n",
        "### COMECE AQUI ### (≈ 1 linha)\n",
        "classe = np.argmax(rna.predict(X_test_flat), axis=1)\n",
        "### TERMINE AQUI ###\n",
        "\n",
        "# Exemplo de uma imagem dos dados de teste\n",
        "index = 3\n",
        "plt.imshow(X_test_orig[index])\n",
        "print (\"y = \" + str(np.squeeze(classe[index])))"
      ],
      "execution_count": 37,
      "outputs": [
        {
          "output_type": "stream",
          "text": [
            "y = 5\n"
          ],
          "name": "stdout"
        },
        {
          "output_type": "display_data",
          "data": {
            "image/png": "[encoded data removed]",
            "text/plain": [
              "<Figure size 432x288 with 1 Axes>"
            ]
          },
          "metadata": {
            "tags": [],
            "needs_background": "light"
          }
        }
      ]
    },
    {
      "cell_type": "markdown",
      "metadata": {
        "id": "FoVz_jbRtBeV",
        "colab_type": "text"
      },
      "source": [
        "### Exercício #8: Visualização dos resultados\n",
        "\n",
        "Na célula abaixo crie um código para fazer um gráfico com as classes reais e as previstas pela sua RNA para todos os exemplos do connjunto de teste."
      ]
    },
    {
      "cell_type": "code",
      "metadata": {
        "id": "-KUm0H2XtBeV",
        "colab_type": "code",
        "colab": {
          "base_uri": "https://localhost:8080/",
          "height": 455
        },
        "outputId": "4133b5cf-ccbd-4edd-b03e-fc25645e4ad3"
      },
      "source": [
        "# PARA VOCÊ FAZER: cálculo das classes previstas pela RNA com dropout\n",
        "\n",
        "# Resultado gráfico\n",
        "# Verifique dimensoes dos vetores de classes reais e previstas\n",
        "print('Dimensão vetor classes reais= ', Y_test_orig.shape)\n",
        "print('Dimensão vetor classes previstas= ', classe.shape)\n",
        "\n",
        "# Fazer o gráfico das classes reais e previstas\n",
        "plt.figure(figsize=(18, 6))\n",
        "### COMECE AQUI ### (≈ 7 linhas)\n",
        "plt.figure(figsize=(18, 6))\n",
        "plt.plot(Y_test, 'bo', label='Classe real')\n",
        "plt.plot(classe, 'ro', label='Classe prevista')\n",
        "plt.title('Classes reais e previstas - Conjunto de teste')\n",
        "plt.xlabel('Exemplos')\n",
        "plt.ylabel('Classes')\n",
        "plt.legend()\n",
        "plt.show()\n",
        "### TERMINE AQUI ###\n"
      ],
      "execution_count": 39,
      "outputs": [
        {
          "output_type": "stream",
          "text": [
            "Dimensão vetor classes reais=  (1, 120)\n",
            "Dimensão vetor classes previstas=  (120,)\n"
          ],
          "name": "stdout"
        },
        {
          "output_type": "display_data",
          "data": {
            "text/plain": [
              "<Figure size 1296x432 with 0 Axes>"
            ]
          },
          "metadata": {
            "tags": []
          }
        },
        {
          "output_type": "display_data",
          "data": {
            "image/png": "[encoded data removed]",
            "text/plain": [
              "<Figure size 1296x432 with 1 Axes>"
            ]
          },
          "metadata": {
            "tags": [],
            "needs_background": "light"
          }
        }
      ]
    },
    {
      "cell_type": "markdown",
      "metadata": {
        "id": "CMNRNxbPtBeY",
        "colab_type": "text"
      },
      "source": [
        "**Saída prevista:**\n",
        "\n",
        "    Dimensão vetor classes reais=  (1, 120)\n",
        "    Dimensão vetor classes previstas=  (120,)\n",
        "\n",
        "<img src=\"https://github.com/pigortekids/Notas4/blob/master/T6/classe_reais_previstas.png?raw=1\">"
      ]
    },
    {
      "cell_type": "markdown",
      "metadata": {
        "id": "PDyMhma5tBeZ",
        "colab_type": "text"
      },
      "source": [
        "## 8 - Conclusão\n",
        "\n",
        "Uma das conclusões desse trabalho é que obter uma RNA que apresenta um desempenho satisfatório para os dados de teste nem sempre é uma tarefa fácil.\n",
        "\n",
        "Outra conclusão é que essa RNA com camadas densas possui quase 800.000 parâmetros para realizar uma tarefa simples de classificação de múltiplas classes em imagens. Esse número de parâmetros é muito grande para essa tarefa que não é muito complexa. Se tivéssemos usado imagens com dimensões maiores o número de paâmetros seria muito maior. Além disso, observa-se que quanto maior o número de parâmetros de uma RNA mais difícil é o seu treinamento e maiores são os problemas de overfitting"
      ]
    }
  ]
}