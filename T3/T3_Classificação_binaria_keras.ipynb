{
  "nbformat": 4,
  "nbformat_minor": 0,
  "metadata": {
    "coursera": {
      "course_slug": "neural-networks-deep-learning",
      "graded_item_id": "XaIWT",
      "launcher_item_id": "zAgPl"
    },
    "kernelspec": {
      "name": "python3",
      "display_name": "Python 3"
    },
    "language_info": {
      "codemirror_mode": {
        "name": "ipython",
        "version": 3
      },
      "file_extension": ".py",
      "mimetype": "text/x-python",
      "name": "python",
      "nbconvert_exporter": "python",
      "pygments_lexer": "ipython3",
      "version": "3.7.4"
    },
    "colab": {
      "name": "T3_Classificação_binaria_keras.ipynb",
      "provenance": [],
      "collapsed_sections": [
        "CFDNi5x8qgzb",
        "NfkisgQrqgzc"
      ],
      "toc_visible": true
    },
    "accelerator": "GPU"
  },
  "cells": [
    {
      "cell_type": "markdown",
      "metadata": {
        "id": "ezw9zQlLqgy4",
        "colab_type": "text"
      },
      "source": [
        "# Trabalho #3 - Classificação binária com rede neural deep-learning\n",
        "\n",
        "Nesse trabalho você vai desenvolver uma rede neural rasa e uma deep-learning, usando a plataforma TensorFlow-Keras, para realizar uma tarefa de classificação binária para reconhecer gatos em imagens e comparar o desempenho das duas redes."
      ]
    },
    {
      "cell_type": "markdown",
      "metadata": {
        "id": "HHJVYCFbqgy6",
        "colab_type": "text"
      },
      "source": [
        "## Coloque os nomes e RAs dos alunos que fizeram esse trabalho\n",
        "\n",
        "Nome e número dos alunos da equipe:\n",
        "\n",
        "Aluno 1: Igor Amaral Correa 20.83992-8\n",
        "\n",
        "Aluno 2: \n"
      ]
    },
    {
      "cell_type": "markdown",
      "metadata": {
        "id": "e1pCMUhmqgy8",
        "colab_type": "text"
      },
      "source": [
        "## 1 - Bibliotecas ##\n",
        "\n",
        "Em primeiro ligar, execute a célula abaixo para importar algumas bibliotecas Python que são usadas nesse trabalho. \n",
        "- [numpy](www.numpy.org) é a biblioteca básica para computação cinetífica usando Python.\n",
        "- [h5py](http://www.h5py.org) é uma biblioteca que fornece funções para interagir com banco de dados salvos em arquivos no formato h5.\n",
        "- [matplotlib](http://matplotlib.org) é uma biblioteca famosa usada para fazer gráficos com Python.\n",
        "- [PIL](http://www.pythonware.com/products/pil/) e [scipy](https://www.scipy.org/) são usadas para testar a sua RNA com novas imagens no final do trabalho.\n",
        "- lr_utils é um arquivo com uma função para ler os dados usados nesse trabalho."
      ]
    },
    {
      "cell_type": "markdown",
      "metadata": {
        "id": "ik81hB8uqgy8",
        "colab_type": "text"
      },
      "source": [
        "O comando da célula abaixo importa o TensorFlow e verifica a versão que está sendo utilizada."
      ]
    },
    {
      "cell_type": "code",
      "metadata": {
        "id": "WrcibUOHqgy9",
        "colab_type": "code",
        "outputId": "8c2e72a8-f9c4-4b4d-f792-f6b2862c70c4",
        "colab": {
          "base_uri": "https://localhost:8080/",
          "height": 34
        }
      },
      "source": [
        "import tensorflow as tf\n",
        "tf.__version__"
      ],
      "execution_count": 1,
      "outputs": [
        {
          "output_type": "execute_result",
          "data": {
            "text/plain": [
              "'2.2.0-rc2'"
            ]
          },
          "metadata": {
            "tags": []
          },
          "execution_count": 1
        }
      ]
    },
    {
      "cell_type": "markdown",
      "metadata": {
        "id": "QJRrM6lBqgzE",
        "colab_type": "text"
      },
      "source": [
        "Como o TensorFlow é um software aberto não existe muita preocupação do desenvolvedor (no caso o Google) de manter a compatibilidade entre as versões. Assim, se você estiver usando uma versão do TensorFlow incompatível com o seu programa, você pode impor o uso de uma versão mais antiga. \n",
        "\n",
        "Por exemplo o código abaixo importa a versão 2 do TensorFlow, mas se ela não estiver instalada importa a versão instalada.\n",
        "\n",
        "```\n",
        " try:\n",
        "     import tensorflow.compat.v2 as tf\n",
        " except Exception:\n",
        "     import tensorflow as tf    \n",
        " print(tf.__version__)\n",
        "```\n",
        "\n",
        "Outro exemplo, se a versão instalada do TensorFlow for a 2 e o seu programa foi feito para a versão 1, então pode habilitar a versão 2 com o comportamento da versão 1. O código abaixo mostra como fazer isso.\n",
        "\n",
        "```\n",
        " import tensorflow as tf\n",
        " print(tf.__version__)\n",
        " tf.enable_v1_behavior()\n",
        "``` "
      ]
    },
    {
      "cell_type": "code",
      "metadata": {
        "id": "Ok8270e9qgzF",
        "colab_type": "code",
        "colab": {}
      },
      "source": [
        "import numpy as np\n",
        "import matplotlib.pyplot as plt\n",
        "import h5py\n",
        "import scipy\n",
        "from PIL import Image\n",
        "from scipy import ndimage\n",
        "from lr_utils import load_dataset\n",
        "\n",
        "%matplotlib inline"
      ],
      "execution_count": 0,
      "outputs": []
    },
    {
      "cell_type": "markdown",
      "metadata": {
        "collapsed": true,
        "id": "_JbpZqKuqgzK",
        "colab_type": "text"
      },
      "source": [
        "## 2 - Visão geral do problema ##\n",
        "\n",
        "**Definição do problema**: \n",
        "\n",
        "Nesse trabalho é fornecido um conjunto de dados que contém:\n",
        "\n",
        "    - um conjunto de imagens de treinamento classificadas como tendo gato (y=1) ou não tendo gato (y=0);\n",
        "    - um conjunto de imagens de teste classificadas como tendo gato (y=1) ou não tendo gato (y=0);\n",
        "    - a dimensão de cada imagem é (num_px, num_px, 3), onde 3 é o número de canais de cor (RGB);\n",
        "    - cada imagem é composta por três matrizes de dimensão: número de linhas = num_px e número de colunas = num_px;\n",
        "    - número de imagens do conjunto de treinamento: m_train;\n",
        "    - número de imagens do conjunto de teste: m_test.\n",
        "\n",
        "A partir desses conjuntos de dados, a sua tarefa é desenvolver um sistema baseado em uma rede neural, para processar imagens e classificar corretamente se ela mostra ou não um gato. Para isso, você vai desenvolver algumas redes neurais usando a ferramenta Keras e comparar o desempenho delas. \n",
        "\n",
        "O uso da ferramenta Keras para desenvolver redes neurais facilita muito o trabalho, pois não exige desenvolver codigos específicos para implementar cada camada da rede, a função de custo, a métrica e principalmente o gradiente descendente."
      ]
    },
    {
      "cell_type": "markdown",
      "metadata": {
        "id": "_txrhR2uqgzL",
        "colab_type": "text"
      },
      "source": [
        "## 3 - Conjunto de dados de treinamento e teste\n",
        "\n",
        "Para carregar o conjunto de dados execute o código a seguir.\n",
        "\n",
        "O termo _orig é adicionado no final dos tensores com os dados de treinamento e teste originais porque vamos processar esses dados."
      ]
    },
    {
      "cell_type": "code",
      "metadata": {
        "id": "KT-frHzVqgzL",
        "colab_type": "code",
        "colab": {}
      },
      "source": [
        "# Carregando os dados (gato/não-gato)\n",
        "train_set_x_orig, train_set_y, test_set_x_orig, test_set_y, classes = load_dataset()"
      ],
      "execution_count": 0,
      "outputs": []
    },
    {
      "cell_type": "code",
      "metadata": {
        "id": "LFVdQif_qgzP",
        "colab_type": "code",
        "outputId": "5311d891-c31c-4cdf-ba8b-9c6fcc77f294",
        "colab": {
          "base_uri": "https://localhost:8080/",
          "height": 302
        }
      },
      "source": [
        "# Examplo de uma imagem\n",
        "index = 51\n",
        "print(train_set_x_orig[index].shape)\n",
        "plt.imshow(train_set_x_orig[index])\n",
        "print (\"y = \" + str(train_set_y[:, index]) + \", it's a '\" + classes[np.squeeze(train_set_y[:, index])].decode(\"utf-8\") +  \"' picture.\")"
      ],
      "execution_count": 4,
      "outputs": [
        {
          "output_type": "stream",
          "text": [
            "(64, 64, 3)\n",
            "y = [0], it's a 'non-cat' picture.\n"
          ],
          "name": "stdout"
        },
        {
          "output_type": "display_data",
          "data": {
            "image/png": "[encoded data removed]",
            "text/plain": [
              "<Figure size 432x288 with 1 Axes>"
            ]
          },
          "metadata": {
            "tags": []
          }
        }
      ]
    },
    {
      "cell_type": "markdown",
      "metadata": {
        "id": "fb4v2616qgzU",
        "colab_type": "text"
      },
      "source": [
        "No código acima index é o número sequencial da imagem. Tente trocar a imagem, mudando o index, usando valores entre 0 e 208, para visualizar outros exemplos."
      ]
    },
    {
      "cell_type": "markdown",
      "metadata": {
        "id": "vTFGLmbXqgzV",
        "colab_type": "text"
      },
      "source": [
        "### 3.1 - Determinação do formato e dimensões dos dados\n",
        "\n",
        "### Exercício #1:\n",
        "\n",
        "É importante conhecer as dimensões dos dados que estamos trabalhando para evitar problemas. Assim, obtenha os valores dos seguintes parâmetros: \n",
        "    - m_train = número de exemplos de treinamento;\n",
        "    - m_test = número de exemplos de teste;\n",
        "    - num_px = altura e largura das imagens (as imagens são quadradas).\n",
        "    \n",
        "Lembre que `train_set_x_orig` é um tensor numpy de dimensão (m_train, num_px, num_px, 3). Por exemplo, você pode obter  `m_train` escrevendo `train_set_x_orig.shape[0]`."
      ]
    },
    {
      "cell_type": "code",
      "metadata": {
        "scrolled": true,
        "id": "X41lOULhqgzW",
        "colab_type": "code",
        "outputId": "0d32e85b-f262-44b0-bade-fa746cb6154b",
        "colab": {
          "base_uri": "https://localhost:8080/",
          "height": 153
        }
      },
      "source": [
        "# PARA VOCÊ FAZER:\n",
        "\n",
        "### COMECE AQUIE ### (≈ 3 linhas)\n",
        "m_train = train_set_x_orig.shape[0]\n",
        "m_test = test_set_x_orig.shape[0]\n",
        "num_px = train_set_x_orig[0].shape[0]\n",
        "### TERMINE AQUI ###\n",
        "\n",
        "print (\"Número de exemplos de treinamento: m_train = \" + str(m_train))\n",
        "print (\"Número de exemplos de teste: m_test = \" + str(m_test))\n",
        "print (\"Altura/largura de cada imagem: num_px = \" + str(num_px))\n",
        "print (\"Dimensão de cada imagem: (\" + str(num_px) + \", \" + str(num_px) + \", 3)\")\n",
        "print (\"Dimensão - train_set_x: \" + str(train_set_x_orig.shape))\n",
        "print (\"Dimensão - train_set_y: \" + str(train_set_y.shape))\n",
        "print (\"Dimensão - test_set_x: \" + str(test_set_x_orig.shape))\n",
        "print (\"Dimensão - test_set_y: \" + str(test_set_y.shape))"
      ],
      "execution_count": 5,
      "outputs": [
        {
          "output_type": "stream",
          "text": [
            "Número de exemplos de treinamento: m_train = 209\n",
            "Número de exemplos de teste: m_test = 50\n",
            "Altura/largura de cada imagem: num_px = 64\n",
            "Dimensão de cada imagem: (64, 64, 3)\n",
            "Dimensão - train_set_x: (209, 64, 64, 3)\n",
            "Dimensão - train_set_y: (1, 209)\n",
            "Dimensão - test_set_x: (50, 64, 64, 3)\n",
            "Dimensão - test_set_y: (1, 50)\n"
          ],
          "name": "stdout"
        }
      ]
    },
    {
      "cell_type": "markdown",
      "metadata": {
        "id": "YbEAOm8mqgza",
        "colab_type": "text"
      },
      "source": [
        "**Saída esperada para m_train, m_test e num_px**: \n",
        "\n",
        "Número de exemplos de treinamento: m_train = 209\n",
        "<br />Número de exemplos de teste: m_test = 50\n",
        "<br />Altura/largura de cada imagem: num_px = 64\n",
        "<br />Dimensão de cada imagem: (64, 64, 3)\n",
        "<br />Dimensão - train_set_x: (209, 64, 64, 3)\n",
        "<br />Dimensão - train_set_y: (1, 209)\n",
        "<br />Dimensão - test_set_x: (50, 64, 64, 3)\n",
        "<br />Dimensão - test_set_y: (1, 50)\n",
        "\n",
        "Observe que o primeiro eixo dos tensores com as imagens dos conjuntos de teste e de treinamento representa os exemplos, da forma como é esperado para os dados no Keras."
      ]
    },
    {
      "cell_type": "markdown",
      "metadata": {
        "id": "CFDNi5x8qgzb",
        "colab_type": "text"
      },
      "source": [
        "### 3.2 - Processamento dos dados\n",
        "\n",
        "Os dados dos exemplos de treinamento e de teste devem ser processados de forma a serem colocados em tensores com as dimensões adequadas e normalizados corretamente. Nos exercícios que seguem você irá realizar o processamento dos dados de forma a poderem ser usados na sua RNA implementada com o Keras."
      ]
    },
    {
      "cell_type": "markdown",
      "metadata": {
        "id": "NfkisgQrqgzc",
        "colab_type": "text"
      },
      "source": [
        "### Redimensionamento dos dados\n",
        "\n",
        "Os dados de entrada de uma camada de neurônios densa é um vetor, assim, devemos redimensionar as imagens, que tem dimensão (num_px, num_px, 3), para transformá-las em um vetor linha de dimensão (1, num_px∗num_px∗3). Após esse redimensionamento o conjunto de dados é um tensor numpy onde cada linha representa uma imagem \"esticada\". O tensor com as entradas dos dados de treinamento terá m_train linhas e o de teste m_test linhas.\n",
        "\n",
        "Por exemplo, para redimensionar uma matriz de dimensão (a,b,c,d) para uma matriz de dimensão (a, b∗c∗d) pode-se usar o seguinte código Python: \n",
        "\n",
        "```X_flatten = X.reshape((a, b∗c∗d))```\n",
        "\n",
        "A dimensão dos dados de saída também deve ser alterada porque, como visto, o Keras espara que os exemplos representam o primeiro eixo do tensor e nos dados de saída os exemplos representam o segundo eixo. Assim, os vetores com os dados de saída, tanto de treinamento como de teste, devem ser transpostos."
      ]
    },
    {
      "cell_type": "markdown",
      "metadata": {
        "id": "HkrZSXKmqgze",
        "colab_type": "text"
      },
      "source": [
        "### Exercício #2:\n",
        "\n",
        "Implemente o redimensionamento dos dados de entrada na célula a seguir."
      ]
    },
    {
      "cell_type": "code",
      "metadata": {
        "id": "wDkWLDqGqgze",
        "colab_type": "code",
        "outputId": "a3b10580-4d2e-4cc4-d91f-e93f3cfe9443",
        "colab": {
          "base_uri": "https://localhost:8080/",
          "height": 102
        }
      },
      "source": [
        "# PARA VOCÊ FAZER: redimensionamento das imagens dos exemplos de treinamento e teste\n",
        "\n",
        "### COMECE AQUI ### (≈ 2 linhas)\n",
        "# Redimensionamento dos dados de entrada\n",
        "train_set_x_flatten = train_set_x_orig.reshape(( m_train , num_px * num_px * 3))\n",
        "test_set_x_flatten = test_set_x_orig.reshape(( m_test , num_px * num_px * 3))\n",
        "### TERMINE AQUI ###\n",
        "\n",
        "### COMECE AQUI ### (≈ 2 linhas)\n",
        "# Redimensionamento dos dados de saída (transposição)\n",
        "train_set_y = train_set_y.reshape(( train_set_y.shape[1] , train_set_y.shape[0] ))\n",
        "test_set_y = test_set_y.reshape(( test_set_y.shape[1] , test_set_y.shape[0] ))\n",
        "### TERMINE AQUI ###\n",
        "\n",
        "print (\"Dimensão - train_set_x_flatten: \" + str(train_set_x_flatten.shape))\n",
        "print (\"Dimensão - train_set_y: \" + str(train_set_y.shape))\n",
        "print (\"Dimensão - test_set_x_flatten: \" + str(test_set_x_flatten.shape))\n",
        "print (\"Dimensão - test_set_y: \" + str(test_set_y.shape))\n",
        "print (\"Verificação de valores após redimensionamento: \" + str(train_set_x_flatten[0,0:5]))"
      ],
      "execution_count": 6,
      "outputs": [
        {
          "output_type": "stream",
          "text": [
            "Dimensão - train_set_x_flatten: (209, 12288)\n",
            "Dimensão - train_set_y: (209, 1)\n",
            "Dimensão - test_set_x_flatten: (50, 12288)\n",
            "Dimensão - test_set_y: (50, 1)\n",
            "Verificação de valores após redimensionamento: [17 31 56 22 33]\n"
          ],
          "name": "stdout"
        }
      ]
    },
    {
      "cell_type": "markdown",
      "metadata": {
        "id": "xCFvtmvsqgzi",
        "colab_type": "text"
      },
      "source": [
        "**Saída esperada**: \n",
        "\n",
        "Dimensão - train_set_x_flatten: (209, 12288)\n",
        "<br />Dimensão - train_set_y: (209, 1)\n",
        "<br />Dimensão - test_set_x_flatten: (50, 12288)\n",
        "<br />Dimensão - test_set_y: (50, 1)\n",
        "<br />Verificação de valores após redimensionamento: [17 31 56 22 33]"
      ]
    },
    {
      "cell_type": "markdown",
      "metadata": {
        "id": "i-TlenFeqgzj",
        "colab_type": "text"
      },
      "source": [
        "### Normalização dos dados\n",
        "\n",
        "Nas imagens coloridas as cores vermelho, verde e azul (RGB) são especificadas para cada pixel da imagem, de forma que cada pixel consite de um vetor de tres números que variam no intervalo de 0 a 255.\n",
        "\n",
        "Uma etapa do processamento dos dados é normalizar esses dados de forma a ter dados com média zero e desvio padrão um. No caso de imagens o processo de normalização dos dados é mais simples e consiste simplesmente em dividir todos os valores da imagem por 255, que é o valor máximo de um pixel.\n",
        "\n",
        "### Exercício #3:\n",
        "\n",
        "Implemente a normalização dos dados de forma a ter todas os elementos dos dados de entrada entre 0 e 1."
      ]
    },
    {
      "cell_type": "code",
      "metadata": {
        "id": "O7UOpFr9qgzj",
        "colab_type": "code",
        "outputId": "32ef706c-ba0b-4c43-ca86-33a08461c4ca",
        "colab": {
          "base_uri": "https://localhost:8080/",
          "height": 51
        }
      },
      "source": [
        "# PARA VOCÊ FAZER: redimensionamento das imagens dos exemplos de treinamento e teste\n",
        "\n",
        "### COMECE AQUI ### (≈ 2 linhas)\n",
        "train_set_x = train_set_x_flatten / 255\n",
        "test_set_x = test_set_x_flatten / 255\n",
        "### TERMINE AQUI ###\n",
        "\n",
        "print (\"Máximo valor de train_set_x: \" + str(np.max(train_set_x)))\n",
        "print (\"Máximo valor de train_set_x: \" + str(np.max(test_set_x)))"
      ],
      "execution_count": 7,
      "outputs": [
        {
          "output_type": "stream",
          "text": [
            "Máximo valor de train_set_x: 1.0\n",
            "Máximo valor de train_set_x: 1.0\n"
          ],
          "name": "stdout"
        }
      ]
    },
    {
      "cell_type": "markdown",
      "metadata": {
        "id": "NLCIhJiIqgzo",
        "colab_type": "text"
      },
      "source": [
        "**Saída esperada**: \n",
        "\n",
        "Máximo valor de train_set_x: 1.0\n",
        "<br />Máximo valor de train_set_x: 1.0\n"
      ]
    },
    {
      "cell_type": "markdown",
      "metadata": {
        "id": "KzEEJW8Fqgzp",
        "colab_type": "text"
      },
      "source": [
        "<font color='blue'>\n",
        "    \n",
        "**O que é importante lembrar:**\n",
        "\n",
        "As etapas principais do processamento de dados são as seguintes:\n",
        "- Verificar a dimensão e formato dos dados do problema. Nesse caso são: m_train, m_test, num_px, ...\n",
        "- Redimensionar os conjuntos de dados. Nesse caso para cada exemplo a entrada é um vetor linha de dimensão (1, num_px \\* num_px \\* 3)\n",
        "- Normalizar os dados"
      ]
    },
    {
      "cell_type": "markdown",
      "metadata": {
        "id": "OkZ-b4q1qgzp",
        "colab_type": "text"
      },
      "source": [
        "## 4 - Desenvolvimento e teste da rede neural rasa\n",
        "\n",
        "Nesse trabalho vamos testar diferentes redes neurais, variando numero de camadas, numero de neurônios nas camadas e tipo de função de ativação para obtermos uma solução que apresente resultados satisfatórios.\n",
        "\n",
        "Conforme vimos em aula, o desenvolvimento de uma RNA com o Keras é feito segundo as seguintes etapas:\n",
        "\n",
        "1. Definição dos dados de treinamento e de teste;\n",
        "2. Configuração da RNA;\n",
        "3. Compilação da RNA, que também inclui a configuração do processo de treinamento pela escolha da função de custo, do otimizador e da métrica para avaliar o desempenho;\n",
        "4. Treinamento da RNA;\n",
        "5. Teste e avaliação do desempenho da RNA.\n",
        "\n",
        "Observe que a etapa de definição e preparação dos dados já foi realizada."
      ]
    },
    {
      "cell_type": "markdown",
      "metadata": {
        "id": "UwLjrUNHqgzq",
        "colab_type": "text"
      },
      "source": [
        "### 4.1 - Configuração da rede neural ## \n",
        "\n",
        "Vamos configurar, treinar e testar uma primeira rede neural simples de uma camada intermediária usando o Keras.\n",
        "\n",
        "Para essa rede de uma camada, o parâmetro mais importante é o número de neurônios da camada intermediária. Esse número deve ser compatível com o problema que queremos resolver e também com o número de exemplos que temos disponíveis para treinar a rede.\n",
        "\n",
        "Em linhas gerais cada imagem é representada por 12.288 números e temos 209 imagens de treinamento. Assim, no conjunto de dados de treinamento temos cerca de 2,6 milhões de valores. Existem um princípio em aprendizado supervisionado que diz que o número de parâmetros do sistema deve ser menor do que o número de valores presente no conjunto de dados utilizado para o treinamento. Assim, a sua rede neural deve ter um número de parâmetros menor do que 2,6 milhões. Se a rede possuir mais parâmetros do que o número de valores presentes no conjunto de dados, ela simplesmenet memoriza os dados de treinamento e não funciona direito para nenhum outro caso. Veremos com detalhes esse tipo de problema, mas é importante você estar ciente disso nesse momento.\n",
        "\n",
        "**Qualquer dúvida que você possa ter de como fazer esse trabalho usando o Keras, ela pode ser sanada olhando as notas da Aula 7 - Ferramentas de Desenvolvmento.**\n",
        "\n",
        "### Exercício #4:\n",
        "\n",
        "Usando o Keras configure uma rede neural com as seguintes caracteríticas:\n",
        "\n",
        "- uma única camada intermediária com 64 neurônios e função de ativação sigmóide;\n",
        "- como queremos resolver um problema de classificação binária a camada de saída deve possuir um único neurônio e ter função de ativação sigmóide.\n"
      ]
    },
    {
      "cell_type": "code",
      "metadata": {
        "scrolled": true,
        "id": "CK5kCE-Eqgzr",
        "colab_type": "code",
        "outputId": "0d37672e-ad4a-421e-ea1f-06286ae5f1a4",
        "colab": {
          "base_uri": "https://localhost:8080/",
          "height": 221
        }
      },
      "source": [
        "# PARA VOCÊ FAZER: configuração de uma RNA rasa\n",
        "\n",
        "# Importar do Keras classes de modelos e camadas \n",
        "from tensorflow.keras.models import Sequential\n",
        "from tensorflow.keras.layers import Dense\n",
        "\n",
        "np.random.seed(1) # inicializa gerador de números aleatórios\n",
        "\n",
        "# Configuração da rede\n",
        "### COMECE AQUI ### (≈ 3 linhas)\n",
        "rna = Sequential()\n",
        "rna.add(Dense(units=64, activation='sigmoid', input_dim=train_set_x_flatten.shape[1]))\n",
        "rna.add(Dense(units=1, activation='sigmoid'))\n",
        "### TERMINE AQUI ###\n",
        "\n",
        "# Visualização da rede\n",
        "rna.summary()"
      ],
      "execution_count": 8,
      "outputs": [
        {
          "output_type": "stream",
          "text": [
            "Model: \"sequential\"\n",
            "_________________________________________________________________\n",
            "Layer (type)                 Output Shape              Param #   \n",
            "=================================================================\n",
            "dense (Dense)                (None, 64)                786496    \n",
            "_________________________________________________________________\n",
            "dense_1 (Dense)              (None, 1)                 65        \n",
            "=================================================================\n",
            "Total params: 786,561\n",
            "Trainable params: 786,561\n",
            "Non-trainable params: 0\n",
            "_________________________________________________________________\n"
          ],
          "name": "stdout"
        }
      ]
    },
    {
      "cell_type": "markdown",
      "metadata": {
        "id": "__eQcwD4qgzv",
        "colab_type": "text"
      },
      "source": [
        "**Saída esperada:**\n",
        "\n",
        "    Model: \"sequential\"\n",
        "    _________________________________________________________________\n",
        "    Layer (type)                 Output Shape              Param #   \n",
        "    =================================================================\n",
        "    dense (Dense)                (None, 64)                786496    \n",
        "    _________________________________________________________________\n",
        "    dense_1 (Dense)              (None, 1)                 65        \n",
        "    =================================================================\n",
        "    Total params: 786,561\n",
        "    Trainable params: 786,561\n",
        "    Non-trainable params: 0\n",
        "    _________________________________________________________________"
      ]
    },
    {
      "cell_type": "markdown",
      "metadata": {
        "id": "t3QKDeFiqgzw",
        "colab_type": "text"
      },
      "source": [
        "### 4.2 - Compilação e treinamento da rede neural\n",
        "\n",
        "A segunda e terceira etapas de desenvolvimento da rede no Keras é a sua compilação e treinamento. \n",
        "\n",
        "### Exercício #5:\n",
        "\n",
        "Compile e treine a sua rede neural usando as seguintes opções:\n",
        "\n",
        "- Método de otimização: gradiente descendente;\n",
        "- Função de custo: entropia cruzada;\n",
        "- Métrica: exatidão;\n",
        "- No treinamento, utilize no método fit o parâmetro batch_size=209, que é o número de exemplos de treinamento;\n",
        "- Número de épocas: 10.\n",
        "\n",
        "Nesse momento estamos treinando a rede somente para verificar se ela é adequada para resolver o problema e se está configurada de forma correta, por isso usamos poucas épocas de treinamento."
      ]
    },
    {
      "cell_type": "code",
      "metadata": {
        "id": "9XumtxBzqgzx",
        "colab_type": "code",
        "outputId": "e5fbccf8-b7cd-4a6a-a421-a836cab55d42",
        "colab": {
          "base_uri": "https://localhost:8080/",
          "height": 374
        }
      },
      "source": [
        "# PARA VOCÊ FAZER: configuração do otimizador e treinamento da RNA rasa\n",
        "\n",
        "# Importar do Keras classe de otimizadores\n",
        "from tensorflow.keras import optimizers\n",
        "\n",
        "# Compilação da rede \n",
        "### COMECE AQUI ### (≈ 1 ou 2 linhas)\n",
        "rna.compile(loss='binary_crossentropy', optimizer='sgd', metrics=['acc'])\n",
        "### TERMINE AQUI ###\n",
        "\n",
        "# Teste de treinamento da rede\n",
        "### COMECE AQUI ### (≈ 1 linha)\n",
        "rna.fit(train_set_x, train_set_y, epochs=10, batch_size=209)\n",
        "### TERMINE AQUI ###"
      ],
      "execution_count": 9,
      "outputs": [
        {
          "output_type": "stream",
          "text": [
            "Epoch 1/10\n",
            "1/1 [==============================] - 0s 2ms/step - loss: 0.7668 - acc: 0.3445\n",
            "Epoch 2/10\n",
            "1/1 [==============================] - 0s 2ms/step - loss: 0.6749 - acc: 0.6172\n",
            "Epoch 3/10\n",
            "1/1 [==============================] - 0s 2ms/step - loss: 0.6574 - acc: 0.6507\n",
            "Epoch 4/10\n",
            "1/1 [==============================] - 0s 1ms/step - loss: 0.6530 - acc: 0.6555\n",
            "Epoch 5/10\n",
            "1/1 [==============================] - 0s 2ms/step - loss: 0.6513 - acc: 0.6555\n",
            "Epoch 6/10\n",
            "1/1 [==============================] - 0s 2ms/step - loss: 0.6501 - acc: 0.6555\n",
            "Epoch 7/10\n",
            "1/1 [==============================] - 0s 2ms/step - loss: 0.6490 - acc: 0.6555\n",
            "Epoch 8/10\n",
            "1/1 [==============================] - 0s 2ms/step - loss: 0.6480 - acc: 0.6555\n",
            "Epoch 9/10\n",
            "1/1 [==============================] - 0s 1ms/step - loss: 0.6470 - acc: 0.6555\n",
            "Epoch 10/10\n",
            "1/1 [==============================] - 0s 3ms/step - loss: 0.6461 - acc: 0.6555\n"
          ],
          "name": "stdout"
        },
        {
          "output_type": "execute_result",
          "data": {
            "text/plain": [
              "<tensorflow.python.keras.callbacks.History at 0x7f2f50174c88>"
            ]
          },
          "metadata": {
            "tags": []
          },
          "execution_count": 9
        }
      ]
    },
    {
      "cell_type": "markdown",
      "metadata": {
        "id": "zM5RqKeFqgz2",
        "colab_type": "text"
      },
      "source": [
        "**Saída esperada:**\n",
        "\n",
        "Epoch 1/10\n",
        "<br />209/209 [==============================] - 0s 1ms/sample - loss: 0.7257 - acc: 0.3876\n",
        "<br />Epoch 2/10\n",
        "<br />209/209 [==============================] - 0s 272us/sample - loss: 0.6633 - acc: 0.6555\n",
        "<br />Epoch 3/10\n",
        "<br />209/209 [==============================] - 0s 162us/sample - loss: 0.6539 - acc: 0.6459\n",
        "<br />Epoch 4/10\n",
        "<br />209/209 [==============================] - 0s 153us/sample - loss: 0.6515 - acc: 0.6507\n",
        "<br />Epoch 5/10\n",
        "<br />209/209 [==============================] - 0s 153us/sample - loss: 0.6502 - acc: 0.6507\n",
        "<br />Epoch 6/10\n",
        "<br />209/209 [==============================] - 0s 143us/sample - loss: 0.6491 - acc: 0.6507\n",
        "<br />Epoch 7/10\n",
        "<br />209/209 [==============================] - 0s 153us/sample - loss: 0.6481 - acc: 0.6507\n",
        "<br />Epoch 8/10\n",
        "<br />209/209 [==============================] - 0s 166us/sample - loss: 0.6471 - acc: 0.6507\n",
        "<br />Epoch 9/10\n",
        "<br />209/209 [==============================] - 0s 157us/sample - loss: 0.6461 - acc: 0.6507\n",
        "<br />Epoch 10/10\n",
        "<br />209/209 [==============================] - 0s 167us/sample - loss: 0.6451 - acc: 0.6507\n",
        "\n",
        "Se o seu resultado é esse ou parecido com esse, você pode conluir que a rede está correta e é capaz de aprender os dados de treinamento. Assim, agora você está pronto para treinar a rede de verdade."
      ]
    },
    {
      "cell_type": "markdown",
      "metadata": {
        "id": "2mzQc8cCqgz5",
        "colab_type": "text"
      },
      "source": [
        "### Exercício #6:\n",
        "\n",
        "Retreine a sua rede usando 1000 épocas. \n",
        "\n",
        "Use a opção de **não imprimir** os resultados parciais do treinamento para não gerar tantos dados. No Keras podemos escolher como monitoramos o progresso do treinamento com o parâmetro verbose do método fit, que nos dá as seguintes opções:\n",
        "\n",
        "- verbose: inteiro = 0, 1, or 2. \n",
        "- verbose = 0: silencioso;\n",
        "- verbose = 1; barra de progresso (padrão);\n",
        "- verbose = 2; uma linha por época.\n",
        "\n",
        "Guarde os resultados do treinamento para poder fazer um gráfico do processo de treinamento. Se tiver dúvidas, veja nas notas da Aula 7 como fazer isso.\n",
        "\n",
        "Não se esqueça de usar no método fit o parâmetro batch_size=209.\n",
        "\n",
        "Esse treinamento pode levar alguns minutos."
      ]
    },
    {
      "cell_type": "code",
      "metadata": {
        "id": "s96z6pcoqgz6",
        "colab_type": "code",
        "colab": {}
      },
      "source": [
        "# PARA VOCÊ FAZER: treinamento da RNA por 1000 épocas\n",
        "\n",
        "### COMECE AQUI ### (≈ 1 linha)\n",
        "history = rna.fit(train_set_x, train_set_y, epochs=1000, batch_size=209, verbose=0)\n",
        "### TERMINE AQUI ###"
      ],
      "execution_count": 0,
      "outputs": []
    },
    {
      "cell_type": "code",
      "metadata": {
        "id": "Fk322gg-qgz8",
        "colab_type": "code",
        "outputId": "40367457-576c-446a-c05c-3b9e91b4956f",
        "colab": {
          "base_uri": "https://localhost:8080/",
          "height": 34
        }
      },
      "source": [
        "# Vamos verificar quais variáveis foram salvas no processo de treinamento\n",
        "history_dict = history.history\n",
        "history_dict.keys()"
      ],
      "execution_count": 11,
      "outputs": [
        {
          "output_type": "execute_result",
          "data": {
            "text/plain": [
              "dict_keys(['loss', 'acc'])"
            ]
          },
          "metadata": {
            "tags": []
          },
          "execution_count": 11
        }
      ]
    },
    {
      "cell_type": "markdown",
      "metadata": {
        "id": "kykHFGqpqg0A",
        "colab_type": "text"
      },
      "source": [
        "### 4.3 - Visualização do resultado do treinamento\n",
        "\n",
        "Para sabermos como o treinamento foi realizado precisamos visualizar a função de custo e a métrica ao longo do processo de treinamento.\n",
        "\n",
        "### Exercício #7: \n",
        "\n",
        "Implemente na célula abaixo a visualização dos resultados do treinamento. Observe que os valores da função de custo e da métrico estão no dicionário history com nomes `'loss'` e `'acc'`. \n",
        "\n",
        "Consulte as notas da Aula 7 para relembrar como fazer os gráficos da função de custo e da métrica em função do número de épocas."
      ]
    },
    {
      "cell_type": "code",
      "metadata": {
        "scrolled": false,
        "id": "KBViDP7Dqg0B",
        "colab_type": "code",
        "outputId": "778e89d2-58ef-4154-9af7-bc72c0b8c9ab",
        "colab": {
          "base_uri": "https://localhost:8080/",
          "height": 577
        }
      },
      "source": [
        "# PARA VOCÊ FAZER: visualização do resultado do treinamento\n",
        "\n",
        "# Salva custo e exatidão em vetores\n",
        "### COMECE AQUI ### (≈ 2 linhas)\n",
        "custo = history_dict['loss']\n",
        "exatidao = history_dict['acc']\n",
        "### TERMINE AQUI ###\n",
        "\n",
        "# Cria vetor de épocas\n",
        "### COMECE AQUI ### (≈ 1 linha)\n",
        "epocas = range(1, len(custo) + 1)\n",
        "### TERMINE AQUI ###\n",
        "\n",
        "# Gráfico do custo em funçaõ das épocas\n",
        "### COMECE AQUI ### (≈ 5 linhas)\n",
        "plt.plot(epocas, custo, 'b')\n",
        "plt.title('Valor da função de custo')\n",
        "plt.xlabel('Épocas')\n",
        "plt.ylabel('Custo')\n",
        "plt.show()\n",
        "### TERMINE AQUI ###\n",
        "\n",
        "# Gráfico da exatidão em função das épocas\n",
        "### COMECE AQUI ### (≈ 5 linhas)\n",
        "plt.plot(epocas, exatidao, 'b')\n",
        "plt.title('Valor da exatidão')\n",
        "plt.xlabel('Épocas')\n",
        "plt.ylabel('Exatidão')\n",
        "plt.show()\n",
        "### TERMINE AQUI ###"
      ],
      "execution_count": 12,
      "outputs": [
        {
          "output_type": "display_data",
          "data": {
            "image/png": "[encoded data removed]",
            "text/plain": [
              "<Figure size 432x288 with 1 Axes>"
            ]
          },
          "metadata": {
            "tags": []
          }
        },
        {
          "output_type": "display_data",
          "data": {
            "image/png": "[encoded data removed]",
            "text/plain": [
              "<Figure size 432x288 with 1 Axes>"
            ]
          },
          "metadata": {
            "tags": []
          }
        }
      ]
    },
    {
      "cell_type": "markdown",
      "metadata": {
        "id": "9TNtKplgqg0K",
        "colab_type": "text"
      },
      "source": [
        "**Saída esperada:**\n",
        "\n",
        "O comportamento esperado para a função de custo durante o treinamento é ela decrescer monotomicamente do início até o final. Para a exatidão, o comportamento esperado é ela aumentar durante o treinamento, apresentando algumas oscilações e alcançando um valor alto no final. \n",
        "\n",
        "Se você obteve esses resultados, então, a sua rede foi treinada de forma satisfatória e pode-se concluir que ela tem uma capacidade alta para se ajustar aos dados de treinamento."
      ]
    },
    {
      "cell_type": "markdown",
      "metadata": {
        "id": "B9kTcQ47qg0K",
        "colab_type": "text"
      },
      "source": [
        "### 4.4 - Avaliação do desempenho da rede neural ###\n",
        "\n",
        "Após treinar a RNA é importante avaliar o seu desempenho com dados que não foram  utilizados no treinamento. Para isso usamos o dados de teste, que estão nos tensores test_set_x e test_set_y. \n",
        "\n",
        "### Exercício #8:\n",
        "\n",
        "Avalie a sua rede neural calculando os valores da função de custo e da exatidão para os dados de teste usando o método evaluate, conforme visto na Aula 7 - Ferramentas de desenvolvimento. Calcule esses valores também para os dados de treinamento para poder fazer comparação."
      ]
    },
    {
      "cell_type": "code",
      "metadata": {
        "id": "F4PJGuVyqg0L",
        "colab_type": "code",
        "outputId": "840338b1-afc6-48ea-a2fd-793675702e0d",
        "colab": {
          "base_uri": "https://localhost:8080/",
          "height": 85
        }
      },
      "source": [
        "# PARA VOCÊ FAZER: calculo do custo e exatidão para os dados de teste\n",
        "\n",
        "# Usando método evaluate calcule o custo e a exatidão para os dados de treinamento e depois apresente os resultados\n",
        "### COMECE AQUI ### (≈ 2 linhas)\n",
        "custo_e_metricas_train = rna.evaluate(train_set_x, train_set_y, batch_size=1)\n",
        "print(custo_e_metricas_train)\n",
        "### TERMINE AQUI ###\n",
        "\n",
        "# Usando método evaluate calcule o custo e a exatidão para os dados de teste e depois apresente os resultados\n",
        "### COMECE AQUI ### (≈ 2 linhas)\n",
        "custo_e_metricas_test = rna.evaluate(test_set_x, test_set_y, batch_size=1)\n",
        "print(custo_e_metricas_test)\n",
        "### TERMINE AQUI ###"
      ],
      "execution_count": 13,
      "outputs": [
        {
          "output_type": "stream",
          "text": [
            "209/209 [==============================] - 0s 2ms/step - loss: 0.3313 - acc: 0.9043\n",
            "[0.3312949240207672, 0.9043062329292297]\n",
            "50/50 [==============================] - 0s 2ms/step - loss: 0.6080 - acc: 0.6800\n",
            "[0.6079809069633484, 0.6800000071525574]\n"
          ],
          "name": "stdout"
        }
      ]
    },
    {
      "cell_type": "markdown",
      "metadata": {
        "collapsed": true,
        "id": "xJVbbGyHqg0O",
        "colab_type": "text"
      },
      "source": [
        "**Resultados esperados:**\n",
        "\n",
        "209/209 [==============================] - 0s 656us/sample - loss: 0.3270 - acc: 0.9091\n",
        "<br />[0.3269858589868226, 0.90909094]\n",
        "<br />50/50 [==============================] - 0s 260us/sample - loss: 0.5960 - acc: 0.7000\n",
        "<br />[0.5959848165512085, 0.7]\n",
        "\n",
        "**Comentários:**\n",
        "\n",
        "- A exatidação obtida com os dados de treinamento é cerca de 90%, isso significa que a sua rede é satisfatória para resolver esse problema. \n",
        "\n",
        "- A exatidão obtida com os dados de teste é de cerca de 68%. Esse resultado de fato não é muito bom para essa tarefa simples de classificação. \n",
        "\n",
        "Analisando esses dados surge uma dúvida. Porque a rede não foi capaz de apresentar um bom desempenho nos dados de teste, se os resultados foram bons nos dados de treinamento?"
      ]
    },
    {
      "cell_type": "markdown",
      "metadata": {
        "id": "MDVKeZKpqg0P",
        "colab_type": "text"
      },
      "source": [
        "### Exercício #9:\n",
        "\n",
        "Para avaliar melhor o desepenho da sua rede calcule as saídas previstas dos exemplos do conjunto de teste usando o método predict e a função numpy round faça um gráfico com as classes reais e previstas dos dados do conjunto de teste. Se não souber como fazer consulte a Aula 7 - Ferramentas de desenvolvimento."
      ]
    },
    {
      "cell_type": "code",
      "metadata": {
        "id": "PdubF0_yqg0Q",
        "colab_type": "code",
        "outputId": "ac2f5c2e-fa37-4682-f3a0-a67be4a31b56",
        "colab": {
          "base_uri": "https://localhost:8080/",
          "height": 312
        }
      },
      "source": [
        "# PARA VOCÊ FAZER: calculo das classes previstas dos dados de teste\n",
        "\n",
        "# Usando método predict calcule as classes previstas\n",
        "### COMECE AQUI ### (≈ 2 linhas)\n",
        "y_prev = rna.predict(test_set_x, batch_size=1)\n",
        "yy_prev = np.round(y_prev)\n",
        "### TERMINE AQUI ###\n",
        "\n",
        "# Transforma saida prevista em números inteiros\n",
        "yy_prev = yy_prev.astype(int)\n",
        "\n",
        "# Gráfico das classes reais e previstas\n",
        "### COMECE AQUI ### (≈ 7 linhas)\n",
        "plt.plot(test_set_y, 'ro', label='Classes reais')\n",
        "plt.plot(yy_prev, 'bo', label='Classes previstas')\n",
        "plt.title('Classes reais e previstas')\n",
        "plt.xlabel('Exemplos')\n",
        "plt.ylabel('Classes')\n",
        "plt.legend()\n",
        "plt.show\n",
        "### TERMINE AQUI ###"
      ],
      "execution_count": 14,
      "outputs": [
        {
          "output_type": "execute_result",
          "data": {
            "text/plain": [
              "<function matplotlib.pyplot.show>"
            ]
          },
          "metadata": {
            "tags": []
          },
          "execution_count": 14
        },
        {
          "output_type": "display_data",
          "data": {
            "image/png": "[encoded data removed]",
            "text/plain": [
              "<Figure size 432x288 with 1 Axes>"
            ]
          },
          "metadata": {
            "tags": []
          }
        }
      ]
    },
    {
      "cell_type": "markdown",
      "metadata": {
        "collapsed": true,
        "id": "c379xBJZqg0T",
        "colab_type": "text"
      },
      "source": [
        "**Saída esperada:**\n",
        "\n",
        "<img src=\"https://github.com/pigortekids/Notas4/blob/master/aula5/classes_previstas_test.png?raw=1\" style=\"width:400px;height:280px;\">\n",
        "\n",
        "**Importante:**\n",
        "\n",
        "No Google Colab o comando  ```<img src=\"imagem\"> ``` para mostrar uma imagem em uma célula de texto não funciona. \n",
        "\n",
        "Para mostrar uma imagem em uma célula de texto (markdown) no **Google Colab** deve-se usar o seguinte procedimento:\n",
        "\n",
        "1. Na célula de texto clicar em inserir imagem. Ao fazer isso o comando `![alt text](https://)` é inserido.\n",
        "2. A imagem deve estar no Google Drive. Vá até onde está o arquivo da imagem no Google Drive, clique com o botão direito do mouse e selecione \"Gerar link compartilhável\" (em inglês \"Get shareable link\") e copie o link no lugar de \"https://\". \n",
        "3. O link copiado é algo do tipo: https://drive.google.com/open?id=1GWk0IjW-SQcwQvhsgOXpjscbROdxXCUI\n",
        "4. Trocar a palavra \"open\" por \"uc\" e pronto a imagem irá aparecer.\n"
      ]
    },
    {
      "cell_type": "markdown",
      "metadata": {
        "id": "qm_CIY97qg0U",
        "colab_type": "text"
      },
      "source": [
        "**Comentários:**\n",
        "\n",
        "- Uma previsão errada de classe pode ser dectada pelos círculos vermelhos, pois quando a classe prevista é igual à classe real o círculo azul é colocado em cima do vermelho tapando-o.\n",
        "\n",
        "- Provavelmente no grafico devem aparecer mais círculos azuis do que vermelhos indicando que existem mais acertos do que erros na previsão das classes."
      ]
    },
    {
      "cell_type": "markdown",
      "metadata": {
        "collapsed": true,
        "id": "IHDQtUMlqg0V",
        "colab_type": "text"
      },
      "source": [
        "Use o código a seguir, mudando a variável 'index', para você visualizar as imagens e a classe prevista dos exemplos de teste."
      ]
    },
    {
      "cell_type": "code",
      "metadata": {
        "id": "GHB50P3Hqg0V",
        "colab_type": "code",
        "outputId": "486c35c1-b41d-4e38-b9e2-aee3ab496b7f",
        "colab": {
          "base_uri": "https://localhost:8080/",
          "height": 285
        }
      },
      "source": [
        "# Exemplo de classificação de uma imagem.\n",
        "index = 8\n",
        "plt.imshow(test_set_x[index,:].reshape((num_px, num_px, 3)))\n",
        "print (\"y = \" + str(test_set_y[index]) + \", imagem é prevista como sendo uma '\" + classes[np.squeeze(yy_prev[index])].decode(\"utf-8\"))"
      ],
      "execution_count": 15,
      "outputs": [
        {
          "output_type": "stream",
          "text": [
            "y = [1], imagem é prevista como sendo uma 'cat\n"
          ],
          "name": "stdout"
        },
        {
          "output_type": "display_data",
          "data": {
            "image/png": "[encoded data removed]",
            "text/plain": [
              "<Figure size 432x288 with 1 Axes>"
            ]
          },
          "metadata": {
            "tags": []
          }
        }
      ]
    },
    {
      "cell_type": "markdown",
      "metadata": {
        "id": "NzG43aiwqg0a",
        "colab_type": "text"
      },
      "source": [
        "**Interpretação dos resultados:**\n",
        "\n",
        "O custo decrescendo durante o treinamento mostra que os parâmetros estão sendo ajustados de forma a que a rede está aprendendo os dados de treinamento. Como o custo obtido não é muito baixo, então, provavelmente é possível treinar ainda mais a rede para obter melhores resultados nos dados de treinamento. \n",
        "\n",
        "Tente refazer as etapas 4.2, 4.3 e 4.4, aumentando o número de épocas para algo em torno de 5000, para retreinar a rede. Você verá que o custo de treinamento diminui até praticamente zero e a exatidão aumenta para quase 100%. \n",
        "\n",
        "**Importante:** só tente treinar com mais épocas após entregar o seu trabalho, pois os resultados esperados são para o treinamento com 1000 épocas.\n",
        "\n",
        "Contudo, nem sempre é bom treinar a rede até se obter custo perto de zero e exatidão 100% para os dados de treinamento. Em geral quando isso acontece o custo e a exatidão para os dados de teste pioraram. Nesse caso, pode ocorrer que a rede está memorizando os dados de treinamento e não generalizando a solução do problema. Veremos daqui algumas aulas como resolver esse problema. Mas podemos verificar esse fato retreinando a rede para um número maior de épocas. "
      ]
    },
    {
      "cell_type": "markdown",
      "metadata": {
        "id": "18ysmtAXqg0b",
        "colab_type": "text"
      },
      "source": [
        "## 5 - Desenvolvimento e teste da rede neural deep-learning ## \n",
        "\n",
        "Nessa etapa do trabalho você vai configurar, treinar e testar uma rede neural deep learning.\n",
        "\n",
        "**Qualquer dúvida que você possa ter de como fazer essa parte do trabalho, ela pode ser sanada olhando as notas da Aula 7 - Ferramentas de Desenvolvmento.**\n",
        "\n",
        "### Exercício #10:\n",
        "\n",
        "Usando o Keras configure e crie uma rede neural com as seguintes caracteríticas:\n",
        "\n",
        "- três camadas intermediárias com função de ativação tipo ReLu;\n",
        "- número de neurônios das camadas intermediárias: 64, 32, 16;\n",
        "- camada de saída deve possuir um único neurônio e ter função de ativação sigmóide.\n",
        "\n",
        "Essa rede deve ser criada dentro de uma função (build_model) e os argumentos dessa função são: a dimensão dos dados de entrada e os números de neurônios das diversas camadas."
      ]
    },
    {
      "cell_type": "code",
      "metadata": {
        "id": "CHH2s5FPqg0c",
        "colab_type": "code",
        "outputId": "b077307d-84b0-4881-d5c9-16abf0cf7c2d",
        "colab": {
          "base_uri": "https://localhost:8080/",
          "height": 289
        }
      },
      "source": [
        "# PARA VOCÊ FAZER: configuração da rede deep-learning\n",
        "\n",
        "# Importar do Keras modelos e camadas\n",
        "from tensorflow.keras import models\n",
        "from tensorflow.keras import layers\n",
        "\n",
        "def build_model(data_shape,n1,n2,n3,n4):\n",
        "    \"\"\"\n",
        "    Essa função configura uma rede neural deep-learnig\n",
        "    \n",
        "    Argumentos:\n",
        "    data_shape = tuple com dimensões dos dados de entrada da rede\n",
        "    n1 = número de neurônios da primeira camada\n",
        "    n2 = número de neurônios da segunda camada\n",
        "    n3 = número de neurônios da terceira camada\n",
        "    n4 = número de neurônios da camada de saída\n",
        "        \n",
        "    Retorna: modelo da rede neural\n",
        "    \"\"\"\n",
        "    \n",
        "    np.random.seed(3)\n",
        "    \n",
        "    model = models.Sequential()\n",
        "    \n",
        "    # Adicione as camadas em seu modelo de RNA\n",
        "    #### COMECE AQUI ### (≈ 4 linhas)\n",
        "    model.add(Dense(units=n1, activation='relu', input_dim=data_shape[0]))\n",
        "    model.add(Dense(units=n2, activation='relu'))\n",
        "    model.add(Dense(units=n3, activation='relu'))\n",
        "    model.add(Dense(units=n4, activation='sigmoid'))\n",
        "    ### TERMINE AQUI ###\n",
        "    \n",
        "    return model\n",
        "\n",
        "# Redefine semente para geração de números aleatórios\n",
        "np.random.seed(3)\n",
        "\n",
        "# Dimensão dos dados de entrada\n",
        "data_shape = (12288,)\n",
        "\n",
        "# Definição dos números de neurônios das camadas\n",
        "#### COMECE AQUI ### (≈ 4 linhas)\n",
        "n1 = 64\n",
        "n2 = 32\n",
        "n3 = 16\n",
        "n4 = 1\n",
        "### TERMINE AQUI ###\n",
        "\n",
        "# Cria rede neural deep learning\n",
        "#### COMECE AQUI ### (≈ 2 linhas)\n",
        "rnadl = build_model(data_shape,n1,n2,n3,n4)\n",
        "rnadl.summary()\n",
        "### TERMINE AQUI ###"
      ],
      "execution_count": 16,
      "outputs": [
        {
          "output_type": "stream",
          "text": [
            "Model: \"sequential_1\"\n",
            "_________________________________________________________________\n",
            "Layer (type)                 Output Shape              Param #   \n",
            "=================================================================\n",
            "dense_2 (Dense)              (None, 64)                786496    \n",
            "_________________________________________________________________\n",
            "dense_3 (Dense)              (None, 32)                2080      \n",
            "_________________________________________________________________\n",
            "dense_4 (Dense)              (None, 16)                528       \n",
            "_________________________________________________________________\n",
            "dense_5 (Dense)              (None, 1)                 17        \n",
            "=================================================================\n",
            "Total params: 789,121\n",
            "Trainable params: 789,121\n",
            "Non-trainable params: 0\n",
            "_________________________________________________________________\n"
          ],
          "name": "stdout"
        }
      ]
    },
    {
      "cell_type": "markdown",
      "metadata": {
        "id": "6fOa8rckqg0e",
        "colab_type": "text"
      },
      "source": [
        "**Saída esperada:**\n",
        "\n",
        "    Model: \"sequential_1\"\n",
        "    _________________________________________________________________\n",
        "    Layer (type)                 Output Shape              Param #   \n",
        "    =================================================================\n",
        "    dense_2 (Dense)              (None, 64)                786496    \n",
        "    _________________________________________________________________\n",
        "    dense_3 (Dense)              (None, 32)                2080      \n",
        "    _________________________________________________________________\n",
        "    dense_4 (Dense)              (None, 16)                528       \n",
        "    _________________________________________________________________\n",
        "    dense_5 (Dense)              (None, 1)                 17        \n",
        "    =================================================================\n",
        "    Total params: 789,121\n",
        "    Trainable params: 789,121\n",
        "    Non-trainable params: 0\n",
        "    _________________________________________________________________"
      ]
    },
    {
      "cell_type": "markdown",
      "metadata": {
        "id": "uJ9ez0sDqg0f",
        "colab_type": "text"
      },
      "source": [
        "### Exercício #11:\n",
        "\n",
        "Repita os itens 4.2, 4.3 e 4.4 para a rede neural deep-learning. Use `rnadl` como nome da rede e acrescentando as letras `dl` nas variáveis de custo, exatidao e epocas.\n",
        "\n",
        "Na célula abaixo compile e treine a sua rede deep-learning para 10 épocas. Esse treinamento é só para verificar se o programa está correto."
      ]
    },
    {
      "cell_type": "code",
      "metadata": {
        "id": "-d_bZwtOqg0f",
        "colab_type": "code",
        "outputId": "ca65360a-947b-454f-d7e8-c25f253bd9f2",
        "colab": {
          "base_uri": "https://localhost:8080/",
          "height": 374
        }
      },
      "source": [
        "# PARA VOCÊ FAZER: compilação e treinamento da rede deep-learning\n",
        "\n",
        "# Compilação da rede \n",
        "### COMECE AQUI ### (≈ 2 linhas)\n",
        "rnadl.compile(loss='binary_crossentropy', optimizer='sgd', metrics=['acc'])\n",
        "### TERMINE AQUI ###\n",
        "\n",
        "# Teste de treinamento da rede\n",
        "### COMECE AQUI ### (≈ 1 linha)\n",
        "rnadl.fit(train_set_x, train_set_y, epochs=10, batch_size=209)\n",
        "### TERMINE AQUI ###"
      ],
      "execution_count": 17,
      "outputs": [
        {
          "output_type": "stream",
          "text": [
            "Epoch 1/10\n",
            "1/1 [==============================] - 0s 2ms/step - loss: 0.7014 - acc: 0.4402\n",
            "Epoch 2/10\n",
            "1/1 [==============================] - 0s 1ms/step - loss: 0.6595 - acc: 0.6411\n",
            "Epoch 3/10\n",
            "1/1 [==============================] - 0s 2ms/step - loss: 0.6508 - acc: 0.6459\n",
            "Epoch 4/10\n",
            "1/1 [==============================] - 0s 2ms/step - loss: 0.6431 - acc: 0.6459\n",
            "Epoch 5/10\n",
            "1/1 [==============================] - 0s 2ms/step - loss: 0.6365 - acc: 0.6459\n",
            "Epoch 6/10\n",
            "1/1 [==============================] - 0s 4ms/step - loss: 0.6313 - acc: 0.6459\n",
            "Epoch 7/10\n",
            "1/1 [==============================] - 0s 3ms/step - loss: 0.6267 - acc: 0.6555\n",
            "Epoch 8/10\n",
            "1/1 [==============================] - 0s 1ms/step - loss: 0.6227 - acc: 0.6603\n",
            "Epoch 9/10\n",
            "1/1 [==============================] - 0s 2ms/step - loss: 0.6196 - acc: 0.6603\n",
            "Epoch 10/10\n",
            "1/1 [==============================] - 0s 2ms/step - loss: 0.6157 - acc: 0.6603\n"
          ],
          "name": "stdout"
        },
        {
          "output_type": "execute_result",
          "data": {
            "text/plain": [
              "<tensorflow.python.keras.callbacks.History at 0x7f2f285d73c8>"
            ]
          },
          "metadata": {
            "tags": []
          },
          "execution_count": 17
        }
      ]
    },
    {
      "cell_type": "markdown",
      "metadata": {
        "id": "5TxAOJOBqg0j",
        "colab_type": "text"
      },
      "source": [
        "**Saída esparada:**\n",
        "\n",
        "Epoch 1/10\n",
        "<br />209/209 [==============================] - 0s 1ms/sample - loss: 0.7339 - acc: 0.3206\n",
        "<br />Epoch 2/10\n",
        "<br />209/209 [==============================] - 0s 175us/sample - loss: 0.6939 - acc: 0.5072\n",
        "<br />Epoch 3/10\n",
        "<br />209/209 [==============================] - 0s 172us/sample - loss: 0.6786 - acc: 0.5933\n",
        "<br />Epoch 4/10\n",
        "<br />209/209 [==============================] - 0s 191us/sample - loss: 0.6661 - acc: 0.6268\n",
        "<br />Epoch 5/10\n",
        "<br />209/209 [==============================] - 0s 177us/sample - loss: 0.6588 - acc: 0.6316\n",
        "<br />Epoch 6/10\n",
        "<br />209/209 [==============================] - 0s 167us/sample - loss: 0.6529 - acc: 0.6459\n",
        "<br />Epoch 7/10\n",
        "<br />209/209 [==============================] - 0s 162us/sample - loss: 0.6479 - acc: 0.6507\n",
        "<br />Epoch 8/10\n",
        "<br />209/209 [==============================] - 0s 172us/sample - loss: 0.6433 - acc: 0.6507\n",
        "<br />Epoch 9/10\n",
        "<br />209/209 [==============================] - 0s 167us/sample - loss: 0.6391 - acc: 0.6555\n",
        "<br />Epoch 10/10\n",
        "<br />209/209 [==============================] - 0s 167us/sample - loss: 0.6359 - acc: 0.6555"
      ]
    },
    {
      "cell_type": "markdown",
      "metadata": {
        "id": "e9AHGdwUqg0k",
        "colab_type": "text"
      },
      "source": [
        "Na célula abaixo treine a sua rede deep-learning por 1000 épocas. Use verbose = 0 e batch_size = 209."
      ]
    },
    {
      "cell_type": "code",
      "metadata": {
        "id": "ufrfQ9wXqg0l",
        "colab_type": "code",
        "outputId": "f58f1ae7-9dd2-4dfc-a238-bc74b463023b",
        "colab": {
          "base_uri": "https://localhost:8080/",
          "height": 34
        }
      },
      "source": [
        "# PARA VOCÊ FAZER: treinamento da rede deep-learning por 1000 épocas\n",
        "\n",
        "### COMECE AQUI ### (≈ 1 linha)\n",
        "historydl = rnadl.fit(train_set_x, train_set_y, epochs=1000, batch_size=209, verbose=0)\n",
        "### TERMINE AQUI ###\n",
        "\n",
        "# Vamos verificar quais variáveis foram salvas no processo de treinamento\n",
        "historydl_dict = historydl.history\n",
        "historydl_dict.keys()"
      ],
      "execution_count": 18,
      "outputs": [
        {
          "output_type": "execute_result",
          "data": {
            "text/plain": [
              "dict_keys(['loss', 'acc'])"
            ]
          },
          "metadata": {
            "tags": []
          },
          "execution_count": 18
        }
      ]
    },
    {
      "cell_type": "markdown",
      "metadata": {
        "id": "yrqDQ_QLqg0q",
        "colab_type": "text"
      },
      "source": [
        "### Exercício #12:\n",
        "\n",
        "Na célula abaixo introduza os comandos para visualizar os resultados da sua rede deep-learning."
      ]
    },
    {
      "cell_type": "code",
      "metadata": {
        "scrolled": false,
        "id": "MB_rG89Xqg0q",
        "colab_type": "code",
        "outputId": "e38f411c-7c33-4af0-90e5-bca7341333d9",
        "colab": {
          "base_uri": "https://localhost:8080/",
          "height": 577
        }
      },
      "source": [
        "# PARA VOCÊ FAZER: visualização do resultado do treinamento da rede deep-learning\n",
        "\n",
        "# Salva custo e exatidão em vetores\n",
        "### COMECE AQUI ### (≈ 2 linhas)\n",
        "custodl = historydl_dict['loss']\n",
        "exatidaodl = historydl_dict['acc']\n",
        "### TERMINE AQUI ###\n",
        "\n",
        "# Cria vetor de épocas\n",
        "### COMECE AQUI ### (≈ 1 linha)\n",
        "epocasdl = range(1, len(custo) + 1)\n",
        "### TERMINE AQUI ###\n",
        "\n",
        "# Gráfico do custo em funçaõ das épocas\n",
        "### COMECE AQUI ### (≈ 5 linhas)\n",
        "plt.plot(epocasdl, custodl, 'b')\n",
        "plt.title('Valor da função de custo')\n",
        "plt.xlabel('Épocas')\n",
        "plt.ylabel('Custo')\n",
        "plt.show()\n",
        "### TERMINE AQUI ###\n",
        "\n",
        "# Gráfico da exatidão em função das épocas\n",
        "### COMECE AQUI ### (≈ 5 linhas)\n",
        "plt.plot(epocasdl, exatidaodl, 'b')\n",
        "plt.title('Valor da exatidão')\n",
        "plt.xlabel('Épocas')\n",
        "plt.ylabel('Exatidão')\n",
        "plt.show()\n",
        "### TERMINE AQUI ###"
      ],
      "execution_count": 19,
      "outputs": [
        {
          "output_type": "display_data",
          "data": {
            "image/png": "[encoded data removed]",
            "text/plain": [
              "<Figure size 432x288 with 1 Axes>"
            ]
          },
          "metadata": {
            "tags": []
          }
        },
        {
          "output_type": "display_data",
          "data": {
            "image/png": "[encoded data removed]",
            "text/plain": [
              "<Figure size 432x288 with 1 Axes>"
            ]
          },
          "metadata": {
            "tags": []
          }
        }
      ]
    },
    {
      "cell_type": "markdown",
      "metadata": {
        "id": "q4cTu3tGqg0u",
        "colab_type": "text"
      },
      "source": [
        "### Exercício #13:\n",
        "\n",
        "Na célula abaixo introduza os comandos para avaliar a sua rede deep-learning para os dados de treinamento e de teste."
      ]
    },
    {
      "cell_type": "code",
      "metadata": {
        "id": "iUNqEX0gqg0u",
        "colab_type": "code",
        "outputId": "e4f85791-d5c6-4fa0-d898-eb5d52192119",
        "colab": {
          "base_uri": "https://localhost:8080/",
          "height": 85
        }
      },
      "source": [
        "# PARA VOCÊ FAZER: calculo do custo e exatidão para os dados de treinamento e de teste para a rede deep-learning\n",
        "\n",
        "# Usando método evaluate calcule o custo e a exatidão dos dados de treinamento e depois apresente os resultados\n",
        "### COMECE AQUI ### (≈ 2 linhas)\n",
        "custo_e_metricasdl_train = rnadl.evaluate(train_set_x, train_set_y, batch_size=1)\n",
        "print(custo_e_metricasdl_train)\n",
        "### TERMINE AQUI ###\n",
        "\n",
        "# Usando método evaluate calcule o custo e a exatidão dos dados de teste e depois apresente os resultados\n",
        "### COMECE AQUI ### (≈ 2 linhas)\n",
        "custo_e_metricasdl_test = rnadl.evaluate(test_set_x, test_set_y, batch_size=1)\n",
        "print(custo_e_metricasdl_test)\n",
        "### TERMINE AQUI ###"
      ],
      "execution_count": 20,
      "outputs": [
        {
          "output_type": "stream",
          "text": [
            "209/209 [==============================] - 0s 2ms/step - loss: 0.0084 - acc: 1.0000\n",
            "[0.008403182961046696, 1.0]\n",
            "50/50 [==============================] - 0s 2ms/step - loss: 1.0731 - acc: 0.6800\n",
            "[1.0731061697006226, 0.6800000071525574]\n"
          ],
          "name": "stdout"
        }
      ]
    },
    {
      "cell_type": "markdown",
      "metadata": {
        "id": "EWXW80fhqg0x",
        "colab_type": "text"
      },
      "source": [
        "**Saída esperada:**\n",
        "\n",
        "209/209 [==============================] - 0s 482us/sample - loss: 0.0115 - acc: 1.0000\n",
        "<br />[0.011545336649320913, 1.0]\n",
        "<br />50/50 [==============================] - 0s 399us/sample - loss: 1.0013 - acc: 0.7400\n",
        "<br />[1.0013008093833924, 0.74]"
      ]
    },
    {
      "cell_type": "markdown",
      "metadata": {
        "id": "a8aoxdX6qg0x",
        "colab_type": "text"
      },
      "source": [
        "### Exercício #14:\n",
        "\n",
        "Na célula abaixo introduza os comandos para clcular as classes previstas para os dados de teste."
      ]
    },
    {
      "cell_type": "code",
      "metadata": {
        "id": "xO1jnTxxqg0y",
        "colab_type": "code",
        "outputId": "c5a0132f-e1ba-4f2c-d164-a7bb85bd2f8a",
        "colab": {
          "base_uri": "https://localhost:8080/",
          "height": 312
        }
      },
      "source": [
        "# PARA VOCÊ FAZER: calculo das classes previstas dos dados de teste para a rede deep-learning\n",
        "\n",
        "# Usando método predict calcule as classes previstas\n",
        "### COMECE AQUI ### (≈ 2 linhas)\n",
        "y_prevdl = rnadl.predict(test_set_x, batch_size=1)\n",
        "yy_prevdl = np.round(y_prevdl)\n",
        "### TERMINE AQUI ###\n",
        "\n",
        "# Transforma saida prevista em números inteiros\n",
        "yy_prevdl = yy_prevdl.astype(int)\n",
        "\n",
        "# Gráfico das classes reais e previstas\n",
        "### COMECE AQUI ### (≈ 7 linhas)\n",
        "plt.plot(test_set_y, 'ro', label='Classes reais')\n",
        "plt.plot(yy_prev, 'bo', label='Classes previstas')\n",
        "plt.title('Classes reais e previstas')\n",
        "plt.xlabel('Exemplos')\n",
        "plt.ylabel('Classes')\n",
        "plt.legend()\n",
        "plt.show\n",
        "### TERMINE AQUI ###"
      ],
      "execution_count": 21,
      "outputs": [
        {
          "output_type": "execute_result",
          "data": {
            "text/plain": [
              "<function matplotlib.pyplot.show>"
            ]
          },
          "metadata": {
            "tags": []
          },
          "execution_count": 21
        },
        {
          "output_type": "display_data",
          "data": {
            "image/png": "[encoded data removed]",
            "text/plain": [
              "<Figure size 432x288 with 1 Axes>"
            ]
          },
          "metadata": {
            "tags": []
          }
        }
      ]
    },
    {
      "cell_type": "markdown",
      "metadata": {
        "id": "HeAhFc-lqg01",
        "colab_type": "text"
      },
      "source": [
        "**Saída esperada:**\n",
        "\n",
        "O número de erros de classificação é igual a 12 (ou 13), representado por 12 (13) bolinhas vermelhas, o que significa 76% (74%) dos 50 exemplos de teste.\n",
        "\n",
        "**Interpretação dos resultados:**\n",
        "\n",
        "Se você fez tudo correto, então, os resultados obtidos do custo e da exatidão para os dados de teste são melhores para a rede neural deep-learning do que para a rede neural rasa, como era de se esperar.\n",
        "\n",
        "Observe que a rede deep learning possui quase o mesmo número de parâmetros do que a rede rasa, mas obtém resultados mais satisfatórios. \n",
        "\n",
        "O que fez com que os resultados da rede deep learning fossem muito melhores do que a rede rasa? O número de camadas, o tipo de função de ativação, ou simplesmenete o número de parâmetros?"
      ]
    },
    {
      "cell_type": "markdown",
      "metadata": {
        "collapsed": true,
        "id": "m5f6KPY6qg01",
        "colab_type": "text"
      },
      "source": [
        "<font color='blue'>\n",
        "    \n",
        "**O que é importante lembrar:**\n",
        "- A escolha do número de neurônios das camadas da rede é muito importane\n",
        "- O tipo de função de ativação usada pode fazer diferença nos resultados\n",
        "- Não é uma tarefa fácil desenvolver uma rede neural que apresenta um desempenho bom, mas não é impossível"
      ]
    },
    {
      "cell_type": "markdown",
      "metadata": {
        "collapsed": true,
        "id": "UbF5HHLjqg02",
        "colab_type": "text"
      },
      "source": [
        "## 6 - Teste as redes que você desenvolveu com sua própria imagem \n",
        "\n",
        "Você pode usar qualquer imagem e verificar se as suas redes neurais são eficientes. Para fazer isso deve fazer o seguinte:\n",
        "    1. Fazer upload do arquivo da imagem no seu Colab;\n",
        "    2. Colocar o nome do arquivo na variável `my_image`;\n",
        "    3. Executar a célula de código abaixo e verificar se a rede acerta (1 = imagem mostra gato, 0 = imagem não tem gato)!"
      ]
    },
    {
      "cell_type": "code",
      "metadata": {
        "scrolled": false,
        "id": "JE-wQtSoqg03",
        "colab_type": "code",
        "colab": {
          "base_uri": "https://localhost:8080/",
          "height": 286
        },
        "outputId": "2ca5b6af-a298-4cce-b6d2-7f11b380e7de"
      },
      "source": [
        "# PARA VOCÊ FAZER: teste da rede com suas imagens\n",
        "\n",
        "## COMECE AQUI ## (coloque o nome do arquivo com a sua imagem) \n",
        "my_image = 'gato1.jpeg'\n",
        "## TERMINE AQUI ##\n",
        "\n",
        "# Pré-processamento da imagem para acertar dimensões.\n",
        "fname = my_image\n",
        "image = Image.open(fname)\n",
        "my_image = image.resize((num_px, num_px), Image.ANTIALIAS)\n",
        "my_image = np.array(my_image)\n",
        "my_image = my_image.reshape((1, num_px*num_px*3))\n",
        "my_image = my_image.astype(float)\n",
        "\n",
        "# Previsão da rede neural\n",
        "y_prev_myimage = rnadl.predict(my_image)\n",
        "my_predicted_image = np.round(y_prev_myimage)\n",
        "my_predicted_image = my_predicted_image.astype(int)\n",
        "\n",
        "plt.imshow(image)\n",
        "print(\"y = \" + str(np.squeeze(my_predicted_image)) + \", sua rede prevê \\\"\" + classes[int(np.squeeze(my_predicted_image)),].decode(\"utf-8\") +  \"\\\" picture.\")"
      ],
      "execution_count": 27,
      "outputs": [
        {
          "output_type": "stream",
          "text": [
            "y = 1, sua rede prevê \"cat\" picture.\n"
          ],
          "name": "stdout"
        },
        {
          "output_type": "display_data",
          "data": {
            "image/png": "[encoded data removed]",
            "text/plain": [
              "<Figure size 432x288 with 1 Axes>"
            ]
          },
          "metadata": {
            "tags": []
          }
        }
      ]
    },
    {
      "cell_type": "markdown",
      "metadata": {
        "id": "lQqO3TDHqg06",
        "colab_type": "text"
      },
      "source": [
        "Finalmente, como sugestão, tente fazer alterações de parâmetros e executar o notebook novamente. Mas lembre-se de salvar o seu trabalho em um arquivo pdf e enviar para avaliação antes de modificar o notebook e realizar os seus testes.\n",
        "\n",
        "Algumas sugestões do que alterar:\n",
        "\n",
        "- Número de camadas;\n",
        "- Número de neurônios nas camadas;\n",
        "- Funções de ativação;\n",
        "- Tente impor um taxa de aprendizado;\n",
        "- Tente outras formas de normalizar os dados.\n"
      ]
    }
  ]
}