{
  "nbformat": 4,
  "nbformat_minor": 0,
  "metadata": {
    "colab": {
      "name": "Aula03-BigData.ipynb",
      "provenance": []
    },
    "kernelspec": {
      "name": "python3",
      "display_name": "Python 3"
    }
  },
  "cells": [
    {
      "cell_type": "code",
      "metadata": {
        "id": "pfXSPWJ_7OqR",
        "outputId": "659ccbe3-057a-41dc-ef37-5ae6777ad511",
        "colab": {
          "base_uri": "https://localhost:8080/",
          "height": 139
        }
      },
      "source": [
        "#Instalação dos pacotes\n",
        "!pip3 install mrjob"
      ],
      "execution_count": 1,
      "outputs": [
        {
          "output_type": "stream",
          "text": [
            "Collecting mrjob\n",
            "\u001b[?25l  Downloading https://files.pythonhosted.org/packages/8e/58/fc28ab743aba16e90736ad4e29694bd2adaf7b879376ff149306d50c4e90/mrjob-0.7.4-py2.py3-none-any.whl (439kB)\n",
            "\r\u001b[K     |▊                               | 10kB 20.1MB/s eta 0:00:01\r\u001b[K     |█▌                              | 20kB 2.9MB/s eta 0:00:01\r\u001b[K     |██▎                             | 30kB 3.8MB/s eta 0:00:01\r\u001b[K     |███                             | 40kB 4.1MB/s eta 0:00:01\r\u001b[K     |███▊                            | 51kB 3.4MB/s eta 0:00:01\r\u001b[K     |████▌                           | 61kB 3.7MB/s eta 0:00:01\r\u001b[K     |█████▏                          | 71kB 4.1MB/s eta 0:00:01\r\u001b[K     |██████                          | 81kB 4.3MB/s eta 0:00:01\r\u001b[K     |██████▊                         | 92kB 4.7MB/s eta 0:00:01\r\u001b[K     |███████▌                        | 102kB 4.5MB/s eta 0:00:01\r\u001b[K     |████████▏                       | 112kB 4.5MB/s eta 0:00:01\r\u001b[K     |█████████                       | 122kB 4.5MB/s eta 0:00:01\r\u001b[K     |█████████▊                      | 133kB 4.5MB/s eta 0:00:01\r\u001b[K     |██████████▍                     | 143kB 4.5MB/s eta 0:00:01\r\u001b[K     |███████████▏                    | 153kB 4.5MB/s eta 0:00:01\r\u001b[K     |████████████                    | 163kB 4.5MB/s eta 0:00:01\r\u001b[K     |████████████▊                   | 174kB 4.5MB/s eta 0:00:01\r\u001b[K     |█████████████▍                  | 184kB 4.5MB/s eta 0:00:01\r\u001b[K     |██████████████▏                 | 194kB 4.5MB/s eta 0:00:01\r\u001b[K     |███████████████                 | 204kB 4.5MB/s eta 0:00:01\r\u001b[K     |███████████████▋                | 215kB 4.5MB/s eta 0:00:01\r\u001b[K     |████████████████▍               | 225kB 4.5MB/s eta 0:00:01\r\u001b[K     |█████████████████▏              | 235kB 4.5MB/s eta 0:00:01\r\u001b[K     |██████████████████              | 245kB 4.5MB/s eta 0:00:01\r\u001b[K     |██████████████████▋             | 256kB 4.5MB/s eta 0:00:01\r\u001b[K     |███████████████████▍            | 266kB 4.5MB/s eta 0:00:01\r\u001b[K     |████████████████████▏           | 276kB 4.5MB/s eta 0:00:01\r\u001b[K     |████████████████████▉           | 286kB 4.5MB/s eta 0:00:01\r\u001b[K     |█████████████████████▋          | 296kB 4.5MB/s eta 0:00:01\r\u001b[K     |██████████████████████▍         | 307kB 4.5MB/s eta 0:00:01\r\u001b[K     |███████████████████████         | 317kB 4.5MB/s eta 0:00:01\r\u001b[K     |███████████████████████▉        | 327kB 4.5MB/s eta 0:00:01\r\u001b[K     |████████████████████████▋       | 337kB 4.5MB/s eta 0:00:01\r\u001b[K     |█████████████████████████▍      | 348kB 4.5MB/s eta 0:00:01\r\u001b[K     |██████████████████████████      | 358kB 4.5MB/s eta 0:00:01\r\u001b[K     |██████████████████████████▉     | 368kB 4.5MB/s eta 0:00:01\r\u001b[K     |███████████████████████████▋    | 378kB 4.5MB/s eta 0:00:01\r\u001b[K     |████████████████████████████▎   | 389kB 4.5MB/s eta 0:00:01\r\u001b[K     |█████████████████████████████   | 399kB 4.5MB/s eta 0:00:01\r\u001b[K     |█████████████████████████████▉  | 409kB 4.5MB/s eta 0:00:01\r\u001b[K     |██████████████████████████████▋ | 419kB 4.5MB/s eta 0:00:01\r\u001b[K     |███████████████████████████████▎| 430kB 4.5MB/s eta 0:00:01\r\u001b[K     |████████████████████████████████| 440kB 4.5MB/s \n",
            "\u001b[?25hRequirement already satisfied: PyYAML>=3.10 in /usr/local/lib/python3.6/dist-packages (from mrjob) (3.13)\n",
            "Installing collected packages: mrjob\n",
            "Successfully installed mrjob-0.7.4\n"
          ],
          "name": "stdout"
        }
      ]
    },
    {
      "cell_type": "code",
      "metadata": {
        "id": "hLEPj0u0BlRq",
        "outputId": "a20f7f18-06e3-4735-d04e-6d434915cd0a",
        "colab": {
          "base_uri": "https://localhost:8080/",
          "height": 204
        }
      },
      "source": [
        "#Pegar os dados do Dataset\n",
        "!wget http://files.grouplens.org/datasets/movielens/ml-latest-small.zip"
      ],
      "execution_count": 2,
      "outputs": [
        {
          "output_type": "stream",
          "text": [
            "--2020-10-26 22:30:02--  http://files.grouplens.org/datasets/movielens/ml-latest-small.zip\n",
            "Resolving files.grouplens.org (files.grouplens.org)... 128.101.65.152\n",
            "Connecting to files.grouplens.org (files.grouplens.org)|128.101.65.152|:80... connected.\n",
            "HTTP request sent, awaiting response... 200 OK\n",
            "Length: 978202 (955K) [application/zip]\n",
            "Saving to: ‘ml-latest-small.zip’\n",
            "\n",
            "ml-latest-small.zip 100%[===================>] 955.28K  3.41MB/s    in 0.3s    \n",
            "\n",
            "2020-10-26 22:30:03 (3.41 MB/s) - ‘ml-latest-small.zip’ saved [978202/978202]\n",
            "\n"
          ],
          "name": "stdout"
        }
      ]
    },
    {
      "cell_type": "code",
      "metadata": {
        "id": "95Bw9KuICOTj",
        "outputId": "53f98eae-f0e2-43d5-baf9-ade90d5314ed",
        "colab": {
          "base_uri": "https://localhost:8080/",
          "height": 136
        }
      },
      "source": [
        "#Extrair o dataset\n",
        "!unzip ml-latest-small.zip"
      ],
      "execution_count": 3,
      "outputs": [
        {
          "output_type": "stream",
          "text": [
            "Archive:  ml-latest-small.zip\n",
            "   creating: ml-latest-small/\n",
            "  inflating: ml-latest-small/links.csv  \n",
            "  inflating: ml-latest-small/tags.csv  \n",
            "  inflating: ml-latest-small/ratings.csv  \n",
            "  inflating: ml-latest-small/README.txt  \n",
            "  inflating: ml-latest-small/movies.csv  \n"
          ],
          "name": "stdout"
        }
      ]
    },
    {
      "cell_type": "code",
      "metadata": {
        "id": "d0hRkfauC1yv",
        "outputId": "dbc24d25-7aaf-4e8d-b947-3a6c9feae45a",
        "colab": {
          "base_uri": "https://localhost:8080/",
          "height": 34
        }
      },
      "source": [
        "#Arquivo que faz a contagem do total de avaliações - por nota\n",
        "%%file contadorClassificacoes.py\n",
        "from mrjob.job import MRJob\n",
        "\n",
        "class ContadorClassificacoes(MRJob):\n",
        "  def mapper(self, key, line):\n",
        "    (id_pessoa, id_filme, classificacao, timestamp) = line.split(',')\n",
        "    yield classificacao, 1\n",
        "  \n",
        "  def reducer(self, key, values):\n",
        "    yield key, sum(values)\n",
        "\n",
        "if __name__==\"__main__\":\n",
        "  ContadorClassificacoes.run()"
      ],
      "execution_count": 20,
      "outputs": [
        {
          "output_type": "stream",
          "text": [
            "Overwriting contadorClassificacoes.py\n"
          ],
          "name": "stdout"
        }
      ]
    },
    {
      "cell_type": "code",
      "metadata": {
        "id": "Of5YmHkWF4jA"
      },
      "source": [
        "def conta():\n",
        "  i = 0\n",
        "  while True:\n",
        "    i += 1\n",
        "    yield i\n",
        "\n",
        "\n",
        "for dado in conta():\n",
        "  print(dado)\n",
        "  if dado == 1000:\n",
        "    break"
      ],
      "execution_count": null,
      "outputs": []
    },
    {
      "cell_type": "code",
      "metadata": {
        "id": "sUmCODIZHhOC",
        "outputId": "dd064cea-b016-423b-9efd-6ebbe0c9c795",
        "colab": {
          "base_uri": "https://localhost:8080/",
          "height": 323
        }
      },
      "source": [
        "#Manda executar o Job\n",
        "!python3 contadorClassificacoes.py /content/ml-latest-small/ratings.csv"
      ],
      "execution_count": 21,
      "outputs": [
        {
          "output_type": "stream",
          "text": [
            "No configs found; falling back on auto-configuration\n",
            "No configs specified for inline runner\n",
            "Creating temp directory /tmp/contadorClassificacoes.root.20201026.225600.692715\n",
            "Running step 1 of 1...\n",
            "job output is in /tmp/contadorClassificacoes.root.20201026.225600.692715/output\n",
            "Streaming final output from /tmp/contadorClassificacoes.root.20201026.225600.692715/output...\n",
            "\"3.5\"\t13136\n",
            "\"4.0\"\t26818\n",
            "\"0.5\"\t1370\n",
            "\"1.0\"\t2811\n",
            "\"1.5\"\t1791\n",
            "\"2.0\"\t7551\n",
            "\"2.5\"\t5550\n",
            "\"3.0\"\t20047\n",
            "\"4.5\"\t8551\n",
            "\"5.0\"\t13211\n",
            "\"rating\"\t1\n",
            "Removing temp directory /tmp/contadorClassificacoes.root.20201026.225600.692715...\n"
          ],
          "name": "stdout"
        }
      ]
    },
    {
      "cell_type": "code",
      "metadata": {
        "id": "u8ujR7pMJNTa",
        "outputId": "5b9e983e-4944-4874-9644-4b0f6165e732",
        "colab": {
          "base_uri": "https://localhost:8080/",
          "height": 136
        }
      },
      "source": [
        "#Manda executar o Job -> Saída em Arquivo\n",
        "!python3 contadorClassificacoes.py /content/ml-latest-small/ratings.csv > saida_contador_classificacao.txt"
      ],
      "execution_count": 22,
      "outputs": [
        {
          "output_type": "stream",
          "text": [
            "No configs found; falling back on auto-configuration\n",
            "No configs specified for inline runner\n",
            "Creating temp directory /tmp/contadorClassificacoes.root.20201026.230213.947866\n",
            "Running step 1 of 1...\n",
            "job output is in /tmp/contadorClassificacoes.root.20201026.230213.947866/output\n",
            "Streaming final output from /tmp/contadorClassificacoes.root.20201026.230213.947866/output...\n",
            "Removing temp directory /tmp/contadorClassificacoes.root.20201026.230213.947866...\n"
          ],
          "name": "stdout"
        }
      ]
    },
    {
      "cell_type": "code",
      "metadata": {
        "id": "jekMhWocJ1Il",
        "outputId": "56eed3a9-e783-4b2d-de69-9d5b0f87ed5a",
        "colab": {
          "base_uri": "https://localhost:8080/",
          "height": 34
        }
      },
      "source": [
        "#Arquivo que mostra os filmes avaliados por cada usuario\n",
        "%%file filmesPorUsuario.py\n",
        "from mrjob.job import MRJob\n",
        "\n",
        "class VerificadorFilmesPorUsuario(MRJob):\n",
        "  def mapper(self, key, line):\n",
        "    (id_pessoa, id_filme, classificacao, timestamp) = line.split(',')\n",
        "    yield id_pessoa, id_filme\n",
        "  \n",
        "  def reducer(self, key, values):\n",
        "    moviesLista = {}\n",
        "    for value in values:\n",
        "      if value not in moviesLista.keys():\n",
        "        moviesLista[value] = 1\n",
        "    yield key, moviesLista\n",
        "\n",
        "if __name__==\"__main__\":\n",
        "  VerificadorFilmesPorUsuario.run()"
      ],
      "execution_count": 32,
      "outputs": [
        {
          "output_type": "stream",
          "text": [
            "Overwriting filmesPorUsuario.py\n"
          ],
          "name": "stdout"
        }
      ]
    },
    {
      "cell_type": "code",
      "metadata": {
        "id": "Xmnbp0LwnqRl"
      },
      "source": [
        "#Solução by:Davi Rangel dos Santos\n",
        "#Arquivo que mostra os filmes avaliados por cada usuario\n",
        "%%file filmesPorUsuario.py\n",
        "class VerificadorFilmesPorUsuario(MRJob):\n",
        "  def mapper(self, key, line):\n",
        "    (id_pessoa, id_filme, classificacao, timestamp) = line.split(',')\n",
        "    yield id_pessoa, id_filme\n",
        "\n",
        "  def reducer(self, key, values):\n",
        "    moviesLista = []\n",
        "    for id_filme in values:\n",
        "      moviesLista.append(id_filme)\n",
        "    yield key, moviesLista\n",
        "\n",
        "if __name__==\"__main__\":\n",
        "  VerificadorFilmesPorUsuario.run()"
      ],
      "execution_count": null,
      "outputs": []
    },
    {
      "cell_type": "code",
      "metadata": {
        "id": "j8B47wOuK2-T"
      },
      "source": [
        "!python3 filmesPorUsuario.py /content/ml-latest-small/ratings.csv"
      ],
      "execution_count": null,
      "outputs": []
    },
    {
      "cell_type": "code",
      "metadata": {
        "id": "ICoSDzNjMY06",
        "outputId": "b5b3357a-5958-4f7c-81c3-0db2cfcdaf9d",
        "colab": {
          "base_uri": "https://localhost:8080/",
          "height": 204
        }
      },
      "source": [
        "#Pegar os dados do Dataset\n",
        "!wget http://files.grouplens.org/datasets/movielens/ml-25m.zip"
      ],
      "execution_count": 34,
      "outputs": [
        {
          "output_type": "stream",
          "text": [
            "--2020-10-26 23:15:40--  http://files.grouplens.org/datasets/movielens/ml-25m.zip\n",
            "Resolving files.grouplens.org (files.grouplens.org)... 128.101.65.152\n",
            "Connecting to files.grouplens.org (files.grouplens.org)|128.101.65.152|:80... connected.\n",
            "HTTP request sent, awaiting response... 200 OK\n",
            "Length: 261978986 (250M) [application/zip]\n",
            "Saving to: ‘ml-25m.zip’\n",
            "\n",
            "ml-25m.zip          100%[===================>] 249.84M  12.8MB/s    in 21s     \n",
            "\n",
            "2020-10-26 23:16:02 (11.7 MB/s) - ‘ml-25m.zip’ saved [261978986/261978986]\n",
            "\n"
          ],
          "name": "stdout"
        }
      ]
    },
    {
      "cell_type": "code",
      "metadata": {
        "id": "Yyh2Mz34MoVG",
        "outputId": "42886785-4d65-4099-f38e-9f8dd48deeab",
        "colab": {
          "base_uri": "https://localhost:8080/",
          "height": 170
        }
      },
      "source": [
        "#Extrair a base de dados\n",
        "!unzip ml-25m.zip"
      ],
      "execution_count": 35,
      "outputs": [
        {
          "output_type": "stream",
          "text": [
            "Archive:  ml-25m.zip\n",
            "   creating: ml-25m/\n",
            "  inflating: ml-25m/tags.csv         \n",
            "  inflating: ml-25m/links.csv        \n",
            "  inflating: ml-25m/README.txt       \n",
            "  inflating: ml-25m/ratings.csv      \n",
            "  inflating: ml-25m/genome-tags.csv  \n",
            "  inflating: ml-25m/genome-scores.csv  \n",
            "  inflating: ml-25m/movies.csv       \n"
          ],
          "name": "stdout"
        }
      ]
    },
    {
      "cell_type": "code",
      "metadata": {
        "id": "HasLMvtgM6GK",
        "outputId": "fed2eeb7-3ff8-4c03-f15b-13b1b8dcd0f1",
        "colab": {
          "base_uri": "https://localhost:8080/",
          "height": 323
        }
      },
      "source": [
        "#Manda executar o Job\n",
        "!python3 contadorClassificacoes.py /content/ml-25m/ratings.csv"
      ],
      "execution_count": 36,
      "outputs": [
        {
          "output_type": "stream",
          "text": [
            "No configs found; falling back on auto-configuration\n",
            "No configs specified for inline runner\n",
            "Creating temp directory /tmp/contadorClassificacoes.root.20201026.231755.496650\n",
            "Running step 1 of 1...\n",
            "job output is in /tmp/contadorClassificacoes.root.20201026.231755.496650/output\n",
            "Streaming final output from /tmp/contadorClassificacoes.root.20201026.231755.496650/output...\n",
            "\"3.5\"\t3177318\n",
            "\"4.0\"\t6639798\n",
            "\"0.5\"\t393068\n",
            "\"1.0\"\t776815\n",
            "\"1.5\"\t399490\n",
            "\"2.0\"\t1640868\n",
            "\"2.5\"\t1262797\n",
            "\"3.0\"\t4896928\n",
            "\"4.5\"\t2200539\n",
            "\"5.0\"\t3612474\n",
            "\"rating\"\t1\n",
            "Removing temp directory /tmp/contadorClassificacoes.root.20201026.231755.496650...\n"
          ],
          "name": "stdout"
        }
      ]
    },
    {
      "cell_type": "code",
      "metadata": {
        "id": "6rYntvo7OnAQ",
        "outputId": "85cd99ce-000b-4395-acc9-61dff3015f7a",
        "colab": {
          "base_uri": "https://localhost:8080/",
          "height": 326
        }
      },
      "source": [
        "#URl do exercício\n",
        "!wget --no-check-certificate http://dadosabertos.dataprev.gov.br/storage/f/2020-08-20T17%3A51%3A05.439Z/beneficios-concedidos-12-2018.csv"
      ],
      "execution_count": 38,
      "outputs": [
        {
          "output_type": "stream",
          "text": [
            "--2020-10-26 23:25:21--  http://dadosabertos.dataprev.gov.br/storage/f/2020-08-20T17%3A51%3A05.439Z/beneficios-concedidos-12-2018.csv\n",
            "Resolving dadosabertos.dataprev.gov.br (dadosabertos.dataprev.gov.br)... 200.152.32.122\n",
            "Connecting to dadosabertos.dataprev.gov.br (dadosabertos.dataprev.gov.br)|200.152.32.122|:80... connected.\n",
            "HTTP request sent, awaiting response... 301 Moved Permanently\n",
            "Location: https://dadosabertos.dataprev.gov.br/storage/f/2020-08-20T17%3A51%3A05.439Z/beneficios-concedidos-12-2018.csv [following]\n",
            "--2020-10-26 23:25:21--  https://dadosabertos.dataprev.gov.br/storage/f/2020-08-20T17%3A51%3A05.439Z/beneficios-concedidos-12-2018.csv\n",
            "Connecting to dadosabertos.dataprev.gov.br (dadosabertos.dataprev.gov.br)|200.152.32.122|:443... connected.\n",
            "WARNING: cannot verify dadosabertos.dataprev.gov.br's certificate, issued by ‘CN=AlphaSSL CA - SHA256 - G2,O=GlobalSign nv-sa,C=BE’:\n",
            "  Unable to locally verify the issuer's authority.\n",
            "HTTP request sent, awaiting response... 200 OK\n",
            "Length: 60455337 (58M) [text/csv]\n",
            "Saving to: ‘beneficios-concedidos-12-2018.csv’\n",
            "\n",
            "beneficios-concedid 100%[===================>]  57.65M   380KB/s    in 3m 8s   \n",
            "\n",
            "2020-10-26 23:28:31 (314 KB/s) - ‘beneficios-concedidos-12-2018.csv’ saved [60455337/60455337]\n",
            "\n"
          ],
          "name": "stdout"
        }
      ]
    },
    {
      "cell_type": "markdown",
      "metadata": {
        "id": "23_NJN5gVEPl"
      },
      "source": [
        "Competência concessão;[0]\n",
        "\n",
        "Espécie;[1]\n",
        "\n",
        "CID;[2]\n",
        "\n",
        "CID;[3]\n",
        "\n",
        "Despacho;[4]\n",
        "\n",
        "Dt Nascimento;[5]\n",
        "\n",
        "Sexo.;[6]\n",
        "\n",
        "Clientela;[7]\n",
        "\n",
        "Mun Resid;[8]\n",
        "\n",
        "Vínculo dependentes;[9]\n",
        "\n",
        "Forma Filiação;[10]\n",
        "\n",
        "UF;[11]\n",
        "\n",
        "Qt SM RMI[12]"
      ]
    },
    {
      "cell_type": "code",
      "metadata": {
        "id": "B1w6LgJTVFdA",
        "outputId": "c7a88c18-b4bb-4494-d116-7b1707f46463",
        "colab": {
          "base_uri": "https://localhost:8080/",
          "height": 34
        }
      },
      "source": [
        "#Verificar quais e quantos foram os tipos de acidente \n",
        "%%file analisa_acidentes.py\n",
        "from mrjob.job import MRJob\n",
        "\n",
        "class VerificadorAcidentes(MRJob):\n",
        "  def mapper(self, key, line):\n",
        "    dados = line.split(';')\n",
        "    try:\n",
        "      yield dados[11],float(dados[12].replace(',','.'))\n",
        "    except:\n",
        "      pass\n",
        "  \n",
        "  def reducer(self, key, values):\n",
        "    yield key, max(values)\n",
        "\n",
        "if __name__==\"__main__\":\n",
        "  VerificadorAcidentes.run()"
      ],
      "execution_count": 53,
      "outputs": [
        {
          "output_type": "stream",
          "text": [
            "Overwriting analisa_acidentes.py\n"
          ],
          "name": "stdout"
        }
      ]
    },
    {
      "cell_type": "code",
      "metadata": {
        "id": "gmVgq4bQVxmh",
        "outputId": "d443cb26-87cd-4024-e77e-e0ab72b2a5e9",
        "colab": {
          "base_uri": "https://localhost:8080/",
          "height": 595
        }
      },
      "source": [
        "!python3 analisa_acidentes.py beneficios-concedidos-12-2018.csv"
      ],
      "execution_count": 54,
      "outputs": [
        {
          "output_type": "stream",
          "text": [
            "No configs found; falling back on auto-configuration\n",
            "No configs specified for inline runner\n",
            "Creating temp directory /tmp/analisa_acidentes.root.20201027.001754.251954\n",
            "Running step 1 of 1...\n",
            "job output is in /tmp/analisa_acidentes.root.20201027.001754.251954/output\n",
            "Streaming final output from /tmp/analisa_acidentes.root.20201027.001754.251954/output...\n",
            "\"Mato Grosso\"\t6.008\n",
            "\"Minas Gerais\"\t9.177\n",
            "\"Par\\u00e1\"\t6.116\n",
            "\"Para\\u00edba\"\t9.648\n",
            "\"Paran\\u00e1\"\t8.996\n",
            "\"Pernambuco\"\t7.34\n",
            "\"Piau\\u00ed\"\t6.871\n",
            "\"Acre\"\t262.599\n",
            "\"Alagoas\"\t8.475\n",
            "\"Amap\\u00e1\"\t5.705\n",
            "\"Amazonas\"\t12.153\n",
            "\"Bahia\"\t8.326\n",
            "\"Cear\\u00e1\"\t8.326\n",
            "\"Distrito Federal\"\t6.242\n",
            "\"Esp\\u00edrito Santo\"\t8.065\n",
            "\"Goi\\u00e1s\"\t14.357\n",
            "\"Maranh\\u00e3o\"\t5.918\n",
            "\"Mato Grosso do Sul\"\t5.776\n",
            "\"Santa Catarina\"\t8.05\n",
            "\"Sergipe\"\t9.79\n",
            "\"Tocantins\"\t5.495\n",
            "\"Rio Grande do Norte\"\t8.858\n",
            "\"Rio Grande do Sul\"\t26.962\n",
            "\"Rio de Janeiro\"\t15.31\n",
            "\"Rond\\u00f4nia\"\t5.93\n",
            "\"Roraima\"\t5.849\n",
            "\"S\\u00e3o Paulo\"\t11.352\n",
            "Removing temp directory /tmp/analisa_acidentes.root.20201027.001754.251954...\n"
          ],
          "name": "stdout"
        }
      ]
    },
    {
      "cell_type": "code",
      "metadata": {
        "id": "4vhxPL8ucYUH",
        "outputId": "d8228ae9-8355-4c29-8393-fdcd5fe58f2f",
        "colab": {
          "base_uri": "https://localhost:8080/",
          "height": 204
        }
      },
      "source": [
        "#Realiza o download do livro\n",
        "!wget https://www.gutenberg.org/files/345/345.txt"
      ],
      "execution_count": 55,
      "outputs": [
        {
          "output_type": "stream",
          "text": [
            "--2020-10-27 00:25:06--  https://www.gutenberg.org/files/345/345.txt\n",
            "Resolving www.gutenberg.org (www.gutenberg.org)... 152.19.134.47, 2610:28:3090:3000:0:bad:cafe:47\n",
            "Connecting to www.gutenberg.org (www.gutenberg.org)|152.19.134.47|:443... connected.\n",
            "HTTP request sent, awaiting response... 200 OK\n",
            "Length: 883158 (862K) [text/plain]\n",
            "Saving to: ‘345.txt’\n",
            "\n",
            "345.txt             100%[===================>] 862.46K   810KB/s    in 1.1s    \n",
            "\n",
            "2020-10-27 00:25:07 (810 KB/s) - ‘345.txt’ saved [883158/883158]\n",
            "\n"
          ],
          "name": "stdout"
        }
      ]
    },
    {
      "cell_type": "code",
      "metadata": {
        "id": "1m9eVQ6hcpBQ",
        "outputId": "c5739198-f41c-4f55-df76-1b59a21c0f4d",
        "colab": {
          "base_uri": "https://localhost:8080/",
          "height": 34
        }
      },
      "source": [
        "#Contador de palavras\n",
        "%%file analisa_livro.py\n",
        "from mrjob.job import MRJob\n",
        "\n",
        "class AnalisaLivro(MRJob):\n",
        "  def mapper(self, key, line):\n",
        "    palavras = line.split()\n",
        "    for palavra in palavras:\n",
        "      yield palavra.lower(), 1\n",
        "  \n",
        "  def reducer(self, key, values):\n",
        "    yield key, sum(values)\n",
        "\n",
        "if __name__==\"__main__\":\n",
        "  AnalisaLivro.run()"
      ],
      "execution_count": 56,
      "outputs": [
        {
          "output_type": "stream",
          "text": [
            "Writing analisa_livro.py\n"
          ],
          "name": "stdout"
        }
      ]
    },
    {
      "cell_type": "code",
      "metadata": {
        "id": "Q5OlEGNedrvL",
        "outputId": "f7084cee-8db5-4bb3-bc92-1dde751b1a36",
        "colab": {
          "base_uri": "https://localhost:8080/",
          "height": 34
        }
      },
      "source": [
        "#Contador de palavras\n",
        "%%file analisa_livro2.py\n",
        "from mrjob.job import MRJob\n",
        "import re\n",
        "\n",
        "#Encontra palavras utilizadno expressão regular\n",
        "REGEXP_PALAVRA = re.compile(r\"[\\w']+\")\n",
        "\n",
        "class AnalisaLivro(MRJob):\n",
        "  def mapper(self, key, line):\n",
        "    palavras = REGEXP_PALAVRA.findall(line)\n",
        "    for palavra in palavras:\n",
        "      yield palavra.lower(), 1\n",
        "  \n",
        "  def reducer(self, key, values):\n",
        "    yield key, sum(values)\n",
        "\n",
        "if __name__==\"__main__\":\n",
        "  AnalisaLivro.run()"
      ],
      "execution_count": 58,
      "outputs": [
        {
          "output_type": "stream",
          "text": [
            "Writing analisa_livro2.py\n"
          ],
          "name": "stdout"
        }
      ]
    },
    {
      "cell_type": "code",
      "metadata": {
        "id": "rdeWPqbHdFfx",
        "outputId": "998b83e1-444b-41b5-bc61-2688609d097c",
        "colab": {
          "base_uri": "https://localhost:8080/",
          "height": 136
        }
      },
      "source": [
        "!python3 analisa_livro2.py 345.txt > palavras_livro2.txt"
      ],
      "execution_count": 59,
      "outputs": [
        {
          "output_type": "stream",
          "text": [
            "No configs found; falling back on auto-configuration\n",
            "No configs specified for inline runner\n",
            "Creating temp directory /tmp/analisa_livro2.root.20201027.003433.038156\n",
            "Running step 1 of 1...\n",
            "job output is in /tmp/analisa_livro2.root.20201027.003433.038156/output\n",
            "Streaming final output from /tmp/analisa_livro2.root.20201027.003433.038156/output...\n",
            "Removing temp directory /tmp/analisa_livro2.root.20201027.003433.038156...\n"
          ],
          "name": "stdout"
        }
      ]
    },
    {
      "cell_type": "code",
      "metadata": {
        "id": "UUJ9RmBrfTaY",
        "outputId": "e1fc405a-81db-4b69-fce3-f8860f6f58b1",
        "colab": {
          "base_uri": "https://localhost:8080/",
          "height": 34
        }
      },
      "source": [
        "#Contador de palavras\n",
        "%%file analisa_livro3.py\n",
        "from mrjob.job import MRJob\n",
        "from mrjob.step import MRStep\n",
        "import re\n",
        "\n",
        "#Encontra palavras utilizadno expressão regular\n",
        "REGEXP_PALAVRA = re.compile(r\"[\\w']+\")\n",
        "\n",
        "class AnalisaLivro(MRJob):\n",
        "  def steps(self):\n",
        "    return [MRStep(mapper=self.mapper_conta, reducer=self.reducer_conta),\n",
        "            MRStep(mapper=self.mapper_organiza, reducer=self.reducer_organiza)]\n",
        "\n",
        "  def mapper_conta(self, key, line):\n",
        "    palavras = REGEXP_PALAVRA.findall(line)\n",
        "    for palavra in palavras:\n",
        "      yield palavra.lower(), 1\n",
        "  \n",
        "  def reducer_conta(self, key, values):\n",
        "    yield key, sum(values)\n",
        "\n",
        "  def mapper_organiza(self, palavra, contagem):\n",
        "    yield \"%04d\" % int(contagem), palavra\n",
        "\n",
        "  def reducer_organiza(self, key, values):\n",
        "    for value in values:\n",
        "      yield key, value\n",
        "\n",
        "if __name__==\"__main__\":\n",
        "  AnalisaLivro.run()"
      ],
      "execution_count": 60,
      "outputs": [
        {
          "output_type": "stream",
          "text": [
            "Writing analisa_livro3.py\n"
          ],
          "name": "stdout"
        }
      ]
    },
    {
      "cell_type": "code",
      "metadata": {
        "id": "yr_KKyX5gsKT",
        "outputId": "8464c06c-d6a3-4ff6-9ad6-6e49233ad0b2",
        "colab": {
          "base_uri": "https://localhost:8080/",
          "height": 153
        }
      },
      "source": [
        "!python3 analisa_livro3.py 345.txt > palavras_livro3.txt"
      ],
      "execution_count": 61,
      "outputs": [
        {
          "output_type": "stream",
          "text": [
            "No configs found; falling back on auto-configuration\n",
            "No configs specified for inline runner\n",
            "Creating temp directory /tmp/analisa_livro3.root.20201027.004358.345958\n",
            "Running step 1 of 2...\n",
            "Running step 2 of 2...\n",
            "job output is in /tmp/analisa_livro3.root.20201027.004358.345958/output\n",
            "Streaming final output from /tmp/analisa_livro3.root.20201027.004358.345958/output...\n",
            "Removing temp directory /tmp/analisa_livro3.root.20201027.004358.345958...\n"
          ],
          "name": "stdout"
        }
      ]
    }
  ]
}